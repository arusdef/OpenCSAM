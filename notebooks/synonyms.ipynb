{
 "cells": [
  {
   "cell_type": "markdown",
   "metadata": {},
   "source": [
    "# Synonyms\n",
    "\n",
    "This notebook shows how to define synonyms.\n",
    "\n",
    "Several options are tried (see below). It turns out that we want to apply the synonyms only to the search query, not to the text stored in the database itself (option 3)."
   ]
  },
  {
   "cell_type": "code",
   "execution_count": 27,
   "metadata": {},
   "outputs": [],
   "source": [
    "import subprocess\n",
    "import json"
   ]
  },
  {
   "cell_type": "code",
   "execution_count": 70,
   "metadata": {},
   "outputs": [
    {
     "data": {
      "text/plain": [
       "{'acknowledged': True}"
      ]
     },
     "execution_count": 70,
     "metadata": {},
     "output_type": "execute_result"
    }
   ],
   "source": [
    "query = \"\"\"\n",
    "curl -X DELETE \"http://a3557701c4b3211e88f8a060fa4fdbf3-427558466.eu-west-3.elb.amazonaws.com/elasticsearch/pdf_documents_test\" -u guest:teradata\n",
    "\"\"\"\n",
    "\n",
    "res = subprocess.getoutput(query)\n",
    "res = json.loads(res[res.find(\"{\"):])\n",
    "res"
   ]
  },
  {
   "cell_type": "code",
   "execution_count": 71,
   "metadata": {},
   "outputs": [
    {
     "data": {
      "text/plain": [
       "{'acknowledged': True,\n",
       " 'index': 'pdf_documents_test',\n",
       " 'shards_acknowledged': True}"
      ]
     },
     "execution_count": 71,
     "metadata": {},
     "output_type": "execute_result"
    }
   ],
   "source": [
    "# OPTION 1\n",
    "# --------\n",
    "#\n",
    "# \"analyzer\": \"test_analyzer\"\n",
    "#        \n",
    "# \"fruit => apple, banana\",\n",
    "# \"vegetable => onion, garlic\",\n",
    "# \"grocery => fruit, apple, banana, vegetable, onion, garlic\"\n",
    "#\n",
    "# Searching for apple will give apple and fruit.\n",
    "# Searching for fruit will give fruit, apple and banana.\n",
    "#\n",
    "# Note:\n",
    "#   \"grocery => fruit, vegetable\" will not work!\n",
    "#   All synonyms have to be specified, i.e. \"grocery => fruit, apple, banana, vegetable, onion, garlic\"\n",
    "#\n",
    "#\n",
    "# OPTION 2\n",
    "# --------\n",
    "#\n",
    "# \"analyzer\": \"test_analyzer\"\n",
    "#\n",
    "# \"apple, banana => fruit, grocery\",\n",
    "# \"onion, garlic => vegetable, grocery\",\n",
    "# \"fruit, vegetable => grocery\"\n",
    "#\n",
    "# Searching for apple will give fruit, apple and banana.\n",
    "# Searching for fruit will give fruit, apple and banana.\n",
    "#\n",
    "# Note:\n",
    "#   \"apple, banana => fruit\" will not work!\n",
    "#   All synonyms have to be specified, i.e. \"apple, banana => fruit, grocery\"\n",
    "#\n",
    "#\n",
    "# OPTION 3\n",
    "# --------\n",
    "#\n",
    "# \"search_analyzer\": \"test_analyzer\",\n",
    "# \"analyzer\": \"test_analyzer0\"\n",
    "#\n",
    "# \"fruit => fruit, apple, banana\",\n",
    "# \"vegetable => vegetable, onion, garlic\",\n",
    "# \"grocery => grocery, fruit, apple, banana, vegetable, onion, garlic\"\n",
    "#\n",
    "# Searching for apple will give apple.\n",
    "# Searching for fruit will give fruit, apple and banana.\n",
    "#\n",
    "# Note:\n",
    "#   If I understand it correctly, the synonyms will only be applied to the search queary,\n",
    "#   not to the text stored in the database.\n",
    "\n",
    "\n",
    "query = \"\"\"\n",
    "curl -X PUT \"http://a3557701c4b3211e88f8a060fa4fdbf3-427558466.eu-west-3.elb.amazonaws.com/elasticsearch/pdf_documents_test\" -H 'Content-Type: application/json' -d'\n",
    "{\n",
    "  \"settings\": {\n",
    "    \"analysis\": {\n",
    "      \"analyzer\": {\n",
    "        \"test_analyzer\": {\n",
    "          \"type\": \"custom\",\n",
    "          \"tokenizer\": \"standard\",\n",
    "          \"filter\": [\"standard\", \"lowercase\", \"synonym\"]\n",
    "        },\n",
    "        \"test_analyzer0\": {\n",
    "          \"type\": \"custom\",\n",
    "          \"tokenizer\": \"standard\",\n",
    "          \"filter\": [\"standard\", \"lowercase\"]\n",
    "        }\n",
    "      },\n",
    "      \"filter\": {\n",
    "        \"synonym\" : {\n",
    "          \"type\" : \"synonym\",\n",
    "          \"synonyms\" : [\n",
    "            \"fruit => fruit, apple, banana\",\n",
    "            \"vegetable => vegetable, onion, garlic\",\n",
    "            \"grocery => grocery, fruit, apple, banana, vegetable, onion, garlic\"\n",
    "          ]\n",
    "        }\n",
    "      }\n",
    "    }\n",
    "  },\n",
    "  \"mappings\": {\n",
    "    \"document\": {\n",
    "      \"properties\": {\n",
    "        \"summary\": {\n",
    "          \"type\": \"text\",\n",
    "          \"search_analyzer\": \"test_analyzer\",\n",
    "          \"analyzer\": \"test_analyzer0\"\n",
    "        }\n",
    "      }\n",
    "    }\n",
    "  }\n",
    "}\n",
    "' -u guest:teradata\n",
    "\"\"\"\n",
    "\n",
    "res = subprocess.getoutput(query)\n",
    "res = json.loads(res[res.find(\"{\"):])\n",
    "res"
   ]
  },
  {
   "cell_type": "code",
   "execution_count": 72,
   "metadata": {},
   "outputs": [
    {
     "data": {
      "text/plain": [
       "{'tokens': [{'end_offset': 5,\n",
       "   'position': 0,\n",
       "   'start_offset': 0,\n",
       "   'token': 'apple',\n",
       "   'type': '<ALPHANUM>'}]}"
      ]
     },
     "execution_count": 72,
     "metadata": {},
     "output_type": "execute_result"
    }
   ],
   "source": [
    "query = \"\"\"\n",
    "curl -X GET \"http://a3557701c4b3211e88f8a060fa4fdbf3-427558466.eu-west-3.elb.amazonaws.com/elasticsearch/pdf_documents_test/_analyze\" -H 'Content-Type: application/json' -d'\n",
    "{\n",
    "  \"analyzer\": \"test_analyzer\",\n",
    "  \"text\":     \"apple\"\n",
    "}\n",
    "' -u guest:teradata\n",
    "\"\"\"\n",
    "\n",
    "res = subprocess.getoutput(query)\n",
    "res = json.loads(res[res.find(\"{\"):])\n",
    "res"
   ]
  },
  {
   "cell_type": "code",
   "execution_count": 73,
   "metadata": {},
   "outputs": [
    {
     "data": {
      "text/plain": [
       "{'tokens': [{'end_offset': 5,\n",
       "   'position': 0,\n",
       "   'start_offset': 0,\n",
       "   'token': 'fruit',\n",
       "   'type': 'SYNONYM'},\n",
       "  {'end_offset': 5,\n",
       "   'position': 0,\n",
       "   'start_offset': 0,\n",
       "   'token': 'apple',\n",
       "   'type': 'SYNONYM'},\n",
       "  {'end_offset': 5,\n",
       "   'position': 0,\n",
       "   'start_offset': 0,\n",
       "   'token': 'banana',\n",
       "   'type': 'SYNONYM'}]}"
      ]
     },
     "execution_count": 73,
     "metadata": {},
     "output_type": "execute_result"
    }
   ],
   "source": [
    "query = \"\"\"\n",
    "curl -X GET \"http://a3557701c4b3211e88f8a060fa4fdbf3-427558466.eu-west-3.elb.amazonaws.com/elasticsearch/pdf_documents_test/_analyze\" -H 'Content-Type: application/json' -d'\n",
    "{\n",
    "  \"analyzer\": \"test_analyzer\",\n",
    "  \"text\":     \"fruit\"\n",
    "}\n",
    "' -u guest:teradata\n",
    "\"\"\"\n",
    "\n",
    "res = subprocess.getoutput(query)\n",
    "res = json.loads(res[res.find(\"{\"):])\n",
    "res"
   ]
  },
  {
   "cell_type": "code",
   "execution_count": 74,
   "metadata": {},
   "outputs": [
    {
     "data": {
      "text/plain": [
       "{'tokens': [{'end_offset': 7,\n",
       "   'position': 0,\n",
       "   'start_offset': 0,\n",
       "   'token': 'grocery',\n",
       "   'type': 'SYNONYM'},\n",
       "  {'end_offset': 7,\n",
       "   'position': 0,\n",
       "   'start_offset': 0,\n",
       "   'token': 'fruit',\n",
       "   'type': 'SYNONYM'},\n",
       "  {'end_offset': 7,\n",
       "   'position': 0,\n",
       "   'start_offset': 0,\n",
       "   'token': 'apple',\n",
       "   'type': 'SYNONYM'},\n",
       "  {'end_offset': 7,\n",
       "   'position': 0,\n",
       "   'start_offset': 0,\n",
       "   'token': 'banana',\n",
       "   'type': 'SYNONYM'},\n",
       "  {'end_offset': 7,\n",
       "   'position': 0,\n",
       "   'start_offset': 0,\n",
       "   'token': 'vegetable',\n",
       "   'type': 'SYNONYM'},\n",
       "  {'end_offset': 7,\n",
       "   'position': 0,\n",
       "   'start_offset': 0,\n",
       "   'token': 'onion',\n",
       "   'type': 'SYNONYM'},\n",
       "  {'end_offset': 7,\n",
       "   'position': 0,\n",
       "   'start_offset': 0,\n",
       "   'token': 'garlic',\n",
       "   'type': 'SYNONYM'}]}"
      ]
     },
     "execution_count": 74,
     "metadata": {},
     "output_type": "execute_result"
    }
   ],
   "source": [
    "query = \"\"\"\n",
    "curl -X GET \"http://a3557701c4b3211e88f8a060fa4fdbf3-427558466.eu-west-3.elb.amazonaws.com/elasticsearch/pdf_documents_test/_analyze\" -H 'Content-Type: application/json' -d'\n",
    "{\n",
    "  \"analyzer\": \"test_analyzer\",\n",
    "  \"text\":     \"grocery\"\n",
    "}\n",
    "' -u guest:teradata\n",
    "\"\"\"\n",
    "\n",
    "res = subprocess.getoutput(query)\n",
    "res = json.loads(res[res.find(\"{\"):])\n",
    "res"
   ]
  },
  {
   "cell_type": "code",
   "execution_count": 75,
   "metadata": {},
   "outputs": [],
   "source": [
    "query = \"\"\"\n",
    "curl -X POST \"http://a3557701c4b3211e88f8a060fa4fdbf3-427558466.eu-west-3.elb.amazonaws.com/elasticsearch/_reindex\" -H 'Content-Type: application/json' -d'\n",
    "{\n",
    "  \"source\": {\n",
    "    \"index\": \"pdf_documents\"\n",
    "  },\n",
    "  \"dest\": {\n",
    "    \"index\": \"pdf_documents_test\"\n",
    "  }\n",
    "}\n",
    "' -u guest:teradata\n",
    "\"\"\"\n",
    "\n",
    "#res = subprocess.getoutput(query)\n",
    "#res = json.loads(res[res.find(\"{\"):])\n",
    "#res"
   ]
  },
  {
   "cell_type": "code",
   "execution_count": 76,
   "metadata": {},
   "outputs": [
    {
     "data": {
      "text/html": [
       "<div>\n",
       "<style scoped>\n",
       "    .dataframe tbody tr th:only-of-type {\n",
       "        vertical-align: middle;\n",
       "    }\n",
       "\n",
       "    .dataframe tbody tr th {\n",
       "        vertical-align: top;\n",
       "    }\n",
       "\n",
       "    .dataframe thead th {\n",
       "        text-align: right;\n",
       "    }\n",
       "</style>\n",
       "<table border=\"1\" class=\"dataframe\">\n",
       "  <thead>\n",
       "    <tr style=\"text-align: right;\">\n",
       "      <th></th>\n",
       "      <th>title</th>\n",
       "      <th>summary</th>\n",
       "    </tr>\n",
       "  </thead>\n",
       "  <tbody>\n",
       "    <tr>\n",
       "      <th>0</th>\n",
       "      <td>test1</td>\n",
       "      <td>This document is about an apple</td>\n",
       "    </tr>\n",
       "    <tr>\n",
       "      <th>1</th>\n",
       "      <td>test2</td>\n",
       "      <td>This document is about a banana</td>\n",
       "    </tr>\n",
       "    <tr>\n",
       "      <th>2</th>\n",
       "      <td>test3</td>\n",
       "      <td>This document is about a fruit</td>\n",
       "    </tr>\n",
       "    <tr>\n",
       "      <th>3</th>\n",
       "      <td>test4</td>\n",
       "      <td>This document is about spider man</td>\n",
       "    </tr>\n",
       "    <tr>\n",
       "      <th>4</th>\n",
       "      <td>test5</td>\n",
       "      <td>This document is about Batman</td>\n",
       "    </tr>\n",
       "  </tbody>\n",
       "</table>\n",
       "</div>"
      ],
      "text/plain": [
       "   title                            summary\n",
       "0  test1    This document is about an apple\n",
       "1  test2    This document is about a banana\n",
       "2  test3     This document is about a fruit\n",
       "3  test4  This document is about spider man\n",
       "4  test5      This document is about Batman"
      ]
     },
     "execution_count": 76,
     "metadata": {},
     "output_type": "execute_result"
    }
   ],
   "source": [
    "import pandas as pd\n",
    "\n",
    "df = pd.DataFrame(columns=[\"title\", \"summary\"])\n",
    "df.loc[0] = [\"test1\", \"This document is about an apple\"]\n",
    "df.loc[1] = [\"test2\", \"This document is about a banana\"]\n",
    "df.loc[2] = [\"test3\", \"This document is about a fruit\"]\n",
    "df.loc[3] = [\"test4\", \"This document is about spider man\"]\n",
    "df.loc[4] = [\"test5\", \"This document is about Batman\"]\n",
    "df.loc[5] = [\"test6\", \"This document is about an action hero\"]\n",
    "\n",
    "df.head()"
   ]
  },
  {
   "cell_type": "code",
   "execution_count": 77,
   "metadata": {},
   "outputs": [
    {
     "name": "stdout",
     "output_type": "stream",
     "text": [
      "{'_version': 1, '_primary_term': 1, 'result': 'created', '_seq_no': 0, '_id': '0', '_type': 'document', '_shards': {'successful': 2, 'total': 2, 'failed': 0}, '_index': 'pdf_documents_test'}\n",
      "{'_version': 1, '_primary_term': 1, 'result': 'created', '_seq_no': 0, '_id': '1', '_type': 'document', '_shards': {'successful': 2, 'total': 2, 'failed': 0}, '_index': 'pdf_documents_test'}\n",
      "{'_version': 1, '_primary_term': 1, 'result': 'created', '_seq_no': 0, '_id': '2', '_type': 'document', '_shards': {'successful': 2, 'total': 2, 'failed': 0}, '_index': 'pdf_documents_test'}\n",
      "{'_version': 1, '_primary_term': 1, 'result': 'created', '_seq_no': 0, '_id': '3', '_type': 'document', '_shards': {'successful': 2, 'total': 2, 'failed': 0}, '_index': 'pdf_documents_test'}\n",
      "{'_version': 1, '_primary_term': 1, 'result': 'created', '_seq_no': 1, '_id': '4', '_type': 'document', '_shards': {'successful': 2, 'total': 2, 'failed': 0}, '_index': 'pdf_documents_test'}\n",
      "{'_version': 1, '_primary_term': 1, 'result': 'created', '_seq_no': 0, '_id': '5', '_type': 'document', '_shards': {'successful': 2, 'total': 2, 'failed': 0}, '_index': 'pdf_documents_test'}\n"
     ]
    }
   ],
   "source": [
    "from elasticsearch import Elasticsearch\n",
    "\n",
    "url = \"http://a3557701c4b3211e88f8a060fa4fdbf3-427558466.eu-west-3.elb.amazonaws.com/elasticsearch\"\n",
    "user = \"guest\"\n",
    "secret = \"teradata\"\n",
    "\n",
    "es = Elasticsearch(url, port=80, http_auth=(user, secret))\n",
    "\n",
    "records = df.T.to_dict()\n",
    "records = [records[i] for i in records]\n",
    "for idx, row in enumerate(records):\n",
    "    res = es.index(index=\"pdf_documents_test\", doc_type='document', id=idx, body=row)\n",
    "    print(res)"
   ]
  },
  {
   "cell_type": "code",
   "execution_count": 78,
   "metadata": {},
   "outputs": [
    {
     "data": {
      "text/plain": [
       "{'_shards': {'failed': 0, 'skipped': 0, 'successful': 5, 'total': 5},\n",
       " 'hits': {'hits': [{'_id': '0',\n",
       "    '_index': 'pdf_documents_test',\n",
       "    '_score': 0.2876821,\n",
       "    '_source': {'summary': 'This document is about an apple',\n",
       "     'title': 'test1'},\n",
       "    '_type': 'document'}],\n",
       "  'max_score': 0.2876821,\n",
       "  'total': 1},\n",
       " 'timed_out': False,\n",
       " 'took': 89}"
      ]
     },
     "execution_count": 78,
     "metadata": {},
     "output_type": "execute_result"
    }
   ],
   "source": [
    "query = \"\"\"\n",
    "curl -X GET \"http://a3557701c4b3211e88f8a060fa4fdbf3-427558466.eu-west-3.elb.amazonaws.com/elasticsearch/pdf_documents_test/document/_search\" -H 'Content-Type: application/json' -d'\n",
    "{\n",
    "    \"_source\": [\"title\", \"summary\"],\n",
    "    \"query\": {\n",
    "        \"match\": {\n",
    "            \"summary\": \"apple\"\n",
    "        }\n",
    "    }\n",
    "}\n",
    "' -u guest:teradata\n",
    "\"\"\"\n",
    "\n",
    "res = subprocess.getoutput(query)\n",
    "res = json.loads(res[res.find(\"{\"):], strict=False)\n",
    "res"
   ]
  },
  {
   "cell_type": "code",
   "execution_count": 79,
   "metadata": {},
   "outputs": [
    {
     "data": {
      "text/plain": [
       "{'_shards': {'failed': 0, 'skipped': 0, 'successful': 5, 'total': 5},\n",
       " 'hits': {'hits': [{'_id': '2',\n",
       "    '_index': 'pdf_documents_test',\n",
       "    '_score': 0.6682933,\n",
       "    '_source': {'summary': 'This document is about a fruit', 'title': 'test3'},\n",
       "    '_type': 'document'},\n",
       "   {'_id': '0',\n",
       "    '_index': 'pdf_documents_test',\n",
       "    '_score': 0.2876821,\n",
       "    '_source': {'summary': 'This document is about an apple',\n",
       "     'title': 'test1'},\n",
       "    '_type': 'document'},\n",
       "   {'_id': '1',\n",
       "    '_index': 'pdf_documents_test',\n",
       "    '_score': 0.2876821,\n",
       "    '_source': {'summary': 'This document is about a banana',\n",
       "     'title': 'test2'},\n",
       "    '_type': 'document'}],\n",
       "  'max_score': 0.6682933,\n",
       "  'total': 3},\n",
       " 'timed_out': False,\n",
       " 'took': 72}"
      ]
     },
     "execution_count": 79,
     "metadata": {},
     "output_type": "execute_result"
    }
   ],
   "source": [
    "query = \"\"\"\n",
    "curl -X GET \"http://a3557701c4b3211e88f8a060fa4fdbf3-427558466.eu-west-3.elb.amazonaws.com/elasticsearch/pdf_documents_test/document/_search\" -H 'Content-Type: application/json' -d'\n",
    "{\n",
    "    \"_source\": [\"title\", \"summary\"],\n",
    "    \"query\": {\n",
    "        \"match\": {\n",
    "            \"summary\": \"fruit\"\n",
    "        }\n",
    "    }\n",
    "}\n",
    "' -u guest:teradata\n",
    "\"\"\"\n",
    "\n",
    "res = subprocess.getoutput(query)\n",
    "res = json.loads(res[res.find(\"{\"):], strict=False)\n",
    "res"
   ]
  },
  {
   "cell_type": "code",
   "execution_count": null,
   "metadata": {},
   "outputs": [],
   "source": []
  }
 ],
 "metadata": {
  "kernelspec": {
   "display_name": "Python 3",
   "language": "python",
   "name": "python3"
  },
  "language_info": {
   "codemirror_mode": {
    "name": "ipython",
    "version": 3
   },
   "file_extension": ".py",
   "mimetype": "text/x-python",
   "name": "python",
   "nbconvert_exporter": "python",
   "pygments_lexer": "ipython3",
   "version": "3.5.4"
  }
 },
 "nbformat": 4,
 "nbformat_minor": 2
}
