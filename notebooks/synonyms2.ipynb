{
 "cells": [
  {
   "cell_type": "code",
   "execution_count": 1,
   "metadata": {},
   "outputs": [],
   "source": [
    "import subprocess\n",
    "import json"
   ]
  },
  {
   "cell_type": "code",
   "execution_count": 2,
   "metadata": {},
   "outputs": [
    {
     "data": {
      "text/plain": [
       "{'acknowledged': True}"
      ]
     },
     "execution_count": 2,
     "metadata": {},
     "output_type": "execute_result"
    }
   ],
   "source": [
    "query = \"\"\"\n",
    "curl -X DELETE \"http://a3557701c4b3211e88f8a060fa4fdbf3-427558466.eu-west-3.elb.amazonaws.com/elasticsearch/pdf_documents_test2\" -u guest:teradata\n",
    "\"\"\"\n",
    "\n",
    "res = subprocess.getoutput(query)\n",
    "res = json.loads(res[res.find(\"{\"):])\n",
    "res"
   ]
  },
  {
   "cell_type": "code",
   "execution_count": 3,
   "metadata": {},
   "outputs": [
    {
     "data": {
      "text/plain": [
       "{'acknowledged': True,\n",
       " 'index': 'pdf_documents_test2',\n",
       " 'shards_acknowledged': True}"
      ]
     },
     "execution_count": 3,
     "metadata": {},
     "output_type": "execute_result"
    }
   ],
   "source": [
    "query = \"\"\"\n",
    "curl -X PUT \"http://a3557701c4b3211e88f8a060fa4fdbf3-427558466.eu-west-3.elb.amazonaws.com/elasticsearch/pdf_documents_test2\" -H 'Content-Type: application/json' -d'\n",
    "{\n",
    "  \"settings\": {\n",
    "    \"analysis\": {\n",
    "      \"analyzer\": {\n",
    "        \"test_analyzer\": {\n",
    "          \"type\": \"custom\",\n",
    "          \"tokenizer\": \"standard\",\n",
    "          \"filter\": [\"standard\", \"lowercase\", \"synonym\"]\n",
    "        },\n",
    "        \"test_analyzer0\": {\n",
    "          \"type\": \"custom\",\n",
    "          \"tokenizer\": \"standard\",\n",
    "          \"filter\": [\"standard\", \"lowercase\"]\n",
    "        }\n",
    "      },\n",
    "      \"filter\": {\n",
    "        \"synonym\" : {\n",
    "          \"type\" : \"synonym\",\n",
    "          \"synonyms\" : [\n",
    "            \"fruit => fruit, apple, banana\",\n",
    "            \"vegetable => vegetable, onion, garlic\",\n",
    "            \"action hero => action hero, spiderman, spider man, batman\",\n",
    "            \"spider man, spiderman => spiderman, spider man\"\n",
    "          ]\n",
    "        }\n",
    "      }\n",
    "    }\n",
    "  },\n",
    "  \"mappings\": {\n",
    "    \"document\": {\n",
    "      \"properties\": {\n",
    "        \"summary\": {\n",
    "          \"type\": \"text\",\n",
    "          \"search_analyzer\": \"test_analyzer\",\n",
    "          \"analyzer\": \"test_analyzer0\" \n",
    "        }\n",
    "      }\n",
    "    }\n",
    "  }\n",
    "}\n",
    "' -u guest:teradata\n",
    "\"\"\"\n",
    "\n",
    "res = subprocess.getoutput(query)\n",
    "res = json.loads(res[res.find(\"{\"):])\n",
    "res"
   ]
  },
  {
   "cell_type": "code",
   "execution_count": 4,
   "metadata": {},
   "outputs": [
    {
     "data": {
      "text/plain": [
       "{'tokens': [{'end_offset': 6,\n",
       "   'position': 0,\n",
       "   'start_offset': 0,\n",
       "   'token': 'spider',\n",
       "   'type': '<ALPHANUM>'}]}"
      ]
     },
     "execution_count": 4,
     "metadata": {},
     "output_type": "execute_result"
    }
   ],
   "source": [
    "query = \"\"\"\n",
    "curl -X GET \"http://a3557701c4b3211e88f8a060fa4fdbf3-427558466.eu-west-3.elb.amazonaws.com/elasticsearch/pdf_documents_test2/_analyze\" -H 'Content-Type: application/json' -d'\n",
    "{\n",
    "  \"analyzer\": \"test_analyzer\",\n",
    "  \"text\":     \"spider\"\n",
    "}\n",
    "' -u guest:teradata\n",
    "\"\"\"\n",
    "\n",
    "res = subprocess.getoutput(query)\n",
    "res = json.loads(res[res.find(\"{\"):])\n",
    "res"
   ]
  },
  {
   "cell_type": "code",
   "execution_count": 5,
   "metadata": {},
   "outputs": [
    {
     "data": {
      "text/plain": [
       "{'tokens': [{'end_offset': 9,\n",
       "   'position': 0,\n",
       "   'start_offset': 0,\n",
       "   'token': 'spiderman',\n",
       "   'type': 'SYNONYM'},\n",
       "  {'end_offset': 9,\n",
       "   'position': 0,\n",
       "   'start_offset': 0,\n",
       "   'token': 'spider',\n",
       "   'type': 'SYNONYM'},\n",
       "  {'end_offset': 9,\n",
       "   'position': 1,\n",
       "   'start_offset': 0,\n",
       "   'token': 'man',\n",
       "   'type': 'SYNONYM'}]}"
      ]
     },
     "execution_count": 5,
     "metadata": {},
     "output_type": "execute_result"
    }
   ],
   "source": [
    "query = \"\"\"\n",
    "curl -X GET \"http://a3557701c4b3211e88f8a060fa4fdbf3-427558466.eu-west-3.elb.amazonaws.com/elasticsearch/pdf_documents_test2/_analyze\" -H 'Content-Type: application/json' -d'\n",
    "{\n",
    "  \"analyzer\": \"test_analyzer\",\n",
    "  \"text\":     \"spiderman\"\n",
    "}\n",
    "' -u guest:teradata\n",
    "\"\"\"\n",
    "\n",
    "res = subprocess.getoutput(query)\n",
    "res = json.loads(res[res.find(\"{\"):])\n",
    "res"
   ]
  },
  {
   "cell_type": "code",
   "execution_count": 6,
   "metadata": {},
   "outputs": [
    {
     "data": {
      "text/plain": [
       "{'tokens': [{'end_offset': 10,\n",
       "   'position': 0,\n",
       "   'start_offset': 0,\n",
       "   'token': 'spiderman',\n",
       "   'type': 'SYNONYM'},\n",
       "  {'end_offset': 6,\n",
       "   'position': 0,\n",
       "   'start_offset': 0,\n",
       "   'token': 'spider',\n",
       "   'type': 'SYNONYM'},\n",
       "  {'end_offset': 10,\n",
       "   'position': 1,\n",
       "   'start_offset': 7,\n",
       "   'token': 'man',\n",
       "   'type': 'SYNONYM'}]}"
      ]
     },
     "execution_count": 6,
     "metadata": {},
     "output_type": "execute_result"
    }
   ],
   "source": [
    "query = \"\"\"\n",
    "curl -X GET \"http://a3557701c4b3211e88f8a060fa4fdbf3-427558466.eu-west-3.elb.amazonaws.com/elasticsearch/pdf_documents_test2/_analyze\" -H 'Content-Type: application/json' -d'\n",
    "{\n",
    "  \"analyzer\": \"test_analyzer\",\n",
    "  \"text\":     \"spider man\"\n",
    "}\n",
    "' -u guest:teradata\n",
    "\"\"\"\n",
    "\n",
    "res = subprocess.getoutput(query)\n",
    "res = json.loads(res[res.find(\"{\"):])\n",
    "res"
   ]
  },
  {
   "cell_type": "code",
   "execution_count": 7,
   "metadata": {},
   "outputs": [
    {
     "data": {
      "text/plain": [
       "{'tokens': [{'end_offset': 6,\n",
       "   'position': 0,\n",
       "   'start_offset': 0,\n",
       "   'token': 'spider',\n",
       "   'type': '<ALPHANUM>'},\n",
       "  {'end_offset': 10,\n",
       "   'position': 1,\n",
       "   'start_offset': 7,\n",
       "   'token': 'and',\n",
       "   'type': '<ALPHANUM>'},\n",
       "  {'end_offset': 14,\n",
       "   'position': 2,\n",
       "   'start_offset': 11,\n",
       "   'token': 'man',\n",
       "   'type': '<ALPHANUM>'}]}"
      ]
     },
     "execution_count": 7,
     "metadata": {},
     "output_type": "execute_result"
    }
   ],
   "source": [
    "query = \"\"\"\n",
    "curl -X GET \"http://a3557701c4b3211e88f8a060fa4fdbf3-427558466.eu-west-3.elb.amazonaws.com/elasticsearch/pdf_documents_test2/_analyze\" -H 'Content-Type: application/json' -d'\n",
    "{\n",
    "  \"analyzer\": \"test_analyzer\",\n",
    "  \"text\":     \"spider and man\"\n",
    "}\n",
    "' -u guest:teradata\n",
    "\"\"\"\n",
    "\n",
    "res = subprocess.getoutput(query)\n",
    "res = json.loads(res[res.find(\"{\"):])\n",
    "res"
   ]
  },
  {
   "cell_type": "code",
   "execution_count": 8,
   "metadata": {},
   "outputs": [
    {
     "data": {
      "text/plain": [
       "{'tokens': [{'end_offset': 6,\n",
       "   'position': 0,\n",
       "   'start_offset': 0,\n",
       "   'token': 'action',\n",
       "   'type': 'SYNONYM'},\n",
       "  {'end_offset': 11,\n",
       "   'position': 0,\n",
       "   'start_offset': 0,\n",
       "   'token': 'spiderman',\n",
       "   'type': 'SYNONYM'},\n",
       "  {'end_offset': 6,\n",
       "   'position': 0,\n",
       "   'start_offset': 0,\n",
       "   'token': 'spider',\n",
       "   'type': 'SYNONYM'},\n",
       "  {'end_offset': 11,\n",
       "   'position': 0,\n",
       "   'start_offset': 0,\n",
       "   'token': 'batman',\n",
       "   'type': 'SYNONYM'},\n",
       "  {'end_offset': 11,\n",
       "   'position': 1,\n",
       "   'start_offset': 7,\n",
       "   'token': 'hero',\n",
       "   'type': 'SYNONYM'},\n",
       "  {'end_offset': 11,\n",
       "   'position': 1,\n",
       "   'start_offset': 7,\n",
       "   'token': 'man',\n",
       "   'type': 'SYNONYM'}]}"
      ]
     },
     "execution_count": 8,
     "metadata": {},
     "output_type": "execute_result"
    }
   ],
   "source": [
    "query = \"\"\"\n",
    "curl -X GET \"http://a3557701c4b3211e88f8a060fa4fdbf3-427558466.eu-west-3.elb.amazonaws.com/elasticsearch/pdf_documents_test2/_analyze\" -H 'Content-Type: application/json' -d'\n",
    "{\n",
    "  \"analyzer\": \"test_analyzer\",\n",
    "  \"text\":     \"action hero\"\n",
    "}\n",
    "' -u guest:teradata\n",
    "\"\"\"\n",
    "\n",
    "res = subprocess.getoutput(query)\n",
    "res = json.loads(res[res.find(\"{\"):])\n",
    "res"
   ]
  },
  {
   "cell_type": "code",
   "execution_count": 9,
   "metadata": {},
   "outputs": [],
   "source": [
    "query = \"\"\"\n",
    "curl -X POST \"http://a3557701c4b3211e88f8a060fa4fdbf3-427558466.eu-west-3.elb.amazonaws.com/elasticsearch/_reindex\" -H 'Content-Type: application/json' -d'\n",
    "{\n",
    "  \"source\": {\n",
    "    \"index\": \"pdf_documents\"\n",
    "  },\n",
    "  \"dest\": {\n",
    "    \"index\": \"pdf_documents_test2\"\n",
    "  }\n",
    "}\n",
    "' -u guest:teradata\n",
    "\"\"\"\n",
    "\n",
    "#res = subprocess.getoutput(query)\n",
    "#res = json.loads(res[res.find(\"{\"):])\n",
    "#res"
   ]
  },
  {
   "cell_type": "code",
   "execution_count": 10,
   "metadata": {},
   "outputs": [
    {
     "data": {
      "text/html": [
       "<div>\n",
       "<style scoped>\n",
       "    .dataframe tbody tr th:only-of-type {\n",
       "        vertical-align: middle;\n",
       "    }\n",
       "\n",
       "    .dataframe tbody tr th {\n",
       "        vertical-align: top;\n",
       "    }\n",
       "\n",
       "    .dataframe thead th {\n",
       "        text-align: right;\n",
       "    }\n",
       "</style>\n",
       "<table border=\"1\" class=\"dataframe\">\n",
       "  <thead>\n",
       "    <tr style=\"text-align: right;\">\n",
       "      <th></th>\n",
       "      <th>title</th>\n",
       "      <th>summary</th>\n",
       "    </tr>\n",
       "  </thead>\n",
       "  <tbody>\n",
       "    <tr>\n",
       "      <th>0</th>\n",
       "      <td>test1</td>\n",
       "      <td>This document is about an apple</td>\n",
       "    </tr>\n",
       "    <tr>\n",
       "      <th>1</th>\n",
       "      <td>test2</td>\n",
       "      <td>This document is about a banana</td>\n",
       "    </tr>\n",
       "    <tr>\n",
       "      <th>2</th>\n",
       "      <td>test3</td>\n",
       "      <td>This document is about a fruit</td>\n",
       "    </tr>\n",
       "    <tr>\n",
       "      <th>3</th>\n",
       "      <td>test4</td>\n",
       "      <td>This document is about spider man</td>\n",
       "    </tr>\n",
       "    <tr>\n",
       "      <th>4</th>\n",
       "      <td>test5</td>\n",
       "      <td>This document is about Batman</td>\n",
       "    </tr>\n",
       "  </tbody>\n",
       "</table>\n",
       "</div>"
      ],
      "text/plain": [
       "   title                            summary\n",
       "0  test1    This document is about an apple\n",
       "1  test2    This document is about a banana\n",
       "2  test3     This document is about a fruit\n",
       "3  test4  This document is about spider man\n",
       "4  test5      This document is about Batman"
      ]
     },
     "execution_count": 10,
     "metadata": {},
     "output_type": "execute_result"
    }
   ],
   "source": [
    "import pandas as pd\n",
    "\n",
    "df = pd.DataFrame(columns=[\"title\", \"summary\"])\n",
    "df.loc[0] = [\"test1\", \"This document is about an apple\"]\n",
    "df.loc[1] = [\"test2\", \"This document is about a banana\"]\n",
    "df.loc[2] = [\"test3\", \"This document is about a fruit\"]\n",
    "df.loc[3] = [\"test4\", \"This document is about spider man\"]\n",
    "df.loc[4] = [\"test5\", \"This document is about Batman\"]\n",
    "df.loc[5] = [\"test6\", \"This document is about an action hero\"]\n",
    "\n",
    "df.head()"
   ]
  },
  {
   "cell_type": "code",
   "execution_count": 11,
   "metadata": {},
   "outputs": [
    {
     "name": "stdout",
     "output_type": "stream",
     "text": [
      "{'_version': 1, '_seq_no': 0, 'result': 'created', '_primary_term': 1, '_shards': {'total': 2, 'failed': 0, 'successful': 2}, '_index': 'pdf_documents_test2', '_type': 'document', '_id': '0'}\n",
      "{'_version': 1, '_seq_no': 0, 'result': 'created', '_primary_term': 1, '_shards': {'total': 2, 'failed': 0, 'successful': 2}, '_index': 'pdf_documents_test2', '_type': 'document', '_id': '1'}\n",
      "{'_version': 1, '_seq_no': 0, 'result': 'created', '_primary_term': 1, '_shards': {'total': 2, 'failed': 0, 'successful': 2}, '_index': 'pdf_documents_test2', '_type': 'document', '_id': '2'}\n",
      "{'_version': 1, '_seq_no': 0, 'result': 'created', '_primary_term': 1, '_shards': {'total': 2, 'failed': 0, 'successful': 2}, '_index': 'pdf_documents_test2', '_type': 'document', '_id': '3'}\n",
      "{'_version': 1, '_seq_no': 1, 'result': 'created', '_primary_term': 1, '_shards': {'total': 2, 'failed': 0, 'successful': 2}, '_index': 'pdf_documents_test2', '_type': 'document', '_id': '4'}\n",
      "{'_version': 1, '_seq_no': 0, 'result': 'created', '_primary_term': 1, '_shards': {'total': 2, 'failed': 0, 'successful': 2}, '_index': 'pdf_documents_test2', '_type': 'document', '_id': '5'}\n"
     ]
    }
   ],
   "source": [
    "from elasticsearch import Elasticsearch\n",
    "\n",
    "url = \"http://a3557701c4b3211e88f8a060fa4fdbf3-427558466.eu-west-3.elb.amazonaws.com/elasticsearch\"\n",
    "user = \"guest\"\n",
    "secret = \"teradata\"\n",
    "\n",
    "es = Elasticsearch(url, port=80, http_auth=(user, secret))\n",
    "\n",
    "records = df.T.to_dict()\n",
    "records = [records[i] for i in records]\n",
    "for idx, row in enumerate(records):\n",
    "    res = es.index(index=\"pdf_documents_test2\", doc_type='document', id=idx, body=row)\n",
    "    print(res)"
   ]
  },
  {
   "cell_type": "code",
   "execution_count": 12,
   "metadata": {},
   "outputs": [
    {
     "data": {
      "text/plain": [
       "{'_shards': {'failed': 0, 'skipped': 0, 'successful': 5, 'total': 5},\n",
       " 'hits': {'hits': [{'_id': '0',\n",
       "    '_index': 'pdf_documents_test2',\n",
       "    '_score': 0.2876821,\n",
       "    '_source': {'summary': 'This document is about an apple',\n",
       "     'title': 'test1'},\n",
       "    '_type': 'document'}],\n",
       "  'max_score': 0.2876821,\n",
       "  'total': 1},\n",
       " 'timed_out': False,\n",
       " 'took': 3}"
      ]
     },
     "execution_count": 12,
     "metadata": {},
     "output_type": "execute_result"
    }
   ],
   "source": [
    "query = \"\"\"\n",
    "curl -X GET \"http://a3557701c4b3211e88f8a060fa4fdbf3-427558466.eu-west-3.elb.amazonaws.com/elasticsearch/pdf_documents_test2/document/_search\" -H 'Content-Type: application/json' -d'\n",
    "{\n",
    "    \"_source\": [\"title\", \"summary\"],\n",
    "    \"query\": {\n",
    "        \"match\": {\n",
    "            \"summary\": \"apple\"\n",
    "        }\n",
    "    }\n",
    "}\n",
    "' -u guest:teradata\n",
    "\"\"\"\n",
    "\n",
    "res = subprocess.getoutput(query)\n",
    "res = json.loads(res[res.find(\"{\"):], strict=False)\n",
    "res"
   ]
  },
  {
   "cell_type": "code",
   "execution_count": 13,
   "metadata": {},
   "outputs": [
    {
     "data": {
      "text/plain": [
       "{'_shards': {'failed': 0, 'skipped': 0, 'successful': 5, 'total': 5},\n",
       " 'hits': {'hits': [{'_id': '2',\n",
       "    '_index': 'pdf_documents_test2',\n",
       "    '_score': 0.6682933,\n",
       "    '_source': {'summary': 'This document is about a fruit', 'title': 'test3'},\n",
       "    '_type': 'document'},\n",
       "   {'_id': '0',\n",
       "    '_index': 'pdf_documents_test2',\n",
       "    '_score': 0.2876821,\n",
       "    '_source': {'summary': 'This document is about an apple',\n",
       "     'title': 'test1'},\n",
       "    '_type': 'document'},\n",
       "   {'_id': '1',\n",
       "    '_index': 'pdf_documents_test2',\n",
       "    '_score': 0.2876821,\n",
       "    '_source': {'summary': 'This document is about a banana',\n",
       "     'title': 'test2'},\n",
       "    '_type': 'document'}],\n",
       "  'max_score': 0.6682933,\n",
       "  'total': 3},\n",
       " 'timed_out': False,\n",
       " 'took': 195}"
      ]
     },
     "execution_count": 13,
     "metadata": {},
     "output_type": "execute_result"
    }
   ],
   "source": [
    "query = \"\"\"\n",
    "curl -X GET \"http://a3557701c4b3211e88f8a060fa4fdbf3-427558466.eu-west-3.elb.amazonaws.com/elasticsearch/pdf_documents_test2/document/_search\" -H 'Content-Type: application/json' -d'\n",
    "{\n",
    "    \"_source\": [\"title\", \"summary\"],\n",
    "    \"query\": {\n",
    "        \"match\": {\n",
    "            \"summary\": \"fruit\"\n",
    "        }\n",
    "    }\n",
    "}\n",
    "' -u guest:teradata\n",
    "\"\"\"\n",
    "\n",
    "res = subprocess.getoutput(query)\n",
    "res = json.loads(res[res.find(\"{\"):], strict=False)\n",
    "res"
   ]
  },
  {
   "cell_type": "code",
   "execution_count": 14,
   "metadata": {},
   "outputs": [
    {
     "data": {
      "text/plain": [
       "{'_shards': {'failed': 0, 'skipped': 0, 'successful': 5, 'total': 5},\n",
       " 'hits': {'hits': [{'_id': '4',\n",
       "    '_index': 'pdf_documents_test2',\n",
       "    '_score': 0.7199212,\n",
       "    '_source': {'summary': 'This document is about Batman', 'title': 'test5'},\n",
       "    '_type': 'document'}],\n",
       "  'max_score': 0.7199212,\n",
       "  'total': 1},\n",
       " 'timed_out': False,\n",
       " 'took': 66}"
      ]
     },
     "execution_count": 14,
     "metadata": {},
     "output_type": "execute_result"
    }
   ],
   "source": [
    "query = \"\"\"\n",
    "curl -X GET \"http://a3557701c4b3211e88f8a060fa4fdbf3-427558466.eu-west-3.elb.amazonaws.com/elasticsearch/pdf_documents_test2/document/_search\" -H 'Content-Type: application/json' -d'\n",
    "{\n",
    "    \"_source\": [\"title\", \"summary\"],\n",
    "    \"query\": {\n",
    "        \"match\": {\n",
    "            \"summary\": \"batman\"\n",
    "        }\n",
    "    }\n",
    "}\n",
    "' -u guest:teradata\n",
    "\"\"\"\n",
    "\n",
    "res = subprocess.getoutput(query)\n",
    "res = json.loads(res[res.find(\"{\"):], strict=False)\n",
    "res"
   ]
  },
  {
   "cell_type": "code",
   "execution_count": 15,
   "metadata": {},
   "outputs": [
    {
     "data": {
      "text/plain": [
       "{'_shards': {'failed': 0, 'skipped': 0, 'successful': 5, 'total': 5},\n",
       " 'hits': {'hits': [{'_id': '3',\n",
       "    '_index': 'pdf_documents_test2',\n",
       "    '_score': 0.5753642,\n",
       "    '_source': {'summary': 'This document is about spider man',\n",
       "     'title': 'test4'},\n",
       "    '_type': 'document'}],\n",
       "  'max_score': 0.5753642,\n",
       "  'total': 1},\n",
       " 'timed_out': False,\n",
       " 'took': 25}"
      ]
     },
     "execution_count": 15,
     "metadata": {},
     "output_type": "execute_result"
    }
   ],
   "source": [
    "query = \"\"\"\n",
    "curl -X GET \"http://a3557701c4b3211e88f8a060fa4fdbf3-427558466.eu-west-3.elb.amazonaws.com/elasticsearch/pdf_documents_test2/document/_search\" -H 'Content-Type: application/json' -d'\n",
    "{\n",
    "    \"_source\": [\"title\", \"summary\"],\n",
    "    \"query\": {\n",
    "        \"match\": {\n",
    "            \"summary\": \"spiderman\"\n",
    "        }\n",
    "    }\n",
    "}\n",
    "' -u guest:teradata\n",
    "\"\"\"\n",
    "\n",
    "res = subprocess.getoutput(query)\n",
    "res = json.loads(res[res.find(\"{\"):], strict=False)\n",
    "res"
   ]
  },
  {
   "cell_type": "code",
   "execution_count": 16,
   "metadata": {},
   "outputs": [
    {
     "data": {
      "text/plain": [
       "{'_shards': {'failed': 0, 'skipped': 0, 'successful': 5, 'total': 5},\n",
       " 'hits': {'hits': [{'_id': '3',\n",
       "    '_index': 'pdf_documents_test2',\n",
       "    '_score': 0.5753642,\n",
       "    '_source': {'summary': 'This document is about spider man',\n",
       "     'title': 'test4'},\n",
       "    '_type': 'document'}],\n",
       "  'max_score': 0.5753642,\n",
       "  'total': 1},\n",
       " 'timed_out': False,\n",
       " 'took': 2}"
      ]
     },
     "execution_count": 16,
     "metadata": {},
     "output_type": "execute_result"
    }
   ],
   "source": [
    "query = \"\"\"\n",
    "curl -X GET \"http://a3557701c4b3211e88f8a060fa4fdbf3-427558466.eu-west-3.elb.amazonaws.com/elasticsearch/pdf_documents_test2/document/_search\" -H 'Content-Type: application/json' -d'\n",
    "{\n",
    "    \"_source\": [\"title\", \"summary\"],\n",
    "    \"query\": {\n",
    "        \"match\": {\n",
    "            \"summary\": \"spider man\"\n",
    "        }\n",
    "    }\n",
    "}\n",
    "' -u guest:teradata\n",
    "\"\"\"\n",
    "\n",
    "res = subprocess.getoutput(query)\n",
    "res = json.loads(res[res.find(\"{\"):], strict=False)\n",
    "res"
   ]
  },
  {
   "cell_type": "code",
   "execution_count": 17,
   "metadata": {},
   "outputs": [
    {
     "data": {
      "text/plain": [
       "{'_shards': {'failed': 0, 'skipped': 0, 'successful': 5, 'total': 5},\n",
       " 'hits': {'hits': [{'_id': '4',\n",
       "    '_index': 'pdf_documents_test2',\n",
       "    '_score': 0.7199212,\n",
       "    '_source': {'summary': 'This document is about Batman', 'title': 'test5'},\n",
       "    '_type': 'document'},\n",
       "   {'_id': '5',\n",
       "    '_index': 'pdf_documents_test2',\n",
       "    '_score': 0.5753642,\n",
       "    '_source': {'summary': 'This document is about an action hero',\n",
       "     'title': 'test6'},\n",
       "    '_type': 'document'},\n",
       "   {'_id': '3',\n",
       "    '_index': 'pdf_documents_test2',\n",
       "    '_score': 0.5753642,\n",
       "    '_source': {'summary': 'This document is about spider man',\n",
       "     'title': 'test4'},\n",
       "    '_type': 'document'}],\n",
       "  'max_score': 0.7199212,\n",
       "  'total': 3},\n",
       " 'timed_out': False,\n",
       " 'took': 68}"
      ]
     },
     "execution_count": 17,
     "metadata": {},
     "output_type": "execute_result"
    }
   ],
   "source": [
    "query = \"\"\"\n",
    "curl -X GET \"http://a3557701c4b3211e88f8a060fa4fdbf3-427558466.eu-west-3.elb.amazonaws.com/elasticsearch/pdf_documents_test2/document/_search\" -H 'Content-Type: application/json' -d'\n",
    "{\n",
    "    \"_source\": [\"title\", \"summary\"],\n",
    "    \"query\": {\n",
    "        \"match\": {\n",
    "            \"summary\": \"action hero\"\n",
    "        }\n",
    "    }\n",
    "}\n",
    "' -u guest:teradata\n",
    "\"\"\"\n",
    "\n",
    "res = subprocess.getoutput(query)\n",
    "res = json.loads(res[res.find(\"{\"):], strict=False)\n",
    "res"
   ]
  },
  {
   "cell_type": "code",
   "execution_count": null,
   "metadata": {},
   "outputs": [],
   "source": []
  }
 ],
 "metadata": {
  "kernelspec": {
   "display_name": "Python 3",
   "language": "python",
   "name": "python3"
  },
  "language_info": {
   "codemirror_mode": {
    "name": "ipython",
    "version": 3
   },
   "file_extension": ".py",
   "mimetype": "text/x-python",
   "name": "python",
   "nbconvert_exporter": "python",
   "pygments_lexer": "ipython3",
   "version": "3.5.4"
  }
 },
 "nbformat": 4,
 "nbformat_minor": 2
}
