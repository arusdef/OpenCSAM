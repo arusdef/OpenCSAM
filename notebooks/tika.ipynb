{
 "cells": [
  {
   "cell_type": "markdown",
   "metadata": {},
   "source": [
    "https://github.com/chrismattmann/tika-python\n",
    "\n",
    "`pip install tika`"
   ]
  },
  {
   "cell_type": "code",
   "execution_count": 1,
   "metadata": {},
   "outputs": [],
   "source": [
    "import tika\n",
    "from tika import parser"
   ]
  },
  {
   "cell_type": "code",
   "execution_count": 2,
   "metadata": {},
   "outputs": [],
   "source": [
    "path = \"../pdf-reports/documents/flying-2.0-enabling-automated-air-travel-by-identifying-and-addressing-the-challenges-of-iot-rfid-technology.pdf\""
   ]
  },
  {
   "cell_type": "code",
   "execution_count": 3,
   "metadata": {},
   "outputs": [],
   "source": [
    "parsed = parser.from_file(path)"
   ]
  },
  {
   "cell_type": "code",
   "execution_count": 4,
   "metadata": {},
   "outputs": [
    {
     "data": {
      "text/plain": [
       "dict_keys(['status', 'content', 'metadata'])"
      ]
     },
     "execution_count": 4,
     "metadata": {},
     "output_type": "execute_result"
    }
   ],
   "source": [
    "parsed.keys()"
   ]
  },
  {
   "cell_type": "code",
   "execution_count": 5,
   "metadata": {},
   "outputs": [
    {
     "data": {
      "text/plain": [
       "200"
      ]
     },
     "execution_count": 5,
     "metadata": {},
     "output_type": "execute_result"
    }
   ],
   "source": [
    "parsed[\"status\"]"
   ]
  },
  {
   "cell_type": "code",
   "execution_count": 6,
   "metadata": {},
   "outputs": [
    {
     "name": "stdout",
     "output_type": "stream",
     "text": [
      "{\n",
      "    \"access_permission:can_print_degraded\": \"true\",\n",
      "    \"X-TIKA:parse_time_millis\": \"473\",\n",
      "    \"Last-Save-Date\": \"2010-04-09T10:08:24Z\",\n",
      "    \"meta:author\": \"Daniele Catteddu\",\n",
      "    \"Content-Type\": \"application/pdf\",\n",
      "    \"access_permission:fill_in_form\": \"true\",\n",
      "    \"Last-Modified\": \"2010-04-09T10:08:24Z\",\n",
      "    \"producer\": \"Microsoft\\u00ae Office Word 2007\",\n",
      "    \"access_permission:extract_for_accessibility\": \"true\",\n",
      "    \"date\": \"2010-04-09T10:08:24Z\",\n",
      "    \"X-Parsed-By\": [\n",
      "        \"org.apache.tika.parser.DefaultParser\",\n",
      "        \"org.apache.tika.parser.pdf.PDFParser\"\n",
      "    ],\n",
      "    \"pdf:PDFVersion\": \"1.5\",\n",
      "    \"access_permission:can_modify\": \"true\",\n",
      "    \"access_permission:modify_annotations\": \"true\",\n",
      "    \"dcterms:modified\": \"2010-04-09T10:08:24Z\",\n",
      "    \"meta:save-date\": \"2010-04-09T10:08:24Z\",\n",
      "    \"modified\": \"2010-04-09T10:08:24Z\",\n",
      "    \"dc:format\": \"application/pdf; version=1.5\",\n",
      "    \"meta:creation-date\": \"2010-04-09T10:08:24Z\",\n",
      "    \"Author\": \"Daniele Catteddu\",\n",
      "    \"resourceName\": \"flying-2.0-enabling-automated-air-travel-by-identifying-and-addressing-the-challenges-of-iot-rfid-technology.pdf\",\n",
      "    \"Creation-Date\": \"2010-04-09T10:08:24Z\",\n",
      "    \"access_permission:can_print\": \"true\",\n",
      "    \"creator\": \"Daniele Catteddu\",\n",
      "    \"access_permission:assemble_document\": \"true\",\n",
      "    \"pdf:docinfo:created\": \"2010-04-09T10:08:24Z\",\n",
      "    \"created\": \"Fri Apr 09 12:08:24 CEST 2010\",\n",
      "    \"xmp:CreatorTool\": \"Microsoft\\u00ae Office Word 2007\",\n",
      "    \"pdf:docinfo:modified\": \"2010-04-09T10:08:24Z\",\n",
      "    \"pdf:encrypted\": \"false\",\n",
      "    \"pdf:docinfo:creator_tool\": \"Microsoft\\u00ae Office Word 2007\",\n",
      "    \"pdf:docinfo:creator\": \"Daniele Catteddu\",\n",
      "    \"pdf:docinfo:producer\": \"Microsoft\\u00ae Office Word 2007\",\n",
      "    \"dcterms:created\": \"2010-04-09T10:08:24Z\",\n",
      "    \"access_permission:extract_content\": \"true\",\n",
      "    \"xmpTPg:NPages\": \"109\",\n",
      "    \"dc:creator\": \"Daniele Catteddu\"\n",
      "}\n"
     ]
    }
   ],
   "source": [
    "import json\n",
    "\n",
    "print(json.dumps(parsed[\"metadata\"], indent=4))"
   ]
  },
  {
   "cell_type": "code",
   "execution_count": 7,
   "metadata": {},
   "outputs": [
    {
     "name": "stdout",
     "output_type": "stream",
     "text": [
      "\n",
      "\n",
      "\n",
      "\n",
      "\n",
      "\n",
      "\n",
      "\n",
      "\n",
      "\n",
      "\n",
      "\n",
      "\n",
      "\n",
      "\n",
      "\n",
      "\n",
      "\n",
      "\n",
      "\n",
      "\n",
      "\n",
      "\n",
      "\n",
      "\n",
      "\n",
      "\n",
      "\n",
      "\n",
      "\n",
      "\n",
      "\n",
      "\n",
      "\n",
      "\n",
      "\n",
      "\n",
      "\n",
      "\n",
      "\n",
      "\n",
      "\n",
      " \n",
      "\n",
      "  \n",
      "\n",
      "April 2010 \n",
      "\n",
      "Final Report \n",
      "\n",
      "IoT/RFID Scenario Risk Assessment \n",
      "\n",
      " \n",
      "\n",
      " \n",
      "\n",
      " \n",
      "\n",
      " \n",
      "\n",
      " \n",
      "\n",
      " \n",
      "\n",
      " \n",
      "\n",
      "Flying 2.0 \n",
      "\n",
      "Enabling automated air travel by identifying \n",
      "\n",
      "and addressing the challenges of IoT & RFID \n",
      "\n",
      "technology \n",
      "\n",
      "\n",
      "\n",
      " \n",
      "\n",
      "  \n",
      "\n",
      " \n",
      "\n",
      "ABOUT ENISA \n",
      "\n",
      "The European Network and Information Security Agency (ENISA) is an EU agency created to advance \n",
      "\n",
      "the functioning of the internal market. ENISA is a centre of expertise for the European Member States \n",
      "\n",
      "and European institutions in network and information security, giving advice and recommendations \n",
      "\n",
      "and acting as a switchboard for information on good practices. Moreover, the agency facilitates \n",
      "\n",
      "contacts between European institutions, the Member States, and private business and industry actors. \n",
      "\n",
      "This work takes place in the context of ENISA’s Emerging and Future Risk programme. \n",
      "\n",
      " \n",
      "\n",
      "CONTACT DETAILS \n",
      "\n"
     ]
    }
   ],
   "source": [
    "lines = parsed[\"content\"].split('\\n')\n",
    "print('\\n'.join(lines[:100]))"
   ]
  },
  {
   "cell_type": "code",
   "execution_count": 8,
   "metadata": {},
   "outputs": [],
   "source": [
    "parsed = parser.from_file(path, xmlContent=True)"
   ]
  },
  {
   "cell_type": "code",
   "execution_count": 9,
   "metadata": {},
   "outputs": [
    {
     "name": "stdout",
     "output_type": "stream",
     "text": [
      "<html xmlns=\"http://www.w3.org/1999/xhtml\">\n",
      "<head>\n",
      "<meta name=\"date\" content=\"2010-04-09T10:08:24Z\" />\n",
      "<meta name=\"pdf:PDFVersion\" content=\"1.5\" />\n",
      "<meta name=\"xmp:CreatorTool\" content=\"Microsoft® Office Word 2007\" />\n",
      "<meta name=\"access_permission:modify_annotations\" content=\"true\" />\n",
      "<meta name=\"access_permission:can_print_degraded\" content=\"true\" />\n",
      "<meta name=\"dc:creator\" content=\"Daniele Catteddu\" />\n",
      "<meta name=\"dcterms:created\" content=\"2010-04-09T10:08:24Z\" />\n",
      "<meta name=\"Last-Modified\" content=\"2010-04-09T10:08:24Z\" />\n",
      "<meta name=\"dcterms:modified\" content=\"2010-04-09T10:08:24Z\" />\n",
      "<meta name=\"dc:format\" content=\"application/pdf; version=1.5\" />\n",
      "<meta name=\"Last-Save-Date\" content=\"2010-04-09T10:08:24Z\" />\n",
      "<meta name=\"pdf:docinfo:creator_tool\" content=\"Microsoft® Office Word 2007\" />\n",
      "<meta name=\"access_permission:fill_in_form\" content=\"true\" />\n",
      "<meta name=\"pdf:docinfo:modified\" content=\"2010-04-09T10:08:24Z\" />\n",
      "<meta name=\"meta:save-date\" content=\"2010-04-09T10:08:24Z\" />\n",
      "<meta name=\"pdf:encrypted\" content=\"false\" />\n",
      "<meta name=\"modified\" content=\"2010-04-09T10:08:24Z\" />\n",
      "<meta name=\"Content-Type\" content=\"application/pdf\" />\n",
      "<meta name=\"pdf:docinfo:creator\" content=\"Daniele Catteddu\" />\n",
      "<meta name=\"X-Parsed-By\" content=\"org.apache.tika.parser.DefaultParser\" />\n",
      "<meta name=\"X-Parsed-By\" content=\"org.apache.tika.parser.pdf.PDFParser\" />\n",
      "<meta name=\"creator\" content=\"Daniele Catteddu\" />\n",
      "<meta name=\"meta:author\" content=\"Daniele Catteddu\" />\n",
      "<meta name=\"meta:creation-date\" content=\"2010-04-09T10:08:24Z\" />\n",
      "<meta name=\"created\" content=\"Fri Apr 09 12:08:24 CEST 2010\" />\n",
      "<meta name=\"access_permission:extract_for_accessibility\" content=\"true\" />\n",
      "<meta name=\"access_permission:assemble_document\" content=\"true\" />\n",
      "<meta name=\"xmpTPg:NPages\" content=\"109\" />\n",
      "<meta name=\"Creation-Date\" content=\"2010-04-09T10:08:24Z\" />\n",
      "<meta name=\"resourceName\" content=\"flying-2.0-enabling-automated-air-travel-by-identifying-and-addressing-the-challenges-of-iot-rfid-technology.pdf\" />\n",
      "<meta name=\"access_permission:extract_content\" content=\"true\" />\n",
      "<meta name=\"access_permission:can_print\" content=\"true\" />\n",
      "<meta name=\"Author\" content=\"Daniele Catteddu\" />\n",
      "<meta name=\"producer\" content=\"Microsoft® Office Word 2007\" />\n",
      "<meta name=\"access_permission:can_modify\" content=\"true\" />\n",
      "<meta name=\"pdf:docinfo:producer\" content=\"Microsoft® Office Word 2007\" />\n",
      "<meta name=\"pdf:docinfo:created\" content=\"2010-04-09T10:08:24Z\" />\n",
      "<title></title>\n",
      "</head>\n",
      "<body><div class=\"page\"><p />\n",
      "<p> \n",
      "</p>\n",
      "<p>  \n",
      "</p>\n",
      "<p>April 2010 \n",
      "</p>\n",
      "<p>Final Report \n",
      "</p>\n",
      "<p>IoT/RFID Scenario Risk Assessment \n",
      "</p>\n",
      "<p> \n",
      "</p>\n",
      "<p> \n",
      "</p>\n",
      "<p> \n",
      "</p>\n",
      "<p> \n",
      "</p>\n",
      "<p> \n",
      "</p>\n",
      "<p> \n",
      "</p>\n",
      "<p> \n",
      "</p>\n",
      "<p>Flying 2.0 \n",
      "</p>\n",
      "<p>Enabling automated air travel by identifying \n",
      "</p>\n",
      "<p>and addressing the challenges of IoT &amp; RFID \n",
      "</p>\n",
      "<p>technology </p>\n",
      "<p />\n",
      "</div>\n",
      "<div class=\"page\"><p />\n",
      "<p> \n",
      "</p>\n",
      "<p>  \n",
      "</p>\n",
      "<p> \n",
      "</p>\n",
      "<p>ABOUT ENISA \n",
      "</p>\n",
      "<p>The European Network and Information Security Agency (ENISA) is an EU agency created to advance \n",
      "</p>\n",
      "<p>the functioning of the internal market. ENISA is a centre of expertise for the European Member States \n",
      "</p>\n",
      "<p>and European institutions in network and information security, giving advice and recommendations \n",
      "</p>\n",
      "<p>and acting as a switchboard for information on good practices. Moreover, the agency facilitates \n",
      "</p>\n",
      "<p>contacts between European institutions, the Member States, and private business and industry actors. \n",
      "</p>\n",
      "<p>This work takes place in the context of ENISA’s Emerging and Future Risk programme. \n",
      "</p>\n",
      "<p> \n",
      "</p>\n",
      "<p>CONTACT DETAILS \n",
      "</p>\n"
     ]
    }
   ],
   "source": [
    "lines = parsed[\"content\"].split('\\n')\n",
    "print('\\n'.join(lines[:100]))"
   ]
  },
  {
   "cell_type": "code",
   "execution_count": null,
   "metadata": {},
   "outputs": [],
   "source": []
  }
 ],
 "metadata": {
  "kernelspec": {
   "display_name": "Python 3",
   "language": "python",
   "name": "python3"
  },
  "language_info": {
   "codemirror_mode": {
    "name": "ipython",
    "version": 3
   },
   "file_extension": ".py",
   "mimetype": "text/x-python",
   "name": "python",
   "nbconvert_exporter": "python",
   "pygments_lexer": "ipython3",
   "version": "3.5.4"
  }
 },
 "nbformat": 4,
 "nbformat_minor": 2
}
