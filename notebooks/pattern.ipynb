{
 "cells": [
  {
   "cell_type": "markdown",
   "metadata": {},
   "source": [
    "# Words starting with a capital letter\n",
    "\n",
    "This notebook shows how to define an analyzer filtering out only the words starting with a capital letter.\n",
    "\n",
    "https://www.elastic.co/guide/en/elasticsearch/reference/current/analysis-simplepattern-tokenizer.html"
   ]
  },
  {
   "cell_type": "code",
   "execution_count": 377,
   "metadata": {},
   "outputs": [
    {
     "name": "stdout",
     "output_type": "stream",
     "text": [
      "['Ahoj', 'Cau', 'Nazdar', 'Deal', 'Bye']\n",
      "['Ahoj', 'Cau', 'Nazdar', 'Bye']\n",
      "['Cau', 'Nazdar', 'Bye']\n",
      "[' Nazdar', ' Bye']\n",
      "['Ahoj', 'Nazdar', 'Bye']\n",
      "['Cau', 'Nazdar', 'Bye']\n"
     ]
    }
   ],
   "source": [
    "import re\n",
    "\n",
    "s = \"Ahoj. Cau.  Nazdar iDeal Bye\"\n",
    "\n",
    "print(re.findall(\"[A-Z][a-zA-Z]+\", s))\n",
    "print(re.findall(r\"\\b[A-Z][a-zA-Z]+\", s))\n",
    "print(re.findall(r\"(?<=\\s)[A-Z][a-zA-Z]+\", s))\n",
    "print(re.findall(r\"(?<!\\.) [A-Z][a-zA-Z]+\", s))\n",
    "print(re.findall(r\"(?<!\\.\\s)\\b[A-Z][a-zA-Z]+\", s))\n",
    "print(re.findall(r\"(?<!\\.)(?<=\\s)+[A-Z][a-zA-Z]+\", s))"
   ]
  },
  {
   "cell_type": "code",
   "execution_count": 378,
   "metadata": {},
   "outputs": [],
   "source": [
    "import subprocess\n",
    "import json"
   ]
  },
  {
   "cell_type": "code",
   "execution_count": 379,
   "metadata": {},
   "outputs": [],
   "source": [
    "query = \"\"\"\n",
    "curl -X DELETE \"http://a3557701c4b3211e88f8a060fa4fdbf3-427558466.eu-west-3.elb.amazonaws.com/elasticsearch/pattern_test\" -u guest:teradata\n",
    "\"\"\"\n",
    "\n",
    "#res = subprocess.getoutput(query)\n",
    "#res = json.loads(res[res.find(\"{\"):])\n",
    "#res"
   ]
  },
  {
   "cell_type": "code",
   "execution_count": 380,
   "metadata": {},
   "outputs": [
    {
     "data": {
      "text/plain": [
       "'{\"acknowledged\":true,\"shards_acknowledged\":true,\"index\":\"pattern_test\"}'"
      ]
     },
     "execution_count": 380,
     "metadata": {},
     "output_type": "execute_result"
    }
   ],
   "source": [
    "query = \"\"\"\n",
    "curl -X DELETE \"http://a3557701c4b3211e88f8a060fa4fdbf3-427558466.eu-west-3.elb.amazonaws.com/elasticsearch/pattern_test\" -u guest:teradata\n",
    "\"\"\"\n",
    "\n",
    "res = subprocess.getoutput(query)\n",
    "\n",
    "query = \"\"\"\n",
    "curl -s -X PUT \"http://a3557701c4b3211e88f8a060fa4fdbf3-427558466.eu-west-3.elb.amazonaws.com/elasticsearch/pattern_test\" -H 'Content-Type: application/json' -d'\n",
    "{\n",
    "  \"settings\": {\n",
    "    \"analysis\": {\n",
    "      \"filter\": {\n",
    "        \"english_stop\": {\n",
    "          \"type\": \"stop\",\n",
    "          \"stopwords\": [\n",
    "            \"_english_\", \"the\", \"be\", \"and\", \"of\", \"a\", \"in\", \"to\", \"have\", \"to\",\n",
    "            \"it\", \"i\", \"that\", \"for\", \"you\", \"he\", \"with\", \"on\", \"do\", \"say\", \"this\",\n",
    "            \"they\", \"at\", \"but\", \"we\", \"his\", \"from\", \"that\", \"not\", \"by\",\n",
    "            \"she\", \"or\", \"as\", \"what\", \"go\", \"their\", \"can\", \"who\", \"get\", \"if\",\n",
    "            \"would\", \"her\", \"all\", \"my\", \"make\", \"about\", \"know\", \"will\", \"as\", \"up\",\n",
    "            \"one\", \"time\", \"there\", \"year\", \"so\", \"think\", \"when\", \"which\", \"them\",\n",
    "            \"some\", \"me\", \"people\", \"take\", \"out\", \"into\", \"just\", \"see\", \"him\",\n",
    "            \"your\", \"come\", \"could\", \"now\", \"than\", \"like\", \"other\", \"how\", \"then\",\n",
    "            \"its\", \"our\", \"two\", \"more\", \"these\", \"want\", \"way\", \"look\", \"first\",\n",
    "            \"also\", \"new\", \"because\", \"day\", \"more\", \"use\", \"no\", \"man\", \"find\",\n",
    "            \"here\", \"thing\", \"give\", \"many\", \"well\", \"only\", \"those\", \"tell\", \"one\",\n",
    "            \"very\", \"her\", \"even\", \"back\", \"any\", \"good\", \"had\", \"does\", \"doesn\\\\u0027t\",\n",
    "            \"sunday\", \"monday\", \"tuesday\", \"wednesday\", \"thursday\", \"friday\", \"saturday\"\n",
    "          ]\n",
    "        }\n",
    "      },\n",
    "      \"analyzer\": {\n",
    "        \"test_analyzer\": {\n",
    "          \"type\": \"custom\",\n",
    "          \"tokenizer\": \"capital_tokenizer\",\n",
    "          \"filter\": [\"trim\", \"lowercase\", \"english_stop\"]\n",
    "        }\n",
    "      },\n",
    "      \"tokenizer\": {\n",
    "        \"capital_tokenizer\": {\n",
    "          \"type\": \"simple_pattern\",\n",
    "          \"pattern\": \" [A-Z][a-zA-Z0-9]+\"\n",
    "        }\n",
    "      }\n",
    "    }\n",
    "  }\n",
    "}\n",
    "' -u guest:teradata\n",
    "\"\"\"\n",
    "\n",
    "res = subprocess.getoutput(query)\n",
    "res"
   ]
  },
  {
   "cell_type": "code",
   "execution_count": 381,
   "metadata": {},
   "outputs": [],
   "source": [
    "text = \"\"\"Rabobank and ABN Amro were targeted by DDoS attacks on Thursday night and Friday morning. As a result their online and mobile banking, iDeal payments and websites were hard to reach or completely offline for several hours.\n",
    "\n",
    "The attacks on Rabobank started around 6:00 p.m. on Thursday, NOS reports. The problems were resolved shortly before midnight. ABN Amro was attacked during the early hours of Friday morning.\n",
    "\n",
    "In a DDoS attack a website is bombarded by large amounts of data, crashing its server and therefore also the site. \n",
    "\n",
    "A spokesperson for ABN Amro thinks that the cyber criminals are jumping from one bank to the next with these attacks. It looks like a cat-and-mouse game, he said to NOS.\n",
    "\n",
    "The banks apologized to their customers for the inconvenience. \n",
    "\"\"\""
   ]
  },
  {
   "cell_type": "code",
   "execution_count": 382,
   "metadata": {},
   "outputs": [
    {
     "data": {
      "text/plain": [
       "{'tokens': [{'end_offset': 16,\n",
       "   'position': 0,\n",
       "   'start_offset': 12,\n",
       "   'token': 'abn',\n",
       "   'type': 'word'},\n",
       "  {'end_offset': 21,\n",
       "   'position': 1,\n",
       "   'start_offset': 16,\n",
       "   'token': 'amro',\n",
       "   'type': 'word'},\n",
       "  {'end_offset': 43,\n",
       "   'position': 2,\n",
       "   'start_offset': 38,\n",
       "   'token': 'ddos',\n",
       "   'type': 'word'},\n",
       "  {'end_offset': 245,\n",
       "   'position': 6,\n",
       "   'start_offset': 236,\n",
       "   'token': 'rabobank',\n",
       "   'type': 'word'},\n",
       "  {'end_offset': 287,\n",
       "   'position': 8,\n",
       "   'start_offset': 283,\n",
       "   'token': 'nos',\n",
       "   'type': 'word'},\n",
       "  {'end_offset': 352,\n",
       "   'position': 10,\n",
       "   'start_offset': 348,\n",
       "   'token': 'abn',\n",
       "   'type': 'word'},\n",
       "  {'end_offset': 357,\n",
       "   'position': 11,\n",
       "   'start_offset': 352,\n",
       "   'token': 'amro',\n",
       "   'type': 'word'},\n",
       "  {'end_offset': 421,\n",
       "   'position': 13,\n",
       "   'start_offset': 416,\n",
       "   'token': 'ddos',\n",
       "   'type': 'word'},\n",
       "  {'end_offset': 549,\n",
       "   'position': 14,\n",
       "   'start_offset': 545,\n",
       "   'token': 'abn',\n",
       "   'type': 'word'},\n",
       "  {'end_offset': 554,\n",
       "   'position': 15,\n",
       "   'start_offset': 549,\n",
       "   'token': 'amro',\n",
       "   'type': 'word'},\n",
       "  {'end_offset': 695,\n",
       "   'position': 17,\n",
       "   'start_offset': 691,\n",
       "   'token': 'nos',\n",
       "   'type': 'word'}]}"
      ]
     },
     "execution_count": 382,
     "metadata": {},
     "output_type": "execute_result"
    }
   ],
   "source": [
    "query = \"\"\"\n",
    "curl -s -X GET \"http://a3557701c4b3211e88f8a060fa4fdbf3-427558466.eu-west-3.elb.amazonaws.com/elasticsearch/pattern_test/_analyze\" -H 'Content-Type: application/json' -d'\n",
    "{\n",
    "  \"analyzer\": \"test_analyzer\",\n",
    "  \"text\":     \"\"\" + '\"' + text.replace(\"\\n\", \"\") + '\"' + \"\"\"\n",
    "}\n",
    "' -u guest:teradata\n",
    "\"\"\"\n",
    "\n",
    "res = subprocess.getoutput(query)\n",
    "res = json.loads(res)\n",
    "res"
   ]
  },
  {
   "cell_type": "code",
   "execution_count": 383,
   "metadata": {},
   "outputs": [
    {
     "name": "stdout",
     "output_type": "stream",
     "text": [
      "abn\n",
      "amro\n",
      "ddos\n",
      "rabobank\n",
      "nos\n",
      "abn\n",
      "amro\n",
      "ddos\n",
      "abn\n",
      "amro\n",
      "nos\n"
     ]
    }
   ],
   "source": [
    "for token in res['tokens']:\n",
    "    print(token['token'])"
   ]
  },
  {
   "cell_type": "code",
   "execution_count": null,
   "metadata": {},
   "outputs": [],
   "source": []
  }
 ],
 "metadata": {
  "kernelspec": {
   "display_name": "Python 3",
   "language": "python",
   "name": "python3"
  },
  "language_info": {
   "codemirror_mode": {
    "name": "ipython",
    "version": 3
   },
   "file_extension": ".py",
   "mimetype": "text/x-python",
   "name": "python",
   "nbconvert_exporter": "python",
   "pygments_lexer": "ipython3",
   "version": "3.5.4"
  }
 },
 "nbformat": 4,
 "nbformat_minor": 2
}
