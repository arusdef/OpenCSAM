{
 "cells": [
  {
   "cell_type": "markdown",
   "metadata": {},
   "source": [
    "# Topic modelling based on titles"
   ]
  },
  {
   "cell_type": "code",
   "execution_count": 1,
   "metadata": {},
   "outputs": [
    {
     "name": "stdout",
     "output_type": "stream",
     "text": [
      "Total number of entries: 14655\n"
     ]
    },
    {
     "name": "stderr",
     "output_type": "stream",
     "text": [
      "[========================================================================] 100%\n"
     ]
    },
    {
     "name": "stdout",
     "output_type": "stream",
     "text": [
      "Turning the _source items into columns.\n"
     ]
    }
   ],
   "source": [
    "from enisa_elastic.elastic import elastic_to_df\n",
    "\n",
    "df = elastic_to_df('websites')\n",
    "#df = elastic_to_df('rssfeeds')"
   ]
  },
  {
   "cell_type": "code",
   "execution_count": 2,
   "metadata": {},
   "outputs": [
    {
     "name": "stdout",
     "output_type": "stream",
     "text": [
      "14655\n"
     ]
    },
    {
     "data": {
      "text/plain": [
       "Index(['_id', '_score', 'title', 'link', 'content', 'resource_link',\n",
       "       'resource_label', 'published'],\n",
       "      dtype='object')"
      ]
     },
     "execution_count": 2,
     "metadata": {},
     "output_type": "execute_result"
    }
   ],
   "source": [
    "print(len(df))\n",
    "df.columns"
   ]
  },
  {
   "cell_type": "code",
   "execution_count": 3,
   "metadata": {
    "scrolled": false
   },
   "outputs": [
    {
     "data": {
      "text/html": [
       "<div>\n",
       "<style scoped>\n",
       "    .dataframe tbody tr th:only-of-type {\n",
       "        vertical-align: middle;\n",
       "    }\n",
       "\n",
       "    .dataframe tbody tr th {\n",
       "        vertical-align: top;\n",
       "    }\n",
       "\n",
       "    .dataframe thead th {\n",
       "        text-align: right;\n",
       "    }\n",
       "</style>\n",
       "<table border=\"1\" class=\"dataframe\">\n",
       "  <thead>\n",
       "    <tr style=\"text-align: right;\">\n",
       "      <th></th>\n",
       "      <th>_id</th>\n",
       "      <th>_score</th>\n",
       "      <th>title</th>\n",
       "      <th>link</th>\n",
       "      <th>content</th>\n",
       "      <th>resource_link</th>\n",
       "      <th>resource_label</th>\n",
       "      <th>published</th>\n",
       "    </tr>\n",
       "  </thead>\n",
       "  <tbody>\n",
       "    <tr>\n",
       "      <th>0</th>\n",
       "      <td>61600cc7bdc83a25bc15adc74eb4902a538092a1</td>\n",
       "      <td>None</td>\n",
       "      <td>Report: US Government Preps WikiLeaks Charges</td>\n",
       "      <td>https://www.bankinfosecurity.com/blogs/report-...</td>\n",
       "      <td>As U.S. government officials continue to ramp ...</td>\n",
       "      <td>https://www.bankinfosecurity.com/latest-news</td>\n",
       "      <td>bankinfosecurity</td>\n",
       "      <td>2017-04-21T00:00:00</td>\n",
       "    </tr>\n",
       "    <tr>\n",
       "      <th>1</th>\n",
       "      <td>54f4ff6018e1858688ef91e15172ad77d633c10f</td>\n",
       "      <td>None</td>\n",
       "      <td>Cybersecurity Startup Exposed Hospital Network...</td>\n",
       "      <td>https://www.bankinfosecurity.com/cybersecurity...</td>\n",
       "      <td>Billion-dollar cybersecurity startup Tanium ha...</td>\n",
       "      <td>https://www.bankinfosecurity.com/latest-news</td>\n",
       "      <td>bankinfosecurity</td>\n",
       "      <td>2017-04-20T00:00:00</td>\n",
       "    </tr>\n",
       "    <tr>\n",
       "      <th>2</th>\n",
       "      <td>b8499fa0a8bab6ad912a58193d773154e2cd3ef9</td>\n",
       "      <td>None</td>\n",
       "      <td>A CISO's First 100 Days</td>\n",
       "      <td>https://www.bankinfosecurity.com/interviews/ci...</td>\n",
       "      <td>For a security leader, the first three months ...</td>\n",
       "      <td>https://www.bankinfosecurity.com/latest-news</td>\n",
       "      <td>bankinfosecurity</td>\n",
       "      <td>2016-09-09T00:00:00</td>\n",
       "    </tr>\n",
       "    <tr>\n",
       "      <th>3</th>\n",
       "      <td>c95a2283caf7a7ccb4622439f39a4ca32c292254</td>\n",
       "      <td>None</td>\n",
       "      <td>Financial Sector Under Increasing Cybercrime T...</td>\n",
       "      <td>https://www.bankinfosecurity.com/financial-sec...</td>\n",
       "      <td>The financial sector is under increasing threa...</td>\n",
       "      <td>https://www.bankinfosecurity.com/latest-news</td>\n",
       "      <td>bankinfosecurity</td>\n",
       "      <td>2017-11-09T00:00:00</td>\n",
       "    </tr>\n",
       "    <tr>\n",
       "      <th>4</th>\n",
       "      <td>a64c4867f697cf23d3d76a00d961d655ceb9174b</td>\n",
       "      <td>None</td>\n",
       "      <td>Exclusive: Aussie Firm Loses $6.6M to Backdoor...</td>\n",
       "      <td>https://www.bankinfosecurity.com/exclusive-aus...</td>\n",
       "      <td>Australian police in Queensland are pursuing a...</td>\n",
       "      <td>https://www.bankinfosecurity.com/latest-news</td>\n",
       "      <td>bankinfosecurity</td>\n",
       "      <td>2018-06-05T00:00:00</td>\n",
       "    </tr>\n",
       "  </tbody>\n",
       "</table>\n",
       "</div>"
      ],
      "text/plain": [
       "                                        _id _score  \\\n",
       "0  61600cc7bdc83a25bc15adc74eb4902a538092a1   None   \n",
       "1  54f4ff6018e1858688ef91e15172ad77d633c10f   None   \n",
       "2  b8499fa0a8bab6ad912a58193d773154e2cd3ef9   None   \n",
       "3  c95a2283caf7a7ccb4622439f39a4ca32c292254   None   \n",
       "4  a64c4867f697cf23d3d76a00d961d655ceb9174b   None   \n",
       "\n",
       "                                               title  \\\n",
       "0      Report: US Government Preps WikiLeaks Charges   \n",
       "1  Cybersecurity Startup Exposed Hospital Network...   \n",
       "2                            A CISO's First 100 Days   \n",
       "3  Financial Sector Under Increasing Cybercrime T...   \n",
       "4  Exclusive: Aussie Firm Loses $6.6M to Backdoor...   \n",
       "\n",
       "                                                link  \\\n",
       "0  https://www.bankinfosecurity.com/blogs/report-...   \n",
       "1  https://www.bankinfosecurity.com/cybersecurity...   \n",
       "2  https://www.bankinfosecurity.com/interviews/ci...   \n",
       "3  https://www.bankinfosecurity.com/financial-sec...   \n",
       "4  https://www.bankinfosecurity.com/exclusive-aus...   \n",
       "\n",
       "                                             content  \\\n",
       "0  As U.S. government officials continue to ramp ...   \n",
       "1  Billion-dollar cybersecurity startup Tanium ha...   \n",
       "2  For a security leader, the first three months ...   \n",
       "3  The financial sector is under increasing threa...   \n",
       "4  Australian police in Queensland are pursuing a...   \n",
       "\n",
       "                                  resource_link    resource_label  \\\n",
       "0  https://www.bankinfosecurity.com/latest-news  bankinfosecurity   \n",
       "1  https://www.bankinfosecurity.com/latest-news  bankinfosecurity   \n",
       "2  https://www.bankinfosecurity.com/latest-news  bankinfosecurity   \n",
       "3  https://www.bankinfosecurity.com/latest-news  bankinfosecurity   \n",
       "4  https://www.bankinfosecurity.com/latest-news  bankinfosecurity   \n",
       "\n",
       "             published  \n",
       "0  2017-04-21T00:00:00  \n",
       "1  2017-04-20T00:00:00  \n",
       "2  2016-09-09T00:00:00  \n",
       "3  2017-11-09T00:00:00  \n",
       "4  2018-06-05T00:00:00  "
      ]
     },
     "execution_count": 3,
     "metadata": {},
     "output_type": "execute_result"
    }
   ],
   "source": [
    "df.head()"
   ]
  },
  {
   "cell_type": "code",
   "execution_count": 4,
   "metadata": {},
   "outputs": [
    {
     "name": "stdout",
     "output_type": "stream",
     "text": [
      "Number of documents with empty content: 21\n"
     ]
    }
   ],
   "source": [
    "#print(len(df[df['description'] == '']))\n",
    "print(\"Number of documents with empty content:\", len(df[df['content'] == '']))"
   ]
  },
  {
   "cell_type": "code",
   "execution_count": 5,
   "metadata": {},
   "outputs": [
    {
     "data": {
      "text/plain": [
       "375"
      ]
     },
     "execution_count": 5,
     "metadata": {},
     "output_type": "execute_result"
    }
   ],
   "source": [
    "df_recent = df[df[\"published\"] > \"2018-05-01\"]\n",
    "len(df_recent)"
   ]
  },
  {
   "cell_type": "code",
   "execution_count": 6,
   "metadata": {},
   "outputs": [],
   "source": [
    "X0 = df_recent[\"title\"]"
   ]
  },
  {
   "cell_type": "code",
   "execution_count": 7,
   "metadata": {},
   "outputs": [],
   "source": [
    "from nltk import word_tokenize          \n",
    "from nltk.stem.porter import PorterStemmer \n",
    "\n",
    "ps = PorterStemmer()\n",
    "\n",
    "def tokenizer(text):\n",
    "    #return [ps.stem(w).lower() for w in word_tokenize(text) if w.isalpha() and len(w)>1]\n",
    "    return [w.lower() for w in word_tokenize(text) if w.isalpha() and len(w)>1]"
   ]
  },
  {
   "cell_type": "code",
   "execution_count": 8,
   "metadata": {},
   "outputs": [
    {
     "name": "stdout",
     "output_type": "stream",
     "text": [
      "['i', 'me', 'my', 'myself', 'we', 'our', 'ours', 'ourselves', 'you', \"you're\", \"you've\", \"you'll\", \"you'd\", 'your', 'yours', 'yourself', 'yourselves', 'he', 'him', 'his', 'himself', 'she', \"she's\", 'her', 'hers', 'herself', 'it', \"it's\", 'its', 'itself', 'they', 'them', 'their', 'theirs', 'themselves', 'what', 'which', 'who', 'whom', 'this', 'that', \"that'll\", 'these', 'those', 'am', 'is', 'are', 'was', 'were', 'be', 'been', 'being', 'have', 'has', 'had', 'having', 'do', 'does', 'did', 'doing', 'a', 'an', 'the', 'and', 'but', 'if', 'or', 'because', 'as', 'until', 'while', 'of', 'at', 'by', 'for', 'with', 'about', 'against', 'between', 'into', 'through', 'during', 'before', 'after', 'above', 'below', 'to', 'from', 'up', 'down', 'in', 'out', 'on', 'off', 'over', 'under', 'again', 'further', 'then', 'once', 'here', 'there', 'when', 'where', 'why', 'how', 'all', 'any', 'both', 'each', 'few', 'more', 'most', 'other', 'some', 'such', 'no', 'nor', 'not', 'only', 'own', 'same', 'so', 'than', 'too', 'very', 's', 't', 'can', 'will', 'just', 'don', \"don't\", 'should', \"should've\", 'now', 'd', 'll', 'm', 'o', 're', 've', 'y', 'ain', 'aren', \"aren't\", 'couldn', \"couldn't\", 'didn', \"didn't\", 'doesn', \"doesn't\", 'hadn', \"hadn't\", 'hasn', \"hasn't\", 'haven', \"haven't\", 'isn', \"isn't\", 'ma', 'mightn', \"mightn't\", 'mustn', \"mustn't\", 'needn', \"needn't\", 'shan', \"shan't\", 'shouldn', \"shouldn't\", 'wasn', \"wasn't\", 'weren', \"weren't\", 'won', \"won't\", 'wouldn', \"wouldn't\"]\n"
     ]
    }
   ],
   "source": [
    "from nltk.corpus import stopwords\n",
    "\n",
    "# Show the English stop words.\n",
    "print(stopwords.words('english'))"
   ]
  },
  {
   "cell_type": "code",
   "execution_count": 9,
   "metadata": {},
   "outputs": [],
   "source": [
    "# Number of clusters\n",
    "n = 5\n",
    "\n",
    "# Number of features, ordered by term frequency\n",
    "m = 5"
   ]
  },
  {
   "cell_type": "code",
   "execution_count": 10,
   "metadata": {},
   "outputs": [],
   "source": [
    "from sklearn.feature_extraction.text import TfidfVectorizer\n",
    "\n",
    "tv_max = TfidfVectorizer(lowercase=True, stop_words='english',\n",
    "                         tokenizer=tokenizer, max_df=0.1, min_df=0.001, max_features=100)"
   ]
  },
  {
   "cell_type": "code",
   "execution_count": 11,
   "metadata": {},
   "outputs": [
    {
     "name": "stdout",
     "output_type": "stream",
     "text": [
      "done in 0.081s.\n",
      "Shape of the X matrix: (375, 100)\n"
     ]
    }
   ],
   "source": [
    "from time import time\n",
    "\n",
    "t0 = time()\n",
    "X = tv_max.fit_transform(X0)\n",
    "print(\"done in %0.3fs.\" % (time() - t0))\n",
    "print(\"Shape of the X matrix:\", X.shape)"
   ]
  },
  {
   "cell_type": "code",
   "execution_count": 12,
   "metadata": {},
   "outputs": [
    {
     "data": {
      "text/plain": [
       "[('security', 0.055557553614825311),\n",
       " ('microsoft', 0.042844300311452976),\n",
       " ('new', 0.041646269162781344),\n",
       " ('data', 0.035097449265840408),\n",
       " ('gdpr', 0.031356900249582903),\n",
       " ('windows', 0.031147962418297873),\n",
       " ('ransomware', 0.024085084707414512),\n",
       " ('google', 0.023180439662115786),\n",
       " ('breach', 0.022965603302075588),\n",
       " ('users', 0.021180692070281604)]"
      ]
     },
     "execution_count": 12,
     "metadata": {},
     "output_type": "execute_result"
    }
   ],
   "source": [
    "import numpy as np\n",
    "\n",
    "freq_pairs  = list(zip(tv_max.get_feature_names(), np.asarray(X.mean(axis=0)).ravel()))\n",
    "sorted(freq_pairs, key = lambda x: x[1], reverse=True)[:10]"
   ]
  },
  {
   "cell_type": "code",
   "execution_count": 13,
   "metadata": {},
   "outputs": [
    {
     "name": "stdout",
     "output_type": "stream",
     "text": [
      "done in 0.291s.\n"
     ]
    }
   ],
   "source": [
    "from sklearn.cluster import KMeans\n",
    "\n",
    "km = KMeans(n_clusters=n)\n",
    "t0 = time()\n",
    "km.fit(X)\n",
    "print(\"done in %0.3fs.\" % (time() - t0))"
   ]
  },
  {
   "cell_type": "code",
   "execution_count": 14,
   "metadata": {
    "scrolled": false
   },
   "outputs": [
    {
     "name": "stdout",
     "output_type": "stream",
     "text": [
      "Cluster center coordinates:\n",
      "---------------------------\n",
      "[('security', 0.66294381627030252),\n",
      " ('flaw', 0.060715539896162192),\n",
      " ('identity', 0.051812009257994708),\n",
      " ('fixes', 0.050552442283413004),\n",
      " ('researchers', 0.048403169027213436)]\n",
      "[('gdpr', 0.58794187967967937),\n",
      " ('cybersecurity', 0.23709196665491902),\n",
      " ('privacy', 0.13634232893272613),\n",
      " ('enforcement', 0.06663817527415343),\n",
      " ('impact', 0.054988240334999626)]\n",
      "[('data', 0.045073003771148035),\n",
      " ('breach', 0.032376320444655438),\n",
      " ('ransomware', 0.029468431951815782),\n",
      " ('fraud', 0.027607671991785012),\n",
      " ('million', 0.025395006187925249)]\n",
      "[('windows', 0.53093117758462305),\n",
      " ('microsoft', 0.14984202397466792),\n",
      " ('build', 0.11777629688469182),\n",
      " ('insider', 0.11777629688469182),\n",
      " ('april', 0.099467121819556414)]\n",
      "[('new', 0.35644190151998106),\n",
      " ('microsoft', 0.31807602633866228),\n",
      " ('adds', 0.057159634738495058),\n",
      " ('google', 0.048064690788257675),\n",
      " ('cyber', 0.046298690701931745)]\n"
     ]
    }
   ],
   "source": [
    "import pprint\n",
    "\n",
    "pp = pprint.PrettyPrinter()\n",
    "\n",
    "print(\"Cluster center coordinates:\")\n",
    "print(\"---------------------------\")\n",
    "for c in km.cluster_centers_:\n",
    "    freq_pairs = list(zip(tv_max.get_feature_names(), c))\n",
    "    pp.pprint(sorted(freq_pairs, key = lambda x: x[1], reverse=True)[:m])"
   ]
  },
  {
   "cell_type": "code",
   "execution_count": 15,
   "metadata": {
    "scrolled": false
   },
   "outputs": [],
   "source": [
    "from sklearn.feature_extraction.text import TfidfVectorizer\n",
    "\n",
    "tv = TfidfVectorizer(lowercase=True, stop_words='english',\n",
    "                     tokenizer=tokenizer, max_df=0.1, min_df=0.001)"
   ]
  },
  {
   "cell_type": "code",
   "execution_count": 16,
   "metadata": {},
   "outputs": [
    {
     "name": "stdout",
     "output_type": "stream",
     "text": [
      "done in 0.068s.\n",
      "Shape of the X matrix: (375, 1298)\n"
     ]
    }
   ],
   "source": [
    "t0 = time()\n",
    "X = tv.fit_transform(X0)\n",
    "print(\"done in %0.3fs.\" % (time() - t0))\n",
    "print(\"Shape of the X matrix:\", X.shape)"
   ]
  },
  {
   "cell_type": "code",
   "execution_count": 17,
   "metadata": {},
   "outputs": [
    {
     "data": {
      "image/png": "[encoded data removed]",
      "text/plain": [
       "<matplotlib.figure.Figure at 0x10c744fd0>"
      ]
     },
     "metadata": {},
     "output_type": "display_data"
    }
   ],
   "source": [
    "%matplotlib inline\n",
    "\n",
    "import matplotlib.pyplot as plt\n",
    "\n",
    "fig = plt.figure()\n",
    "ax = fig.add_subplot(111)\n",
    "ax.hist(np.asarray(X.mean(axis=0)).flatten(), bins=np.arange(0, 0.1, 0.1/50))\n",
    "plt.yscale('log', nonposy='clip')\n",
    "plt.show()"
   ]
  },
  {
   "cell_type": "code",
   "execution_count": 18,
   "metadata": {},
   "outputs": [
    {
     "name": "stdout",
     "output_type": "stream",
     "text": [
      "done in 0.138s.\n"
     ]
    }
   ],
   "source": [
    "t0 = time()\n",
    "km.fit(X)\n",
    "print(\"done in %0.3fs.\" % (time() - t0))"
   ]
  },
  {
   "cell_type": "code",
   "execution_count": 19,
   "metadata": {
    "scrolled": false
   },
   "outputs": [
    {
     "name": "stdout",
     "output_type": "stream",
     "text": [
      "Cluster center coordinates:\n",
      "---------------------------\n",
      "[('windows', 0.058712928848875592),\n",
      " ('microsoft', 0.056322215789439509),\n",
      " ('new', 0.049059485462805356),\n",
      " ('chrome', 0.029493495691770063),\n",
      " ('google', 0.027218772416448555)]\n",
      "[('security', 0.24377986235482532),\n",
      " ('identity', 0.067631362450560686),\n",
      " ('new', 0.028663595883807208),\n",
      " ('models', 0.028321606257666106),\n",
      " ('management', 0.027415531901922682)]\n",
      "[('gdpr', 0.026758526622729283),\n",
      " ('breach', 0.019868953872203242),\n",
      " ('data', 0.018148812356746355),\n",
      " ('million', 0.01813831173647381),\n",
      " ('botnet', 0.015218254500321502)]\n",
      "[('ransomware', 0.16668960479802777),\n",
      " ('users', 0.16256045747917924),\n",
      " ('week', 0.073143496023894153),\n",
      " ('data', 0.050970208430307994),\n",
      " ('app', 0.047669337522248341)]\n",
      "[('cybersecurity', 0.35523161975816281),\n",
      " ('future', 0.14840139481927253),\n",
      " ('deal', 0.06668971762658317),\n",
      " ('bundle', 0.065409233037940565),\n",
      " ('means', 0.059531985017023004)]\n"
     ]
    }
   ],
   "source": [
    "print(\"Cluster center coordinates:\")\n",
    "print(\"---------------------------\")\n",
    "for c in km.cluster_centers_:\n",
    "    freq_pairs = list(zip(tv.get_feature_names(), c))\n",
    "    pp.pprint(sorted(freq_pairs, key = lambda x: x[1], reverse=True)[:m])"
   ]
  },
  {
   "cell_type": "code",
   "execution_count": 20,
   "metadata": {},
   "outputs": [],
   "source": [
    "def print_top_words(model, feature_names, n_top_words):\n",
    "    keywords = []\n",
    "    for topic_idx, topic in enumerate(model.components_):\n",
    "        s = \"Topic #%d: \" % topic_idx\n",
    "        s += \", \".join([feature_names[i]\n",
    "                        for i in topic.argsort()[:-n_top_words - 1:-1]])\n",
    "        print(s)\n",
    "        keywords.append([feature_names[i]\n",
    "                         for i in topic.argsort()[:-n_top_words - 1:-1]])\n",
    "    return keywords"
   ]
  },
  {
   "cell_type": "code",
   "execution_count": 21,
   "metadata": {},
   "outputs": [],
   "source": [
    "from sklearn.feature_extraction.text import CountVectorizer\n",
    "\n",
    "cv = CountVectorizer(lowercase=True, stop_words='english',\n",
    "                     tokenizer=tokenizer, max_df=0.1, min_df=0.001)"
   ]
  },
  {
   "cell_type": "code",
   "execution_count": 22,
   "metadata": {},
   "outputs": [
    {
     "name": "stdout",
     "output_type": "stream",
     "text": [
      "done in 0.066s.\n",
      "Shape of the X matrix: (375, 1298)\n"
     ]
    }
   ],
   "source": [
    "t0 = time()\n",
    "X = cv.fit_transform(X0)\n",
    "print(\"done in %0.3fs.\" % (time() - t0))\n",
    "print(\"Shape of the X matrix:\", X.shape)"
   ]
  },
  {
   "cell_type": "code",
   "execution_count": 23,
   "metadata": {},
   "outputs": [
    {
     "name": "stdout",
     "output_type": "stream",
     "text": [
      "done in 0.350s.\n"
     ]
    }
   ],
   "source": [
    "from sklearn.decomposition import LatentDirichletAllocation\n",
    "\n",
    "lda = LatentDirichletAllocation(n_components=n, max_iter=5,\n",
    "                                learning_method='online',\n",
    "                                learning_offset=50.,\n",
    "                                random_state=0)\n",
    "t0 = time()\n",
    "lda.fit(X)\n",
    "print(\"done in %0.3fs.\" % (time() - t0))"
   ]
  },
  {
   "cell_type": "code",
   "execution_count": 24,
   "metadata": {},
   "outputs": [
    {
     "name": "stdout",
     "output_type": "stream",
     "text": [
      "Topics in LDA model:\n",
      "--------------------\n",
      "Topic #0: new, security, identity, chrome, microsoft\n",
      "Topic #1: ransomware, million, breach, malware, microsoft\n",
      "Topic #2: windows, botnet, users, security, ddos\n",
      "Topic #3: data, facebook, chrome, routers, using\n",
      "Topic #4: microsoft, deal, bundle, cybersecurity, windows\n"
     ]
    }
   ],
   "source": [
    "print(\"Topics in LDA model:\")\n",
    "print(\"--------------------\")\n",
    "feature_names = cv.get_feature_names()\n",
    "keywords = print_top_words(lda, feature_names, m)"
   ]
  },
  {
   "cell_type": "code",
   "execution_count": 25,
   "metadata": {},
   "outputs": [],
   "source": [
    "from enisa_elastic.elastic import es"
   ]
  },
  {
   "cell_type": "code",
   "execution_count": 26,
   "metadata": {},
   "outputs": [
    {
     "name": "stdout",
     "output_type": "stream",
     "text": [
      "Titles from cluster 0\n",
      "---------------------\n",
      "Google, Microsoft, and Mozilla Put Their Backing Behind New WebAuthn API\n",
      "Microsoft Takes Jab Back at Google's Security Team\n",
      "Microsoft Confirms Windows 10 \"S Mode\"\n",
      "Tests Show Microsoft Edge Is More Secure Than Chrome and Firefox\n",
      "Microsoft claims to make Chrome safer with new extension\n",
      "Google Reducing Trust in Symantec Certificates Following Numerous Slip-Ups\n",
      "Microsoft Edge Beats Chrome by Over Three Hours in New Battery Usage Test\n",
      "Chrome Users Reporting Freezes & Timeouts After Windows 10 April Update\n",
      "Practical passwordless authentication comes a step closer with WebAuthn\n",
      "Google Launches Enterprise Version of Chrome OS\n",
      "\n",
      "Titles from cluster 1\n",
      "---------------------\n",
      "LinkedIn Sale: Mega Bucks, No Matter Mega Breach\n",
      "Would Cheaper Windows Upgrades Solve Ransomware Woes?\n",
      "Antimalware software works, hackers still trying to exploit 6-year-old bugs\n",
      "Ransomware Onslaught Continues: Old Foes, New Defenses\n",
      "Maersk Previews NotPetya Impact: Up to $300 Million\n",
      "New MassMiner Malware Targets Web Servers With an Assortment of Exploits\n",
      "Researchers: Andromeda Bust Collared Cybercrime Mastermind\n",
      "Millions of RDP Endpoints Exposed Online and Ready for Bad Things\n",
      "Attack Alert: JavaScript Spam Installs Ransomware\n",
      "Sonic Confirms Malware Breach After Customer Card Data Lands on Carding Shops\n",
      "\n",
      "Titles from cluster 2\n",
      "---------------------\n",
      "Mirai Gets a Windows Version to Boost Distribution Efforts\n",
      "Flusihoc DDoS Botnet Ramps up Activity, Most Likely Operated out of China\n",
      "Evidence suggests first zombie Mac botnet is active\n",
      "DDoS Warnings: Emerging Threats Pack a Punch\n",
      "Storm worm going out with a bang, mounts DDoS attacks against researchers\n",
      "FBI: Over one million computers working for botnets\n",
      "US 911 Emergency Services Can Be Shut Down by DDoS Attacks From Mobile Botnets\n",
      "Irresponsible Chinese DVR Vendor Still the Target of IoT Botnets One Year Later\n",
      "Man Pleads Guilty to Infecting Thousands of Computers Using Worm Program\n",
      "DoubleDoor Botnet Chains Exploits to Bypass Firewalls\n",
      "\n",
      "Titles from cluster 3\n",
      "---------------------\n",
      "Crooks Hijack Router DNS Settings to Redirect Users to Android Malware\n",
      "WikiLeaks Publishes CIA Anti-Whistleblowers Tool for Microsoft Office Documents\n",
      "A Botnet of Rogue Chrome Extensions Assaulted Wix in April 2016\n",
      "Browse-Secure Extension Harvests Contact Info from Facebook and LinkedIn\n",
      "Leaked Documents Reveal Facebook Targets Emotionally Insecure Teens\n",
      "FacexWorm Spreads via Facebook Messenger, Malicious Chrome Extension\n",
      "Sudden Rise Detected in Faceliker Malware That Manipulates Facebook \"Likes\"\n",
      "Google Set to Name and Shame Sites Lacking HTTPS\n",
      "Is Ransomware Creeping Into Facebook and LinkedIn?\n",
      "Stresspaint Malware Steals Facebook Credentials and Session Cookies\n",
      "\n",
      "Titles from cluster 4\n",
      "---------------------\n",
      "Get 97% off the Microsoft MCSE Server Admin Certification Training Bundle\n",
      "New Deal: Microsoft Universal Windows Platform Expert Bundle\n",
      "96% off the Essential CompTIA & Microsoft Windows Server Administrator Certification Bundle\n",
      "New Deal: 98% off the Microsoft Programming Certification Training Bundle\n",
      "Get 96% off a MCSE Data Platform Certification Exam Prep Course\n",
      "94% off a MCSA Windows Server 2012 & Cisco Network Associate Certification Training Course Bundle\n",
      "New Deal: 97% off the Microsoft MCSE Server Admin Certification Training Bundle\n",
      "Get 98% off The Project Management Professional Training Bundle\n",
      "Get 92% off the DevOps with Cloud Computing Bundle Deal\n",
      "Get 96% Off the 2018 Essential JavaScript Coding Bundle Deal\n",
      "\n"
     ]
    }
   ],
   "source": [
    "for c in range(n):\n",
    "    query = \" OR \".join(keywords[c])    \n",
    "    res = es.search(index=\"websites\", body={\"query\": {\"match\": {\"content\": query}}}, size=10)\n",
    "    print(\"Titles from cluster {}\".format(c))\n",
    "    print(\"---------------------\")\n",
    "    for i in range(10):\n",
    "        print(res['hits']['hits'][i]['_source']['title'])\n",
    "        #print(res['hits']['hits'][i]['_score'])\n",
    "    print()"
   ]
  },
  {
   "cell_type": "code",
   "execution_count": 27,
   "metadata": {},
   "outputs": [
    {
     "name": "stdout",
     "output_type": "stream",
     "text": [
      "done in 0.076s.\n",
      "Shape of the X matrix: (375, 1298)\n"
     ]
    }
   ],
   "source": [
    "t0 = time()\n",
    "X = tv.fit_transform(X0)\n",
    "print(\"done in %0.3fs.\" % (time() - t0))\n",
    "print(\"Shape of the X matrix:\", X.shape)"
   ]
  },
  {
   "cell_type": "code",
   "execution_count": 28,
   "metadata": {},
   "outputs": [
    {
     "name": "stdout",
     "output_type": "stream",
     "text": [
      "done in 0.305s.\n"
     ]
    }
   ],
   "source": [
    "lda = LatentDirichletAllocation(n_components=n, max_iter=5,\n",
    "                                learning_method='online',\n",
    "                                learning_offset=50.,\n",
    "                                random_state=0)\n",
    "t0 = time()\n",
    "lda.fit(X)\n",
    "print(\"done in %0.3fs.\" % (time() - t0))"
   ]
  },
  {
   "cell_type": "code",
   "execution_count": 29,
   "metadata": {},
   "outputs": [
    {
     "name": "stdout",
     "output_type": "stream",
     "text": [
      "Topics in LDA model:\n",
      "--------------------\n",
      "Topic #0: security, google, ransomware, chrome, new\n",
      "Topic #1: users, data, microsoft, windows, million\n",
      "Topic #2: botnet, security, ddos, users, ready\n",
      "Topic #3: data, microsoft, new, gdpr, security\n",
      "Topic #4: deal, windows, bundle, cybersecurity, fraud\n"
     ]
    }
   ],
   "source": [
    "print(\"Topics in LDA model:\")\n",
    "print(\"--------------------\")\n",
    "feature_names = tv.get_feature_names()\n",
    "keywords = print_top_words(lda, feature_names, m)"
   ]
  },
  {
   "cell_type": "code",
   "execution_count": 30,
   "metadata": {},
   "outputs": [
    {
     "name": "stdout",
     "output_type": "stream",
     "text": [
      "Titles from cluster 0\n",
      "---------------------\n",
      "Website Uses \"Add Extension to Leave\" Popups to Infect Chrome Users\n",
      "Over 318,000 Android Users Affected by Auto-Downloading Malvertising Attack\n",
      "Fake Chrome Font Pack Update Alerts Infecting Visitors with Spora Ransomware\n",
      "Sneaky Tech Support Scammers Invent New Tricks to Fool Google Chrome Users\n",
      "LeakerLocker Ransomware Found in Two Apps on the Google Play Store\n",
      "Google Chrome 66 Released Today Focuses on Security\n",
      "Is Ransomware Creeping Into Facebook and LinkedIn?\n",
      "Google Will Quietly Auto-Migrate Some Users to 64-Bit Chrome\n",
      "Google Chrome 57 Released with WebAssembly Support, 36 Security Fixes\n",
      "Chrome Adds Warning for When Extensions Take Over Your Internet Connection\n",
      "\n",
      "Titles from cluster 1\n",
      "---------------------\n",
      "Antimalware software works, hackers still trying to exploit 6-year-old bugs\n",
      "France Slams Windows 10 Privacy, Security Controls\n",
      "Windows Defender Advanced Threat Protection uses cloud power to figure out you’ve been pwned\n",
      "Man Sues Microsoft Seeking New Copy of Windows 7 After Forced Windows 10 Upgrade\n",
      "Windows 10 Fall Creators Update Now Fully Rolled Out Worldwide\n",
      "Microsoft's April 2017 Patch Tuesday Comes with 61 Security Updates\n",
      "Microsoft: 71% of Windows 10 Creators Update PCs Use Full Telemetry Settings\n",
      "Windows Server 2003: Mitigating Risks\n",
      "Microsoft Pesters Users with Ads Again, This Time for Edge\n",
      "Windows 10: Security, Privacy Questions\n",
      "\n",
      "Titles from cluster 2\n",
      "---------------------\n",
      "Rakos Botnet Adds Support for P2P Backbone, Grows Larger\n",
      "Irresponsible Chinese DVR Vendor Still the Target of IoT Botnets One Year Later\n",
      "Hacked IoT Devices Unleash Record DDoS Mayhem\n",
      "15% of All IoT Device Owners Don't Change Default Passwords\n",
      "New HNS IoT Botnet Has Already Amassed 14K Bots\n",
      "You Can Now Rent a Mirai Botnet of 400,000 Bots\n",
      "US 911 Emergency Services Can Be Shut Down by DDoS Attacks From Mobile Botnets\n",
      "Leak of >1,700 valid passwords could make the IoT mess much worse\n",
      "DoubleDoor Botnet Chains Exploits to Bypass Firewalls\n",
      "Security Firms Unite to Bring Down WireX Android DDoS Botnet\n",
      "\n",
      "Titles from cluster 3\n",
      "---------------------\n",
      "UK Law Proposal to Criminalize Re-Identification of Anonymized User Data\n",
      "New Service Blocks EU Users So Companies Can Save Thousands on GDPR Compliance\n",
      "Microsoft Will Extend GDPR Privacy Protections to All Users, Not Just Europeans\n",
      "Leaked Image Shows Microsoft's New Xbox Accessibility Controller\n",
      "Continental Bans WhatsApp and Snapchat From Work Phones\n",
      "Europe's Strong GDPR Privacy Rules Go Into Full Effect\n",
      "Ubuntu Gets in the User Data Collection Business\n",
      "GDPR Enforcement Deadline: If You Blew It, What's Next?\n",
      "Microsoft: 71% of Windows 10 Creators Update PCs Use Full Telemetry Settings\n",
      "Flash Bug Allows Attackers to Spy on Users via Camera, Microphone\n",
      "\n",
      "Titles from cluster 4\n",
      "---------------------\n",
      "Get 97% off the Microsoft MCSE Server Admin Certification Training Bundle\n",
      "Get 94% off the Ultimate JavaScript eBook and Course Bundle Deal\n",
      "Get 98% off The Complete Microsoft 365 Security Training Bundle Deal\n",
      "New Deal: Microsoft Universal Windows Platform Expert Bundle\n",
      "96% off the Essential CompTIA & Microsoft Windows Server Administrator Certification Bundle\n",
      "Get 96% off a MCSE Data Platform Certification Exam Prep Course\n",
      "New Deal: 94% off the Complete C# Coding Bootcamp Course\n",
      "94% off a MCSA Windows Server 2012 & Cisco Network Associate Certification Training Course Bundle\n",
      "Get 98% off The Project Management Professional Training Bundle\n",
      "New Deal: 98% off the Microsoft Programming Certification Training Bundle\n",
      "\n"
     ]
    }
   ],
   "source": [
    "for c in range(n):\n",
    "    query = \" OR \".join(keywords[c])    \n",
    "    res = es.search(index=\"websites\", body={\"query\": {\"match\": {\"content\": query}}}, size=10)\n",
    "    print(\"Titles from cluster {}\".format(c))\n",
    "    print(\"---------------------\")\n",
    "    for i in range(10):\n",
    "        print(res['hits']['hits'][i]['_source']['title'])\n",
    "        #print(res['hits']['hits'][i]['_score'])\n",
    "    print()"
   ]
  },
  {
   "cell_type": "code",
   "execution_count": 31,
   "metadata": {},
   "outputs": [
    {
     "name": "stdout",
     "output_type": "stream",
     "text": [
      "done in 0.078s.\n"
     ]
    }
   ],
   "source": [
    "from sklearn.decomposition import NMF\n",
    "\n",
    "nmf = NMF(n_components=n, random_state=1,\n",
    "          beta_loss='kullback-leibler', solver='mu', max_iter=1000, alpha=.1,\n",
    "          l1_ratio=.5)\n",
    "t0 = time()\n",
    "nmf.fit(X)\n",
    "print(\"done in %0.3fs.\" % (time() - t0))"
   ]
  },
  {
   "cell_type": "code",
   "execution_count": 32,
   "metadata": {},
   "outputs": [
    {
     "name": "stdout",
     "output_type": "stream",
     "text": [
      "Topics in NMF model (generalized Kullback-Leibler divergence):\n",
      "--------------------------------------------------------------\n",
      "Topic #0: microsoft, windows, new, google, chrome\n",
      "Topic #1: cybersecurity, deal, bundle, training, hacking\n",
      "Topic #2: data, users, breach, fraud, million\n",
      "Topic #3: security, identity, hackers, flaw, new\n",
      "Topic #4: gdpr, new, malware, privacy, amazon\n"
     ]
    }
   ],
   "source": [
    "print(\"Topics in NMF model (generalized Kullback-Leibler divergence):\")\n",
    "print(\"--------------------------------------------------------------\")\n",
    "feature_names = tv.get_feature_names()\n",
    "keywords = print_top_words(nmf, feature_names, m)"
   ]
  },
  {
   "cell_type": "code",
   "execution_count": 33,
   "metadata": {},
   "outputs": [
    {
     "name": "stdout",
     "output_type": "stream",
     "text": [
      "Titles from cluster 0\n",
      "---------------------\n",
      "Microsoft Takes Jab Back at Google's Security Team\n",
      "Microsoft Edge Beats Chrome by Over Three Hours in New Battery Usage Test\n",
      "Google Launches Enterprise Version of Chrome OS\n",
      "Chrome Users Reporting Freezes & Timeouts After Windows 10 April Update\n",
      "Gmail Drops Support for Windows XP and Vista Users on Chrome\n",
      "Project Crostini: Chrome OS to Support Containerized Linux Apps\n",
      "Google Will Block Third-Party Software From Injecting Code Into Chrome\n",
      "Microsoft Has Effectively Banned Third-Party Browsers From the Windows Store\n",
      "Chrome picks up bonus security features on Windows 10\n",
      "Chrome Beats Edge in Independent Battery Life Test Despite Microsoft's Claims\n",
      "\n",
      "Titles from cluster 1\n",
      "---------------------\n",
      "Get 96% off The Computer Hacker Professional Certification Bundle\n",
      "Get 96% off The Computer Hacker Professional Certification Training Bundle\n",
      "Get 96% Off the Ethical Hacking A to Z Training Bundle Deal\n",
      "93% off the Become an Ethical Hacker Training Bundle\n",
      "Pay What You Want: The Ultimate White Hat Hacker 2018 Bundle Deal\n",
      "New deal: 98% off of a Cyber Security Professional Training and Certification Bundle\n",
      "Get 97% off the Microsoft MCSE Server Admin Certification Training Bundle\n",
      "Get 98% off The Project Management Professional Training Bundle\n",
      "New Deal: 97% off The Professional Ethical Hacker Bundle\n",
      "New Deal: 96% off the Ethical Hacking A to Z Bundle\n",
      "\n",
      "Titles from cluster 2\n",
      "---------------------\n",
      "eBay Breach-Related Lawsuit Dismissed\n",
      "Chipotle: Hackers Dined Out on Most Restaurants\n",
      "Leahy Introduces Data Privacy Bill\n",
      "Medical Center Fraud Cases: 2 Indicted\n",
      "Post-Breach Affair: Ashley Madison's $11.2 Million Offer\n",
      "Why So Many Data Breach Lawsuits Fail\n",
      "The Biggest Information Security Incidents of 2007\n",
      "eBay Breach: 145 Million Users Notified\n",
      "Anthem Breach: Phishing Attack Cited\n",
      "Experian Breach: Lessons Learned\n",
      "\n",
      "Titles from cluster 3\n",
      "---------------------\n",
      "Zero-Day Demoed Hours Before Official macOS High Sierra Launch\n",
      "Oracle Fixes \"Default Account\" Issue Rated 10 Out of 10 on Severity Scale\n",
      "SAML Vulnerability Lets Attackers Log in as Other Users\n",
      "Drupal Fixes Drupalgeddon2 Security Flaw That Allows Hackers to Take Over Sites\n",
      "Yet another Java flaw allows “complete” bypass of security sandbox\n",
      "Windows Warning: Zero-Day Attack\n",
      "Big IoT Botnet Starts Large-Scale Exploitation of Drupalgeddon 2 Vulnerability\n",
      "Security Bug Affects Over 300,000 Oracle POS Systems\n",
      "The Internet of Buggy Things\n",
      "Is 'Covert Redirect' Flaw a Big Deal?\n",
      "\n",
      "Titles from cluster 4\n",
      "---------------------\n",
      "UK Law Proposal to Criminalize Re-Identification of Anonymized User Data\n",
      "Roomba Maker Preparing to Sell Maps of Your Home to Advertisers\n",
      "EU to Simplify Those Pesky Cookie Warning Popups, but Not Remove Them\n",
      "Secretions and Residue on Your Phone Give Away Your Lifestyle Choices\n",
      "Continental Bans WhatsApp and Snapchat From Work Phones\n",
      "Flash Bug Allows Attackers to Spy on Users via Camera, Microphone\n",
      "Hundreds of Printers Expose Backend Panels and Password Reset Functions Online\n",
      "Rhode Island Schools Can Access Student School Laptops Without Reason or Notification\n",
      "Scientists Extract Fingerprints from Photos Taken From up to Three Meters Away\n",
      "Amazon AWS Servers Might Soon Be Held for Ransom, Similar to MongoDB\n",
      "\n"
     ]
    }
   ],
   "source": [
    "for c in range(n):\n",
    "    query = \" OR \".join(keywords[c])    \n",
    "    res = es.search(index=\"websites\", body={\"query\": {\"match\": {\"content\": query}}}, size=10)\n",
    "    print(\"Titles from cluster {}\".format(c))\n",
    "    print(\"---------------------\")\n",
    "    for i in range(10):\n",
    "        print(res['hits']['hits'][i]['_source']['title'])\n",
    "        #print(res['hits']['hits'][i]['_score'])\n",
    "    print()"
   ]
  },
  {
   "cell_type": "code",
   "execution_count": null,
   "metadata": {},
   "outputs": [],
   "source": []
  }
 ],
 "metadata": {
  "kernelspec": {
   "display_name": "Python 3",
   "language": "python",
   "name": "python3"
  },
  "language_info": {
   "codemirror_mode": {
    "name": "ipython",
    "version": 3
   },
   "file_extension": ".py",
   "mimetype": "text/x-python",
   "name": "python",
   "nbconvert_exporter": "python",
   "pygments_lexer": "ipython3",
   "version": "3.5.4"
  }
 },
 "nbformat": 4,
 "nbformat_minor": 2
}
