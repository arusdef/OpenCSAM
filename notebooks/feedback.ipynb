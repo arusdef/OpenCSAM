{
 "cells": [
  {
   "cell_type": "markdown",
   "metadata": {},
   "source": [
    "# Weighting the search results with human feedback\n",
    "\n",
    "This notebook shows how to introduce and use a new field to integrate a human feedback (like/dislike button) into the search relevance score.\n",
    "\n",
    "Links:\n",
    "* updating field values https://www.elastic.co/guide/en/elasticsearch/reference/current/_updating_documents.html\n",
    "* updating field values https://www.elastic.co/guide/en/elasticsearch/reference/current/docs-update-by-query.html\n",
    "* weighting the search result scores https://www.elastic.co/guide/en/elasticsearch/guide/current/boosting-by-popularity.html\n",
    "* sorting https://www.elastic.co/guide/en/elasticsearch/guide/current/_sorting.html"
   ]
  },
  {
   "cell_type": "code",
   "execution_count": 2,
   "metadata": {},
   "outputs": [],
   "source": [
    "import subprocess\n",
    "import json"
   ]
  },
  {
   "cell_type": "code",
   "execution_count": 17,
   "metadata": {},
   "outputs": [
    {
     "data": {
      "text/plain": [
       "'{\"took\":28,\"timed_out\":false,\"_shards\":{\"total\":5,\"successful\":5,\"skipped\":0,\"failed\":0},\"hits\":{\"total\":7291,\"max_score\":1.0,\"hits\":[{\"_index\":\"rssfeeds\",\"_type\":\"article\",\"_id\":\"4135e28fe640d3884daad8d5af9a5ede67b198aa\",\"_score\":1.0,\"_source\":{\"published\":\"2018-05-22T12:09:00\",\"title\":\"University of Greenwich fined £120,000 for breach of sensitive data\"}},{\"_index\":\"rssfeeds\",\"_type\":\"article\",\"_id\":\"709c7ae80182b6714f6b2836ca575f16d85dd8b1\",\"_score\":1.0,\"_source\":{\"published\":\"2018-05-22T12:08:00\",\"title\":\"Chilling moment female tourist is kidnapped inside Bangkok airport\"}},{\"_index\":\"rssfeeds\",\"_type\":\"article\",\"_id\":\"670515b4b944fe717faf8d85134c4baca1192bc9\",\"_score\":1.0,\"_source\":{\"published\":\"2018-05-22T12:24:00\",\"title\":\"Demand for cyber insurance rises amid data privacy rules\"}},{\"_index\":\"rssfeeds\",\"_type\":\"article\",\"_id\":\"e83e1689499fdb47ae7541a9f839ffef49404b27\",\"_score\":1.0,\"_source\":{\"published\":\"2018-05-16T10:00:00\",\"title\":\"How privacy is moving data security to the top of corporate agendas\"}},{\"_index\":\"rssfeeds\",\"_type\":\"article\",\"_id\":\"d9ed437e18dbbea1d1367c0ca61a96bbd514b294\",\"_score\":1.0,\"_source\":{\"published\":\"2018-05-22T13:05:00\",\"title\":\"AfricaHackOn 2018 : Are you ready for cyber warfare\"}},{\"_index\":\"rssfeeds\",\"_type\":\"article\",\"_id\":\"9a4578c25147683c9d1afd46ca91dd648292d9be\",\"_score\":1.0,\"_source\":{\"published\":\"2018-05-22T13:18:00\",\"title\":\"Cyber security #attack #experts issue #warning over #malware #targeting #credit #cards\"}},{\"_index\":\"rssfeeds\",\"_type\":\"article\",\"_id\":\"078e425c4793ee204fd126927f276178bf1d8210\",\"_score\":1.0,\"_source\":{\"published\":\"2018-05-22T13:11:00\",\"title\":\"Why the basics are essential in the cybercrime fight\"}},{\"_index\":\"rssfeeds\",\"_type\":\"article\",\"_id\":\"a9e1ad7ab2365ef38d9a5a47f6181e88efa273d1\",\"_score\":1.0,\"_source\":{\"published\":\"2018-05-22T13:05:00\",\"title\":\"Just Released! Version 2 of the ATT&CK™ Navigator\"}},{\"_index\":\"rssfeeds\",\"_type\":\"article\",\"_id\":\"ca1cc7e627f61de4f322ed1e5a95da578a2bad59\",\"_score\":1.0,\"_source\":{\"published\":\"2018-05-22T13:18:00\",\"title\":\"Why #Establishing #Cybersecurity #Benchmarks is a Must for #Organizations\"}},{\"_index\":\"rssfeeds\",\"_type\":\"article\",\"_id\":\"501267568e03899a831e9dbdcaa0228c4c3fe58e\",\"_score\":1.0,\"_source\":{\"published\":\"2018-05-22T13:18:00\",\"title\":\"USENIX Workshop on Cyber Security Experimentation and Test (CSET)\"}}]}}'"
      ]
     },
     "execution_count": 17,
     "metadata": {},
     "output_type": "execute_result"
    }
   ],
   "source": [
    "query = \"\"\"\n",
    "curl -s -X GET \"http://a3557701c4b3211e88f8a060fa4fdbf3-427558466.eu-west-3.elb.amazonaws.com/elasticsearch/rssfeeds/article/_search\" -H 'Content-Type: application/json' -d'\n",
    "{\n",
    "    \"_source\": [\"title\", \"published\"],\n",
    "    \"query\": {\n",
    "        \"match_all\": {}\n",
    "    }\n",
    "}\n",
    "' -u guest:teradata\n",
    "\"\"\"\n",
    "\n",
    "res = subprocess.getoutput(query)\n",
    "res"
   ]
  },
  {
   "cell_type": "code",
   "execution_count": 19,
   "metadata": {},
   "outputs": [
    {
     "data": {
      "text/plain": [
       "'{\"took\":79,\"timed_out\":false,\"_shards\":{\"total\":5,\"successful\":5,\"skipped\":0,\"failed\":0},\"hits\":{\"total\":2700,\"max_score\":1.0,\"hits\":[{\"_index\":\"rssfeeds\",\"_type\":\"article\",\"_id\":\"48e8f996340e03115b762df86ef930f4db494cb0\",\"_score\":1.0,\"_source\":{\"published\":\"2018-05-25T00:47:00\",\"title\":\"All Source Counter-IED Intelligence Analyst in Charlottesville, VA\"}},{\"_index\":\"rssfeeds\",\"_type\":\"article\",\"_id\":\"7f41081416587d7cfe992c60590d06cad6c840e2\",\"_score\":1.0,\"_source\":{\"published\":\"2018-05-25T00:47:00\",\"title\":\"Healthcare cybersecurity spending to exceed $65B over the next 5 years\"}},{\"_index\":\"rssfeeds\",\"_type\":\"article\",\"_id\":\"718de0af2ea4da5b82c6e592eb143cdd4b777164\",\"_score\":1.0,\"_source\":{\"published\":\"2018-05-25T00:47:00\",\"title\":\"C-SCoRE Program Teaches Cadets Cybersecurity Skills | Institute for Information Security & Privacy\"}},{\"_index\":\"rssfeeds\",\"_type\":\"article\",\"_id\":\"07bf6551e841a5d438b235190db6bda19d17e581\",\"_score\":1.0,\"_source\":{\"published\":\"2018-05-25T00:47:00\",\"title\":\"U.S., Britain blame Russia for global cyber attack\"}},{\"_index\":\"rssfeeds\",\"_type\":\"article\",\"_id\":\"c4a5af98ec9e3cfafed556e5130d5dccb8e97259\",\"_score\":1.0,\"_source\":{\"published\":\"2018-05-25T01:19:00\",\"title\":\"Equinix: Is GDPR overhyped?\"}},{\"_index\":\"rssfeeds\",\"_type\":\"article\",\"_id\":\"680031d6acccf3fdd471a754a36cf915a93b1e1f\",\"_score\":1.0,\"_source\":{\"published\":\"2018-05-25T02:30:00\",\"title\":\"IOC Experts on the Energy Transfer Partners Attack\"}},{\"_index\":\"rssfeeds\",\"_type\":\"article\",\"_id\":\"57a6beb327a0aff29e44b7bb62e75c11392ed78a\",\"_score\":1.0,\"_source\":{\"published\":\"2018-05-25T04:38:00\",\"title\":\"The Fourth Industrial Revolution: Its Security Implications – Analysis\"}},{\"_index\":\"rssfeeds\",\"_type\":\"article\",\"_id\":\"a2bc09df1c3790fc113050ec05e8a676d71fd7d5\",\"_score\":1.0,\"_source\":{\"published\":\"2018-05-25T05:10:00\",\"title\":\"How to: Spot and stop false positives in your PC\\'s security\"}},{\"_index\":\"rssfeeds\",\"_type\":\"article\",\"_id\":\"dea7d213ee139d7ea51a4a543028f9851e7b84de\",\"_score\":1.0,\"_source\":{\"published\":\"2018-05-25T06:08:00\",\"title\":\"How security pros see the future of cryptocurrencies and cryptomining\"}},{\"_index\":\"rssfeeds\",\"_type\":\"article\",\"_id\":\"f2293a753a5dcddaba7a3c1a060b9672beec8324\",\"_score\":1.0,\"_source\":{\"published\":\"2018-05-25T06:03:00\",\"title\":\"Breakdown of the EFAIL Email Vulnerabilities\"}}]}}'"
      ]
     },
     "execution_count": 19,
     "metadata": {},
     "output_type": "execute_result"
    }
   ],
   "source": [
    "query = \"\"\"\n",
    "curl -s -X GET \"http://a3557701c4b3211e88f8a060fa4fdbf3-427558466.eu-west-3.elb.amazonaws.com/elasticsearch/rssfeeds/article/_search\" -H 'Content-Type: application/json' -d'\n",
    "{\n",
    "    \"_source\": [\"title\", \"published\"],\n",
    "    \"query\": {\n",
    "        \"range\" : {\n",
    "            \"published\" : {\n",
    "                \"gte\" : \"now-7d/d\"\n",
    "            }\n",
    "        }\n",
    "    }\n",
    "}\n",
    "' -u guest:teradata\n",
    "\"\"\"\n",
    "\n",
    "res = subprocess.getoutput(query)\n",
    "res"
   ]
  },
  {
   "cell_type": "code",
   "execution_count": 3,
   "metadata": {},
   "outputs": [
    {
     "data": {
      "text/plain": [
       "{'error': {'index': 'rssfeeds_feedback',\n",
       "  'index_uuid': '_na_',\n",
       "  'reason': 'no such index',\n",
       "  'resource.id': 'rssfeeds_feedback',\n",
       "  'resource.type': 'index_or_alias',\n",
       "  'root_cause': [{'index': 'rssfeeds_feedback',\n",
       "    'index_uuid': '_na_',\n",
       "    'reason': 'no such index',\n",
       "    'resource.id': 'rssfeeds_feedback',\n",
       "    'resource.type': 'index_or_alias',\n",
       "    'type': 'index_not_found_exception'}],\n",
       "  'type': 'index_not_found_exception'},\n",
       " 'status': 404}"
      ]
     },
     "execution_count": 3,
     "metadata": {},
     "output_type": "execute_result"
    }
   ],
   "source": [
    "query = \"\"\"\n",
    "curl -s -X DELETE \"http://a3557701c4b3211e88f8a060fa4fdbf3-427558466.eu-west-3.elb.amazonaws.com/elasticsearch/rssfeeds_feedback\" -u guest:teradata\n",
    "\"\"\"\n",
    "\n",
    "res = subprocess.getoutput(query)\n",
    "res = json.loads(res)\n",
    "res"
   ]
  },
  {
   "cell_type": "code",
   "execution_count": 4,
   "metadata": {},
   "outputs": [],
   "source": [
    "query = \"\"\"\n",
    "curl -s -X POST \"http://a3557701c4b3211e88f8a060fa4fdbf3-427558466.eu-west-3.elb.amazonaws.com/elasticsearch/_reindex\" -H 'Content-Type: application/json' -d'\n",
    "{\n",
    "  \"source\": {\n",
    "    \"index\": \"rssfeeds\"\n",
    "  },\n",
    "  \"dest\": {\n",
    "    \"index\": \"rssfeeds_feedback\"\n",
    "  }\n",
    "}\n",
    "' -u guest:teradata\n",
    "\"\"\"\n",
    "\n",
    "res = subprocess.getoutput(query)"
   ]
  },
  {
   "cell_type": "code",
   "execution_count": 25,
   "metadata": {},
   "outputs": [
    {
     "data": {
      "text/plain": [
       "{'_shards': {'failed': 0, 'skipped': 0, 'successful': 5, 'total': 5},\n",
       " 'count': 7282}"
      ]
     },
     "execution_count": 25,
     "metadata": {},
     "output_type": "execute_result"
    }
   ],
   "source": [
    "query = \"\"\"\n",
    "curl -s -X GET \"http://a3557701c4b3211e88f8a060fa4fdbf3-427558466.eu-west-3.elb.amazonaws.com/elasticsearch/rssfeeds_feedback/_count\" -u guest:teradata\n",
    "\"\"\"\n",
    "\n",
    "res = subprocess.getoutput(query)\n",
    "res = json.loads(res)\n",
    "res"
   ]
  },
  {
   "cell_type": "code",
   "execution_count": 22,
   "metadata": {},
   "outputs": [
    {
     "data": {
      "text/plain": [
       "'{\"acknowledged\":true}'"
      ]
     },
     "execution_count": 22,
     "metadata": {},
     "output_type": "execute_result"
    }
   ],
   "source": [
    "query = \"\"\"\n",
    "curl -s -X PUT \"http://a3557701c4b3211e88f8a060fa4fdbf3-427558466.eu-west-3.elb.amazonaws.com/elasticsearch/rssfeeds_feedback/_mapping/article\" -H 'Content-Type: application/json' -d'\n",
    "{\n",
    "    \"article\" : {\n",
    "        \"properties\" : {\n",
    "            \"feedback\": {\n",
    "               \"type\": \"integer\"\n",
    "            }\n",
    "        }\n",
    "    }\n",
    "}\n",
    "' -u guest:teradata\n",
    "\"\"\"\n",
    "\n",
    "res = subprocess.getoutput(query)\n",
    "res"
   ]
  },
  {
   "cell_type": "code",
   "execution_count": 24,
   "metadata": {},
   "outputs": [
    {
     "data": {
      "text/plain": [
       "'{\"took\":1715,\"timed_out\":false,\"total\":2692,\"updated\":2692,\"deleted\":0,\"batches\":3,\"version_conflicts\":0,\"noops\":0,\"retries\":{\"bulk\":0,\"search\":0},\"throttled_millis\":0,\"requests_per_second\":-1.0,\"throttled_until_millis\":0,\"failures\":[]}'"
      ]
     },
     "execution_count": 24,
     "metadata": {},
     "output_type": "execute_result"
    }
   ],
   "source": [
    "query = \"\"\"\n",
    "curl -s -X POST \"http://a3557701c4b3211e88f8a060fa4fdbf3-427558466.eu-west-3.elb.amazonaws.com/elasticsearch/rssfeeds_feedback/_update_by_query\" -H 'Content-Type: application/json' -d'\n",
    "{\n",
    "    \"query\" : {\n",
    "        \"range\" : {\n",
    "            \"published\" : {\n",
    "                \"gte\" : \"now-7d/d\"\n",
    "            }\n",
    "        }\n",
    "    },\n",
    "    \"script\" : \"ctx._source.feedback = 1\"\n",
    "}\n",
    "' -u guest:teradata\n",
    "\"\"\"\n",
    "\n",
    "res = subprocess.getoutput(query)\n",
    "res"
   ]
  },
  {
   "cell_type": "code",
   "execution_count": 44,
   "metadata": {},
   "outputs": [
    {
     "name": "stdout",
     "output_type": "stream",
     "text": [
      "1.0 76b4bd9c72b2cd11c2dd90c4df3930584d125484 1 State-sponsored cyber attacks deserve tougher responses: ASPI report\n",
      "--------------------------------------------------------------------------------\n",
      "1.0 72bc82d51c4f85b54e88179a69f72fc02009d89c 1 Yes, Germany BND foreign intelligence service can spy on the world’s biggest internet exchange\n",
      "--------------------------------------------------------------------------------\n",
      "1.0 eb46e918212cfbe001888854528e1fafcaa8a6f2 1 Nocturnal Stealer Lets Low-Skilled Cybercrooks Harvest Sensitive Info\n",
      "--------------------------------------------------------------------------------\n",
      "1.0 c2937ebdab5d0606419399539779b15731b9f3ab 1 Leveraging GRC Technology to Avert Cyber Attacks\n",
      "--------------------------------------------------------------------------------\n",
      "1.0 a9a7fb2777652779a06fc97a04e73a7e595088ba 1 PM Modi interacts with students in Singapore\n",
      "--------------------------------------------------------------------------------\n",
      "1.0 3b357956e7c5d302d3a2a41c57a3884d8e203c3d 1 Building Blocks for a Threat Hunting Program\n",
      "--------------------------------------------------------------------------------\n",
      "1.0 2f52fa86b0e05f43b98b7b18647d959d7fa1b775 1 FBI warns of new North Korea malware attacks\n",
      "--------------------------------------------------------------------------------\n",
      "1.0 63b5f0eea879f5d35c6e915dc6ef5bda89961e77 1 Weekly podcast: Yahoo hacker sentenced, acoustic DoS attack and GDPR compliance fails\n",
      "--------------------------------------------------------------------------------\n",
      "1.0 4967469b4a076da6cf118b9062d2215c425bdaf7 1 Are Departing Employees Taking Your Data with Them?\n",
      "--------------------------------------------------------------------------------\n",
      "1.0 cfa04d834b44508b406ab294fb089424788cbe5c 2 National team competition is vital for preserving European sports model\n",
      "--------------------------------------------------------------------------------\n"
     ]
    }
   ],
   "source": [
    "query = \"\"\"\n",
    "curl -s -X GET \"http://a3557701c4b3211e88f8a060fa4fdbf3-427558466.eu-west-3.elb.amazonaws.com/elasticsearch/rssfeeds_feedback/article/_search\" -H 'Content-Type: application/json' -d'\n",
    "{\n",
    "    \"_source\": [\"title\", \"feedback\"],\n",
    "    \"query\": {\n",
    "        \"range\" : {\n",
    "            \"published\" : {\n",
    "                \"gte\" : \"now-7d/d\"\n",
    "            }\n",
    "        }\n",
    "    },\n",
    "    \"sort\": {\n",
    "        \"published\": { \"order\": \"desc\" },\n",
    "        \"_score\": { \"order\": \"desc\" }\n",
    "    }\n",
    "}\n",
    "' -u guest:teradata\n",
    "\"\"\"\n",
    "\n",
    "res = subprocess.getoutput(query)\n",
    "res = json.loads(res, strict=False)\n",
    "for hit in res['hits']['hits']:\n",
    "    print(hit['_score'], hit['_id'], hit['_source']['feedback'], hit['_source']['title'])\n",
    "    print('-'*80)"
   ]
  },
  {
   "cell_type": "code",
   "execution_count": 45,
   "metadata": {},
   "outputs": [
    {
     "data": {
      "text/plain": [
       "'{\\n  \"_index\" : \"rssfeeds_feedback\",\\n  \"_type\" : \"article\",\\n  \"_id\" : \"cfa04d834b44508b406ab294fb089424788cbe5c\",\\n  \"_version\" : 4,\\n  \"result\" : \"updated\",\\n  \"_shards\" : {\\n    \"total\" : 2,\\n    \"successful\" : 2,\\n    \"failed\" : 0\\n  },\\n  \"_seq_no\" : 1932,\\n  \"_primary_term\" : 1\\n}'"
      ]
     },
     "execution_count": 45,
     "metadata": {},
     "output_type": "execute_result"
    }
   ],
   "source": [
    "query = \"\"\"\n",
    "curl -s -X POST \"http://a3557701c4b3211e88f8a060fa4fdbf3-427558466.eu-west-3.elb.amazonaws.com/elasticsearch/rssfeeds_feedback/article/cfa04d834b44508b406ab294fb089424788cbe5c/_update?pretty\" -H 'Content-Type: application/json' -d'\n",
    "{\n",
    "  \"script\" : \"ctx._source.feedback += 1\"\n",
    "}\n",
    "' -u guest:teradata\n",
    "\"\"\"\n",
    "\n",
    "res = subprocess.getoutput(query)\n",
    "res"
   ]
  },
  {
   "cell_type": "code",
   "execution_count": 49,
   "metadata": {},
   "outputs": [
    {
     "name": "stdout",
     "output_type": "stream",
     "text": [
      "1.0 76b4bd9c72b2cd11c2dd90c4df3930584d125484 1 State-sponsored cyber attacks deserve tougher responses: ASPI report\n",
      "--------------------------------------------------------------------------------\n",
      "1.0 72bc82d51c4f85b54e88179a69f72fc02009d89c 1 Yes, Germany BND foreign intelligence service can spy on the world’s biggest internet exchange\n",
      "--------------------------------------------------------------------------------\n",
      "1.0 eb46e918212cfbe001888854528e1fafcaa8a6f2 1 Nocturnal Stealer Lets Low-Skilled Cybercrooks Harvest Sensitive Info\n",
      "--------------------------------------------------------------------------------\n",
      "1.0 c2937ebdab5d0606419399539779b15731b9f3ab 1 Leveraging GRC Technology to Avert Cyber Attacks\n",
      "--------------------------------------------------------------------------------\n",
      "1.0 a9a7fb2777652779a06fc97a04e73a7e595088ba 1 PM Modi interacts with students in Singapore\n",
      "--------------------------------------------------------------------------------\n",
      "1.0 3b357956e7c5d302d3a2a41c57a3884d8e203c3d 1 Building Blocks for a Threat Hunting Program\n",
      "--------------------------------------------------------------------------------\n",
      "1.0 2f52fa86b0e05f43b98b7b18647d959d7fa1b775 1 FBI warns of new North Korea malware attacks\n",
      "--------------------------------------------------------------------------------\n",
      "1.0 63b5f0eea879f5d35c6e915dc6ef5bda89961e77 1 Weekly podcast: Yahoo hacker sentenced, acoustic DoS attack and GDPR compliance fails\n",
      "--------------------------------------------------------------------------------\n",
      "1.0 4967469b4a076da6cf118b9062d2215c425bdaf7 1 Are Departing Employees Taking Your Data with Them?\n",
      "--------------------------------------------------------------------------------\n",
      "1.0 cfa04d834b44508b406ab294fb089424788cbe5c 3 National team competition is vital for preserving European sports model\n",
      "--------------------------------------------------------------------------------\n"
     ]
    }
   ],
   "source": [
    "query = \"\"\"\n",
    "curl -s -X GET \"http://a3557701c4b3211e88f8a060fa4fdbf3-427558466.eu-west-3.elb.amazonaws.com/elasticsearch/rssfeeds_feedback/article/_search\" -H 'Content-Type: application/json' -d'\n",
    "{\n",
    "    \"_source\": [\"title\", \"feedback\"],\n",
    "    \"query\": {\n",
    "        \"range\" : {\n",
    "            \"published\" : {\n",
    "                \"gte\" : \"now-7d/d\"\n",
    "            }\n",
    "        }\n",
    "    },\n",
    "    \"sort\": {\n",
    "        \"published\": { \"order\": \"desc\" },\n",
    "        \"_score\": { \"order\": \"desc\" }\n",
    "    }\n",
    "}\n",
    "' -u guest:teradata\n",
    "\"\"\"\n",
    "\n",
    "res = subprocess.getoutput(query)\n",
    "res = json.loads(res, strict=False)\n",
    "for hit in res['hits']['hits']:\n",
    "    print(hit['_score'], hit['_id'], hit['_source']['feedback'], hit['_source']['title'])\n",
    "    print('-'*80)"
   ]
  },
  {
   "cell_type": "code",
   "execution_count": 48,
   "metadata": {},
   "outputs": [
    {
     "name": "stdout",
     "output_type": "stream",
     "text": [
      "4.0 f2293a753a5dcddaba7a3c1a060b9672beec8324 4 Breakdown of the EFAIL Email Vulnerabilities\n",
      "--------------------------------------------------------------------------------\n",
      "3.0 cfa04d834b44508b406ab294fb089424788cbe5c 3 National team competition is vital for preserving European sports model\n",
      "--------------------------------------------------------------------------------\n",
      "1.0 48e8f996340e03115b762df86ef930f4db494cb0 1 All Source Counter-IED Intelligence Analyst in Charlottesville, VA\n",
      "--------------------------------------------------------------------------------\n",
      "1.0 7f41081416587d7cfe992c60590d06cad6c840e2 1 Healthcare cybersecurity spending to exceed $65B over the next 5 years\n",
      "--------------------------------------------------------------------------------\n",
      "1.0 718de0af2ea4da5b82c6e592eb143cdd4b777164 1 C-SCoRE Program Teaches Cadets Cybersecurity Skills | Institute for Information Security & Privacy\n",
      "--------------------------------------------------------------------------------\n",
      "1.0 07bf6551e841a5d438b235190db6bda19d17e581 1 U.S., Britain blame Russia for global cyber attack\n",
      "--------------------------------------------------------------------------------\n",
      "1.0 c4a5af98ec9e3cfafed556e5130d5dccb8e97259 1 Equinix: Is GDPR overhyped?\n",
      "--------------------------------------------------------------------------------\n",
      "1.0 680031d6acccf3fdd471a754a36cf915a93b1e1f 1 IOC Experts on the Energy Transfer Partners Attack\n",
      "--------------------------------------------------------------------------------\n",
      "1.0 57a6beb327a0aff29e44b7bb62e75c11392ed78a 1 The Fourth Industrial Revolution: Its Security Implications – Analysis\n",
      "--------------------------------------------------------------------------------\n",
      "1.0 a2bc09df1c3790fc113050ec05e8a676d71fd7d5 1 How to: Spot and stop false positives in your PC's security\n",
      "--------------------------------------------------------------------------------\n"
     ]
    }
   ],
   "source": [
    "query = \"\"\"\n",
    "curl -s -X GET \"http://a3557701c4b3211e88f8a060fa4fdbf3-427558466.eu-west-3.elb.amazonaws.com/elasticsearch/rssfeeds_feedback/article/_search\" -H 'Content-Type: application/json' -d'\n",
    "{\n",
    "    \"_source\": [\"title\", \"feedback\"],\n",
    "    \"query\": {\n",
    "        \"function_score\": {\n",
    "            \"query\": {\n",
    "                \"range\" : {\n",
    "                    \"published\" : {\n",
    "                        \"gte\" : \"now-7d/d\"\n",
    "                    }\n",
    "                }\n",
    "            },\n",
    "            \"field_value_factor\": { \n",
    "                \"field\": \"feedback\"\n",
    "            }\n",
    "        }\n",
    "    }\n",
    "    },\n",
    "    \"sort\": {\n",
    "        \"published\": { \"order\": \"desc\" },\n",
    "        \"_score\": { \"order\": \"desc\" }\n",
    "    }\n",
    "}\n",
    "' -u guest:teradata\n",
    "\"\"\"\n",
    "\n",
    "res = subprocess.getoutput(query)\n",
    "res = json.loads(res, strict=False)\n",
    "for hit in res['hits']['hits']:\n",
    "    print(hit['_score'], hit['_id'], hit['_source']['feedback'], hit['_source']['title'])\n",
    "    print('-'*80)"
   ]
  },
  {
   "cell_type": "code",
   "execution_count": null,
   "metadata": {},
   "outputs": [],
   "source": []
  }
 ],
 "metadata": {
  "kernelspec": {
   "display_name": "Python 3",
   "language": "python",
   "name": "python3"
  },
  "language_info": {
   "codemirror_mode": {
    "name": "ipython",
    "version": 3
   },
   "file_extension": ".py",
   "mimetype": "text/x-python",
   "name": "python",
   "nbconvert_exporter": "python",
   "pygments_lexer": "ipython3",
   "version": "3.5.4"
  }
 },
 "nbformat": 4,
 "nbformat_minor": 2
}
