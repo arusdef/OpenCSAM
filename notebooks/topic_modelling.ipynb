{
 "cells": [
  {
   "cell_type": "markdown",
   "metadata": {},
   "source": [
    "# Topic modelling"
   ]
  },
  {
   "cell_type": "code",
   "execution_count": 1,
   "metadata": {},
   "outputs": [
    {
     "name": "stdout",
     "output_type": "stream",
     "text": [
      "Total number of entries: 14655\n"
     ]
    },
    {
     "name": "stderr",
     "output_type": "stream",
     "text": [
      "[========================================================================] 100%\n"
     ]
    },
    {
     "name": "stdout",
     "output_type": "stream",
     "text": [
      "Turning the _source items into columns.\n"
     ]
    }
   ],
   "source": [
    "from enisa_elastic.elastic import elastic_to_df\n",
    "\n",
    "df = elastic_to_df('websites')\n",
    "#df = elastic_to_df('rssfeeds')"
   ]
  },
  {
   "cell_type": "code",
   "execution_count": 2,
   "metadata": {},
   "outputs": [
    {
     "name": "stdout",
     "output_type": "stream",
     "text": [
      "14655\n"
     ]
    },
    {
     "data": {
      "text/plain": [
       "Index(['_id', '_score', 'resource_link', 'title', 'link', 'resource_label',\n",
       "       'content', 'published'],\n",
       "      dtype='object')"
      ]
     },
     "execution_count": 2,
     "metadata": {},
     "output_type": "execute_result"
    }
   ],
   "source": [
    "print(len(df))\n",
    "df.columns"
   ]
  },
  {
   "cell_type": "code",
   "execution_count": 86,
   "metadata": {
    "scrolled": false
   },
   "outputs": [
    {
     "data": {
      "text/html": [
       "<div>\n",
       "<style scoped>\n",
       "    .dataframe tbody tr th:only-of-type {\n",
       "        vertical-align: middle;\n",
       "    }\n",
       "\n",
       "    .dataframe tbody tr th {\n",
       "        vertical-align: top;\n",
       "    }\n",
       "\n",
       "    .dataframe thead th {\n",
       "        text-align: right;\n",
       "    }\n",
       "</style>\n",
       "<table border=\"1\" class=\"dataframe\">\n",
       "  <thead>\n",
       "    <tr style=\"text-align: right;\">\n",
       "      <th></th>\n",
       "      <th>_id</th>\n",
       "      <th>_score</th>\n",
       "      <th>resource_link</th>\n",
       "      <th>title</th>\n",
       "      <th>link</th>\n",
       "      <th>resource_label</th>\n",
       "      <th>content</th>\n",
       "      <th>published</th>\n",
       "    </tr>\n",
       "  </thead>\n",
       "  <tbody>\n",
       "    <tr>\n",
       "      <th>0</th>\n",
       "      <td>61600cc7bdc83a25bc15adc74eb4902a538092a1</td>\n",
       "      <td>None</td>\n",
       "      <td>https://www.bankinfosecurity.com/latest-news</td>\n",
       "      <td>Report: US Government Preps WikiLeaks Charges</td>\n",
       "      <td>https://www.bankinfosecurity.com/blogs/report-...</td>\n",
       "      <td>bankinfosecurity</td>\n",
       "      <td>As U.S. government officials continue to ramp ...</td>\n",
       "      <td>2017-04-21T00:00:00</td>\n",
       "    </tr>\n",
       "    <tr>\n",
       "      <th>1</th>\n",
       "      <td>54f4ff6018e1858688ef91e15172ad77d633c10f</td>\n",
       "      <td>None</td>\n",
       "      <td>https://www.bankinfosecurity.com/latest-news</td>\n",
       "      <td>Cybersecurity Startup Exposed Hospital Network...</td>\n",
       "      <td>https://www.bankinfosecurity.com/cybersecurity...</td>\n",
       "      <td>bankinfosecurity</td>\n",
       "      <td>Billion-dollar cybersecurity startup Tanium ha...</td>\n",
       "      <td>2017-04-20T00:00:00</td>\n",
       "    </tr>\n",
       "    <tr>\n",
       "      <th>2</th>\n",
       "      <td>b8499fa0a8bab6ad912a58193d773154e2cd3ef9</td>\n",
       "      <td>None</td>\n",
       "      <td>https://www.bankinfosecurity.com/latest-news</td>\n",
       "      <td>A CISO's First 100 Days</td>\n",
       "      <td>https://www.bankinfosecurity.com/interviews/ci...</td>\n",
       "      <td>bankinfosecurity</td>\n",
       "      <td>For a security leader, the first three months ...</td>\n",
       "      <td>2016-09-09T00:00:00</td>\n",
       "    </tr>\n",
       "    <tr>\n",
       "      <th>3</th>\n",
       "      <td>c95a2283caf7a7ccb4622439f39a4ca32c292254</td>\n",
       "      <td>None</td>\n",
       "      <td>https://www.bankinfosecurity.com/latest-news</td>\n",
       "      <td>Financial Sector Under Increasing Cybercrime T...</td>\n",
       "      <td>https://www.bankinfosecurity.com/financial-sec...</td>\n",
       "      <td>bankinfosecurity</td>\n",
       "      <td>The financial sector is under increasing threa...</td>\n",
       "      <td>2017-11-09T00:00:00</td>\n",
       "    </tr>\n",
       "    <tr>\n",
       "      <th>4</th>\n",
       "      <td>a64c4867f697cf23d3d76a00d961d655ceb9174b</td>\n",
       "      <td>None</td>\n",
       "      <td>https://www.bankinfosecurity.com/latest-news</td>\n",
       "      <td>Exclusive: Aussie Firm Loses $6.6M to Backdoor...</td>\n",
       "      <td>https://www.bankinfosecurity.com/exclusive-aus...</td>\n",
       "      <td>bankinfosecurity</td>\n",
       "      <td>Australian police in Queensland are pursuing a...</td>\n",
       "      <td>2018-06-05T00:00:00</td>\n",
       "    </tr>\n",
       "  </tbody>\n",
       "</table>\n",
       "</div>"
      ],
      "text/plain": [
       "                                        _id _score  \\\n",
       "0  61600cc7bdc83a25bc15adc74eb4902a538092a1   None   \n",
       "1  54f4ff6018e1858688ef91e15172ad77d633c10f   None   \n",
       "2  b8499fa0a8bab6ad912a58193d773154e2cd3ef9   None   \n",
       "3  c95a2283caf7a7ccb4622439f39a4ca32c292254   None   \n",
       "4  a64c4867f697cf23d3d76a00d961d655ceb9174b   None   \n",
       "\n",
       "                                  resource_link  \\\n",
       "0  https://www.bankinfosecurity.com/latest-news   \n",
       "1  https://www.bankinfosecurity.com/latest-news   \n",
       "2  https://www.bankinfosecurity.com/latest-news   \n",
       "3  https://www.bankinfosecurity.com/latest-news   \n",
       "4  https://www.bankinfosecurity.com/latest-news   \n",
       "\n",
       "                                               title  \\\n",
       "0      Report: US Government Preps WikiLeaks Charges   \n",
       "1  Cybersecurity Startup Exposed Hospital Network...   \n",
       "2                            A CISO's First 100 Days   \n",
       "3  Financial Sector Under Increasing Cybercrime T...   \n",
       "4  Exclusive: Aussie Firm Loses $6.6M to Backdoor...   \n",
       "\n",
       "                                                link    resource_label  \\\n",
       "0  https://www.bankinfosecurity.com/blogs/report-...  bankinfosecurity   \n",
       "1  https://www.bankinfosecurity.com/cybersecurity...  bankinfosecurity   \n",
       "2  https://www.bankinfosecurity.com/interviews/ci...  bankinfosecurity   \n",
       "3  https://www.bankinfosecurity.com/financial-sec...  bankinfosecurity   \n",
       "4  https://www.bankinfosecurity.com/exclusive-aus...  bankinfosecurity   \n",
       "\n",
       "                                             content            published  \n",
       "0  As U.S. government officials continue to ramp ...  2017-04-21T00:00:00  \n",
       "1  Billion-dollar cybersecurity startup Tanium ha...  2017-04-20T00:00:00  \n",
       "2  For a security leader, the first three months ...  2016-09-09T00:00:00  \n",
       "3  The financial sector is under increasing threa...  2017-11-09T00:00:00  \n",
       "4  Australian police in Queensland are pursuing a...  2018-06-05T00:00:00  "
      ]
     },
     "execution_count": 86,
     "metadata": {},
     "output_type": "execute_result"
    }
   ],
   "source": [
    "df.head()"
   ]
  },
  {
   "cell_type": "code",
   "execution_count": 136,
   "metadata": {},
   "outputs": [
    {
     "name": "stdout",
     "output_type": "stream",
     "text": [
      "Number of documents with empty content: 21\n"
     ]
    }
   ],
   "source": [
    "#print(len(df[df['description'] == '']))\n",
    "print(\"Number of documents with empty content:\", len(df[df['content'] == '']))"
   ]
  },
  {
   "cell_type": "code",
   "execution_count": 137,
   "metadata": {},
   "outputs": [
    {
     "data": {
      "text/plain": [
       "375"
      ]
     },
     "execution_count": 137,
     "metadata": {},
     "output_type": "execute_result"
    }
   ],
   "source": [
    "df_recent = df[df[\"published\"] > \"2018-05-01\"]\n",
    "len(df_recent)"
   ]
  },
  {
   "cell_type": "code",
   "execution_count": 231,
   "metadata": {},
   "outputs": [],
   "source": [
    "X0 = df_recent[\"content\"]"
   ]
  },
  {
   "cell_type": "code",
   "execution_count": 232,
   "metadata": {},
   "outputs": [],
   "source": [
    "from nltk import word_tokenize          \n",
    "from nltk.stem.porter import PorterStemmer \n",
    "\n",
    "ps = PorterStemmer()\n",
    "\n",
    "def tokenizer(text):\n",
    "    #return [ps.stem(w).lower() for w in word_tokenize(text) if w.isalpha() and len(w)>1]\n",
    "    return [w.lower() for w in word_tokenize(text) if w.isalpha() and len(w)>1]"
   ]
  },
  {
   "cell_type": "code",
   "execution_count": 233,
   "metadata": {},
   "outputs": [
    {
     "name": "stdout",
     "output_type": "stream",
     "text": [
      "['i', 'me', 'my', 'myself', 'we', 'our', 'ours', 'ourselves', 'you', \"you're\", \"you've\", \"you'll\", \"you'd\", 'your', 'yours', 'yourself', 'yourselves', 'he', 'him', 'his', 'himself', 'she', \"she's\", 'her', 'hers', 'herself', 'it', \"it's\", 'its', 'itself', 'they', 'them', 'their', 'theirs', 'themselves', 'what', 'which', 'who', 'whom', 'this', 'that', \"that'll\", 'these', 'those', 'am', 'is', 'are', 'was', 'were', 'be', 'been', 'being', 'have', 'has', 'had', 'having', 'do', 'does', 'did', 'doing', 'a', 'an', 'the', 'and', 'but', 'if', 'or', 'because', 'as', 'until', 'while', 'of', 'at', 'by', 'for', 'with', 'about', 'against', 'between', 'into', 'through', 'during', 'before', 'after', 'above', 'below', 'to', 'from', 'up', 'down', 'in', 'out', 'on', 'off', 'over', 'under', 'again', 'further', 'then', 'once', 'here', 'there', 'when', 'where', 'why', 'how', 'all', 'any', 'both', 'each', 'few', 'more', 'most', 'other', 'some', 'such', 'no', 'nor', 'not', 'only', 'own', 'same', 'so', 'than', 'too', 'very', 's', 't', 'can', 'will', 'just', 'don', \"don't\", 'should', \"should've\", 'now', 'd', 'll', 'm', 'o', 're', 've', 'y', 'ain', 'aren', \"aren't\", 'couldn', \"couldn't\", 'didn', \"didn't\", 'doesn', \"doesn't\", 'hadn', \"hadn't\", 'hasn', \"hasn't\", 'haven', \"haven't\", 'isn', \"isn't\", 'ma', 'mightn', \"mightn't\", 'mustn', \"mustn't\", 'needn', \"needn't\", 'shan', \"shan't\", 'shouldn', \"shouldn't\", 'wasn', \"wasn't\", 'weren', \"weren't\", 'won', \"won't\", 'wouldn', \"wouldn't\"]\n"
     ]
    }
   ],
   "source": [
    "from nltk.corpus import stopwords\n",
    "\n",
    "# Show the English stop words.\n",
    "print(stopwords.words('english'))"
   ]
  },
  {
   "cell_type": "code",
   "execution_count": 234,
   "metadata": {},
   "outputs": [],
   "source": [
    "# Number of clusters\n",
    "n = 5\n",
    "\n",
    "# Number of features, ordered by term frequency\n",
    "m = 5"
   ]
  },
  {
   "cell_type": "code",
   "execution_count": 235,
   "metadata": {},
   "outputs": [],
   "source": [
    "from sklearn.feature_extraction.text import TfidfVectorizer\n",
    "\n",
    "tv_max = TfidfVectorizer(lowercase=True, stop_words='english',\n",
    "                         tokenizer=tokenizer, max_df=0.1, min_df=0.001, max_features=100)"
   ]
  },
  {
   "cell_type": "code",
   "execution_count": 236,
   "metadata": {},
   "outputs": [
    {
     "name": "stdout",
     "output_type": "stream",
     "text": [
      "done in 1.903s.\n",
      "Shape of the X matrix: (375, 100)\n"
     ]
    }
   ],
   "source": [
    "from time import time\n",
    "\n",
    "t0 = time()\n",
    "X = tv_max.fit_transform(X0)\n",
    "print(\"done in %0.3fs.\" % (time() - t0))\n",
    "print(\"Shape of the X matrix:\", X.shape)"
   ]
  },
  {
   "cell_type": "code",
   "execution_count": 237,
   "metadata": {},
   "outputs": [
    {
     "data": {
      "text/plain": [
       "[('bank', 0.043243036429970474),\n",
       " ('gdpr', 0.042349518720288075),\n",
       " ('series', 0.038781330326429275),\n",
       " ('identity', 0.038627711398662092),\n",
       " ('facebook', 0.033719659609740681),\n",
       " ('chrome', 0.033164041496767369),\n",
       " ('github', 0.03262552673814588),\n",
       " ('intel', 0.030681121504640505),\n",
       " ('routers', 0.029581158774277128),\n",
       " ('police', 0.028375384188546151)]"
      ]
     },
     "execution_count": 237,
     "metadata": {},
     "output_type": "execute_result"
    }
   ],
   "source": [
    "import numpy as np\n",
    "\n",
    "freq_pairs  = list(zip(tv_max.get_feature_names(), np.asarray(X.mean(axis=0)).ravel()))\n",
    "sorted(freq_pairs, key = lambda x: x[1], reverse=True)[:10]"
   ]
  },
  {
   "cell_type": "code",
   "execution_count": 238,
   "metadata": {},
   "outputs": [
    {
     "name": "stdout",
     "output_type": "stream",
     "text": [
      "done in 0.241s.\n"
     ]
    }
   ],
   "source": [
    "from sklearn.cluster import KMeans\n",
    "\n",
    "km = KMeans(n_clusters=n)\n",
    "t0 = time()\n",
    "km.fit(X)\n",
    "print(\"done in %0.3fs.\" % (time() - t0))"
   ]
  },
  {
   "cell_type": "code",
   "execution_count": 239,
   "metadata": {
    "scrolled": false
   },
   "outputs": [
    {
     "name": "stdout",
     "output_type": "stream",
     "text": [
      "Cluster center coordinates:\n",
      "---------------------------\n",
      "[('series', 0.07399700364877751),\n",
      " ('intel', 0.071462239529442168),\n",
      " ('chrome', 0.069391702639799518),\n",
      " ('insider', 0.059520266067996014),\n",
      " ('amazon', 0.051447895561364136)]\n",
      "[('routers', 0.083405522859803932),\n",
      " ('facebook', 0.080477206191586714),\n",
      " ('github', 0.077160271833344132),\n",
      " ('iot', 0.065875015888866267),\n",
      " ('fbi', 0.064491913629193126)]\n",
      "[('gdpr', 0.66289112538029804),\n",
      " ('eu', 0.30986173099664277),\n",
      " ('identity', 0.079397137631794137),\n",
      " ('bank', 0.07873082153654086),\n",
      " ('healthcare', 0.071125525774508161)]\n",
      "[('stackcommerce', 0.70958667025814337),\n",
      " ('deal', 0.53325011716980764),\n",
      " ('bundle', 0.35823852971700287),\n",
      " ('policy', 0.093469746167160986),\n",
      " ('credit', 0.07649576297165385)]\n",
      "[('bank', 0.29790858593269315),\n",
      " ('payments', 0.20406851535101844),\n",
      " ('payment', 0.15559762606823749),\n",
      " ('card', 0.13915358641807854),\n",
      " ('banks', 0.1156158635443021)]\n"
     ]
    }
   ],
   "source": [
    "import pprint\n",
    "\n",
    "pp = pprint.PrettyPrinter()\n",
    "\n",
    "print(\"Cluster center coordinates:\")\n",
    "print(\"---------------------------\")\n",
    "for c in km.cluster_centers_:\n",
    "    freq_pairs = list(zip(tv_max.get_feature_names(), c))\n",
    "    pp.pprint(sorted(freq_pairs, key = lambda x: x[1], reverse=True)[:m])"
   ]
  },
  {
   "cell_type": "code",
   "execution_count": 240,
   "metadata": {
    "scrolled": false
   },
   "outputs": [],
   "source": [
    "from sklearn.feature_extraction.text import TfidfVectorizer\n",
    "\n",
    "tv = TfidfVectorizer(lowercase=True, stop_words='english',\n",
    "                     tokenizer=tokenizer, max_df=0.1, min_df=0.001)"
   ]
  },
  {
   "cell_type": "code",
   "execution_count": 241,
   "metadata": {},
   "outputs": [
    {
     "name": "stdout",
     "output_type": "stream",
     "text": [
      "done in 1.907s.\n",
      "Shape of the X matrix: (375, 10301)\n"
     ]
    }
   ],
   "source": [
    "t0 = time()\n",
    "X = tv.fit_transform(X0)\n",
    "print(\"done in %0.3fs.\" % (time() - t0))\n",
    "print(\"Shape of the X matrix:\", X.shape)"
   ]
  },
  {
   "cell_type": "code",
   "execution_count": 242,
   "metadata": {},
   "outputs": [
    {
     "data": {
      "image/png": "[encoded data removed]",
      "text/plain": [
       "<matplotlib.figure.Figure at 0x10ecbd2b0>"
      ]
     },
     "metadata": {},
     "output_type": "display_data"
    }
   ],
   "source": [
    "%matplotlib inline\n",
    "\n",
    "import matplotlib.pyplot as plt\n",
    "\n",
    "fig = plt.figure()\n",
    "ax = fig.add_subplot(111)\n",
    "ax.hist(np.asarray(X.mean(axis=0)).flatten(), bins=np.arange(0, 0.1, 0.1/50))\n",
    "plt.yscale('log', nonposy='clip')\n",
    "plt.show()"
   ]
  },
  {
   "cell_type": "code",
   "execution_count": 243,
   "metadata": {},
   "outputs": [
    {
     "name": "stdout",
     "output_type": "stream",
     "text": [
      "done in 2.551s.\n"
     ]
    }
   ],
   "source": [
    "t0 = time()\n",
    "km.fit(X)\n",
    "print(\"done in %0.3fs.\" % (time() - t0))"
   ]
  },
  {
   "cell_type": "code",
   "execution_count": 244,
   "metadata": {
    "scrolled": false
   },
   "outputs": [
    {
     "name": "stdout",
     "output_type": "stream",
     "text": [
      "Cluster center coordinates:\n",
      "---------------------------\n",
      "[('chrome', 0.13222217888360979),\n",
      " ('firefox', 0.090105832367066971),\n",
      " ('intel', 0.077489697315631559),\n",
      " ('spectre', 0.056352983762268195),\n",
      " ('mozilla', 0.043494644487241316)]\n",
      "[('stackcommerce', 0.47318435908903506),\n",
      " ('deal', 0.36135888185385717),\n",
      " ('bundle', 0.25265836241766337),\n",
      " ('courses', 0.15185251295586366),\n",
      " ('training', 0.11521779558776056)]\n",
      "[('facebook', 0.023405115856072661),\n",
      " ('gdpr', 0.018190131841339201),\n",
      " ('routers', 0.017909186426920225),\n",
      " ('github', 0.0154456382575956),\n",
      " ('apple', 0.014424549762064335)]\n",
      "[('series', 0.11022142513535325),\n",
      " ('watch', 0.080419539231276149),\n",
      " ('discuss', 0.079422125585749237),\n",
      " ('startup', 0.077418634430536051),\n",
      " ('startups', 0.06511636027356274)]\n",
      "[('bank', 0.088449096428089888),\n",
      " ('haran', 0.066991877518901691),\n",
      " ('identity', 0.053107965227105508),\n",
      " ('conferences', 0.048641781871597026),\n",
      " ('events', 0.044201340417305127)]\n"
     ]
    }
   ],
   "source": [
    "print(\"Cluster center coordinates:\")\n",
    "print(\"---------------------------\")\n",
    "for c in km.cluster_centers_:\n",
    "    freq_pairs = list(zip(tv.get_feature_names(), c))\n",
    "    pp.pprint(sorted(freq_pairs, key = lambda x: x[1], reverse=True)[:m])"
   ]
  },
  {
   "cell_type": "code",
   "execution_count": 245,
   "metadata": {},
   "outputs": [],
   "source": [
    "def print_top_words(model, feature_names, n_top_words):\n",
    "    keywords = []\n",
    "    for topic_idx, topic in enumerate(model.components_):\n",
    "        s = \"Topic #%d: \" % topic_idx\n",
    "        s += \", \".join([feature_names[i]\n",
    "                        for i in topic.argsort()[:-n_top_words - 1:-1]])\n",
    "        print(s)\n",
    "        keywords.append([feature_names[i]\n",
    "                         for i in topic.argsort()[:-n_top_words - 1:-1]])\n",
    "    return keywords"
   ]
  },
  {
   "cell_type": "code",
   "execution_count": 246,
   "metadata": {},
   "outputs": [],
   "source": [
    "from sklearn.feature_extraction.text import CountVectorizer\n",
    "\n",
    "cv = CountVectorizer(lowercase=True, stop_words='english',\n",
    "                     tokenizer=tokenizer, max_df=0.1, min_df=0.001)"
   ]
  },
  {
   "cell_type": "code",
   "execution_count": 247,
   "metadata": {},
   "outputs": [
    {
     "name": "stdout",
     "output_type": "stream",
     "text": [
      "done in 1.998s.\n",
      "Shape of the X matrix: (375, 10301)\n"
     ]
    }
   ],
   "source": [
    "t0 = time()\n",
    "X = cv.fit_transform(X0)\n",
    "print(\"done in %0.3fs.\" % (time() - t0))\n",
    "print(\"Shape of the X matrix:\", X.shape)"
   ]
  },
  {
   "cell_type": "code",
   "execution_count": 248,
   "metadata": {},
   "outputs": [
    {
     "name": "stdout",
     "output_type": "stream",
     "text": [
      "done in 1.236s.\n"
     ]
    }
   ],
   "source": [
    "from sklearn.decomposition import LatentDirichletAllocation\n",
    "\n",
    "lda = LatentDirichletAllocation(n_components=n, max_iter=5,\n",
    "                                learning_method='online',\n",
    "                                learning_offset=50.,\n",
    "                                random_state=0)\n",
    "t0 = time()\n",
    "lda.fit(X)\n",
    "print(\"done in %0.3fs.\" % (time() - t0))"
   ]
  },
  {
   "cell_type": "code",
   "execution_count": 249,
   "metadata": {},
   "outputs": [
    {
     "name": "stdout",
     "output_type": "stream",
     "text": [
      "Topics in LDA model:\n",
      "--------------------\n",
      "Topic #0: gdpr, eu, schulte, ghostery, regulation\n",
      "Topic #1: intel, variant, github, ransom, spectre\n",
      "Topic #2: facebook, bank, banks, zuckerberg, gdpr\n",
      "Topic #3: summit, haran, conferences, edition, clipboard\n",
      "Topic #4: chrome, routers, firefox, amazon, apple\n"
     ]
    }
   ],
   "source": [
    "print(\"Topics in LDA model:\")\n",
    "print(\"--------------------\")\n",
    "feature_names = cv.get_feature_names()\n",
    "keywords = print_top_words(lda, feature_names, m)"
   ]
  },
  {
   "cell_type": "code",
   "execution_count": 250,
   "metadata": {},
   "outputs": [],
   "source": [
    "from enisa_elastic.elastic import es"
   ]
  },
  {
   "cell_type": "code",
   "execution_count": 251,
   "metadata": {},
   "outputs": [
    {
     "name": "stdout",
     "output_type": "stream",
     "text": [
      "Titles from cluster 0\n",
      "---------------------\n",
      "New Service Blocks EU Users So Companies Can Save Thousands on GDPR Compliance\n",
      "Ghostery Tries to Comply With GDPR, but Ends Up Violating GDPR in the Process\n",
      "Microsoft Will Extend GDPR Privacy Protections to All Users, Not Just Europeans\n",
      "EU to Simplify Those Pesky Cookie Warning Popups, but Not Remove Them\n",
      "UK Law Proposal to Criminalize Re-Identification of Anonymized User Data\n",
      "Europe's Strong GDPR Privacy Rules Go Into Full Effect\n",
      "Data Privacy After Brexit: Keep Calm and GDPR On\n",
      "GDPR Enforcement Deadline: If You Blew It, What's Next?\n",
      "The Impact of GDPR Even If You Are Not In The EU\n",
      "The Road to GDPR Compliance: 12 Steps to Take Now\n",
      "\n",
      "Titles from cluster 1\n",
      "---------------------\n",
      "Google and Microsoft Reveal New Spectre Attack\n",
      "New Spectre Attack Recovers Data From a CPU's Protected SMM Mode\n",
      "Microsoft Patch Nukes Bad Intel Firmware Fix\n",
      "Microsoft Issues Windows Out-of-Band Update That Disables Spectre Mitigations\n",
      "Spectre and Meltdown Flaws: Two More Variants Discovered\n",
      "HP Reissuing BIOS Updates After Buggy Intel Meltdown and Spectre Updates\n",
      "Post-Meltdown Intel Tries to Save Face with $250,000 Bug Bounty Program\n",
      "Intel: Stop Installing Patches Due to Reboot Problems\n",
      "User-Made Patch Lets Owners of Next-Gen CPUs Install Updates on Windows 7 & 8.1\n",
      "Intel Announces CPU Hardware Protections to Prevent Future Spectre-Like Flaws\n",
      "\n",
      "Titles from cluster 2\n",
      "---------------------\n",
      "Mark Zuckerberg's European Appearance: Thumbs Down\n",
      "Facebook's Zuckerberg Pledges Worldwide GDPR Compliance\n",
      "Facebook Announces \"Clear History\" Tool\n",
      "Facebook's Zuckerberg: GDPR Won't Apply Worldwide\n",
      "Facebook: Day of Reckoning, or Back to Business as Usual?\n",
      "Yes, Mark Zuckerberg, You've Really Messed Up Another One\n",
      "Facebook Announces Dating Feature\n",
      "Would You Hire Mark Zuckerberg as Privacy Officer?\n",
      "Facebook, FTC Settle over Privacy Deceptions\n",
      "Facebook Keeps Losing the Privacy Advocates Who Can Save It\n",
      "\n",
      "Titles from cluster 3\n",
      "---------------------\n",
      "Spotting the Unknown Threat: Exploring Outlier Detection\n",
      "Information Sharing Essential to Breaking Down Silos\n",
      "Making the Most of Big Data\n",
      "Who is Responsible for ERP Security?\n",
      "Stronger Email Authentication to Fight Impersonation Attacks\n",
      "Plugging Security Into Strategic Customer Initiatives\n",
      "The Evolution of Identity as a New Perimeter\n",
      "The Future of Password Management\n",
      "GDPR Compliance: Addressing Challenges\n",
      "The Need for Open Standards\n",
      "\n",
      "Titles from cluster 4\n",
      "---------------------\n",
      "Firefox 59 Released —Now Also Available for Amazon Fire TV\n",
      "Microsoft Has Effectively Banned Third-Party Browsers From the Windows Store\n",
      "For second time in a month, Apple blacklists Java Web plugin\n",
      "Roomba Maker Preparing to Sell Maps of Your Home to Advertisers\n",
      "Mozilla Launches the First Open-Source Voice Recognition Engine\n",
      "Chrome, Firefox, and Opera Vulnerable to Undetectable Phishing Attack\n",
      "Opera Presto Source Code Leaks Online\n",
      "List of Meltdown and Spectre Vulnerability Advisories, Patches, & Updates\n",
      "Google Experiment Tests Top 5 Browsers, Finds Safari Riddled With Security Bugs\n",
      "Browser Autofill Profiles Can Be Abused for Phishing Attacks\n",
      "\n"
     ]
    }
   ],
   "source": [
    "for c in range(n):\n",
    "    query = \" OR \".join(keywords[c])    \n",
    "    res = es.search(index=\"websites\", body={\"query\": {\"match\": {\"content\": query}}}, size=10)\n",
    "    print(\"Titles from cluster {}\".format(c))\n",
    "    print(\"---------------------\")\n",
    "    for i in range(10):\n",
    "        print(res['hits']['hits'][i]['_source']['title'])\n",
    "        #print(res['hits']['hits'][i]['_score'])\n",
    "    print()"
   ]
  },
  {
   "cell_type": "code",
   "execution_count": 252,
   "metadata": {},
   "outputs": [
    {
     "name": "stdout",
     "output_type": "stream",
     "text": [
      "done in 2.184s.\n",
      "Shape of the X matrix: (375, 10301)\n"
     ]
    }
   ],
   "source": [
    "t0 = time()\n",
    "X = tv.fit_transform(X0)\n",
    "print(\"done in %0.3fs.\" % (time() - t0))\n",
    "print(\"Shape of the X matrix:\", X.shape)"
   ]
  },
  {
   "cell_type": "code",
   "execution_count": 253,
   "metadata": {},
   "outputs": [
    {
     "name": "stdout",
     "output_type": "stream",
     "text": [
      "done in 0.818s.\n"
     ]
    }
   ],
   "source": [
    "lda = LatentDirichletAllocation(n_components=n, max_iter=5,\n",
    "                                learning_method='online',\n",
    "                                learning_offset=50.,\n",
    "                                random_state=0)\n",
    "t0 = time()\n",
    "lda.fit(X)\n",
    "print(\"done in %0.3fs.\" % (time() - t0))"
   ]
  },
  {
   "cell_type": "code",
   "execution_count": 254,
   "metadata": {},
   "outputs": [
    {
     "name": "stdout",
     "output_type": "stream",
     "text": [
      "Topics in LDA model:\n",
      "--------------------\n",
      "Topic #0: gdpr, eu, apple, variant, controller\n",
      "Topic #1: intel, github, spectre, series, apple\n",
      "Topic #2: facebook, firefox, mozilla, haran, chrome\n",
      "Topic #3: insider, clipboard, bank, payments, kaspersky\n",
      "Topic #4: stackcommerce, deal, chrome, bundle, routers\n"
     ]
    }
   ],
   "source": [
    "print(\"Topics in LDA model:\")\n",
    "print(\"--------------------\")\n",
    "feature_names = tv.get_feature_names()\n",
    "keywords = print_top_words(lda, feature_names, m)"
   ]
  },
  {
   "cell_type": "code",
   "execution_count": 255,
   "metadata": {},
   "outputs": [
    {
     "name": "stdout",
     "output_type": "stream",
     "text": [
      "Titles from cluster 0\n",
      "---------------------\n",
      "Apple Is Cracking Down on Apps That Share Geolocation Data With Third Parties\n",
      "Leaked Image Shows Microsoft's New Xbox Accessibility Controller\n",
      "New Service Blocks EU Users So Companies Can Save Thousands on GDPR Compliance\n",
      "EU Prepares \"Right to Repair\" Legislation to Fight Short Product Lifespans\n",
      "Data Privacy After Brexit: Keep Calm and GDPR On\n",
      "Europe's Strong GDPR Privacy Rules Go Into Full Effect\n",
      "GDPR Enforcement Deadline: If You Blew It, What's Next?\n",
      "EU GDPR: The Why and How for Financial Services\n",
      "GDPR a Litmus Test for Cross-Border Privacy Attitudes\n",
      "The Impact of GDPR Even If You Are Not In The EU\n",
      "\n",
      "Titles from cluster 1\n",
      "---------------------\n",
      "Apple: All Mac Systems and iOS Devices Are Affected by Meltdown & Spectre Flaws\n",
      "User-Made Patch Lets Owners of Next-Gen CPUs Install Updates on Windows 7 & 8.1\n",
      "Apple Releases Security Updates for Spectre CPU Flaw\n",
      "Intel Reveals Some CPU Models Will Never Receive Microcode Updates\n",
      "SgxSpectre Attack Can Extract Data from Intel SGX Enclaves\n",
      "Intel Broadwell and Haswell CPUs Experiencing Reboots After Firmware Updates\n",
      "Intel Promises Firmware Updates for Most Modern CPUs by the End of Next Week\n",
      "Microsoft Patch Nukes Bad Intel Firmware Fix\n",
      "Intel SPI Flash Flaw Lets Attackers Alter or Delete BIOS/UEFI Firmware\n",
      "Intel Confirms Fresh Spectre, Meltdown Patch Problems\n",
      "\n",
      "Titles from cluster 2\n",
      "---------------------\n",
      "Firefox Improves CSRF Protection With Support For Same-Site Cookies\n",
      "Google, Microsoft, and Mozilla Put Their Backing Behind New WebAuthn API\n",
      "Firefox 54 Released With Improved Multi-Process Support\n",
      "Opera Browser Gets a New UI\n",
      "Chrome and Firefox Headless Modes May Spur New Adware & Clickfraud Tactics\n",
      "Mozilla Fixes Severe Flaw in Firefox UI That Leads to Remote Code Execution\n",
      "Microsoft Edge Beats Chrome by Over Three Hours in New Battery Usage Test\n",
      "Google and Mozilla Remove Extension That Was Caught Selling User Data\n",
      "Firefox Will Block Navigational Data URIs as Part of an Anti-Phishing Feature\n",
      "Firefox Follows Chrome and Blocks the Loading of Most FTP Resources\n",
      "\n",
      "Titles from cluster 3\n",
      "---------------------\n",
      "Microsoft Introduces a Redesigned Windows Clipboard Experience\n",
      "Windows 10 Insider Preview Build 17666 Is Here With Lots of Goodies\n",
      "Evrial Trojan Switches Bitcoin Addresses Copied to Windows Clipboard\n",
      "Microsoft's Cloud Clipboard Feature Spotted in Windows 10 Redstone 5 Build\n",
      "CryptoShuffler Stole $150,000 by Replacing Bitcoin Wallet IDs in PC Clipboards\n",
      "Windows Insider Build 17661 Introduces a Modern Screenshot Feature\n",
      "How 'Slingshot' Router Malware Lurked for Six Years\n",
      "ComboJack Trojan Replaces Cryptocurrency Addresses Copied to Windows Clipboard\n",
      "Bangladesh Bank Heist: Lessons Learned\n",
      "PassFreely Attack Bypasses Oracle Database Authentication\n",
      "\n",
      "Titles from cluster 4\n",
      "---------------------\n",
      "New Deal: 93% off a Cisco Certified Network Associate (CCNA) & Professional (CCNP) Certification Bundle\n",
      "Get 36% off a Sid Meier's Civilization VI + Rise & Fall Bundle\n",
      "Get 98% off the 2018 CompTIA Certification Training Bundle: Lifetime Access\n",
      "Get 98% off The Complete Microsoft 365 Security Training Bundle Deal\n",
      "Get 96% off a MCSE Data Platform Certification Exam Prep Course\n",
      "New Deal: 86% off the The Complete DevOps & Deployment Technologies Bundle\n",
      "Get 96% off The Computer Hacker Professional Certification Training Bundle\n",
      "Price Drop! Ultimate Cisco Cert Bundle: Lifetime Access Now $49 (Was $59)\n",
      "Get 96% off the The Essential Cloud Computing Lifetime Bundle\n",
      "Get 92% off the DevOps with Cloud Computing Bundle Deal\n",
      "\n"
     ]
    }
   ],
   "source": [
    "for c in range(n):\n",
    "    query = \" OR \".join(keywords[c])    \n",
    "    res = es.search(index=\"websites\", body={\"query\": {\"match\": {\"content\": query}}}, size=10)\n",
    "    print(\"Titles from cluster {}\".format(c))\n",
    "    print(\"---------------------\")\n",
    "    for i in range(10):\n",
    "        print(res['hits']['hits'][i]['_source']['title'])\n",
    "        #print(res['hits']['hits'][i]['_score'])\n",
    "    print()"
   ]
  },
  {
   "cell_type": "code",
   "execution_count": 256,
   "metadata": {},
   "outputs": [
    {
     "name": "stdout",
     "output_type": "stream",
     "text": [
      "done in 0.853s.\n"
     ]
    }
   ],
   "source": [
    "from sklearn.decomposition import NMF\n",
    "\n",
    "nmf = NMF(n_components=n, random_state=1,\n",
    "          beta_loss='kullback-leibler', solver='mu', max_iter=1000, alpha=.1,\n",
    "          l1_ratio=.5)\n",
    "t0 = time()\n",
    "nmf.fit(X)\n",
    "print(\"done in %0.3fs.\" % (time() - t0))"
   ]
  },
  {
   "cell_type": "code",
   "execution_count": 257,
   "metadata": {},
   "outputs": [
    {
     "name": "stdout",
     "output_type": "stream",
     "text": [
      "Topics in NMF model (generalized Kullback-Leibler divergence):\n",
      "--------------------------------------------------------------\n",
      "Topic #0: required, reason, deal, sees, policy\n",
      "Topic #1: issued, small, sure, routers, longer\n",
      "Topic #2: summit, watch, topics, stint, value\n",
      "Topic #3: regulation, audio, gdpr, eu, recognition\n",
      "Topic #4: shown, chrome, macos, showing, toshiba\n"
     ]
    }
   ],
   "source": [
    "print(\"Topics in NMF model (generalized Kullback-Leibler divergence):\")\n",
    "print(\"--------------------------------------------------------------\")\n",
    "feature_names = tv.get_feature_names()\n",
    "keywords = print_top_words(nmf, feature_names, m)"
   ]
  },
  {
   "cell_type": "code",
   "execution_count": 258,
   "metadata": {},
   "outputs": [
    {
     "name": "stdout",
     "output_type": "stream",
     "text": [
      "Titles from cluster 0\n",
      "---------------------\n",
      "New Deal: 96% off a Ethical Hacking A to Z Course Bundle\n",
      "New Offer: 98% off the Ultimate CompTIA+ Certification Bundle\n",
      "Today's Deal: 94% off a Reactive JavaScript Course & eBook Bundle\n",
      "Get 92% off a Microsoft Azure Mastery Bundle Deal\n",
      "New Deal: 97% off the CompTIA Core Certification Bundle\n",
      "New Deal: 94% off the Full Stack JavaScript Bundle\n",
      "New Deal: 95% off the The Complete C Programming Bonus Bundle\n",
      "Today's Deal: 96% off a Xamarin Cross Platform Development Bundle\n",
      "New Deal: 91% off the Zero to Hero Cyber Security Hacker Bundle\n",
      "Today's Deal: 98% off The Ultimate DevOps and Cloud Computing Bundle\n",
      "\n",
      "Titles from cluster 1\n",
      "---------------------\n",
      "FBI Seizes Domain Controlling 500,000 Compromised Routers\n",
      "Bizarre attack infects Linksys routers with self-replicating malware\n",
      "12 million home and business routers vulnerable to critical hijacking hack\n",
      "Hackers hijack 300,000-plus wireless routers, make malicious changes\n",
      "US, UK Accuse Russia of Hacking Home Routers and ISPs to Conduct MitM Attacks\n",
      "The Internet of Buggy Things\n",
      "Stanford CU On Board With Strong Authentication\n",
      "FBI Issues Warning and Recommendations on Internet-Connected Toys\n",
      "Report: Flaw Affects 12 Million Routers\n",
      "IoT Botnet Plague: Coming Soon to an ISP Near You\n",
      "\n",
      "Titles from cluster 2\n",
      "---------------------\n",
      "Spotting the Unknown Threat: Exploring Outlier Detection\n",
      "Information Sharing Essential to Breaking Down Silos\n",
      "Stronger Email Authentication to Fight Impersonation Attacks\n",
      "A CISO's Role at a Security Company\n",
      "The Evolution of Identity as a New Perimeter\n",
      "The Need for Open Standards\n",
      "Streamlining Detection With Deception Technology\n",
      "Making the Most of Big Data\n",
      "Vignettes from RSA Conference, Day One\n",
      "Who is Responsible for ERP Security?\n",
      "\n",
      "Titles from cluster 3\n",
      "---------------------\n",
      "GDPR Enforcement Deadline: If You Blew It, What's Next?\n",
      "EU to Simplify Those Pesky Cookie Warning Popups, but Not Remove Them\n",
      "New Service Blocks EU Users So Companies Can Save Thousands on GDPR Compliance\n",
      "Mandatory Breach Notifications: Europe's Countdown Begins\n",
      "GDPR: The Looming Impact on US Banks\n",
      "Europe's Strong GDPR Privacy Rules Go Into Full Effect\n",
      "UK Law Proposal to Criminalize Re-Identification of Anonymized User Data\n",
      "Data Privacy After Brexit: Keep Calm and GDPR On\n",
      "GDPR: Is Australia Ready?\n",
      "The Impact of GDPR Even If You Are Not In The EU\n",
      "\n",
      "Titles from cluster 4\n",
      "---------------------\n",
      "Opera 52 Released With Faster Ad Blocking and New Tab Features\n",
      "Safe Browsing on Mac Will Warn Users of Apps That Modify Chrome Settings\n",
      "Google Chrome Has a Built-In Password Generator. Here's how to use it!\n",
      "Chrome Users Reporting Freezes & Timeouts After Windows 10 April Update\n",
      "Opera 44 Released with Support for Apple's Touch Bar\n",
      "HoeflerText SocEng Attack Now Targeting Firefox with a Mozilla Font Pack\n",
      "Google Will Quietly Auto-Migrate Some Users to 64-Bit Chrome\n",
      "Firefox 23 lands with a new logo and mixed content blocking\n",
      "Microsoft Pesters Users with Ads Again, This Time for Edge\n",
      "Google Drops its First Click Free Policy. Paywall Publishers Rejoice.\n",
      "\n"
     ]
    }
   ],
   "source": [
    "for c in range(n):\n",
    "    query = \" OR \".join(keywords[c])    \n",
    "    res = es.search(index=\"websites\", body={\"query\": {\"match\": {\"content\": query}}}, size=10)\n",
    "    print(\"Titles from cluster {}\".format(c))\n",
    "    print(\"---------------------\")\n",
    "    for i in range(10):\n",
    "        print(res['hits']['hits'][i]['_source']['title'])\n",
    "        #print(res['hits']['hits'][i]['_score'])\n",
    "    print()"
   ]
  },
  {
   "cell_type": "code",
   "execution_count": null,
   "metadata": {},
   "outputs": [],
   "source": []
  }
 ],
 "metadata": {
  "kernelspec": {
   "display_name": "Python 3",
   "language": "python",
   "name": "python3"
  },
  "language_info": {
   "codemirror_mode": {
    "name": "ipython",
    "version": 3
   },
   "file_extension": ".py",
   "mimetype": "text/x-python",
   "name": "python",
   "nbconvert_exporter": "python",
   "pygments_lexer": "ipython3",
   "version": "3.5.4"
  }
 },
 "nbformat": 4,
 "nbformat_minor": 2
}
