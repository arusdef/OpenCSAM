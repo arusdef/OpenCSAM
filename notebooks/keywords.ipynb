{
 "cells": [
  {
   "cell_type": "markdown",
   "metadata": {},
   "source": [
    "# Keyword extraction (supervised model)"
   ]
  },
  {
   "cell_type": "code",
   "execution_count": 1,
   "metadata": {},
   "outputs": [],
   "source": [
    "# These are the keywords extracted from the metadata provided by the Tika parser.\n",
    "# The list is certainly incomplete (check against https://www.enisa.europa.eu/publications)\n",
    "# Some of the keywords do not make sense...\n",
    "KEYWORDS =\\\n",
    "[['Article 13a'],\n",
    " ['Big Data'],\n",
    " ['Business Continuity'],\n",
    " ['Charalampos Koutsouris'],\n",
    " ['DRAFT'],\n",
    " ['Data Protection'],\n",
    " ['ENISA', 'European Network and Information Security Agency'],\n",
    " ['GDPR'],\n",
    " ['IT Continuity'],\n",
    " ['IT Service Continuity'],\n",
    " ['Industrial Control Systems'],\n",
    " ['Louis Marinos'],\n",
    " ['Micro-Enterprises'],\n",
    " ['Obrela Security Industries'],\n",
    " ['Personal Data'],\n",
    " ['Privacy'],\n",
    " ['Report on Cyber Security Information Sharing in the Energy Sector'],\n",
    " ['Resilience'],\n",
    " ['Resilient technologies'],\n",
    " ['Risk'],\n",
    " ['Security'],\n",
    " ['Simone Bal'],\n",
    " ['Small and Medium Enterprises', 'SME', 'SMEs'],\n",
    " ['Template'],\n",
    " ['Training'],\n",
    " ['Trust service', 'Trust services'],\n",
    " ['e-Government'],\n",
    " ['e-delivery'],\n",
    " ['e-document'],\n",
    " ['e-signature'],\n",
    " ['enisa botnets detection measurement disinfection defence'],\n",
    " ['honeypots'],\n",
    " ['time stamping']]"
   ]
  },
  {
   "cell_type": "code",
   "execution_count": 2,
   "metadata": {},
   "outputs": [
    {
     "data": {
      "text/plain": [
       "33"
      ]
     },
     "execution_count": 2,
     "metadata": {},
     "output_type": "execute_result"
    }
   ],
   "source": [
    "KEYWORDS = [list(map(str.lower, x)) for x in KEYWORDS]\n",
    "len(KEYWORDS)"
   ]
  },
  {
   "cell_type": "code",
   "execution_count": 3,
   "metadata": {},
   "outputs": [],
   "source": [
    "def unique_keyword(keyword):\n",
    "    for group in KEYWORDS:\n",
    "        if keyword.strip().lower() in group:\n",
    "            return group[0]"
   ]
  },
  {
   "cell_type": "code",
   "execution_count": 4,
   "metadata": {},
   "outputs": [
    {
     "data": {
      "text/html": [
       "<div>\n",
       "<style scoped>\n",
       "    .dataframe tbody tr th:only-of-type {\n",
       "        vertical-align: middle;\n",
       "    }\n",
       "\n",
       "    .dataframe tbody tr th {\n",
       "        vertical-align: top;\n",
       "    }\n",
       "\n",
       "    .dataframe thead th {\n",
       "        text-align: right;\n",
       "    }\n",
       "</style>\n",
       "<table border=\"1\" class=\"dataframe\">\n",
       "  <thead>\n",
       "    <tr style=\"text-align: right;\">\n",
       "      <th></th>\n",
       "      <th>filename</th>\n",
       "      <th>title</th>\n",
       "      <th>keywords</th>\n",
       "      <th>text</th>\n",
       "      <th>metadata</th>\n",
       "    </tr>\n",
       "  </thead>\n",
       "  <tbody>\n",
       "    <tr>\n",
       "      <th>0</th>\n",
       "      <td>8th-enisa-workshop-certs-in-europe-report</td>\n",
       "      <td>8th ENISA Workshop ‘CERTs in Europe’</td>\n",
       "      <td>[]</td>\n",
       "      <td>\\n\\n\\n\\n\\n\\n\\n\\n\\n\\n\\n\\n\\n\\n\\n\\n\\n\\n\\n\\n\\n\\n\\n...</td>\n",
       "      <td>{'X-Parsed-By': ['org.apache.tika.parser.Defau...</td>\n",
       "    </tr>\n",
       "    <tr>\n",
       "      <th>1</th>\n",
       "      <td>a-collection-of-good-practice-for-cert-quality...</td>\n",
       "      <td></td>\n",
       "      <td>[]</td>\n",
       "      <td>\\n\\n\\n\\n\\n\\n\\n\\n\\n\\n\\n\\n\\n\\n\\n\\n\\n\\n\\n\\n\\n\\n\\n...</td>\n",
       "      <td>{'X-Parsed-By': ['org.apache.tika.parser.Defau...</td>\n",
       "    </tr>\n",
       "    <tr>\n",
       "      <th>2</th>\n",
       "      <td>a-security-analysis-of-next-generation-web-sta...</td>\n",
       "      <td>a-security-analysis-of-next-generation-web-sta...</td>\n",
       "      <td>[]</td>\n",
       "      <td>\\n\\n\\n\\n\\n\\n\\n\\n\\n\\n\\n\\n\\n\\n\\n\\n\\n\\n\\n\\n\\n\\n\\n...</td>\n",
       "      <td>{'X-Parsed-By': ['org.apache.tika.parser.Defau...</td>\n",
       "    </tr>\n",
       "    <tr>\n",
       "      <th>3</th>\n",
       "      <td>actionable-information-for-security</td>\n",
       "      <td>actionable-information-for-security</td>\n",
       "      <td>[]</td>\n",
       "      <td>\\n\\n\\n\\n\\n\\n\\n\\n\\n\\n\\n\\n\\n\\n\\n\\n\\n\\n\\n\\n\\n\\n\\n...</td>\n",
       "      <td>{'X-Parsed-By': ['org.apache.tika.parser.Defau...</td>\n",
       "    </tr>\n",
       "    <tr>\n",
       "      <th>4</th>\n",
       "      <td>algorithms-key-size-and-parameters-report-2014</td>\n",
       "      <td>algorithms-key-size-and-parameters-report-2014</td>\n",
       "      <td>[]</td>\n",
       "      <td>\\n\\n\\n\\n\\n\\n\\n\\n\\n\\n\\n\\n\\n\\n\\n\\n\\n\\n\\n\\n\\n\\n\\n...</td>\n",
       "      <td>{'X-Parsed-By': ['org.apache.tika.parser.Defau...</td>\n",
       "    </tr>\n",
       "  </tbody>\n",
       "</table>\n",
       "</div>"
      ],
      "text/plain": [
       "                                            filename  \\\n",
       "0          8th-enisa-workshop-certs-in-europe-report   \n",
       "1  a-collection-of-good-practice-for-cert-quality...   \n",
       "2  a-security-analysis-of-next-generation-web-sta...   \n",
       "3                actionable-information-for-security   \n",
       "4     algorithms-key-size-and-parameters-report-2014   \n",
       "\n",
       "                                               title keywords  \\\n",
       "0               8th ENISA Workshop ‘CERTs in Europe’       []   \n",
       "1                                                          []   \n",
       "2  a-security-analysis-of-next-generation-web-sta...       []   \n",
       "3                actionable-information-for-security       []   \n",
       "4     algorithms-key-size-and-parameters-report-2014       []   \n",
       "\n",
       "                                                text  \\\n",
       "0  \\n\\n\\n\\n\\n\\n\\n\\n\\n\\n\\n\\n\\n\\n\\n\\n\\n\\n\\n\\n\\n\\n\\n...   \n",
       "1  \\n\\n\\n\\n\\n\\n\\n\\n\\n\\n\\n\\n\\n\\n\\n\\n\\n\\n\\n\\n\\n\\n\\n...   \n",
       "2  \\n\\n\\n\\n\\n\\n\\n\\n\\n\\n\\n\\n\\n\\n\\n\\n\\n\\n\\n\\n\\n\\n\\n...   \n",
       "3  \\n\\n\\n\\n\\n\\n\\n\\n\\n\\n\\n\\n\\n\\n\\n\\n\\n\\n\\n\\n\\n\\n\\n...   \n",
       "4  \\n\\n\\n\\n\\n\\n\\n\\n\\n\\n\\n\\n\\n\\n\\n\\n\\n\\n\\n\\n\\n\\n\\n...   \n",
       "\n",
       "                                            metadata  \n",
       "0  {'X-Parsed-By': ['org.apache.tika.parser.Defau...  \n",
       "1  {'X-Parsed-By': ['org.apache.tika.parser.Defau...  \n",
       "2  {'X-Parsed-By': ['org.apache.tika.parser.Defau...  \n",
       "3  {'X-Parsed-By': ['org.apache.tika.parser.Defau...  \n",
       "4  {'X-Parsed-By': ['org.apache.tika.parser.Defau...  "
      ]
     },
     "execution_count": 4,
     "metadata": {},
     "output_type": "execute_result"
    }
   ],
   "source": [
    "import pandas as pd\n",
    "from pathlib import Path\n",
    "import json\n",
    "import re\n",
    "\n",
    "df = pd.DataFrame(columns=[\"filename\", \"title\", \"keywords\", \"text\", \"metadata\"])\n",
    "\n",
    "idx = 0\n",
    "for path in Path(\"../pdf-reports/plaintext\").iterdir():\n",
    "    if path.suffix == '.json':\n",
    "        with path.open() as json_file:\n",
    "            parsed = json.load(json_file)\n",
    "            filename = path.stem\n",
    "            \n",
    "            # Some documents do not have title among metadata.\n",
    "            title = parsed[\"metadata\"][\"title\"] if \"title\" in parsed[\"metadata\"].keys() else filename\n",
    "            \n",
    "            # Some documents do not have keywords among metadata.\n",
    "            if \"meta:keyword\" in parsed[\"metadata\"].keys():\n",
    "                keywords = [unique_keyword(x) for x in re.split(\",|;\", parsed[\"metadata\"][\"meta:keyword\"])\n",
    "                           if unique_keyword(x)]\n",
    "            else:\n",
    "                keywords = []\n",
    "                        \n",
    "            df.loc[idx] = [filename, title, keywords, parsed[\"content\"], parsed[\"metadata\"]]\n",
    "            idx += 1\n",
    "\n",
    "df.head()"
   ]
  },
  {
   "cell_type": "code",
   "execution_count": 5,
   "metadata": {},
   "outputs": [
    {
     "data": {
      "text/plain": [
       "351"
      ]
     },
     "execution_count": 5,
     "metadata": {},
     "output_type": "execute_result"
    }
   ],
   "source": [
    "len(df)"
   ]
  },
  {
   "cell_type": "code",
   "execution_count": 6,
   "metadata": {},
   "outputs": [
    {
     "data": {
      "text/plain": [
       "0     292\n",
       "2      43\n",
       "1      10\n",
       "11      2\n",
       "8       1\n",
       "6       1\n",
       "5       1\n",
       "3       1\n",
       "Name: num_keywords, dtype: int64"
      ]
     },
     "execution_count": 6,
     "metadata": {},
     "output_type": "execute_result"
    }
   ],
   "source": [
    "df = df\n",
    "df['num_keywords'] = df.keywords.apply(lambda x: len(x))\n",
    "df['num_keywords'].value_counts()\n",
    "# 292 documents are without a keyword!!!"
   ]
  },
  {
   "cell_type": "code",
   "execution_count": 7,
   "metadata": {},
   "outputs": [
    {
     "data": {
      "text/html": [
       "<div>\n",
       "<style scoped>\n",
       "    .dataframe tbody tr th:only-of-type {\n",
       "        vertical-align: middle;\n",
       "    }\n",
       "\n",
       "    .dataframe tbody tr th {\n",
       "        vertical-align: top;\n",
       "    }\n",
       "\n",
       "    .dataframe thead th {\n",
       "        text-align: right;\n",
       "    }\n",
       "</style>\n",
       "<table border=\"1\" class=\"dataframe\">\n",
       "  <thead>\n",
       "    <tr style=\"text-align: right;\">\n",
       "      <th></th>\n",
       "      <th>filename</th>\n",
       "      <th>title</th>\n",
       "      <th>keywords</th>\n",
       "      <th>text</th>\n",
       "      <th>metadata</th>\n",
       "      <th>num_keywords</th>\n",
       "    </tr>\n",
       "  </thead>\n",
       "  <tbody>\n",
       "    <tr>\n",
       "      <th>7</th>\n",
       "      <td>annex-i</td>\n",
       "      <td>Protecting Industrial Control Systems</td>\n",
       "      <td>[enisa, industrial control systems]</td>\n",
       "      <td>\\n\\n\\n\\n\\n\\n\\n\\n\\n\\n\\n\\n\\n\\n\\n\\n\\n\\n\\n\\n\\n\\n\\n...</td>\n",
       "      <td>{'X-Parsed-By': ['org.apache.tika.parser.Defau...</td>\n",
       "      <td>2</td>\n",
       "    </tr>\n",
       "    <tr>\n",
       "      <th>8</th>\n",
       "      <td>annex-ii</td>\n",
       "      <td>Protecting Industrial Control Systems</td>\n",
       "      <td>[enisa, industrial control systems]</td>\n",
       "      <td>\\n\\n\\n\\n\\n\\n\\n\\n\\n\\n\\n\\n\\n\\n\\n\\n\\n\\n\\n\\n\\n\\n\\n...</td>\n",
       "      <td>{'X-Parsed-By': ['org.apache.tika.parser.Defau...</td>\n",
       "      <td>2</td>\n",
       "    </tr>\n",
       "    <tr>\n",
       "      <th>9</th>\n",
       "      <td>annex-iii</td>\n",
       "      <td>Protecting Industrial Control Systems</td>\n",
       "      <td>[enisa, industrial control systems]</td>\n",
       "      <td>\\n\\n\\n\\n\\n\\n\\n\\n\\n\\n\\n\\n\\n\\n\\n\\n\\n\\n\\n\\n\\n\\n\\n...</td>\n",
       "      <td>{'X-Parsed-By': ['org.apache.tika.parser.Defau...</td>\n",
       "      <td>2</td>\n",
       "    </tr>\n",
       "    <tr>\n",
       "      <th>10</th>\n",
       "      <td>annex-iv</td>\n",
       "      <td>Protecting Industrial Control Systems</td>\n",
       "      <td>[enisa, industrial control systems]</td>\n",
       "      <td>\\n\\n\\n\\n\\n\\n\\n\\n\\n\\n\\n\\n\\n\\n\\n\\n\\n\\n\\n\\n\\n\\n\\n...</td>\n",
       "      <td>{'X-Parsed-By': ['org.apache.tika.parser.Defau...</td>\n",
       "      <td>2</td>\n",
       "    </tr>\n",
       "    <tr>\n",
       "      <th>11</th>\n",
       "      <td>annex-v</td>\n",
       "      <td>Protecting Industrial Control Systems</td>\n",
       "      <td>[enisa, industrial control systems]</td>\n",
       "      <td>\\n\\n\\n\\n\\n\\n\\n\\n\\n\\n\\n\\n\\n\\n\\n\\n\\n\\n\\n\\n\\n\\n\\n...</td>\n",
       "      <td>{'X-Parsed-By': ['org.apache.tika.parser.Defau...</td>\n",
       "      <td>2</td>\n",
       "    </tr>\n",
       "  </tbody>\n",
       "</table>\n",
       "</div>"
      ],
      "text/plain": [
       "     filename                                  title  \\\n",
       "7     annex-i  Protecting Industrial Control Systems   \n",
       "8    annex-ii  Protecting Industrial Control Systems   \n",
       "9   annex-iii  Protecting Industrial Control Systems   \n",
       "10   annex-iv  Protecting Industrial Control Systems   \n",
       "11    annex-v  Protecting Industrial Control Systems   \n",
       "\n",
       "                               keywords  \\\n",
       "7   [enisa, industrial control systems]   \n",
       "8   [enisa, industrial control systems]   \n",
       "9   [enisa, industrial control systems]   \n",
       "10  [enisa, industrial control systems]   \n",
       "11  [enisa, industrial control systems]   \n",
       "\n",
       "                                                 text  \\\n",
       "7   \\n\\n\\n\\n\\n\\n\\n\\n\\n\\n\\n\\n\\n\\n\\n\\n\\n\\n\\n\\n\\n\\n\\n...   \n",
       "8   \\n\\n\\n\\n\\n\\n\\n\\n\\n\\n\\n\\n\\n\\n\\n\\n\\n\\n\\n\\n\\n\\n\\n...   \n",
       "9   \\n\\n\\n\\n\\n\\n\\n\\n\\n\\n\\n\\n\\n\\n\\n\\n\\n\\n\\n\\n\\n\\n\\n...   \n",
       "10  \\n\\n\\n\\n\\n\\n\\n\\n\\n\\n\\n\\n\\n\\n\\n\\n\\n\\n\\n\\n\\n\\n\\n...   \n",
       "11  \\n\\n\\n\\n\\n\\n\\n\\n\\n\\n\\n\\n\\n\\n\\n\\n\\n\\n\\n\\n\\n\\n\\n...   \n",
       "\n",
       "                                             metadata  num_keywords  \n",
       "7   {'X-Parsed-By': ['org.apache.tika.parser.Defau...             2  \n",
       "8   {'X-Parsed-By': ['org.apache.tika.parser.Defau...             2  \n",
       "9   {'X-Parsed-By': ['org.apache.tika.parser.Defau...             2  \n",
       "10  {'X-Parsed-By': ['org.apache.tika.parser.Defau...             2  \n",
       "11  {'X-Parsed-By': ['org.apache.tika.parser.Defau...             2  "
      ]
     },
     "execution_count": 7,
     "metadata": {},
     "output_type": "execute_result"
    }
   ],
   "source": [
    "df_keywords = df[df.num_keywords > 0]\n",
    "df_keywords.head()"
   ]
  },
  {
   "cell_type": "code",
   "execution_count": 8,
   "metadata": {},
   "outputs": [
    {
     "data": {
      "text/plain": [
       "array(['article 13a', 'big data', 'business continuity',\n",
       "       'charalampos koutsouris', 'data protection', 'draft', 'e-delivery',\n",
       "       'e-document', 'e-government', 'e-signature', 'enisa',\n",
       "       'enisa botnets detection measurement disinfection defence', 'gdpr',\n",
       "       'honeypots', 'industrial control systems', 'it continuity',\n",
       "       'it service continuity', 'louis marinos', 'micro-enterprises',\n",
       "       'obrela security industries', 'personal data', 'privacy',\n",
       "       'report on cyber security information sharing in the energy sector',\n",
       "       'resilience', 'resilient technologies', 'risk', 'security',\n",
       "       'simone bal', 'small and medium enterprises', 'template',\n",
       "       'time stamping', 'training', 'trust service'], dtype=object)"
      ]
     },
     "execution_count": 8,
     "metadata": {},
     "output_type": "execute_result"
    }
   ],
   "source": [
    "from sklearn.preprocessing import MultiLabelBinarizer\n",
    "\n",
    "mlb = MultiLabelBinarizer()\n",
    "mlb.fit(df_keywords.keywords)\n",
    "mlb.classes_"
   ]
  },
  {
   "cell_type": "code",
   "execution_count": 9,
   "metadata": {},
   "outputs": [
    {
     "data": {
      "text/plain": [
       "array([[0, 0, 0, ..., 0, 0, 0],\n",
       "       [0, 0, 0, ..., 0, 0, 0],\n",
       "       [0, 0, 0, ..., 0, 0, 0],\n",
       "       ..., \n",
       "       [0, 0, 0, ..., 0, 0, 0],\n",
       "       [0, 0, 0, ..., 0, 0, 1],\n",
       "       [0, 0, 0, ..., 1, 0, 1]])"
      ]
     },
     "execution_count": 9,
     "metadata": {},
     "output_type": "execute_result"
    }
   ],
   "source": [
    "y = mlb.transform(df_keywords.keywords)\n",
    "y"
   ]
  },
  {
   "cell_type": "code",
   "execution_count": 10,
   "metadata": {},
   "outputs": [
    {
     "name": "stdout",
     "output_type": "stream",
     "text": [
      "Hello  world!\n"
     ]
    }
   ],
   "source": [
    "def remove_url(s):\n",
    "    return re.sub(r'http\\S+', '', s, flags=re.MULTILINE)\n",
    "\n",
    "print(remove_url(\"Hello https://a72d304c643b011e8b84c061e85c3662-550367788.eu-west-3.elb.amazonaws.com/ world!\"))"
   ]
  },
  {
   "cell_type": "code",
   "execution_count": 11,
   "metadata": {},
   "outputs": [
    {
     "name": "stdout",
     "output_type": "stream",
     "text": [
      " Hello     world! \n"
     ]
    }
   ],
   "source": [
    "def strip_tags(s):\n",
    "    \"\"\"Basic regexp based HTML / XML tag stripper function\n",
    "    For serious HTML/XML preprocessing you should rather use an external\n",
    "    library such as lxml or BeautifulSoup.\n",
    "    \"\"\"\n",
    "    s = re.compile(r\"<([^>]+)>\", flags=re.UNICODE).sub(\" \", s)\n",
    "    #s = re.compile(r\"\\&\\w+\\;\").sub(\" \", s)\n",
    "    s = re.compile(r\"\\&[^ ]+\\;\").sub(\" \", s)\n",
    "    return s\n",
    "\n",
    "print(strip_tags(\"<p>Hello &nbsp; &#039; world!</p>\"))"
   ]
  },
  {
   "cell_type": "code",
   "execution_count": 12,
   "metadata": {},
   "outputs": [],
   "source": [
    "def preproc(s):\n",
    "    return strip_tags(remove_url(s)).lower()"
   ]
  },
  {
   "cell_type": "code",
   "execution_count": 13,
   "metadata": {},
   "outputs": [],
   "source": [
    "from sklearn.feature_extraction.text import CountVectorizer\n",
    "\n",
    "cv1 = CountVectorizer(ngram_range=(1, 1), preprocessor=preproc, stop_words='english')\n",
    "cv2 = CountVectorizer(ngram_range=(2, 2), preprocessor=preproc, stop_words='english')"
   ]
  },
  {
   "cell_type": "code",
   "execution_count": 14,
   "metadata": {},
   "outputs": [],
   "source": [
    "X1 = cv1.fit_transform(df_keywords['text'])\n",
    "X2 = cv2.fit_transform(df_keywords['text'])"
   ]
  },
  {
   "cell_type": "code",
   "execution_count": 15,
   "metadata": {},
   "outputs": [],
   "source": [
    "#from sklearn.neighbors import KNeighborsClassifier\n",
    "\n",
    "#neigh = KNeighborsClassifier(n_neighbors=10)\n",
    "#neigh.fit(X_train, y_train)\n",
    "#y_pred = neigh.predict(X_test)"
   ]
  },
  {
   "cell_type": "code",
   "execution_count": 16,
   "metadata": {},
   "outputs": [
    {
     "name": "stdout",
     "output_type": "stream",
     "text": [
      "(59, 22678)\n",
      "(59, 318874)\n",
      "(59, 33)\n"
     ]
    }
   ],
   "source": [
    "print(X1.shape)\n",
    "print(X2.shape)\n",
    "print(y.shape)"
   ]
  },
  {
   "cell_type": "code",
   "execution_count": 17,
   "metadata": {
    "scrolled": false
   },
   "outputs": [
    {
     "name": "stdout",
     "output_type": "stream",
     "text": [
      "--------------------------------------------------------------------------------\n",
      "Keyword: business continuity\n",
      "--------------------------------------------------------------------------------\n",
      "Number of positive labels in the train (test) set: 2 (1)\n",
      "Accuracy on the train set: 1.000\n",
      "Area under the ROC curve: 1.000\n",
      "[[37  0]\n",
      " [ 0  2]]\n",
      "Accuracy on the test set: 1.000\n",
      "Area under the ROC curve: 1.000\n",
      "[[19  0]\n",
      " [ 0  1]]\n",
      "--------------------------------------------------------------------------------\n",
      "Keyword: charalampos koutsouris\n",
      "--------------------------------------------------------------------------------\n",
      "Number of positive labels in the train (test) set: 1 (1)\n",
      "Accuracy on the train set: 1.000\n",
      "Area under the ROC curve: 1.000\n",
      "[[38  0]\n",
      " [ 0  1]]\n",
      "Accuracy on the test set: 0.950\n",
      "Area under the ROC curve: 0.500\n",
      "[[19  0]\n",
      " [ 1  0]]\n",
      "--------------------------------------------------------------------------------\n",
      "Keyword: enisa\n",
      "--------------------------------------------------------------------------------\n",
      "Number of positive labels in the train (test) set: 32 (17)\n",
      "Accuracy on the train set: 1.000\n",
      "Area under the ROC curve: 1.000\n",
      "[[ 7  0]\n",
      " [ 0 32]]\n",
      "Accuracy on the test set: 0.850\n",
      "Area under the ROC curve: 0.637\n",
      "[[ 1  2]\n",
      " [ 1 16]]\n",
      "--------------------------------------------------------------------------------\n",
      "Keyword: enisa botnets detection measurement disinfection defence\n",
      "--------------------------------------------------------------------------------\n",
      "Number of positive labels in the train (test) set: 1 (1)\n",
      "Accuracy on the train set: 1.000\n",
      "Area under the ROC curve: 1.000\n",
      "[[38  0]\n",
      " [ 0  1]]\n",
      "Accuracy on the test set: 1.000\n",
      "Area under the ROC curve: 1.000\n",
      "[[19  0]\n",
      " [ 0  1]]\n",
      "--------------------------------------------------------------------------------\n",
      "Keyword: industrial control systems\n",
      "--------------------------------------------------------------------------------\n",
      "Number of positive labels in the train (test) set: 5 (2)\n",
      "Accuracy on the train set: 1.000\n",
      "Area under the ROC curve: 1.000\n",
      "[[34  0]\n",
      " [ 0  5]]\n",
      "Accuracy on the test set: 0.900\n",
      "Area under the ROC curve: 0.944\n",
      "[[16  2]\n",
      " [ 0  2]]\n",
      "--------------------------------------------------------------------------------\n",
      "Keyword: it continuity\n",
      "--------------------------------------------------------------------------------\n",
      "Number of positive labels in the train (test) set: 2 (1)\n",
      "Accuracy on the train set: 1.000\n",
      "Area under the ROC curve: 1.000\n",
      "[[37  0]\n",
      " [ 0  2]]\n",
      "Accuracy on the test set: 1.000\n",
      "Area under the ROC curve: 1.000\n",
      "[[19  0]\n",
      " [ 0  1]]\n",
      "--------------------------------------------------------------------------------\n",
      "Keyword: it service continuity\n",
      "--------------------------------------------------------------------------------\n",
      "Number of positive labels in the train (test) set: 2 (1)\n",
      "Accuracy on the train set: 1.000\n",
      "Area under the ROC curve: 1.000\n",
      "[[37  0]\n",
      " [ 0  2]]\n",
      "Accuracy on the test set: 1.000\n",
      "Area under the ROC curve: 1.000\n",
      "[[19  0]\n",
      " [ 0  1]]\n",
      "--------------------------------------------------------------------------------\n",
      "Keyword: louis marinos\n",
      "--------------------------------------------------------------------------------\n",
      "Number of positive labels in the train (test) set: 1 (1)\n",
      "Accuracy on the train set: 1.000\n",
      "Area under the ROC curve: 1.000\n",
      "[[38  0]\n",
      " [ 0  1]]\n",
      "Accuracy on the test set: 0.950\n",
      "Area under the ROC curve: 0.500\n",
      "[[19  0]\n",
      " [ 1  0]]\n",
      "--------------------------------------------------------------------------------\n",
      "Keyword: micro-enterprises\n",
      "--------------------------------------------------------------------------------\n",
      "Number of positive labels in the train (test) set: 1 (1)\n",
      "Accuracy on the train set: 1.000\n",
      "Area under the ROC curve: 1.000\n",
      "[[38  0]\n",
      " [ 0  1]]\n",
      "Accuracy on the test set: 0.950\n",
      "Area under the ROC curve: 0.500\n",
      "[[19  0]\n",
      " [ 1  0]]\n",
      "--------------------------------------------------------------------------------\n",
      "Keyword: obrela security industries\n",
      "--------------------------------------------------------------------------------\n",
      "Number of positive labels in the train (test) set: 1 (1)\n",
      "Accuracy on the train set: 1.000\n",
      "Area under the ROC curve: 1.000\n",
      "[[38  0]\n",
      " [ 0  1]]\n",
      "Accuracy on the test set: 0.950\n",
      "Area under the ROC curve: 0.500\n",
      "[[19  0]\n",
      " [ 1  0]]\n",
      "--------------------------------------------------------------------------------\n",
      "Keyword: small and medium enterprises\n",
      "--------------------------------------------------------------------------------\n",
      "Number of positive labels in the train (test) set: 2 (1)\n",
      "Accuracy on the train set: 1.000\n",
      "Area under the ROC curve: 1.000\n",
      "[[37  0]\n",
      " [ 0  2]]\n",
      "Accuracy on the test set: 0.950\n",
      "Area under the ROC curve: 0.474\n",
      "[[19  0]\n",
      " [ 1  0]]\n",
      "--------------------------------------------------------------------------------\n",
      "Keyword: template\n",
      "--------------------------------------------------------------------------------\n",
      "Number of positive labels in the train (test) set: 23 (12)\n",
      "Accuracy on the train set: 0.974\n",
      "Area under the ROC curve: 0.969\n",
      "[[15  1]\n",
      " [ 0 23]]\n",
      "Accuracy on the test set: 0.850\n",
      "Area under the ROC curve: 0.828\n",
      "[[ 6  2]\n",
      " [ 1 11]]\n",
      "--------------------------------------------------------------------------------\n",
      "Keyword: trust service\n",
      "--------------------------------------------------------------------------------\n",
      "Number of positive labels in the train (test) set: 1 (1)\n",
      "Accuracy on the train set: 1.000\n",
      "Area under the ROC curve: 1.000\n",
      "[[38  0]\n",
      " [ 0  1]]\n",
      "Accuracy on the test set: 1.000\n",
      "Area under the ROC curve: 1.000\n",
      "[[19  0]\n",
      " [ 0  1]]\n"
     ]
    }
   ],
   "source": [
    "import numpy as np\n",
    "from sklearn.model_selection import train_test_split\n",
    "from sklearn.naive_bayes import MultinomialNB\n",
    "from sklearn.metrics import confusion_matrix\n",
    "from sklearn.metrics import roc_auc_score\n",
    "\n",
    "# Build a model for each keyword\n",
    "for idx, keyword in enumerate(mlb.classes_):\n",
    "    label = y[:, idx]\n",
    "    # Make sure there is at least 1 positive label for the training set and the test set each.\n",
    "    if np.sum(label) < 2:\n",
    "        continue\n",
    "    print('-' * 80)\n",
    "    print(\"Keyword: \" + keyword)\n",
    "    print('-' * 80)\n",
    "    \n",
    "    # Split the dataset into training and test set while preserving the proportion of labels.\n",
    "    # The uni-grams work better than bi-grams for the naive Bayes model.\n",
    "    X_train, X_test, y_train, y_test = train_test_split(X1, label, test_size=0.33, random_state=42, stratify=label)\n",
    "    #X_train, X_test, y_train, y_test = train_test_split(X2, label, test_size=0.33, random_state=42, stratify=label)\n",
    "    print(\"Number of positive labels in the train (test) set: {} ({})\".format(np.sum(y_train), np.sum(y_test)))\n",
    "    \n",
    "    # Train a model.\n",
    "    clf = MultinomialNB().fit(X_train, y_train)\n",
    "    \n",
    "    # Print the performance metrics on the training set.\n",
    "    y_pred = clf.predict(X_train)\n",
    "    y_prob = clf.predict_proba(X_train)[:, 1]\n",
    "    print(\"Accuracy on the train set: {:.3f}\".format(np.mean(y_pred == y_train)))\n",
    "    print(\"Area under the ROC curve: {:.3f}\".format(roc_auc_score(y_train, y_prob)))\n",
    "    print(confusion_matrix(y_train, y_pred))\n",
    "    \n",
    "    # Print the performance metrics on the test set.\n",
    "    y_pred = clf.predict(X_test)\n",
    "    y_prob = clf.predict_proba(X_test)[:, 1]\n",
    "    print(\"Accuracy on the test set: {:.3f}\".format(np.mean(y_pred == y_test)))\n",
    "    print(\"Area under the ROC curve: {:.3f}\".format(roc_auc_score(y_test, y_prob)))\n",
    "    print(confusion_matrix(y_test, y_pred))"
   ]
  },
  {
   "cell_type": "code",
   "execution_count": null,
   "metadata": {},
   "outputs": [],
   "source": []
  }
 ],
 "metadata": {
  "kernelspec": {
   "display_name": "Python 3",
   "language": "python",
   "name": "python3"
  },
  "language_info": {
   "codemirror_mode": {
    "name": "ipython",
    "version": 3
   },
   "file_extension": ".py",
   "mimetype": "text/x-python",
   "name": "python",
   "nbconvert_exporter": "python",
   "pygments_lexer": "ipython3",
   "version": "3.5.4"
  }
 },
 "nbformat": 4,
 "nbformat_minor": 2
}
