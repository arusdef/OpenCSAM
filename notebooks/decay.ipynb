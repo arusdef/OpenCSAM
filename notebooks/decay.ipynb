{
 "cells": [
  {
   "cell_type": "markdown",
   "metadata": {},
   "source": [
    "# Decay function\n",
    "\n",
    "This notebook demonstrates using functions to rank news articles. The aim is to impose time decay, i.e. older articles will have a lower score.\n",
    "\n",
    "Relevant links:\n",
    "* https://www.elastic.co/guide/en/elasticsearch/reference/5.4/query-dsl-function-score-query.html"
   ]
  },
  {
   "cell_type": "code",
   "execution_count": 1,
   "metadata": {},
   "outputs": [],
   "source": [
    "import subprocess\n",
    "import json"
   ]
  },
  {
   "cell_type": "code",
   "execution_count": 2,
   "metadata": {},
   "outputs": [
    {
     "data": {
      "text/plain": [
       "{'_shards': {'failed': 0, 'skipped': 0, 'successful': 5, 'total': 5},\n",
       " 'count': 4718}"
      ]
     },
     "execution_count": 2,
     "metadata": {},
     "output_type": "execute_result"
    }
   ],
   "source": [
    "query = \"\"\"\n",
    "curl -s -X GET \"http://a3557701c4b3211e88f8a060fa4fdbf3-427558466.eu-west-3.elb.amazonaws.com/elasticsearch/rssfeeds/_count\" -u guest:teradata\n",
    "\"\"\"\n",
    "\n",
    "res = subprocess.getoutput(query)\n",
    "res = json.loads(res)\n",
    "res"
   ]
  },
  {
   "cell_type": "code",
   "execution_count": 3,
   "metadata": {},
   "outputs": [
    {
     "data": {
      "text/plain": [
       "{'rssfeeds': {'mappings': {'article': {'properties': {'categories': {'fields': {'keyword': {'ignore_above': 256,\n",
       "        'type': 'keyword'}},\n",
       "      'type': 'text'},\n",
       "     'content': {'fields': {'processed': {'analyzer': 'custom_text_analyzer',\n",
       "        'type': 'text'},\n",
       "       'tagged': {'analyzer': 'custom_text_analyzer',\n",
       "        'fielddata': True,\n",
       "        'fielddata_frequency_filter': {'max': 0.1,\n",
       "         'min': 0.001,\n",
       "         'min_segment_size': 10},\n",
       "        'type': 'text'}},\n",
       "      'type': 'text'},\n",
       "     'description': {'fields': {'processed': {'analyzer': 'custom_text_analyzer',\n",
       "        'type': 'text'},\n",
       "       'tagged': {'analyzer': 'custom_text_analyzer',\n",
       "        'fielddata': True,\n",
       "        'fielddata_frequency_filter': {'max': 0.1,\n",
       "         'min': 0.001,\n",
       "         'min_segment_size': 10},\n",
       "        'type': 'text'}},\n",
       "      'type': 'text'},\n",
       "     'link': {'ignore_above': 256, 'type': 'keyword'},\n",
       "     'published': {'type': 'date'},\n",
       "     'resource_label': {'ignore_above': 256, 'type': 'keyword'},\n",
       "     'resource_link': {'ignore_above': 256, 'type': 'keyword'},\n",
       "     'title': {'fields': {'keyword': {'ignore_above': 256, 'type': 'keyword'},\n",
       "       'processed': {'analyzer': 'custom_text_analyzer', 'type': 'text'}},\n",
       "      'type': 'text'}}}}}}"
      ]
     },
     "execution_count": 3,
     "metadata": {},
     "output_type": "execute_result"
    }
   ],
   "source": [
    "query = \"\"\"\n",
    "curl -s -X GET \"http://a3557701c4b3211e88f8a060fa4fdbf3-427558466.eu-west-3.elb.amazonaws.com/elasticsearch/rssfeeds/_mapping\" -u guest:teradata\n",
    "\"\"\"\n",
    "\n",
    "res = subprocess.getoutput(query)\n",
    "res = json.loads(res)\n",
    "res"
   ]
  },
  {
   "cell_type": "code",
   "execution_count": 4,
   "metadata": {},
   "outputs": [],
   "source": [
    "term = \"spyware\""
   ]
  },
  {
   "cell_type": "code",
   "execution_count": 5,
   "metadata": {
    "scrolled": false
   },
   "outputs": [
    {
     "name": "stdout",
     "output_type": "stream",
     "text": [
      "3\n",
      "\n",
      "5.3452134 2018-05-08T13:00:14 Maikspy Spyware Poses as Adult Game, Targets Windows and Android Users\n",
      "--------------------------------------------------------------------------------\n",
      "4.414116 2018-05-14T14:01:55 North Korean Hackers Are Now Developing iPhone Spy Tools\n",
      "--------------------------------------------------------------------------------\n",
      "3.110219 2018-04-20T01:06:43 XLoader Android Spyware and Banking Trojan Distributed via DNS Spoofing\n",
      "--------------------------------------------------------------------------------\n"
     ]
    }
   ],
   "source": [
    "query = \"\"\"\n",
    "curl -s -X GET \"http://a3557701c4b3211e88f8a060fa4fdbf3-427558466.eu-west-3.elb.amazonaws.com/elasticsearch/rssfeeds_test/article/_search\" -H 'Content-Type: application/json' -d'\n",
    "{\n",
    "    \"_source\": [\"title\", \"content\", \"published\"],\n",
    "    \"query\": {\n",
    "        \"match\": {\n",
    "            \"content\": \"{\"\"\" + term + \"\"\"}\"\n",
    "        }\n",
    "    }\n",
    "}\n",
    "' -u guest:teradata\n",
    "\"\"\"\n",
    "\n",
    "res = subprocess.getoutput(query)\n",
    "res = json.loads(res, strict=False)\n",
    "print(res['hits']['total'])\n",
    "print()\n",
    "\n",
    "for hit in res['hits']['hits']:\n",
    "    print(hit['_score'], hit['_source']['published'], hit['_source']['title'])\n",
    "    print('-'*80)"
   ]
  },
  {
   "cell_type": "code",
   "execution_count": 6,
   "metadata": {
    "scrolled": false
   },
   "outputs": [
    {
     "name": "stdout",
     "output_type": "stream",
     "text": [
      "3\n",
      "\n",
      "3.5921986 2018-05-14T14:01:55 North Korean Hackers Are Now Developing iPhone Spy Tools\n",
      "--------------------------------------------------------------------------------\n",
      "1.3513906 2018-05-08T13:00:14 Maikspy Spyware Poses as Adult Game, Targets Windows and Android Users\n",
      "--------------------------------------------------------------------------------\n",
      "3.57656e-05 2018-04-20T01:06:43 XLoader Android Spyware and Banking Trojan Distributed via DNS Spoofing\n",
      "--------------------------------------------------------------------------------\n"
     ]
    }
   ],
   "source": [
    "query = \"\"\"\n",
    "curl -s -X GET \"http://a3557701c4b3211e88f8a060fa4fdbf3-427558466.eu-west-3.elb.amazonaws.com/elasticsearch/rssfeeds_test/article/_search\" -H 'Content-Type: application/json' -d'\n",
    "{\n",
    "    \"_source\": [\"title\", \"content\", \"published\"],\n",
    "    \"query\": {\n",
    "        \"function_score\": {\n",
    "            \"functions\": [\n",
    "                {\n",
    "                    \"gauss\": {\n",
    "                        \"published\": {\n",
    "                            \"origin\": \"now\", \n",
    "                            \"scale\": \"7d\",\n",
    "                            \"offset\": \"7d\", \n",
    "                            \"decay\" : 0.5 \n",
    "                        }\n",
    "                    }\n",
    "                }\n",
    "            ],\n",
    "            \"query\": {   \n",
    "                \"match\": {\n",
    "                    \"content\": \"{\"\"\" + term + \"\"\"}\"\n",
    "                }\n",
    "            }\n",
    "        }\n",
    "    }\n",
    "}\n",
    "' -u guest:teradata\n",
    "\"\"\"\n",
    "\n",
    "res = subprocess.getoutput(query)\n",
    "res = json.loads(res, strict=False)\n",
    "print(res['hits']['total'])\n",
    "print()\n",
    "\n",
    "for hit in res['hits']['hits']:\n",
    "    print(hit['_score'], hit['_source']['published'], hit['_source']['title'])\n",
    "    print('-'*80)"
   ]
  },
  {
   "cell_type": "code",
   "execution_count": 7,
   "metadata": {
    "scrolled": false
   },
   "outputs": [
    {
     "name": "stdout",
     "output_type": "stream",
     "text": [
      "3\n",
      "\n",
      "3.0249496 2018-05-14T14:01:55 North Korean Hackers Are Now Developing iPhone Spy Tools\n",
      "--------------------------------------------------------------------------------\n",
      "2.0135927 2018-05-08T13:00:14 Maikspy Spyware Poses as Adult Game, Targets Windows and Android Users\n",
      "--------------------------------------------------------------------------------\n",
      "0.18767737 2018-04-20T01:06:43 XLoader Android Spyware and Banking Trojan Distributed via DNS Spoofing\n",
      "--------------------------------------------------------------------------------\n"
     ]
    }
   ],
   "source": [
    "query = \"\"\"\n",
    "curl -s -X GET \"http://a3557701c4b3211e88f8a060fa4fdbf3-427558466.eu-west-3.elb.amazonaws.com/elasticsearch/rssfeeds_test/article/_search\" -H 'Content-Type: application/json' -d'\n",
    "{\n",
    "    \"_source\": [\"title\", \"content\", \"published\"],\n",
    "    \"query\": {\n",
    "        \"function_score\": {\n",
    "            \"functions\": [\n",
    "                {\n",
    "                    \"exp\": {\n",
    "                        \"published\": {\n",
    "                            \"origin\": \"now\", \n",
    "                            \"scale\": \"7d\",\n",
    "                            \"offset\": \"7d\", \n",
    "                            \"decay\" : 0.5 \n",
    "                        }\n",
    "                    }\n",
    "                }\n",
    "            ],\n",
    "            \"query\": {   \n",
    "                \"match\": {\n",
    "                    \"content\": \"{\"\"\" + term + \"\"\"}\"\n",
    "                }\n",
    "            }\n",
    "        }\n",
    "    }\n",
    "}\n",
    "' -u guest:teradata\n",
    "\"\"\"\n",
    "\n",
    "res = subprocess.getoutput(query)\n",
    "res = json.loads(res, strict=False)\n",
    "print(res['hits']['total'])\n",
    "print()\n",
    "\n",
    "for hit in res['hits']['hits']:\n",
    "    print(hit['_score'], hit['_source']['published'], hit['_source']['title'])\n",
    "    print('-'*80)"
   ]
  },
  {
   "cell_type": "code",
   "execution_count": null,
   "metadata": {},
   "outputs": [],
   "source": []
  }
 ],
 "metadata": {
  "kernelspec": {
   "display_name": "Python 3",
   "language": "python",
   "name": "python3"
  },
  "language_info": {
   "codemirror_mode": {
    "name": "ipython",
    "version": 3
   },
   "file_extension": ".py",
   "mimetype": "text/x-python",
   "name": "python",
   "nbconvert_exporter": "python",
   "pygments_lexer": "ipython3",
   "version": "3.5.4"
  }
 },
 "nbformat": 4,
 "nbformat_minor": 2
}
