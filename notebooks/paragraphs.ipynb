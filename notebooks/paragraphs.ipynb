{
 "cells": [
  {
   "cell_type": "code",
   "execution_count": 1,
   "metadata": {},
   "outputs": [],
   "source": [
    "from keywords import *\n",
    "\n",
    "path = \"../pdf-reports/\"\n",
    "pdf = read_plaintext_with_keywords(path)"
   ]
  },
  {
   "cell_type": "code",
   "execution_count": 2,
   "metadata": {},
   "outputs": [
    {
     "data": {
      "text/html": [
       "<div>\n",
       "<style scoped>\n",
       "    .dataframe tbody tr th:only-of-type {\n",
       "        vertical-align: middle;\n",
       "    }\n",
       "\n",
       "    .dataframe tbody tr th {\n",
       "        vertical-align: top;\n",
       "    }\n",
       "\n",
       "    .dataframe thead th {\n",
       "        text-align: right;\n",
       "    }\n",
       "</style>\n",
       "<table border=\"1\" class=\"dataframe\">\n",
       "  <thead>\n",
       "    <tr style=\"text-align: right;\">\n",
       "      <th></th>\n",
       "      <th>filename</th>\n",
       "      <th>title</th>\n",
       "      <th>keywords</th>\n",
       "      <th>topics</th>\n",
       "      <th>text</th>\n",
       "      <th>metadata</th>\n",
       "      <th>num_keywords</th>\n",
       "      <th>num_topics</th>\n",
       "    </tr>\n",
       "  </thead>\n",
       "  <tbody>\n",
       "    <tr>\n",
       "      <th>0</th>\n",
       "      <td>8th-enisa-workshop-certs-in-europe-report</td>\n",
       "      <td>8th ENISA Workshop ‘CERTs in Europe’</td>\n",
       "      <td>[CSIRTs]</td>\n",
       "      <td>[]</td>\n",
       "      <td>\\n\\n\\n\\n\\n\\n\\n\\n\\n\\n\\n\\n\\n\\n\\n\\n\\n\\n\\n\\n\\n\\n\\n...</td>\n",
       "      <td>{'Last-Modified': '2014-01-10T16:07:35Z', 'dat...</td>\n",
       "      <td>1</td>\n",
       "      <td>0</td>\n",
       "    </tr>\n",
       "    <tr>\n",
       "      <th>1</th>\n",
       "      <td>a-collection-of-good-practice-for-cert-quality...</td>\n",
       "      <td></td>\n",
       "      <td>[]</td>\n",
       "      <td>[CSIRTs in Europe, CSIRT Cooperation]</td>\n",
       "      <td>\\n\\n\\n\\n\\n\\n\\n\\n\\n\\n\\n\\n\\n\\n\\n\\n\\n\\n\\n\\n\\n\\n\\n...</td>\n",
       "      <td>{'Last-Modified': '2009-06-22T13:09:55Z', 'dat...</td>\n",
       "      <td>0</td>\n",
       "      <td>2</td>\n",
       "    </tr>\n",
       "    <tr>\n",
       "      <th>2</th>\n",
       "      <td>a-security-analysis-of-next-generation-web-sta...</td>\n",
       "      <td>a-security-analysis-of-next-generation-web-sta...</td>\n",
       "      <td>[]</td>\n",
       "      <td>[Internet Infrastructure, Understanding the im...</td>\n",
       "      <td>\\n\\n\\n\\n\\n\\n\\n\\n\\n\\n\\n\\n\\n\\n\\n\\n\\n\\n\\n\\n\\n\\n\\n...</td>\n",
       "      <td>{'Last-Modified': '2011-08-02T13:37:24Z', 'dat...</td>\n",
       "      <td>0</td>\n",
       "      <td>3</td>\n",
       "    </tr>\n",
       "    <tr>\n",
       "      <th>3</th>\n",
       "      <td>actionable-information-for-security</td>\n",
       "      <td>actionable-information-for-security</td>\n",
       "      <td>[CSIRTs]</td>\n",
       "      <td>[CSIRT Services, Reactive Services]</td>\n",
       "      <td>\\n\\n\\n\\n\\n\\n\\n\\n\\n\\n\\n\\n\\n\\n\\n\\n\\n\\n\\n\\n\\n\\n\\n...</td>\n",
       "      <td>{'Last-Modified': '2015-01-19T07:28:32Z', 'dat...</td>\n",
       "      <td>1</td>\n",
       "      <td>2</td>\n",
       "    </tr>\n",
       "    <tr>\n",
       "      <th>4</th>\n",
       "      <td>algorithms-key-size-and-parameters-report-2014</td>\n",
       "      <td>algorithms-key-size-and-parameters-report-2014</td>\n",
       "      <td>[Privacy]</td>\n",
       "      <td>[Cryptographic protocols and tools, Security o...</td>\n",
       "      <td>\\n\\n\\n\\n\\n\\n\\n\\n\\n\\n\\n\\n\\n\\n\\n\\n\\n\\n\\n\\n\\n\\n\\n...</td>\n",
       "      <td>{'Last-Modified': '2014-11-20T13:30:49Z', 'dat...</td>\n",
       "      <td>1</td>\n",
       "      <td>2</td>\n",
       "    </tr>\n",
       "  </tbody>\n",
       "</table>\n",
       "</div>"
      ],
      "text/plain": [
       "                                            filename  \\\n",
       "0          8th-enisa-workshop-certs-in-europe-report   \n",
       "1  a-collection-of-good-practice-for-cert-quality...   \n",
       "2  a-security-analysis-of-next-generation-web-sta...   \n",
       "3                actionable-information-for-security   \n",
       "4     algorithms-key-size-and-parameters-report-2014   \n",
       "\n",
       "                                               title   keywords  \\\n",
       "0               8th ENISA Workshop ‘CERTs in Europe’   [CSIRTs]   \n",
       "1                                                            []   \n",
       "2  a-security-analysis-of-next-generation-web-sta...         []   \n",
       "3                actionable-information-for-security   [CSIRTs]   \n",
       "4     algorithms-key-size-and-parameters-report-2014  [Privacy]   \n",
       "\n",
       "                                              topics  \\\n",
       "0                                                 []   \n",
       "1              [CSIRTs in Europe, CSIRT Cooperation]   \n",
       "2  [Internet Infrastructure, Understanding the im...   \n",
       "3                [CSIRT Services, Reactive Services]   \n",
       "4  [Cryptographic protocols and tools, Security o...   \n",
       "\n",
       "                                                text  \\\n",
       "0  \\n\\n\\n\\n\\n\\n\\n\\n\\n\\n\\n\\n\\n\\n\\n\\n\\n\\n\\n\\n\\n\\n\\n...   \n",
       "1  \\n\\n\\n\\n\\n\\n\\n\\n\\n\\n\\n\\n\\n\\n\\n\\n\\n\\n\\n\\n\\n\\n\\n...   \n",
       "2  \\n\\n\\n\\n\\n\\n\\n\\n\\n\\n\\n\\n\\n\\n\\n\\n\\n\\n\\n\\n\\n\\n\\n...   \n",
       "3  \\n\\n\\n\\n\\n\\n\\n\\n\\n\\n\\n\\n\\n\\n\\n\\n\\n\\n\\n\\n\\n\\n\\n...   \n",
       "4  \\n\\n\\n\\n\\n\\n\\n\\n\\n\\n\\n\\n\\n\\n\\n\\n\\n\\n\\n\\n\\n\\n\\n...   \n",
       "\n",
       "                                            metadata  num_keywords  num_topics  \n",
       "0  {'Last-Modified': '2014-01-10T16:07:35Z', 'dat...             1           0  \n",
       "1  {'Last-Modified': '2009-06-22T13:09:55Z', 'dat...             0           2  \n",
       "2  {'Last-Modified': '2011-08-02T13:37:24Z', 'dat...             0           3  \n",
       "3  {'Last-Modified': '2015-01-19T07:28:32Z', 'dat...             1           2  \n",
       "4  {'Last-Modified': '2014-11-20T13:30:49Z', 'dat...             1           2  "
      ]
     },
     "execution_count": 2,
     "metadata": {},
     "output_type": "execute_result"
    }
   ],
   "source": [
    "pdf.head()"
   ]
  },
  {
   "cell_type": "code",
   "execution_count": 3,
   "metadata": {},
   "outputs": [
    {
     "name": "stdout",
     "output_type": "stream",
     "text": [
      "ahoj\n",
      "\n",
      "ahoj\n",
      "\n",
      "ahoj\n",
      "ahoj\n"
     ]
    }
   ],
   "source": [
    "def remove_multiple_empty_lines(s):\n",
    "    \"\"\"Remove multiple empty lines.\n",
    "    \n",
    "    The pdf documents contain a lot of whitespace. This function removes multiple empty lines.\n",
    "    The idea is to keep at most two consecutive newline characters because\n",
    "    two consecutive newline characters will be used to split the text into an array of paragraphs.\n",
    "    \"\"\"\n",
    "    \n",
    "    return re.sub(r'\\n(\\n)+', '\\n\\n', s, flags=re.MULTILINE)\n",
    "\n",
    "print(remove_multiple_empty_lines('ahoj\\n\\nahoj\\n\\n\\nahoj\\nahoj'))"
   ]
  },
  {
   "cell_type": "code",
   "execution_count": 4,
   "metadata": {},
   "outputs": [
    {
     "name": "stdout",
     "output_type": "stream",
     "text": [
      "True\n",
      "False\n",
      "False\n",
      "True\n"
     ]
    }
   ],
   "source": [
    "def is_whitespace(s):\n",
    "    \"\"\"Returns true if the string consists of whitespace characters only.\"\"\"\n",
    "    return bool(re.match(\"^\\s+$\", s)) | (len(s) == 0)\n",
    "\n",
    "print(is_whitespace(\"\\n \\t  \"))\n",
    "print(is_whitespace(\"ahoj\\n \\t  \"))\n",
    "print(is_whitespace(\"\\n \\t  ahoj\"))\n",
    "print(is_whitespace(\"\"))"
   ]
  },
  {
   "cell_type": "code",
   "execution_count": 5,
   "metadata": {},
   "outputs": [],
   "source": [
    "def to_paragraphs(s):\n",
    "    \"\"\"Split the text of the document into paragraphs.\"\"\"\n",
    "    ps = remove_multiple_empty_lines(s).split('\\n\\n')\n",
    "    return [p for p in ps if not is_whitespace(p)]"
   ]
  },
  {
   "cell_type": "code",
   "execution_count": 6,
   "metadata": {},
   "outputs": [],
   "source": [
    "def to_sentences(s):\n",
    "    \"\"\"Split the text of the document into sentences.\"\"\"\n",
    "    ps = remove_multiple_empty_lines(s).split('\\n')\n",
    "    return [p for p in ps if not is_whitespace(p)]"
   ]
  },
  {
   "cell_type": "code",
   "execution_count": 7,
   "metadata": {},
   "outputs": [
    {
     "name": "stdout",
     "output_type": "stream",
     "text": [
      "['ahoj', 'ISBN: 978-92-9204-184-7']\n"
     ]
    }
   ],
   "source": [
    "def remove_until_ISBN(ps):\n",
    "    \"\"\"Removes all text before ISBN.\n",
    "    \n",
    "    The ENISA pdf documents start with the text about ENISA, acknowledgements and legal notice.\n",
    "    The legal notice section is the last one to appear before the table of contents.\n",
    "    The last paragraph in the legal notice section is the ISBN number.\n",
    "    We can use this function to have the document starting with the table of contents.\n",
    "    However, not all documents follow this structure.\n",
    "    \n",
    "    Arguments:\n",
    "        ps: Array of paragraphs. Each paragraph is a string.\n",
    "    \n",
    "    Returns:\n",
    "        Array of paragraphs without the ones until the ISBN number.\n",
    "    \"\"\"\n",
    "    \n",
    "    for i, p in enumerate(ps):\n",
    "        if bool(re.match(\"^ISBN:.+doi:\", p)):\n",
    "            return ps[i+1:]\n",
    "\n",
    "print(remove_until_ISBN(['ahoj', 'ISBN: 978-92-9204-184-7 | doi: 10.2824/87614', 'ahoj', 'ISBN: 978-92-9204-184-7']))"
   ]
  },
  {
   "cell_type": "code",
   "execution_count": 8,
   "metadata": {},
   "outputs": [
    {
     "name": "stdout",
     "output_type": "stream",
     "text": [
      "True\n",
      "False\n",
      "False\n",
      "False\n",
      "True\n",
      "False\n",
      "False\n",
      "False\n"
     ]
    }
   ],
   "source": [
    "CONTENTS = ['table of contents', 'contents']\n",
    "RECOMMENDATIONS = ['recommendations', 'detailed recommendations', 'general recommendations']\n",
    "SUMMARY = ['executive summary', 'management summary', 'summary', 'conclusions', 'preface']\n",
    "\n",
    "def is_title(s):\n",
    "    \"\"\"Returns true if the string is a chapter title.\n",
    "    \n",
    "    Any string starting with a number is considered a title if it does not contain a URL.\n",
    "    Apart from such strings, we also check for common titles that often appear in the pdf documents\n",
    "    and are not preceded with any chapter number.\n",
    "    \"\"\"\n",
    "    \n",
    "    common_titles = CONTENTS + RECOMMENDATIONS + SUMMARY + [\n",
    "        'about ENISA', 'contact details', 'credits', 'acknowlegements', 'legal notice',\n",
    "        'glossary', 'annex', 'appendix']\n",
    "    for ct in common_titles:\n",
    "        #if bool(re.match(\"^[0-9,.]*\\s*{}\".format(ct), s.lower())):\n",
    "        if bool(re.match(\"^[0-9]*[.]*\\s*{}\".format(ct), s.lower())):\n",
    "            return True\n",
    "    \n",
    "    return(\n",
    "           #bool(re.match(\"^[0-9,.]+\\s+\\S+\", s)) and\n",
    "           bool(re.match(\"^[0-9]+[.]*\\s+\\S+\", s)) and\n",
    "           not bool(re.match(r'.*\\s+\\bhttp\\S+', s)))\n",
    "\n",
    "print(is_title(\"1. Introduction\"))\n",
    "print(is_title(\"1.2 Introduction\"))\n",
    "print(is_title(\"1,2 Introduction\"))\n",
    "print(is_title(\"Introduction 1\"))\n",
    "print(is_title(\"Recommendations\"))\n",
    "print(is_title(\"9 See http://ec.europa.eu/transport/index_en.htm\"))\n",
    "print(is_title(\"4\\n http://www.team-cymru.org/\"))\n",
    "print(is_title(\"1.2\"))"
   ]
  },
  {
   "cell_type": "code",
   "execution_count": 9,
   "metadata": {},
   "outputs": [
    {
     "name": "stdout",
     "output_type": "stream",
     "text": [
      "executive summary\n",
      "1 introduction\n",
      "1 introduction\n"
     ]
    }
   ],
   "source": [
    "def strip_title(s):\n",
    "    title = s.lower().strip()\n",
    "           \n",
    "    # Remove whitespace and anything beyond ...\n",
    "    i = title.find(\"...\")\n",
    "    if i > -1:\n",
    "        title = title[:i].strip()\n",
    "                \n",
    "    # Remove page number at the end.\n",
    "    title = re.compile(\"([0-9]+|[ivxlcdm]+)$\").sub(\"\", title).strip()\n",
    "    \n",
    "    # Remove the section number at the beginning\n",
    "    #title = re.compile(\"^[0-9,.]+\\s+\").sub(\"\", title).strip()\n",
    "    \n",
    "    return title\n",
    "    \n",
    "print(strip_title(\"Executive summary iii\"))\n",
    "print(strip_title(\"1 Introduction 12\"))\n",
    "print(strip_title(\"1 Introduction ...\"))"
   ]
  },
  {
   "cell_type": "code",
   "execution_count": 10,
   "metadata": {},
   "outputs": [
    {
     "data": {
      "text/plain": [
       "['table of contents', 'executive summary', '1 introduction']"
      ]
     },
     "execution_count": 10,
     "metadata": {},
     "output_type": "execute_result"
    }
   ],
   "source": [
    "def get_titles(ps, found_table_of_contents, stop_on_duplicates):\n",
    "    \"\"\"Find chapter titles.\n",
    "\n",
    "    Parameters:\n",
    "        found_table_of_contents: If true, the chapter title search will start from the beginning of the document,\n",
    "            i.e. as if the table of contents have been found already.\n",
    "            If false, the chapter title search will start after the table of contents are found.\n",
    "        stop_on_duplicates: If true, the chapter title search will stop once duplicate titles are found.\n",
    "            This usually appears once the actual titles start appearing after the listing in the table of contents.\n",
    "            Note that duplicates will never be returned.\n",
    "            This flag is introduced only to avoid getting false titles from the body text.\n",
    "    \n",
    "    Returns:\n",
    "        List of unique chapter titles.\n",
    "    \"\"\"\n",
    "\n",
    "    titles = list()\n",
    "    for p in ps:\n",
    "        if is_title(p):\n",
    "            title = strip_title(p)\n",
    "\n",
    "            if title in CONTENTS:\n",
    "                found_table_of_contents = True\n",
    "\n",
    "            # If found_table_of_contents == True,\n",
    "            # start adding titles to the list once the table of contents section starts.\n",
    "            if found_table_of_contents:\n",
    "                # If stop_on_duplicates == True,\n",
    "                # stop searching for chapter titles once duplicates are detected after the table of contents.\n",
    "                # We assume that once a duplicate appears, we are already beyond the table of contents section,\n",
    "                # in the first chapter of the document.\n",
    "                # This is to protect against getting false titles identified in the body text.\n",
    "                if title in titles and stop_on_duplicates:\n",
    "                    break\n",
    "                if not title in titles:\n",
    "                    titles.append(title)\n",
    "    return titles\n",
    "\n",
    "text = \"\"\"Table of Contents\n",
    "\n",
    "Executive Summary iii\n",
    "\n",
    "1 Introduction 12\n",
    "\n",
    "Executive Summary\n",
    "\n",
    "This is the executive summary.\n",
    "\n",
    "1 Introduction\n",
    "\n",
    "This is the introduction.\n",
    "\"\"\"\n",
    "titles = get_titles(to_paragraphs(text), True, False)\n",
    "titles"
   ]
  },
  {
   "cell_type": "code",
   "execution_count": 11,
   "metadata": {},
   "outputs": [
    {
     "data": {
      "text/plain": [
       "{'1 introduction': '1 Introduction 12\\n1 Introduction\\n\\nThis is the introduction.\\n',\n",
       " 'executive summary': 'Executive Summary iii\\nExecutive Summary\\n\\nThis is the executive summary.',\n",
       " 'table of contents': 'Table of Contents'}"
      ]
     },
     "execution_count": 11,
     "metadata": {},
     "output_type": "execute_result"
    }
   ],
   "source": [
    "def get_chapters(ps, titles):\n",
    "    chapter_start = list()\n",
    "    past_table_of_contents = False\n",
    "    for i, p in enumerate(ps):\n",
    "        # Apply the changes that are used for the titles to every paragraph.\n",
    "        # This is necessary becasue we will be comparing every paragraph to the titles.\n",
    "        s = strip_title(p)\n",
    "    \n",
    "        if s in titles:\n",
    "            chapter_start.append(i)\n",
    "#        # The actual chapter start after the table of contents.\n",
    "#        if past_table_of_contents and s in titles:\n",
    "#            chapter_start.append(i)\n",
    "#        if s in CONTENTS:\n",
    "#            past_table_of_contents = True\n",
    "        \n",
    "    chapter_end = [i for i in chapter_start[1:]]\n",
    "    chapter_end.append(len(ps))\n",
    "    \n",
    "    chapters = dict()\n",
    "    for start, end in zip(chapter_start, chapter_end):\n",
    "        title = strip_title(ps[start])\n",
    "        text = \"\\n\\n\".join(ps[start:end])\n",
    "        if title in chapters.keys():\n",
    "            chapters[title] += \"\\n\" + text\n",
    "        else:\n",
    "            chapters[title] = text\n",
    "    \n",
    "    return chapters\n",
    "\n",
    "chapters = get_chapters(to_paragraphs(text), titles)\n",
    "chapters"
   ]
  },
  {
   "cell_type": "code",
   "execution_count": 12,
   "metadata": {},
   "outputs": [
    {
     "name": "stdout",
     "output_type": "stream",
     "text": [
      "\n"
     ]
    }
   ],
   "source": [
    "def get_recommendations(chapters):\n",
    "    keys = chapters.keys()\n",
    "    s = \"\"\n",
    "    for key in keys:\n",
    "        # Remove the section number at the beginning\n",
    "        key_without_number = re.compile(\"^[0-9,.]+\\s+\").sub(\"\", key).strip()\n",
    "        if key_without_number in RECOMMENDATIONS:\n",
    "            s += chapters[key]\n",
    "    return s\n",
    "\n",
    "print(get_recommendations(chapters))"
   ]
  },
  {
   "cell_type": "code",
   "execution_count": 13,
   "metadata": {},
   "outputs": [
    {
     "name": "stdout",
     "output_type": "stream",
     "text": [
      "Executive Summary iii\n",
      "Executive Summary\n",
      "\n",
      "This is the executive summary.\n"
     ]
    }
   ],
   "source": [
    "def get_summary(chapters):\n",
    "    keys = chapters.keys()\n",
    "    s = \"\"\n",
    "    for key in keys:\n",
    "        # Remove the section number at the beginning\n",
    "        key_without_number = re.compile(\"^[0-9,.]+\\s+\").sub(\"\", key).strip()\n",
    "        if key_without_number in SUMMARY:\n",
    "            s += chapters[key]\n",
    "    return s\n",
    "\n",
    "print(get_summary(chapters))"
   ]
  },
  {
   "cell_type": "code",
   "execution_count": 14,
   "metadata": {},
   "outputs": [
    {
     "data": {
      "text/plain": [
       "'\\n\\n\\n\\n\\n\\n\\n\\n\\n\\n\\n\\n\\n\\n\\n\\n\\n\\n\\n\\n\\n\\n\\n\\n\\n\\n\\n\\n\\n\\n\\n\\n\\n\\n\\n\\n\\n\\n\\n\\n\\n\\n \\n\\n  \\n\\nJuly 2011 \\n\\nA Security Analysis of  \\n\\nNext Generation Web Standards  \\n\\n \\n\\n \\n\\n \\n\\n \\n\\n \\n\\n \\n\\n \\n\\n \\n\\n \\n\\n  \\n\\n\\n\\n \\n\\n  \\n\\nAbout ENISA \\n\\nThe European Network and Information Security Agency (ENISA) is an EU agency created \\nto advance the functioning of the internal market. ENISA is a centre of expertise for the \\nEuropean Member States and European institutions in network and information security, \\ngiving advice and recommendations and acting as a switchboard of information for good \\npractices. Moreover, the agency facilitates contacts between the European institutions, the \\nMember States, private business and industry actors. \\n\\nContact details: \\n\\nEditors: Dr. Giles Hogben (giles.hogbenQenisa.europa.eu) and Dr. Marnix Dekker \\n(marnix.dekkerQenisa.europa.eu) \\n\\nAuthors: Philippe De Ryck, Lieven Desmet, Pieter Philippaerts, and Frank Piessens, \\nKatholieke Universiteit Leuven \\n\\nMedia Inquiries: Ulf Bergstrom (ulf.bergstromQenisa.europa.eu).  \\n\\nCredits \\n\\nThe security analysis was performed by the DistriNet Research Group, K.U.Leuven, \\nBelgium, and in particular by Prof. Dr. ir. Frank Piessens, Dr. ir. Lieven Desmet, Dr. Pieter Philippaerts \\nand Philippe De Ryck.  \\n\\nAcknowledgements \\n\\nWe would like to thank Thomas Roessler and Michael Smith from W3C for interesting \\ndiscussions and additional pointers while reviewing the security analysis. \\n\\n \\n\\n  \\n \\n\\nLegal notice \\n\\nNotice must be taken that this publication represents the views and interpretations of the authors and editors, \\nunless stated otherwise. This publication should not be construed to be an action of ENISA or the ENISA bodies \\nunless adopted pursuant to the ENISA Regulation (EC) No 460/2004. This publication does not necessarily \\nrepresent state-of the-art and it might be updated from time to time. \\n\\nThird-party sources are quoted as appropriate. ENISA is not responsible for the content of the external sources \\nincluding external websites referenced in this publication. \\n\\nThis publication is intended for educational and information purposes only. Neither ENISA nor any person acting \\non its behalf is responsible for the use that might be made of the information contained in this publication.  \\n\\nReproduction is authorised provided the source is acknowledged. \\n\\n© European Network and Information Security Agency (ENISA), 2011 \\n\\n\\n\\n \\n\\n2 \\n\\n \\n\\nA Security Analysis of Next Generation Web Standards \\n\\n \\n\\nExecutive summary \\n\\nThe web browser is arguably the most security-critical component in our information infrastructure. \\nIt has become the channel through which most of our information passes. Banking, social \\nnetworking, shopping, navigation, card payments, managing high value cloud services and even \\ncritical infrastructures such as power networks – almost any activity you can imagine now takes \\nplace within a browser window. \\n\\nThis has made browsers an increasingly juicy target for cyber-attacks: the volume of web-based \\nattacks per day increased by 93% in 2010 compared to 2009, with 40 million attacks a day recorded \\nfor September 2010 (Symantec Threat Report, 2010). Many more complex threats such as DDoS \\nattacks using botnets rely on flaws in web browsers, which allow the installation of malware. Even if \\nthe root cause is elsewhere, the browser is often in a position to protect the user – e.g. in \\ncombatting phishing and pharming etc. \\n\\nThe standards which govern the browser – and hence its security - are currently undergoing a major \\ntransformation. In order to accommodate innovations in web applications and their business models, \\na raft of new standards is currently being developed. These include an overhaul of HTML (HTML5), \\ncross-origin communication standards such as CORS and XHR, standards for access to local data \\nsuch as geo-location, local storage and packaged stand-alone applications (widgets). \\n\\nMany of these standards are reaching a point of no return, beyond which opportunities for security-\\nby-design will be lost. ENISA is seizing a unique chance to make detailed recommendations for \\nimprovements to browser security before the current suite of new standards reaches \\nrecommendation status within W3C - at which point they will be non-negotiable for several years to \\ncome (HTML 4.0 has been unchanged since 1999). \\n\\nThe report analyses 13 W3C specifications covering HTML 5, Cross-origin communication Interfaces \\n(e.g. Web Messaging and Cross-Origin Resource Sharing), Device Application Programming \\nInterfaces (APIs) (e.g. Geo-location, Web Storage and Media Capture), and Widgets. For each \\nspecification, we perform a threat analysis using a consistent methodology which is explained in \\n[4.1]. A general observation of the security analysis is that the security quality of the studied \\nspecifications is reasonably high, especially given the number of introduced capabilities and amount \\nof specifications. In total 51 security threats and issues are identified and detailed in this report. \\n\\nMost of the threats (25) identify security-relevant capabilities in the individual specifications which \\nare not well-defined or insecure. In the analysis, we identify cases of unprotected access to sensitive \\ninformation, new ways to trigger form submission to adversaries, adversary-controlled cross-domain \\nrequests, granularity problems in specifying and enforcing least-privilege policies, potential \\nmismatches with Operating System permission management, and underspecified capabilities, \\npotentially leading to conflicting or error-prone implementations. \\n \\nWe also identify 8 issues and potential threats dealing with isolation properties. This includes new \\nways to escape origin separation and click-jacking protection, as well as under-specified behaviour in \\na restricted browsing context (such as a sandboxed i-frame). We also identify permission \\ninconsistencies and under-specifications, as well as issues in dealing with user-involvement. The \\nfollowing is a selection of the most important threats identified: \\n\\n\\uf0b7 CORS: Interaction with legacy servers: The CORS specification allows a simple POST request \\nto send arbitrary data in contrast to the key=value format imposed by form elements. This \\nenables an attacker to trigger cross-domain APIs. \\n\\n\\uf0b7 Web Messaging: Origin delegation: In case a channel is set up to securely pass messages \\nbetween two frames, one of the endpoints can easily be passed on to a less-trusted third origin \\nwithout the original sender noticing (or being able to prevent it). \\n\\n\\uf0b7 HTML5: Content Handlers: Content and protocol handlers allow delegation to remote service \\nproviders for specific protocols or content types. The use of HTTPS URLs with content/protocol \\nhandlers is discouraged, but the specification does not explain why. There is also no specification \\n\\n\\n\\n \\n\\n3 \\n\\n \\n\\nA Security Analysis of Next Generation Web Standards \\n\\nof how to inform end-users that a content/protocol handler is registered. Therefore it may \\nremain active indefinitely without the user realizing. \\n\\n\\uf0b7 HTML5: Disabling Click-jacking Protection: A common technique to mitigate click-jacking \\nattacks is to check via JavaScript if a window is framed and if so, break out of the frame. \\nHowever, if an attacker applies the i-frame sandbox option that disables top-level navigation, \\nthis technique is prohibited, and the framed window is vulnerable to click-jacking.  \\n\\n\\uf0b7 HTML5: Form Tampering: Due to the newly-provided capability to introduce buttons outside a \\nform, an attacker can now , using simple HTML injection, more easily lure an end-user in \\nsubmitting filled-in form values to an attacker-controlled destination. \\n\\n\\uf0b7 Geo-location: Cache Polling: The use of the geo-location cache API allows the explicit retrieval \\nof the latest geo-location entry from a cache, according to freshness criteria. This allows an \\nattacker to retrieve a previous location of the end-user, as well as timing information on that \\nparticular location. \\n\\nWe make recommendations on: \\n\\n\\uf0b7 Controlling functionality: E.g. through enhanced access control policies such as the Content \\nSecurity Policy specification currently in development. \\n\\n\\uf0b7 Permission system design: Permissions systems are currently either underspecified or \\ninconsistent across specifications. Ideally this could be resolved by a separate specification for \\npermissions systems referenced by all related specifications. Failing this, co-ordination between \\nspecifications is recommended. We also recommend co-ordination with permissions systems in \\n\\nlower layers (e.g. smartphone OS). This would also help to manage threats which exploit \\nfeatures in multiple specifications such as ever-cookies which can exploit HTML5 \\nfeatures to create extremely persistent 3rd party identifiers. \\n\\n\\uf0b7 More detailed user interface requirements: Permissions specifications should require certain \\nfeatures in user interfaces such as information about the document origin, if the permission is for \\none-shot or monitoring access etc. \\n\\n\\uf0b7 End-user policing: The ability of users to make correct decisions on security has its limits. \\nUsers are often unable to assess the implications of granting permissions to certain origins. \\nInvolving the user too often leads to blindly approving permissions. Specifications should require \\npermission awareness indicators, so the user knows when a site is using a granted permission. \\nUsers should also have a way to select predefined security profiles. \\n\\n\\uf0b7 Restricted contexts: Only one of the specifications studied takes into account the possibilities \\noffered by restricted contexts such as private browsing or sandboxes. Private browsing should be \\nincluded in a W3C specification which defines behaviours such as whether permissions should be \\nshared outside of private browsing mode. \\n\\n \\nWe also make recommendations targeted at specific stakeholder groups: \\n\\n\\uf0b7 Standards working groups and browser vendors: Here we recommend changes to each of \\nthe specification documents to address each threat. We have also produced targeted descriptions \\nof these recommendations and sent them to the relevant working groups. \\n\\n\\uf0b7 Web application developers: We draw the web developer’s attentions to the implications of \\ncertain specification elements such as the possibility to put form buttons outside the form \\nelement, the implications of sandboxing for click-jacking protection and the importance of client-\\nside validation of locally stored data. \\n\\n\\uf0b7 End-users: We recommend the use of separate browser profiles for different types of task. \\nEveryday browsing should be separated from more sensitive activities such as online banking. \\nDifferent contexts should be sandboxed, with different settings and permissions. \\n\\nAn important conclusion of this study is that significantly less security issues were found in those \\nspecifications which have already received the most attention from academic study and review (e.g. \\nCORS).   This demonstrates the value of in-depth security review across all up-coming specifications, \\nas we have performed in this work. \\n\\n\\n\\n \\n\\n4 \\n\\n \\n\\nA Security Analysis of Next Generation Web Standards \\n\\n \\n\\n \\n\\nTable of contents \\n\\nAbout ENISA ..................................................................................................................................... 1 \\nContact details: ................................................................................................................................ 1 \\nCredits .............................................................................................................................................. 1 \\nAcknowledgements .......................................................................................................................... 1 \\n\\nExecutive summary .................................................................................................................. 2 \\n1. Scope .............................................................................................................................. 5 \\n\\nTerminology ..................................................................................................................................... 6 \\n\\n2. Analysis results............................................................................................................... 7 \\n2.1. Overview................................................................................................................................ 7 \\n2.2. Selection of more severe threats ........................................................................................... 8 \\n2.3. Extensive Functionality Growth ............................................................................................. 9 \\n2.4. Dealing with Multiple Browsing Contexts .............................................................................. 9 \\n2.5. Additional Permission Systems ............................................................................................ 10 \\n2.6. Conflicting Security Controls ................................................................................................ 11 \\n\\n3. Recommendations ....................................................................................................... 12 \\n3.1. Controlling Functionality ...................................................................................................... 12 \\n3.2. Consistent Permission Systems ............................................................................................ 13 \\n3.3. End User Policing ................................................................................................................. 14 \\n3.4. Restricted Contexts .............................................................................................................. 14 \\n3.5. General Recommendations .................................................................................................. 14 \\n\\n4. Security analysis ........................................................................................................... 17 \\n4.1. Approach ............................................................................................................................. 17 \\n4.2. HTML5 - Elements ................................................................................................................ 23 \\n4.3. HTML5 - Attributes .............................................................................................................. 26 \\n4.4. HTML5 - Navigation ............................................................................................................. 29 \\n4.5. HTML5 - Application Cache .................................................................................................. 31 \\n4.6. HTML5 - Browser Features ................................................................................................... 33 \\n4.7. Web Messaging .................................................................................................................... 37 \\n4.8. XMLHttpRequest Level 1 and 2 ............................................................................................ 39 \\n4.9. Cross-Origin Resource Sharing ............................................................................................. 42 \\n4.10. Uniform Messaging Policy ................................................................................................ 44 \\n4.11. Web Storage ..................................................................................................................... 46 \\n4.12. Geo-location API ............................................................................................................... 49 \\n4.13. Media Capture API ........................................................................................................... 52 \\n4.14. System Information API .................................................................................................... 53 \\n4.15. Widgets - Digital Signatures .............................................................................................. 55 \\n4.16. Widgets - Access Request Policy ....................................................................................... 57 \\n\\nReferences ............................................................................................................................. 59 \\n \\n\\n  \\n\\n\\n\\n \\n\\n5 \\n\\n \\n\\nA Security Analysis of Next Generation Web Standards \\n\\n1. Scope \\n\\nThe focus of this report is a security analysis of newly offered capabilities in upcoming web \\nstandards and specifications, including a threat enumeration and a set of \\nrecommendations. \\n\\nIn particular, this study focuses on the use of web standards in multi-tenant applications \\n(such as web mashups). In such applications, multiple stakeholders provide content and/or \\nfunctionality with different trust levels and different security characteristics. Due to the \\nfragmentation of ownership in such aggregated applications, there is a clear need for both \\nisolation as well as collaboration between components (either cross-domain/origin, or \\nwithin the same domain/origin). The report then makes recommendations for more secure \\nisolation and collaboration. It also identifies features of standards which represent risks \\nunlikely to be addressed within specifications because they underpin vital usability \\nconsiderations. It is still important to raise awareness of such “necessary evils” so that \\nusers can make informed choices. \\n\\nFor the analysis, the following system use case scenarios were the primary drivers: \\n\\n1. Inter-component communication (i.e. inter-page messaging) \\n\\n2. Cross-application web communication \\n3. Least-privilege integration of third-party web components \\n4. Use of newly-proposed Human Computing Interfaces (media capture, geo-location, …) \\n5. Storing and retrieving client data in local Web Storage \\nThis multi-tenant focus (illustrated by the system use case scenarios) and the identified \\ncategories of security issues scope the assessment to the following specifications: \\n\\n1. HTML 5 specification [1] \\n\\n2. Cross-origin messaging specification \\n\\na. XML Http Request levels 1 and 2 [2,3] \\n\\nb. Uniform Messaging Policy [4] \\n\\nc. Cross-Origin Resource Sharing [5] \\n\\nd. HTML5 Web Messaging [6] \\n\\n3. Device API specifications \\n\\na. Media Capture API [7] \\n\\nb. System Information API ( systems info and events) [8] \\n\\nc. Permissions for Device API Access [9] \\n\\nd. Device API Privacy Requirements [10] \\n\\ne. Web Storage [11] \\n\\nf. Geo-location API Specification [12] \\n\\n4. Widget specifications \\n\\na. Widget Access Request Policy [13] \\n\\nb. Digital Signatures for Widgets [14] \\n\\nIn later follow-ups of this security assessment, it would be interesting to extend this scope \\n\\nto the other promising and emerging specifications and technologies (which were not \\nconsidered mature enough at the time of writing) such as the Content Security Policy \\n(CSP) [28], the Do Not Track header [31], alternative client-side storage techniques (e.g. \\nIndexed DB [32], File API [33]), and the X-Frame-Options response header [27]. \\n\\n \\n\\n\\n\\n \\n\\n6 \\n\\n \\n\\nA Security Analysis of Next Generation Web Standards \\n\\n \\n\\nTerminology \\n\\nThroughout this document, we consistently use the following terminology: \\n\\nCapability: a piece of functionality, available to a user or a script. \\n\\nOrigin: a triple (scheme, host, port) \\n\\nDocument Origin or Origin: the origin of a document in the browser \\n\\nEffective Script Origin: the origin of a script in the browser. This origin can be relaxed with \\ndocument.domain to a suffix of the current origin. \\n\\nUnique Origin: a globally unique identifier, which is used internally \\n\\nDocument Address: the address of the document, typically the URI. The address when a \\ndocument was opened can differ from the current address (e.g. by adding a fragment \\nidentifier or using the history interface) \\n\\nRestricted Context: a context where certain restrictions apply. Examples are a \\nsandboxed context with a unique origin, or a private browsing context as found in all \\nmodern browsers \\n\\nPrivate Browsing Context: a separate browsing mode, in which no history or site \\ninformation will be stored. Firefox uses the term private browsing mode, Chrome has \\nincognito windows and IE has InPrivate. \\n\\n  \\n\\n\\n\\n \\n\\n7 \\n\\n \\n\\nA Security Analysis of Next Generation Web Standards \\n\\n2. Analysis results \\n\\nIn this section, we briefly summarize the results of the analysis, and discuss some of the \\nmore severe threats identified during the security analysis. In addition, we distill several \\nhigher-level issues from this overview, which cover numerous capabilities and threats. The \\nrecommendations discussed later, are largely based on these higher-level issues. \\n\\n2.1. Overview \\nAn important observation resulting of this study is that the security quality of the studied \\nspecifications appears generally high, especially given the number of introduced \\ncapabilities and amount of specifications. The main goal of this assessment is to further \\nidentify and reduce remaining issues, as well as identifying trade-offs made between \\nsecurity and usability. \\n\\nBy way of disclaimer, we note that with the large amount of newly introduced \\nfunctionality, which reflects the transformation in the use-cases for the web, it is \\nimpossible to analyse all possible security implications (e.g. implications of combinations of \\nnew capabilities). The real-world will no doubt throw up many unforeseen threats. \\n\\nIn our security analysis, we identified 51 issues and potential threats, as summarized, \\n\\nper security question, in the table below.  \\n\\n Well \\ndefined / \\nSecure \\n\\nIsolation \\nProperties \\n\\nConsistency User \\nInvolvement \\n\\nHTML5 8 3 2 2 \\n\\nWeb Messaging  1 2  \\n\\nXHR 1 + 2 1    \\n\\nCORS 2 1   \\n\\nUMP      \\n\\nWeb Storage 3 1 1  \\n\\nGeo-location API 5 1 1 1 \\n\\nMedia Capture API   3  \\n\\nSystem Information API 3 1 1 2 \\n\\nWidgets - Digital \\nSignatures \\n\\n   2 \\n\\nWidgets - Access Request \\nPolicy \\n\\n3   1 \\n\\nTotal 25 8 10 8 \\n\\n \\n\\nMost of the threats (25) were triggered by the first security question, namely if the \\nsecurity-relevant aspects of the newly introduced capabilities are well-defined and \\nsecure. In the analysis, we identified cases of unprotected access to sensitive information, \\nnew ways to trigger form submission to adversaries and adversary-controlled cross-\\n\\n\\n\\n \\n\\n8 \\n\\n \\n\\nA Security Analysis of Next Generation Web Standards \\n\\n \\n\\ndomain requests, granularity problems in specifying and enforcing least-privilege policies, \\npotential mismatches with OS permission management, and underspecified capabilities, \\npotentially leading to conflicting or error-prone implementations. \\n\\nNext, we identified 8 issues and potential threats dealing with isolation properties. This \\nincludes new ways to potentially escape the origin separation and existing click-jacking \\nprotection, as well as underspecified behaviour if executed in a restricted browsing context \\n(such as a sandboxed iframe).  \\n\\nFinally, we also identified 10 permission inconsistencies and under-specifications across \\nthe various specifications dealing with permission management. In addition, 8 issues were \\nraised concerning user-involvement. This includes ambiguity about the permission \\nnature, the way user consent is asked, and awareness feedback towards the end-user. \\n\\n2.2. Selection of more severe threats \\nIn this section, we briefly review some of the more severe threats identified in the security \\nanalysis. For a more elaborate overview of all the identified issues and potential threats, \\nwe refer to [Security analysis]. \\n\\nCORS-SECURE-1.Legacy Servers The CORS specification allows a simple POST request to \\nsend arbitrary data as part of the body, in contrast to the key=value format imposed by \\n\\nform elements. This enables an attacker to trigger cross-domain APIs (e.g. REST), or \\npotentially facilitates cross-channel scripting [26]. \\n\\nWEBMSG-ISOLATION-2.Port Endpoint Origin In case a channel is set up to securely pass \\nmessages between two frames, one of the endpoints can easily be passed on to a less-\\ntrusted third origin without the sender noticing. This could happen in a benign scenario \\nwhere the receiver would like to delegate the message processing, but this could as well \\nbe the result of an XSS attack. In contrast to a direct invocation of postMessage on a \\n\\nwindow, a sender cannot explicitly scope the origin attribute of the destination when \\nsending over a channel, and as a result has no control over the receiving party. \\n\\nHTML5BROWSER-SECURE-1/2/3.Content/Protocol Handlers The content and protocol \\nhandlers allow delegation towards service providers for specific protocols or content types. \\nThis could, for instance enable a webmail service to register itself to handle all mailto:// \\nURLs, or a document processor to edit word documents, based on consent by the end-\\nuser. In case a handler is registered, the URL is not processed at the client-side, but the \\nURL is passed to the content/protocol handler, and is fetched as part of this service. \\n\\nAlthough these are valid scenarios in the evolving service landscape and emerging Web \\nOperating Systems, the impact of registering a malicious content/protocol handler is huge. \\nAt this moment, the specification only list potential security issues with the use of \\nhandlers, but leaves it up to the browser vendors and end-users to control the leakage of \\nconfidential data, or the registration for default protocols such as HTTP or HTTPS. The \\nspecification even discourages the use of HTTPS URLs if used in combination with \\ncontent/protocol handlers, but does not provide argumentation why insecure \\ncommunications should be used. In addition, there is no specification of how to indicate to \\nend-users that a content/protocol handler is registered and in use (user awareness). \\nBecause of this, it is quite probable that a content handler may be approved by an end-\\n\\nuser, and remain active indefinitely without the user remembering or realizing. \\n\\nHTML5ATTR-SECURE-1.Form Tampering Due to the newly-provided capability to introduce \\nbuttons outside a form, and override form properties (such as the action or method), an \\nattacker can now , using simple HTML injection, more easily lure an end-user in submitting \\n\\n\\n\\n \\n\\n9 \\n\\n \\n\\nA Security Analysis of Next Generation Web Standards \\n\\nfilled-in form values (either filled in by the end-user, or prefilled by the browser or server) \\nto an attacker-controlled destination. This means that existing input validation approaches \\nthat focus on script injection can easily be circumvented by injecting HTML, and validation \\ntechniques should be adapted appropriately. \\n\\nGEOLOC-SECURE-3.Cache Polling The use of the geo-location cache API allows the explicit \\nretrieval of the latest geo-location entry from a cache, according to the freshness criteria \\nspecified in the query. While this feature reduces the power-intensive geo-location queries, \\nit also allows an attacker to retrieve a previous location of the end-user, as well as timing \\ninformation on that particular location. The specification does not provide upper limits on \\nthe lifetime of geo-location cache entries. \\n\\nHTML5ATTR-ISOLATION-1.Disabling Click-jacking Protection A common technique to \\nmitigate click-jacking attacks is to check via JavaScript if a window is framed, and if so, \\nnavigate the top-level window to the window being framed [17]. However, if an attacker \\napplies the i-frame sandbox option that disables top-level navigation, the abovementioned \\nmitigation technique is prohibited, and the framed window is vulnerable to click-jacking. \\nAlternative techniques proposed in [17] to use the X-FRAME-OPTIONS [27], to use the \\nContent Security Policy (CSP) [28], or to render a window by default useless via JavaScript \\nin case it is framed, seem not to be affected by the sandbox attribute, but are not \\n\\nwidespread at this moment. \\n\\n2.3. Extensive Functionality Growth \\nIn the past few years, the available functionality on the client-side has seen an extensive \\ngrowth with the introduction of new APIs. The permission to use this extended \\nfunctionality is typically granted to a certain origin and stored persistently, until revoked \\nby the user. This situation can make sites that have acquired such privileges highly \\ninteresting targets for attackers. The related APIs are: \\n\\n\\uf0b7 HTML5 Browser Features \\n\\n\\uf0b7 Web Storage \\n\\n\\uf0b7 Geo-location API \\n\\n\\uf0b7 System Information API \\n\\n2.4. Dealing with Multiple Browsing Contexts \\nA lot of the functionality defined in the specifications is available in multiple browsing \\ncontexts, including restricted contexts such as a sandbox or a private browsing context. \\nUnfortunately, the specifications are not always clear on the exact behaviour of this \\nfunctionality in such a restricted context. Some example problems are \\n\\n\\uf0b7 Are permissions stored in a normal browsing context also valid in a restricted context \\n\\nor vice versa? \\n\\n\\uf0b7 Can data be stored under one browsing context and retrieved under the other? \\n\\nThe related threats are (see [Security analysis]): \\n\\n\\uf0b7 HTML5CACHE-ISOLATION-1.Restricted Context \\n\\n\\uf0b7 STORAGE-ISOLATION-2.Restricted Context \\n\\n\\uf0b7 GEOLOC-ISOLATION-1.Restricted Context \\n\\n\\uf0b7 SYSINFO-ISOLATION-1.Restricted Context \\n\\n \\n\\n\\n\\n \\n\\n10 \\n\\n \\n\\nA Security Analysis of Next Generation Web Standards \\n\\n \\n\\n2.5. Additional Permission Systems \\nSeveral specifications introduce potentially sensitive functionality; hence they also \\nintroduce or mention a permission system. Unfortunately, the permission systems are very \\ninconsistent between specifications, in multiple ways such as: \\n\\n\\uf0b7 Mention of potential policy violations, but no mention of how this system might/should \\n\\nwork \\n\\n\\uf0b7 Different bases for permission (e.g. for framed documents: document origin vs \\n\\ndocument origin + top-level origin) \\n\\n\\uf0b7 Lack of requirements for the permission UI, both for granting and for managing \\n\\npermissions \\n\\nThe table below offers an overview of all new permissions that are introduced by the \\nanalyzed APIs. Next to these APIs, there are undoubtedly other newly introduced APIs that \\nalso require some form of permission. \\n\\nThe columns of the table mean the following: \\n\\n\\uf0b7 Consent: is permission consent required for this functionality? Required either means \\n\\nthat the specification explicitly requires them or that an existing implementation of the \\n\\nspec requires permissions. \\n\\n\\uf0b7 Multiple Types: are there different types of operations that can require permissions \\n\\n(e.g. one-shot access versus continuous monitoring) \\n\\n\\uf0b7 Based On: on which basis is the permission set (e.g. Origin, Host, ...) \\n\\n\\uf0b7 Storable: can the permission be granted for multiple uses (i.e. more than one time) \\n\\n\\uf0b7 Manageable: can the permissions or other data be managed (e.g. revoke granted \\n\\npermissions, remove stored data, ...) \\n\\n \\n\\n Consent Multiple \\nTypes \\n\\nBased On Storabl\\ne \\n\\nManageabl\\ne \\n\\nOffline Applications yes no unknown unknown yes \\n\\nScheme/content \\nhandlers \\n\\nyes no Scheme / \\nContent \\nType \\n\\nyes yes \\n\\nWeb Storage no - Origin - yes \\n\\nGeo-location API yes yes Origin yes yes \\n\\nMedia Capture API yes no unknown no no \\n\\nSystem Information \\nAPI \\n\\nyes yes Origin yes yes \\n\\n \\n\\nThe related threats are: \\n\\n\\uf0b7 HTML5CACHE-CONSISTENCY-1.Permission System \\n\\n\\uf0b7 HTML5BROWSER-CONSISTENCY-1.Handler Permissions \\n\\n\\n\\n \\n\\n11 \\n\\n \\n\\nA Security Analysis of Next Generation Web Standards \\n\\n\\uf0b7 STORAGE-CONSISTENCY-1.Permission System \\n\\n\\uf0b7 GEOLOC-CONSISTENCY-1.Permission Management \\n\\n\\uf0b7 GEOLOC-USER-1.Permission Nature \\n\\n\\uf0b7 MEDIACAPTURE-CONSISTENCY-1.Requesting Consent \\n\\n\\uf0b7 MEDIACAPTURE-CONSISTENCY-2.Consent UI Content \\n\\n\\uf0b7 MEDIACAPTURE-CONSISTENCY-3.Consent UI Security \\n\\n\\uf0b7 SYSINFO-CONSISTENCY-1.Permission Management \\n\\n\\uf0b7 SYSINFO-USER-1.Permission Nature \\n\\n2.6. Conflicting Security Controls \\nThe devices on which web applications run are very diverse, ranging from classic desktop \\n\\nsystems to smartphones or embedded devices, such as gaming consoles or television sets. \\nEach of these devices runs an operating system, which may already contain security \\ncontrols for specific operations, such as determining the location of the device. Stacking \\nseveral security controls on top of each other may be problematic and can confuse the \\nuser. Additionally, the security controls defined in the specification are typically more fine-\\ngrained than the underlying security controls. \\n\\nThe related threats are: \\n\\n\\uf0b7 GEOLOC-SECURE-5.OS Conflicts \\n\\n\\uf0b7 SYSINFO-SECURE-3.OS Conflicts \\n\\n\\uf0b7 WARP-SECURE-3.OS Conflicts \\n\\n\\n\\n \\n\\n12 \\n\\n \\n\\nA Security Analysis of Next Generation Web Standards \\n\\n \\n\\n3. Recommendations \\n\\nIn this section, we present concrete recommendations to improve the security of the \\nanalyzed specifications. The recommendations are based on the threats identified in the \\n\\nsecurity analysis, as well as the higher-level problems identified in the conclusions of the \\nanalysis. \\n\\n3.1. Controlling Functionality \\n\\nOne conclusion of the security analysis is that a web application potentially has a large set \\nof privileges on the client-side. This can be problematic with the presence of well-known \\n\\nattacks, such as script injection. These attacks are already discussed by the HTML5 \\nSecurity Cheat Sheet, but the newly added functionality in HTML5 further increases this \\nattack vector, e.g. with the autofocus or formaction attribute. In this recommendation \\n\\nsection, we investigate restrictive countermeasures. \\n\\nCurrent restrictive systems (i.e. the sandbox attribute [HTML5ATTR-SECURE-2] or the \\n\\nWidget Access Request Policy [WARP-SECURE-1.Coarse-Grained Approach]) are very coarse-\\ngrained and only offer the option of enabling or disabling a certain functionality. It is \\ncurrently impossible to integrate third-party functionality into a web application (e.g. in a \\nmashup scenario) while applying the least-privilege security principle. In such a scenario, \\neither access to all security-sensitive APIs is given while relying on the same-origin policy \\nand user-consent mechanisms, or scripts are completely disabled. \\n\\nOne approach is the use of additional fine-grained policies. Such policies are typically \\nenforced at the client-side, but are often provided by the server. There are several types \\nof policies available, either in the form of additional response headers page (e.g. Content \\nSecurity Policy [27] and X-Frame-Options [26]) or embedded in the page. The latter can \\nbe achieved by using an inline reference monitor technique (e.g. ConScript[19], Safe \\nJavaScript Wrappers[20,21], WebJail[22]) or by ensuring the safety of the language, \\nbased on the capability security model (e.g. Caja [23]). \\n\\nOf these fine grained policies, the recently proposed Content Security Policy (CSP) is on its \\n\\nway to standardization and already offers extended control over scripts and embedded \\nobjects. Rigorously applying CSP certainly addresses several of the mentioned threats, \\nalthough others remain still valid. Therefore, extending CSP to deal with script capabilities \\nsuch as domain relaxation (i.e. by using document.domain) or restricting the power of \\n\\nform attributes is recommended. However, a key challenge in finalizing CSP and deploying \\nit on a wide scale will be the level of granularity. \\n\\nAnother approach to limit the available functionality to scripts or documents is to define \\nsubset(s) of available functionality. This can be achieved in various ways, for instance \\nusing some form of strict mode, as present in some languages, such as ECMAScript 5. \\nAnother way is to distinguish sensitive APIs (e.g. geo-location) from general functionality, \\nand restrict access on this basis. \\n\\nIn addition, a thorough or formal analysis of the available capabilities and potential \\nrestrictions can offer a high level of confidentiality that external content can be integrated \\nwith a minimal level of privileges, and that there are no undetected attack vectors present. \\n\\n\\n\\n \\n\\n13 \\n\\n \\n\\nA Security Analysis of Next Generation Web Standards \\n\\n3.2. Consistent Permission Systems \\n\\nThe security analysis also shows that permission systems are very inconsistent or \\nincomplete. The specifications suffer from a number of problems, which will be addressed \\nbelow. \\n\\nPermission System Design \\n\\nSeveral specifications include a permission system, without any consistency between these \\nsystems. This is troublesome, since some systems are fairly weak compared to other \\nsystems. One good example is the Geo-location API versus the System Information API, \\nwhere the latter is much more extended (e.g. it requires permission for a pair of origins for \\na framed document and distinguishes between one-shot vs. monitoring permissions). \\n\\nOne recommendation is for W3C to co-ordinate these permission systems across \\nspecifications. This would enable a strong permissions system for all involved APIs and \\nmakes it less complicated for browser vendors. \\n\\nAn alternative recommendation is to create a separate permission specification, which \\ndescribes how permission systems should work across all the specifications. The \\nspecification should describe the necessary types of permissions (e.g. persistent vs one-\\n\\ntime, one-shot permission vs a watching process, ...) and what they are based on. The \\nspecifications describing the APIs can then simply reference the permission specification \\nwith a certain type of permission, and require the implementation of that permission \\nsystem. This brings consistency across all permission systems and decouples \\nimprovements to permission systems from functionality developments. Recent work on \\nFeature Permissions [29] already points in this direction, but does not yet cover all aspects \\n\\nraised in this analysis. This would also help to manage threats which exploit features in \\nmultiple specifications such as “evercookies” which may use HTML 5 local storage, session \\nstorage, canvas data etc… to create extremely persistent 3rd party identifiers. \\n\\nA third recommendation is to investigate potential conflicts of the permission systems with \\nunderlying security controls. Integration of API permissions systems and underlying \\nsecurity controls not only avoids potential conflicts between systems, but can also be \\nuseful in delivering an integrated and consistent experience to the end user. \\n\\nUser Interfaces \\n\\nThe specifications do not include much detail about the user interfaces for giving \\npermissions and managing permissions. Typically, they require that the origin of the \\ndocument is displayed. One major missing item is the nature of the permission (one-shot \\n\\nvs watching process) as well as the actual document requesting it (e.g. is it sandboxed or \\nframed? is it visible?). For managing permissions, the specifications typically state that it \\nshould be clear and easily usable. This is very vague and is not even a strong requirement \\n(should instead of must). \\n\\nOne recommendation is to extend the specifications to include more UI requirements. At \\nleast all the aspects of the requested permission should be present. For managing the \\n\\npermissions, the specifications should describe how it should happen (not what it should \\nlook like). For example, they could state that \"A user must be able to get an overview of \\nall assigned permissions, grouped per origin\". \\n\\nA second recommendation is to include these UI requirements into the abovementioned \\nseparate permission specification, which is then referenced from all other specifications \\n\\n\\n\\n \\n\\n14 \\n\\n \\n\\nA Security Analysis of Next Generation Web Standards \\n\\n \\n\\nrequiring a permission system. This ensures consistency and facilitates improvements or \\nextensions of the permission system. \\n\\n3.3. End User Policing \\n\\nSeveral specifications depend on the end user to ensure security, typically by means of a \\n\\npermission system. With the rapid development of new APIs offering new functionality, \\nthis approach is reaching its limits. Typical web users are unable to assess the \\nramifications of granting certain permissions to certain origins. Additionally, involving the \\nuser too often might quickly lead to blindly approving permissions. The threats directly \\nrelated to this recommendation are: \\n\\n\\uf0b7 HTML5EL-USER-1.Overriding Sandbox \\n\\n\\uf0b7 SYSINFO-USER-2.Awareness \\n\\n\\uf0b7 WGDIGSIG-USER-1.Certificate Management \\n\\n\\uf0b7 WGDIGSIG-USER-2.Unsigned/Unchecked Packages \\n\\n\\uf0b7 WARP-USER-1.User\\'s Role \\n\\nA first recommendation is to require an awareness indicator, so the user knows when a \\n\\nsite is using a granted permission (e.g. when a site is locating the user). Currently, this is \\nonly included as a suggestion in the Geo-location API and is missing from other APIs, such \\nas the System Information API. \\n\\nA second recommendation is to offer the users a way to select predefined security profiles \\nor to create a security profile (e.g. by means of a wizard, which could explain the \\nramifications of sharing your location and then provide the option to allow this or not.). \\nOnce a security profile is chosen, it is used to determine the appropriate actions when a \\nsite requests permission for an action. \\n\\n3.4. Restricted Contexts \\n\\nIn the analysis, we identified two types of restricted context: a sandbox environment and \\na private browsing context. None of the specifications, except for HTML5, takes these \\n\\nrestricted contexts explicitly into account, leading to several problems with under-\\nspecification, as concluded in the analysis. \\n\\nOur recommendation is to include the private browsing context, a feature available in all \\nmajor browsers, explicitly into a W3C specification. This enables the possibility of defining \\ncontext-specific behavior, such as whether permissions should be shared across contexts, \\nand whether isolation works in both directions between a private browsing context and a \\n\\nnormal operation context.  In this context, it can be interesting to study the requirements \\nof other anonymity and privacy systems, such as the TOR anonymity button [30] or the \\nDo-Not-Track initiative [31]. \\n\\n3.5. General Recommendations \\n\\nApart from the selected topics above, a lot of smaller threats can be addressed with a wide \\nrange of recommendations. This section makes some general recommendations towards a \\nspecific target audience. At the end of each recommendation, the relevant threats from \\nthe security analysis are referenced. \\n\\n\\n\\n \\n\\n15 \\n\\n \\n\\nA Security Analysis of Next Generation Web Standards \\n\\nTo the standardization bodies and browser vendors \\n\\nA few of the identified threats have a considerable impact on security or privacy. We \\nrecommend that these issues are studied and addressed, in order to obtain a secure \\nspecification. If these issues cannot be fixed in a reasonable timeframe, warnings should \\nbe added to the specification, clearly indicating the security or privacy risks. NB these \\n\\nrecommendations will be sent separately to the respective working groups. This applies to \\nthe following threats: \\n\\n\\uf0b7 WEBMSG-ISOLATION-2.Port Endpoint Origin \\n\\n\\uf0b7 GEOLOC-SECURE-3.Cache Polling \\n\\n\\uf0b7 HTML5EL-SECURE-1.Media Usage \\n\\n\\uf0b7 HTML5BROWSER-SECURE-1.Content/Protocol Handlers \\n\\n\\uf0b7 HTML5BROWSER-SECURE-2.Sleeping Content/Protocol Handlers \\n\\nFuture versions of the specifications should address issues that are not easy to solve, but \\nimprove security/privacy in the long run: \\n\\n\\uf0b7 HTML5BROWSER-USER-1.Drag and Drop Target \\n\\n\\uf0b7 GEOLOC-SECURE-2.Technology Agnostic \\n\\n\\uf0b7 GEOLOC-SECURE-4.Changed Behavior \\n\\n\\uf0b7 SYSINFO-SECURE-2.Changed Behavior \\n\\nThe specifications often leave some functionality or details unexplained. It is \\nrecommended to address these items, in order to obtain a correct and complete \\nspecification. This applies to the following threats:  \\n\\n\\uf0b7 HTML5EL-SECURE-2.Menu Integration \\n\\n\\uf0b7 HTML5EL-SECURE-3.Keygen Scenarios \\n\\n\\uf0b7 HTML5ATTR-ISOLATION-2.Srcdoc URI \\n\\n\\uf0b7 HTML5BROWSER-SECURE-3.Content Handler URLs \\n\\n\\uf0b7 HTML5BROWSER-USER-1.Drag and Drop Target,  \\n\\n\\uf0b7 HTML5BROWSER-SECURE-4.Infinite History \\n\\n\\uf0b7 WEBMSG-SECURE-1.Origin Determination \\n\\n\\uf0b7 XHR-SECURE-1.Inconsistent Method Checks \\n\\n\\uf0b7 CORS-SECURE-2.Unnecessary Processing \\n\\n\\uf0b7 CORS-ISOLATION-1.Unique Origins \\n\\n\\uf0b7 STORAGE-SECURE-1.Subdomain Storage \\n\\n\\uf0b7 STORAGE-SECURE-3.Shared Frame Storage \\n\\n\\uf0b7 GEOLOC-SECURE-1.Monitoring Lifetime \\n\\n\\uf0b7 SYSINFO-SECURE-1.Monitoring Lifetime \\n\\nFinally, it is remarkable that for some specifications, considerably less threats were found. \\nExamples are the HTML5 navigation policy and the cross-origin communication protocols \\n\\n(CORS and UMP). One reason for this higher quality is the academic attention that has \\nbeen given to these specifications [24], including a formal analysis [25]. Next to these \\nresearch papers, additional documentation (e.g. the flowchart of XHR constructed in this \\nsecurity analysis) can help browser vendors to have a better overview of the specification \\nand thus lead to a cleaner and more correct implementation. \\n\\n\\n\\n \\n\\n16 \\n\\n \\n\\nA Security Analysis of Next Generation Web Standards \\n\\n \\n\\nTo Web Application Developers \\n\\nA web developer designing and implementing exciting new applications using the latest \\ntechnology has to rely on the specifications. Some of the specifications contain subtle \\ndetails or potential consequences which are not documented, and thus can easily escape a \\ndeveloper\\'s attention. This applies to the following threats:   \\n\\n\\uf0b7 HTML5ATTR-SECURE-1.Form Tampering \\n\\n\\uf0b7 HTML5ATTR-ISOLATION-1.Disabling Click-jacking Protection \\n\\n\\uf0b7 WEBMSG-ISOLATION-1.Port Handler\\'s Origin \\n\\n\\uf0b7 CORS-SECURE-1.Legacy Servers \\n\\n\\uf0b7 STORAGE-SECURE-2.Client-side Validation \\n\\nWe recommend amending the specifications with notes towards developers, to warn them \\nof the potential consequences when using one of these specifications. \\n\\nTo End Users \\n\\nIn order to guarantee the best privacy protection, the use of separate browser profiles for \\ndifferent tasks is recommended.  Everyday browsing should be separated from highly \\nsensitive browsing (e.g. online banking), as well as highly risky browsing (e.g. searching \\ncracks or warez). This can be achieved by explicitly creating multiple browser profiles and \\nruning these profiles concurrently as different instances of the browser (e.g. as can be \\ndone in Firefox), by using multiple browsers concurrently (e.g. Opera and Chrome next to \\neach other), or probably more convenient (and not available yet) by extending the concept \\nof private browsing mode already available in mainstream browsers to support multiple \\n\\nwell-isolated, concurrent contexts within one browser. \\n\\nThe use of private browsing mode as simple mitigation technique turns out to be \\ninadequate in some of the cases. This applies to the following threats:  \\n\\n\\uf0b7 HTML5EL-USER-1.Overriding Sandbox \\n\\n\\uf0b7 HTML5ATTR-SECURE-1.Form Tampering \\n\\n\\uf0b7 HTML5ATTR-ISOLATION-1.Disabling Click-jacking Protection \\n\\n\\uf0b7 HTML5CACHE-ISOLATION-1.Restricted Context \\n\\n\\uf0b7 HTML5BROWSER-SECURE-1.Content/Protocol Handlers \\n\\n\\uf0b7 HTML5BROWSER-USER-1.Drag and Drop Target \\n\\n\\uf0b7 STORAGE-ISOLATION-2.Restricted Context \\n\\n\\uf0b7 GEOLOC-SECURE-3.Cache Polling \\n\\n\\uf0b7 GEOLOC-ISOLATION-1.Restricted Context \\n\\n\\uf0b7 SYSINFO-ISOLATION-1.Restricted Context \\n\\n  \\n\\n\\n\\n \\n\\n17 \\n\\n \\n\\nA Security Analysis of Next Generation Web Standards \\n\\n4. Security analysis \\n\\nThis section shows the results of the security analysis, performed as described in section \\n2. For each of the specifications in scope, we provide a brief summary of the relevant \\nfunctionality, distill capabilities, the involvement on the user and the assumptions made. \\nThe enumeration of threats is guided by the security questions defined earlier, and is \\n\\ncategorized as such. \\n\\nOne general threat is the well-known injection attack vector. Examples are cross-site \\nScripting (XSS) or HTML injection. Such threats are considered in scope during the \\nsecurity analysis, but we only include them in the list of threats if they have not yet been \\ndocumented in the existing “HTML5 security cheat sheet” [15]. This threat class is also \\nrevisited in the recommendations section. \\n\\nFor the security analysis, we focused on the newly added features in the specifications. In \\nparticular, for all of specifications except HTML5 we consider the entire specification to be \\nin scope (since they are new). For the HTML5 specification (which covers numerous topics, \\nsuch as structuring documents, navigation policies, offline applications), the difference \\nbetween HTML4 and HTML5 [16] was used a de facto basis for the analysis. Guided by this \\nlist of differences containing all new or changed elements and attributes, we conducted a \\nfirst selection of relevant sections of the HTML5 document. In a second screening of the \\nentire specification, we selected several additional sections documenting new browser \\nfeatures or policies. Sections about rendering and document structure are not directly \\nincluded in the analysis, unless security-relevant. The selected HTML5 sections have been \\ndivided into 5 topics: \\n\\n1. Elements: analysis of elements with relevant changed or new functionality in HTML5 \\n\\n2. Attributes: analysis of attributes with relevant changed or new functionality in HTML5 \\n\\n3. Browser Features: analysis of relevant behavior part of HTML5, not specific to an \\n\\nelement or attribute \\n\\n4. Navigation: analysis of the navigation policy as specified in HTML5 \\n\\n5. Application Cache: analysis of the application cache, supporting offline applications \\n\\nThe HTML5 topics are discussed in sections 4.2 to 4.6, the rest of the HTML5 APIs in \\nsections 4.7 to 4.17. Section 2 provides a summary of the security analysis. \\n\\n4.1. Approach \\n \\n\\nTechnical Approach \\n\\nThe technical approach used to assess the security of browser standards consists of 7 \\ndifferent steps. Each of the steps is discussed in more detail in the following subsections. \\nThe 7 steps are executed sequentially, although a few small iterations of step 1 and 2 are \\nneeded to converge to a small but sufficient model of next-generation browser standards. \\n\\nStep 1: Definition of next generation browser standards \\n\\nIn the first step, an abstract model of next generation browser standards is built to form \\nthe basis for the asset-centric threat analysis. In this model, we consider the use of web \\ntechnology in multi-tenant applications in which multiple stakeholders provide content \\nand/or functionality with different trust levels and different security characteristics. Such \\napplications have typical isolation requirements to guarantee the confidentiality and \\n\\n\\n\\n \\n\\n18 \\n\\n \\n\\nA Security Analysis of Next Generation Web Standards \\n\\n \\n\\nintegrity of application-specific data as well as end-user data, and to limit the use of \\nsecurity-sensitive browser APIs. In addition, the power of multi-tenant mashups lies in the \\nlightweight composition of components and their inter-component collaboration. \\n\\nWith this focus in mind, we identify the relevant building blocks from the specifications \\nlisted in the previous section, and build an abstract model of browser standards, suited for \\nthe threat analysis. In this model, we include the five identified system use case scenarios \\n(as discussed in the previous section). The hypertext application model, developed in this \\nstep, incorporates the various HTML5 APIs and includes an informal description of the \\nprovided functionality towards next-generation browser standards. \\n\\nStep 2: Asset identification \\n\\nIn the second step, we identify the different assets within the hypertext model, including \\nend-user assets, as well as server-side application assets. These high-level technical \\nassets are largely independent of specific usage scenarios. \\n\\nStep 3: Attacker model \\n\\nWithin the analysis, the following threat model is applied. We consider an honest user \\nemploying a standard web browser viewing content from an honest web site. The web \\n\\nbrowser can either support the newly offered (and studied) web standards, or adhere to \\nthe state-of-practice of current mainstream browsers. In this model, we assume the \\nfollowing attackers to be in scope1 : \\n\\nWeb attacker: The web attacker is a malicious principal who owns one or more machines \\non the network, and hosts malicious websites. We assume that the browser fetches and \\nrenders content from the attacker’s web site. In doing so, malicious websites (i.e. under \\n\\ncontrol of attacker) are visited during a browsing session. \\n\\nGadget attacker: The gadget attacker is a web attacker with one additional ability: the \\npage visited by the user embeds a gadget of the attacker’s choice in the multi-tenant \\napplication (such as a 3rd party javascript library, an advertisement frame or a mashup \\ncomponent). This allows the analysis to focus on isolation from as well as collaboration \\nwith untrusted third party gadgets in multi-tenant applications. \\n\\nWe assume the network attacker to be out-of-scope for this analysis. In addition, we also \\ndo not cover identification and mitigation of classic (i.e. not introduced by the new \\nstandards) web application security vulnerabilities and attacks (such as XSS, SQL \\ninjection, code injection, session management). These vulnerabilities and their possible \\ncountermeasures are well-known and well-documented (e.g. in OWASP Top10 and SANS \\nTop 25 reports) and are not specific to the newly proposed standards and specifications. \\nHowever, within the security assessment, we do analyze to what extent the newly \\nproposed functionality increases the potential impact of classical injection vulnerabilities. \\n\\n                                         \\n\\n1 This identification of attacker types (web attacker and gadget attacker) is based on the threat \\nmodel used in: Adam Barth, Collin Jackson, and John C. Mitchell. 2008. Securing frame \\ncommunication in browsers. In Proceedings of the 17th conference on Security symposium (SS\\'08). \\nUSENIX Association, Berkeley, CA, USA, p.17-30. \\n\\n \\n\\n\\n\\n \\n\\n19 \\n\\n \\n\\nA Security Analysis of Next Generation Web Standards \\n\\nStep 4: Threat enumeration \\n\\nIn the fourth step, we perform an asset-centric threat analysis on the hypertext \\napplication model, developed in step 1. This threat analysis concentrates on the impact of \\nthe proposed attacker models on the five system use case scenarios (as described in \\nsection 2.1). \\n\\nThe outcome of this threat analysis is an enumeration of the different identified threats on \\nthe browser security model. This threat enumeration is used in the next steps to select \\nand evaluate in more technical details the most relevant subsets of this abstract model. \\n\\nStep 5: Selection of most relevant threats and technologies \\n\\nIn the fifth step, we use the results of the threat enumeration of step 4 to prioritize the \\nidentified threats, and select an appropriate subset of threats and technologies for further \\ndetailed analysis and documentation. To do so, different subsets of the abstract model are \\nput forward with a selection of important threats and potential room for improvement. \\n\\nThe main criteria for identifying and selecting these subsets are: \\n\\n1. Importance of the identified threats – as defined by their likelihood and impact \\n\\n2. Feasibility and pragmatism of the potential security improvements \\n\\n3. Impact of the potential improvements and recommendations \\n\\nStep 5 is an important synchronization point within the assessment. The most promising \\nsubset of the abstract model is selected in this step, and further refined in the next steps. \\n\\nStep 6: Detailed analysis and threat documentation of selected subset \\n\\nIn this step, the selected subset of the abstract model is further refined to a concrete \\nmodel taking into account all the relevant specifics of the specifications in scope. Each of \\nthe identified threats within this subset is assessed in more detail within this concrete \\nmodel. \\n\\nThis results in an assessment of the security benefits of the newly proposed standards and \\nspecifications, as well as remaining or newly introduced security risks within the chosen \\n\\nconcrete model. \\n\\nStep 7: Recommendations \\n\\nIn this step, we enumerate and discuss realistic and pragmatic recommendations for the \\nthreats detailed in step 6. This ranges from advice on amendments to the standards, \\nadvice to browser developers (and browser extension developers), or website developers \\nimplementing and applying the standards. To prioritize the recommendations in scope, we \\ntake into account the countermeasure complexity, the threat severity, the feasibility for \\nbroad acceptance. \\n\\n  \\n\\n\\n\\n \\n\\n20 \\n\\n \\n\\nA Security Analysis of Next Generation Web Standards \\n\\n \\n\\nThe next-generation hypertext model \\n\\nModel \\n\\nBased on a first screening of all the specifications in scope, we use the following abstract \\nmodel of next-generation browser standards. The model is shown in the figure below, and \\n\\nshows how the different specifications in scope can be grouped together. \\n\\nThe centre-piece of the model is the browser concept of a window containing a document. \\nVisually, such a window occurs as a single browser window, a tab, a popup or a frame. \\nThis window is represented by a window object ([1], section 5 5.2). Through the window \\nobject, web pages and scripts gain access to internal properties (the URL, navigation \\nhistory, ...), event handlers, the document and its associated DOM tree and numerous \\nclient-side APIs. \\n\\nThe functionality offered by the analyzed specifications is grouped into blocks based on \\navailable functionality. We discuss the window and sandbox in more detail and briefly \\nintroduce the other functional blocks below. \\n\\nWindow and Sandbox \\n\\nAs mentioned before, the browser window and its associated window object enclose a \\ndocument with a specific origin and location (a URL). A window can contain multiple \\ndocuments (i.e. a browsing history) but only one of these documents can be active at any \\ngiven time. Since the relation between window and document at one moment in time is \\n\\none-to-one, we do not separate a window and a document when this is not relevant. \\n\\nNew functionality introduced in the HTML5 specification allows the sandboxing of an \\niframe. This sandbox imposes restrictions on all the content in the iframe, as shown by the \\n\\nApplication Cache\\n\\nWeb Storage\\n\\nExternal Communication\\n(CORS, UMP, XHR 1+2)\\n\\nDevice “Sensor” API\\n(Sysinfo API, Geolocation, …)\\n\\nMedia API\\n\\nIntra-Window Communication\\n(Web messaging, window \\n\\nnavigation, descendant policy)\\n\\nUI\\n(User input, output rendering)\\n\\nWindow\\n(Origin, Location, \\n\\nhistory, document)\\n\\nEvent Handlers DOM\\n\\nSandbox\\n\\n\\n\\n \\n\\n21 \\n\\n \\n\\nA Security Analysis of Next Generation Web Standards \\n\\ndotted line in the model. The specific features and consequences of the sandbox will be \\npart of the security analysis. \\n\\nThe two functional blocks inside the window (Event Handlers and DOM) represent two \\ncornerstone pieces of functionality for dynamic web pages. Event handlers are used \\nextensively to register handlers for a specific event, such as receiving messages from \\nother windows or being notified of mouse clicks. Access to the DOM enables a script to \\nread or modify the document\\'s structure on the fly. Within the security analysis, we will \\nonly explicitly assess the newly-added security-relevant handlers. \\n\\nInter-window Communication \\n\\nAn important aspect of composed applications is communication between several windows \\n\\n(e.g. sending messages to embedded iframes). This functional block covers window \\nnavigation and the corresponding policy, the descendant policy (HTML5). Additionally, this \\nblock includes message passing as defined by the Web Messaging specification. \\n\\nDevice \"Sensor\" API \\n\\nSeveral specifications introduce new APIs to retrieve client-side information. In the scope \\n\\nof this analysis, we investigate the Geo-location API, which allows the retrieval of the \\nphysical location of the device, and the System Information API, which offers access to \\ndevice properties, such as battery level, CPU information, ambient sensors (light, sound, \\nmovement ...). \\n\\nMedia CaptureAPI \\n\\nCapturing audio and video fragments through a microphone or webcam, often integrated \\nin mobile devices, becomes possible with the Media API. This API offers scripted access to \\nthese (highly sensitive) devices. \\n\\nExternal Communication \\n\\nAn interactive client-side web page often requires communication with remote parties, for \\nexample to load contacts from an address book. This block covers the specification of \\n\\nXMLHttpRequest, the communication mechanism, and new policies to enable secure cross-\\norigin communication (CORS and UMP). \\n\\nClient-side Storage \\n\\nWeb Storage, one of the specifications covered introduces client-side storage, which \\napplications can use to temporarily or persistently store data. One example is a calendar \\n\\napplication which stores a copy of your calendar at the client-side. \\n\\nApplication Cache \\n\\nWith the newly introduced Application Cache (HTML5), applications can be downloaded and \\nrun offline. This is particularly useful for mobile devices, such as notebooks or \\nsmartphones. \\n\\nUI \\n\\nNaturally, the loaded documents need to be rendered to the user. Additionally, users \\ninteract with the browser and the contained pages in numerous ways (mouse movement, \\n\\n\\n\\n \\n\\n22 \\n\\n \\n\\nA Security Analysis of Next Generation Web Standards \\n\\n \\n\\nentering text with the keyboard, entering new URLs, using the back and forward button, \\n...). For the security analysis, only newly-added security-relevant interactions are taken \\ninto account, such as interactions that impact the state of the window or page (e.g. \\nsubmitting a form or clicking a link). \\n\\nOthers (Not In Model) \\n\\nThe security analysis also includes specifications about widget security. These are not \\npresent in the abstract model, because they are on a higher level of abstraction than the \\nmodel. A widget is an instantiation of a web application, which uses windows and \\ndocuments as presented in the abstract model. The widget-specifications we include in the \\nsecurity analysis are Digital Signatures for Widgets, which discusses how a widget can be \\nsigned by authors and distributors (and the signature verified), and Widget Access Request \\nPolicy, specifying how rights to access network resources (URIs) can be assigned to a \\nwidget. \\n\\nAssets and Methodology \\n\\nWithin the hypertext model, we can identify a set of technical assets relevant for this \\nsecurity analysis: \\n\\n A1 Application-specific data and functionality (page contents, DOM elements, \\n\\nJavaScript code, ... ) \\n\\nA2 End-user data and identity (credentials, cookies, local storage, user/media \\ninput, location, ...) \\n\\nA3 Contextual data (device/sensor information, location, referer, document or \\n\\neffective script origin, ...) \\n\\nExamples of potential security issues involving these assets are injection of unauthorized \\ncode, making requests in the user\\'s name or manipulating cookies, and a breach of privacy \\nthrough local storage, sensor information, location information ... \\n\\nThe specifications in the scope of this analysis are very extensive. Therefore, we conduct a \\nsecurity analysis focused on the new attack surface only (new functionality and features \\n\\nwith respect to previous versions of the standards) and its effect on the user \\n(usability/burden). The analysis is based on the assets mentioned above, guided by four \\nsecurity questions: \\n\\nSQ1 - Well defined / Secure: Are the security-relevant aspects of the newly \\n\\nintroduced capabilities well-defined and secure? (e.g. privacy problems, \\nunprotected security-sensitive features, ...) \\n\\nSQ2 - Isolation Properties: Do the new specifications violate isolation properties \\n\\nbetween origins or restricted contexts? (e.g. sandboxes or private browsing \\nmode) \\n\\nSQ3 - Consistency: Is the new specification consistent with other specifications? \\n\\n(e.g. permission management, ways to access information, ...) \\n\\nSQ4 - User Involvement: How do the security measures of the specification rely \\n\\non the user making correct security decisions? (e.g. which decisions does the \\nuser have to make) \\n\\nAn analysis based on these questions will identify poorly-protected functionality (A1) or \\ndata (A2/A3), either on a technical level or on the end-user level. Additionally, any \\n\\n\\n\\n \\n\\n23 \\n\\n \\n\\nA Security Analysis of Next Generation Web Standards \\n\\nproblems with unintended access to data (A2/A3) across origins or contexts will be \\ndiscovered. The analysis is conducted in three steps: \\n\\n1. A study of the specification leads to a brief summary of relevant functionality \\n\\n(description). We distill the presence of the following properties in the specification: \\n\\n\\uf0b7 Capabilities: which functional capabilities are offered by the specification (e.g. \\n\\nretrieving the user\\'s location) \\n\\n\\uf0b7 User Involvement: in which way does the specification involve the user (e.g. \\n\\napprove location retrieval once per site) \\n\\n\\uf0b7 Security/Privacy assumptions: which security/privacy considerations and \\n\\nassumptions are explicitly listed in the specification (e.g. location can only be \\n\\nretrieved with explicit permissions) and which are implicitly present in the \\n\\nspecification and need to be derived (e.g. the user can not be tricked into giving \\n\\npermission to access the location)? NB the validity of these assumptions is \\n\\nanalysed as part of the threat analysis – see point 2. \\n\\n2. Based on the capabilities, level of user involvement and both explicit and implicit \\n\\nsecurity/privacy assumptions, we analyze the specifications for potential threats, issues \\n\\nand underspecified behavior (e.g. the requirements for browser behavior when asking \\n\\npermissions) We also assess the validity of the assumptions made by the specification \\n\\nas part of the threat analysis. This step of the analysis is guided by the previously \\n\\ndefined security questions. \\n\\n3. Based on the detailed analysis of all specifications, we investigate potential issues with \\n\\nthe combination of multiple specifications (e.g. the behavior of permissions in a \\n\\nrestricted context). Identified issues will be listed under the most relevant \\n\\nspecification. \\n\\nAfter the security analysis, the identified issues and threats are addressed in the \\nrecommendations section. For different categories of issues and threats, we will discuss \\nthe importance of this kind of problems and formulate appropriate recommendations. \\n\\n4.2. HTML5 - Elements \\n\\nDescription \\n\\nmedia element (audio, video): A media element can be used to embed a video or audio \\nobject in the web page. Pages can script their own controls for the stream, but if they do \\nnot offer controls (e.g. by explicit indication or disabled scripting), the user agent should \\nexpose a user interface to control the stream. A media element allows multiple alternative \\nstreams to be specified with the source element. Text tracks can be added using the track \\nelement (for example subtitles, captions, chapters, descriptions). The programmatic \\ninterface of media elements offers origin-independent access to the controls and the \\nstream\\'s properties, such as playback information (e.g. the timeranges of the video that \\n\\nhave actually been rendered). \\n\\ncanvas: A canvas can be used to draw 2D or 3D images. Pre-existing (e.g. JPG, PNG) \\nimages can be drawn on a canvas, as well as frames from a video element. Additionally, a \\ndrawing context can offer a rich set of JavaScript controls to draw images. The image data \\n\\n\\n\\n \\n\\n24 \\n\\n \\n\\nA Security Analysis of Next Generation Web Standards \\n\\n \\n\\nof a canvas can be requested (getImageData) or it can be exported to a data URL, which \\n\\nrepresents a PNG image (toDataURL). \\n\\nembed: The embed element supports the integration of external (typically non-HTML) \\ncontent. The src attribute defines the location of the external content. Parameters can be \\npassed by specifying them as attributes of the embed element. Embedded content is \\n\\ndisabled if the content is sandboxed, although the user agent can allow the user to \\nexplicitly enable the disabled items. \\n\\nmenu: Using the menu element, a web application can construct menus. Both context \\nmenus (e.g. when right clicking) as toolbar menus (e.g. always accessible top bar) are \\navailable. A sample visual representation is provided, but no concrete implementation \\ncriteria are given. \\n\\ncommand: A command element represents a user-invocable command. It can be part of a \\nmenu/toolbar or it can define a keyboard shortcut. Commands can be a checkbox, radio \\nbutton or a generic command. The actions are implemented using onclick handlers. \\n\\nkeygen: A form control that can be used to generate a public/private keypair. The private \\npart is stored in the local keystore, the public part is submitted to the server. The \\nspecification does not mention any way to store, access, or use the private key value, but \\n\\nsuggests that the server creates a client certificate from the public key, which can then be \\ninstalled in the browser. \\n\\nCapabilities \\n\\nThe specification enables the following capabilities: \\n\\n\\uf0b7 Embed audio/video objects in a page, potentially overlaying other items \\n\\n\\uf0b7 Control audio/video objects through the controls or via a script \\n\\n\\uf0b7 Access properties of audio/video objects, including playback information \\n\\n\\uf0b7 Draw custom graphics using a canvas \\n\\n\\uf0b7 Embed non-HTML content into a document \\n\\n\\uf0b7 Add menus and menu items to a web application \\n\\n\\uf0b7 Create commands within a page, invocable by the user \\n\\n\\uf0b7 Generate a private/public key, submit the public part and store the private part \\n\\nUser Involvement \\n\\nThe specification involves the user in the following way: \\n\\n\\uf0b7 Control embedded media elements \\n\\n\\uf0b7 Explicitly enable plugin content in a sandboxed environment \\n\\n\\uf0b7 Interact to activate a menu item \\n\\n\\uf0b7 Interact to execute a command \\n\\n\\uf0b7 Interact to generate a keypair \\n\\nSecurity/Privacy Considerations \\n\\nThe specification explicitly mentions the following security/privacy considerations: \\n\\n\\n\\n \\n\\n25 \\n\\n \\n\\nA Security Analysis of Next Generation Web Standards \\n\\n\\uf0b7 Embedded Media Elements: to avoid security issues with embedded media elements, \\n\\nthe specification imposes the following two measures: \\n\\no Embedded content must be treated as if it were in its own unrelated top-level \\n\\nbrowsing context (e.g. no access to embedding page) \\n\\no Malicious pages embedding cross-origin content have restricted access to its \\n\\nproperties (e.g. no access to text tracks) \\n\\n\\uf0b7 Canvas Security: information leakage through a canvas element can occur if content \\n\\nfrom multiple origins is displayed on the canvas. A canvas can therefore only be \\n\\nexported (with the getImageData or toDataURL operation) if it is origin-clean. A \\n\\ncanvas\\' origin-clean flag becomes false if: \\n\\no An image from an image of video element with a different origin than the \\n\\ncanvas\\' document\\'s origin is used (example use: drawImage, fillStyle, ...) \\n\\no A font whose origin is different than the canvas\\' document\\'s origin is considered \\n\\n(considering the font suffices, it does not actually have to be used) \\n\\n\\uf0b7 Plugins: in a sandboxed environment, plugins are disabled by default because they \\n\\nmight not honor the imposed restrictions. User agents should warn the user of the \\n\\nconsequences if an enable option is provided. \\n\\nThe following considerations are assumed by the specification and are derived from its \\ncontents: \\n\\n\\uf0b7 By isolating embedded media in its own unrelated top level browsing context, all \\n\\npotentially malicious behavior is mitigated \\n\\n\\uf0b7 Properties of media elements contain no private information, since they are accessible \\n\\nfrom other origins than the origin of the media element \\n\\n\\uf0b7 The output of a canvas (PNG data) produces trusted data (e.g. no vulnerabilities or \\n\\nexploits) \\n\\n\\uf0b7 The input of a canvas is validated properly \\n\\n\\uf0b7 The application\\'s menu items are separated from the user agent\\'s menu items \\n\\n\\uf0b7 The private key is stored securely \\n\\n\\uf0b7 New HTML5 elements (such as the canvas and the media elements) might provide an \\n\\nadditional and interesting way to trick users into click-jacking, and should be taken into \\n\\naccount as well \\n\\nThreat Enumeration \\n\\nSQ1 - Well defined / Secure \\n\\nHTML5EL-SECURE-1.Media Usage A media element contains a played attribute, which \\noffers access to the time ranges that have been rendered (thus listened to or watched) by \\nthe user. Access to this attribute is not protected, so a page embedding a video from \\nanother origin can still access this information \\n\\nHTML5EL-SECURE-2.Menu Integration A web application can define contextual and toolbar \\nmenus. The specification does not mention many implementation details. A user agent \\nmay implement integrate these menus with its own user interface, especially on small \\n\\n\\n\\n \\n\\n26 \\n\\n \\n\\nA Security Analysis of Next Generation Web Standards \\n\\n \\n\\ndisplays such as smartphones. This may confuse a user and may present malicious or \\nerroneous menu items \\n\\nHTML5EL-SECURE-3.Keygen Scenarios The specification does not provide details on how \\nthe keygen element can be used in practice. No concrete usage scenarios or \\nimplementation requirements are provided. \\n\\nSQ4 - User Involvement \\n\\nHTML5EL-USER-1.Overriding Sandbox Sandboxed content is not allowed to load plugin \\ncontent. The specification of the embed element however states that a user agent may \\nallow the user to override this for a specific content item, but the user agent should warn \\nthe user that this could be dangerous. The override option is only briefly mentioned as \\npart of the description of the embed element, instead of being incorporated in the entire \\nspec (e.g. with the sandbox attribute) \\n\\n4.3. HTML5 - Attributes \\n\\nDescription \\n\\nautofocus (form controls): Indicates that a control is to be focused as soon as the page is \\nloaded. A document must only specify this attribute for one element. Receiving focus is not \\npossible if the current focus lies in a cross-origin document or if the current document has \\ndisabled automatic features in a sandbox \\n\\nform (form controls): Specifies the form this control belongs to (by default, this is the \\nnearest ancestor form). This allows the use of nested form controls or arbitrary placement \\nof form controls. \\n\\nform... (submit buttons): A submit button can use formaction, formenctype, \\n\\nformmethod, formnovalidate and formtarget to override the attributes defined by the \\n\\nform itself. \\n\\nasync / defer (script): If a script defines async, it is executed asynchronously as soon as it \\n\\nis available; if async is not present but defer is, the script is executed after the page has \\nfinished parsing; if none is specified, the script is fetched and executed immediately, \\nbefore continuing parsing the page. \\n\\nsandbox (iframe): The sandbox attribute enables a set of restrictions on the iframe \\ncontent. By default, sandboxed content: \\n\\n\\uf0b7 is considered to be from a unique origin \\n\\n\\uf0b7 is prevented from navigating browsing contexts other than the sandboxed browsing \\n\\ncontext itself \\n\\n\\uf0b7 is prevented from submitting forms \\n\\n\\uf0b7 is prevented from running scripts \\n\\n\\uf0b7 is prevented from running automatic features (e.g. autofocus, refresh through meta \\n\\ntag, automatically starting playback, ...) \\n\\n\\uf0b7 prevents links from targeting other browsing contexts \\n\\n\\uf0b7 is prevented from loading plugin content (e.g. embed, object, applet) \\n\\n\\uf0b7 is prevented from using the seamless attribute on nested iframes \\n\\n\\n\\n \\n\\n27 \\n\\n \\n\\nA Security Analysis of Next Generation Web Standards \\n\\nRelaxations can: \\n\\n\\uf0b7 Remove the unique-origin restriction, thus reverting to the default same-origin policy \\n\\n\\uf0b7 Allow the navigation of the top-level browsing context \\n\\n\\uf0b7 Allow form submission \\n\\n\\uf0b7 Allow the use of scripts and automatic features (no point in blocking these since they \\n\\nare easily enabled from scripts). Popups however are still blocked. \\n\\nNext to the sandbox attribute, the content can be served with a text/html-sandboxed \\n\\nMIME type, which also offers protection in non-iframe contexts. \\n\\nseamless (iframe): Enables the seamlessintegration  (i.e. with no visual indications)  of \\nthe content into the embedding document. This applies to the visual aspects (e.g. applying \\n\\nthe same stylesheets) as well as content retrieval aspects ( e.g. if the user agent supports \\nlisting all the links in a document, links in \"seamlessly\" nested documents would be \\nincluded in that list without being significantly distinguished from links in the document \\nitself.). The attribute only applies if the embedding document and embedded document \\nhave the same origin, or if the embedding document\\'s address (which is the absolute URL \\nthe moment the document was created) and the embedded document have the same \\n\\norigin, or if the embedding document is an iframe\\'ssrcdoc document. \\n\\nsrcdoc (iframe): The srcdoc attribute allows the specification of HTML content that needs \\nto be rendered in the iframe. The srcdoc attribute always has priority over the src \\nattribute, that can be used to specify fallback content in case srcdoc is not supported. This \\ncan be used together with the sandbox attribute and does not require the fetching of an \\nadditional document. The URL of such an iframe is about:srcdoc and the origin is the \\n\\norigin of the document containing the browsing context of the srcdoc document. \\n\\nmanifest (html): Allows the specification of a manifest file, that specifies which parts \\nshould be cached for offline use (not included here, but in separate section \"Application \\nCache\"). \\n\\nrel (link, a, area): The rel attribute allows the specification of special link types, such as a \\nhelp file, a pingback link, ... If a rel attribute is not defined for an a or area element, the \\nelement just creates a normal link with no special meaning. For link elements, the type \\nmust always be specified. \\n\\nCapabilities \\n\\nThe specification enables the following capabilities: \\n\\n\\uf0b7 Automatically focus an input element, potentially triggering focus handlers \\n\\n\\uf0b7 Specify form controls that are connected to a form, but occur outside of its natural \\n\\nscope (between the tags) \\n\\n\\uf0b7 Override form settings from the submission button\\'s element \\n\\n\\uf0b7 Apply content restrictions with a sandbox \\n\\n\\uf0b7 Seamlessly incorporate a frame and its content into a webpage of similar origin \\n\\n\\uf0b7 Specify inline iframe content, without loading a separate document \\n\\n\\uf0b7 Create links with special types \\n\\n\\n\\n \\n\\n28 \\n\\n \\n\\nA Security Analysis of Next Generation Web Standards \\n\\n \\n\\nUser Involvement \\n\\nThe specification involves the user in the following way: \\n\\n\\uf0b7 The user may submit a form using an associated form control \\n\\nSecurity/Privacy Considerations \\n\\nThe specification explicitly mentions the following security/privacy considerations: \\n\\n\\uf0b7 Assigning a document in a sandbox a unique origin also prevents access to \\n\\ndocument.cookie and localStorage [11]. \\n\\n\\uf0b7 A document can break out of its sandbox if both the allow-same-origin and allow-\\n\\nscripts keywords are given as sandbox parameters. \\n\\n\\uf0b7 A document that is loaded in a sandboxed iframe should also be served with the \\n\\nsandboxed MIME type, otherwise the attacker can trick the user in loading the \\n\\ndocument directly (not in an iframe). \\n\\n\\uf0b7 A srcdoc document has no explicit URI. \\n\\nThe following considerations are assumed by the specification and are derived from its \\ncontents: \\n\\n\\uf0b7 Out-of-element form controls cannot compromise the form\\'s integrity. \\n\\nThreat Enumeration \\n\\nSQ1 - Well defined / Secure \\n\\nHTML5ATTR-SECURE-1.Form Tampering A form\\'s properties can be overridden using the \\nnew attributes on a submit button and such a button can occur anywhere in the page \\n(including outside the <form></form> node), while still being associated with a form. This \\nmakes it easier to insert a button into a page since the button can be anywhere in the \\npage. By applying a simple HTML injection, an attacker may thus override the form\\'s \\ndestination and trick the user into clicking the new submit button, thus stealing the \\nentered form data. This means that existing input validation approaches that focus on \\nscript injection can easily be circumvented by injecting HTML, and validation techniques \\nshould be adapted appropriately. \\n\\nHTML5ATTR-SECURE-2.Coarse-Grained Control The sandbox attribute offers a set of \\nrestrictions, with some relaxations. Both the restrictions and relaxations are very coarse-\\n\\ngrained and typically only offer an all or nothing option. Examples are enabling or disabling \\nscripts, enabling or disabling forms, ... While this valuable feature supports very simple \\ncases of least privilege, more complex cases are not supported. An example of a complex \\ncase is a same-origin document that requires scripts, but should not have access to \\npreviously authorized sensitive APIs (e.g. Geo-location, System Information). \\n\\nSQ2 - Isolation Properties \\n\\nHTML5ATTR-ISOLATION-1.Disabling Click-jacking Protection The sandbox behavior of \\ndisabling top-level navigation by default disables numerous popular click-jacking \\ncountermeasures. This means that the sandbox attribute facilitates click-jacking attacks \\n[17]. \\n\\n\\n\\n \\n\\n29 \\n\\n \\n\\nA Security Analysis of Next Generation Web Standards \\n\\n \\n\\nHTML5ATTR-ISOLATION-2.Srcdoc URI A srcdoc document has about:srcdoc as URI. The \\n\\nspecification explicitly states that the origin of an srcdoc document is derived from the \\ncontainer of its browsing context. Additionally, resolution of relative URLs or fetching \\nresources is documented for srcdoc documents. URI determination is not, meaning that \\nabout:srcdoc is the URI of the document. This can cause problems in cases where the \\n\\nURI is used (e.g. for permission management). Currently, no specifications suffer from this \\nproblem (although a previous version of the Geo-location API did), but future \\nspecifications should be aware of this potential issue. \\n\\n4.4. HTML5 - Navigation \\n\\nThe HTML5 specification defines how navigation across documents/browsing contexts can \\noccur. \\n\\nDescription \\n\\nNavigation in HTML5 involves two browsing contexts, where the source browsing context \\n\\ninitiates the navigation of a navigated browsing context. The rules determining the \\nnavigation policy are spread over multiple sections (5.1.4 and 5.5.1). The former section \\n(5.1.4) specifies when a source browsing context is permitted to navigate another \\nbrowsing context. The latter (5.5.1) discusses the actual navigation algorithm, which takes \\nadditional attributes, such as sandbox or seamless, into account. \\n\\nA source browsing context A is permitted to navigate another browsing context B if one of \\n\\nthe following conditions is true: \\n\\n\\uf0b7 The origin of the active document of A is the same as the origin of the active document \\n\\nof B \\n\\n\\uf0b7 A is a nested browsing context and B is its top-level browsing context \\n\\n\\uf0b7 B is an auxiliary browsing context (= related to a top-level browsing context, but not \\n\\nnested through an element (e.g. with target)) and A is allowed to navigate the opener \\n\\nbrowsing context of B \\n\\n\\uf0b7 B is not a top-level browsing context, but has an ancestor browsing context whose \\n\\nactive document has the same origin as the active document of A \\n\\nThe navigation algorithm imposes the following rules: \\n\\n\\uf0b7 Abort the algorithm if all of these conditions hold: \\n\\no A is not the same as B \\n\\no A is not an ancestor of B \\n\\no B is not both a top-level browsing context and an ancestor of A (taken care of \\n\\nby the sandboxed top-level navigation browsing context flag) \\n\\no A had its sandboxed navigation browsing context flag set when the active \\n\\ndocument was created (this flag is always set when the sandbox attribute is \\n\\nspecified) \\n\\n\\uf0b7 Abort the algorithm if all of these conditions hold: \\n\\no A is the same as B \\n\\no B has the seamless browsing context flag set \\n\\n\\n\\n \\n\\n30 \\n\\n \\n\\nA Security Analysis of Next Generation Web Standards \\n\\n \\n\\no B is not navigated through an explicit self-navigation override \\n\\n(target=\"_self\") \\n\\nThe table below clarifies the navigation possibilities. Navigation always goes from the \\ncontext with origin A to the context with origin B. In case there are multiple contexts with \\norigin A, the bold one initiates the navigation. A green circle means that navigation is \\npossible, a red one means that it is not. \\n\\n \\n\\nA browsing context A can always \\nnavigate its children. This is not \\n\\nrestricted by the sandbox attribute \\n\\n \\n\\nA browsing context A can navigate its \\n\\ntop-level browsing context. The \\nsandbox attribute restricts this, but \\nallows overriding \\n\\n \\n\\nA browsing context A can navigate a \\nsibling, if the sibling has an ancestor \\nof the same origin as A \\n\\n \\n\\nA browsing context A can navigate an \\nauxiliary browsing context B, if A can \\nnavigate the opener of B. If A is \\nsandboxed, this is restricted \\n\\nCapabilities \\n\\nThe specification enables the following capabilities: \\n\\n\\uf0b7 Navigation of a selected set of browsing contexts \\n\\nUser Involvement \\n\\nThe specification does not involve the user, although navigation can be triggered by users \\n(not relevant for this analysis). \\n\\nOrigin A\\n\\nOrigin B\\n\\nOrigin B\\nsandbox\\n\\nOrigin B\\n\\nOrigin A\\nOrigin C\\n\\nOrigin A\\n\\nOrigin B Origin B\\n\\nOrigin A\\nsandbox\\n\\nOrigin A\\n\\nOrigin A\\n\\nOrigin B\\n\\nOrigin C\\n\\nOrigin A\\n\\nOrigin B\\n\\nOrigin A\\n\\nOrigin A\\n\\nOrigin C Origin B\\n\\nOrigin A\\nsandbox\\n\\nOrigin C Origin B\\n\\n\\n\\n \\n\\n31 \\n\\n \\n\\nA Security Analysis of Next Generation Web Standards \\n\\nSecurity/Privacy Considerations \\n\\nThe following considerations are assumed by the specification and are derived from its \\ncontents: \\n\\n\\uf0b7 The nested relationship of documents cannot be manipulated \\n\\nThreat Enumeration \\n\\nThe analysis did not reveal any threats. \\n\\n4.5. HTML5 - Application Cache \\n\\nThe application cache enables the persistent caching of specified resources. These \\nresources will be served when requested by the user agent in offline mode. \\n\\nDescription \\n\\nTo enable the offline usage of a web application, the author needs to define which \\n\\nresources are needed, by listing them in the manifest file. The manifest file has to be \\nreferenced using the manifest attribute on the main HTML document of the page, after \\nwhich the browser will store the required files in the application cache. At the end of the \\ncaching process, the browser will re-fetch the manifest to verify that the latest version has \\nbeen cached. At this point, the application is available offline. \\n\\nThe specification defines an application cache API, which offers information on the status \\nof the application cache, as well as an operation to update the cache. If a newer cache is \\n\\navailable, the swap-operation allows switching to this version. The update process can be \\nrun in the background using Web Workers. \\n\\nApplication Cache Structure \\n\\nAll resources stored in an application cache are stored with their out-of-band metadata, \\nsuch as HTTP headers. The application cache itself consists of the following items: \\n\\n\\uf0b7 Master entries: documents where a browsing context was navigated to and that \\n\\nincluded a manifest file \\n\\n\\uf0b7 Manifest: the manifest file \\n\\n\\uf0b7 Explicit entries: the resources occurring in the CACHE sections of the manifest \\n\\n\\uf0b7 Fallback entries: the resources occurring in the FALLBACK sections of the manifest \\n\\n\\uf0b7 Fallback namespaces: the namespaces pointing to a fallback entry \\n\\n\\uf0b7 Online whitelist namespaces: the namespaces that always need to be fetched from the \\n\\nnetwork \\n\\n\\uf0b7 Online whitelist wildcard: if set to open, all URLs not in the cache will be fetched online, \\n\\notherwise, all URLs not in the cache are treated as unavailable. \\n\\nExplicit and fallback entries can be foreign, which means that they specify their own \\nmanifest, which differs from the manifest where they are specified (other manifest URL). \\n\\nAn application cache is part of an application cache group, which is a set of chronological \\napplication caches for one manifest file. Each time a new manifest file is detected, a new \\napplication cache is added to the group. The relevant application cache is the newest \\n\\n\\n\\n \\n\\n32 \\n\\n \\n\\nA Security Analysis of Next Generation Web Standards \\n\\n \\n\\napplication cache in the group that is marked as completed. Only the most recent \\napplication cache can be incomplete, because it is still downloading. \\n\\nResources can occur in multiple application caches in different application cache groups. In \\nthat case, the user agent needs to decide which application cache to use, based on: \\n\\n\\uf0b7 Which application cache was most recently updated \\n\\n\\uf0b7 Which application cache was being used to display the resource leading up to this \\n\\nrequest \\n\\n\\uf0b7 Which application cache is preferred by the user \\n\\nManifest Format \\n\\nThe cache manifest can contain three sections: \\n\\n\\uf0b7 CACHE: resources that explicitly need to be cached \\n\\n\\uf0b7 NETWORK: resources that are not cached. If such a resource is requested, the request \\n\\nalways bypasses the cache. A match here takes priority over fallback namespaces. \\n\\n\\uf0b7 FALLBACK: resources that need to be used in case no cache entry was found. Fallback \\n\\nresources can be bound to a namespace (a path prefix) \\n\\nManifest Constraints \\n\\nThe manifest is subject to the following constraints: \\n\\n\\uf0b7 The manifest is always of the same origin as the master document (the document \\n\\nlinking to the manifest) \\n\\n\\uf0b7 Explicit entries: \\n\\no The specified resources need to have the same scheme as the manifest \\n\\no If the specified scheme is HTTPS or equivalent, the specified resources need to \\n\\nhave the same origin as the manifest \\n\\n\\uf0b7 Fallback entries: \\n\\no Fallback namespaces and resource URLs need to have the same origin as the \\n\\nmanifest \\n\\n\\uf0b7 Online whitelist: \\n\\no Entries in the online whitelist need to have the same scheme as the manifest \\n\\nAn additional constraint is that the cache download process does not follow redirects. This \\nway, several potential issues are prevented: \\n\\n\\uf0b7 Captive portals blocking downloads (e.g. Wifi authentication points) \\n\\n\\uf0b7 Adding of resources under URLs that are not allowed by the networking model, thus \\n\\nleaving orphan entries \\n\\n\\uf0b7 Adding of resources under URLs that differ from their true URL \\n\\nCapabilities \\n\\nThe specification enables the following capabilities: \\n\\n\\uf0b7 Persistently store resources offline (both same-origin and cross-origin) \\n\\n\\uf0b7 Load a previously cached version of a resource \\n\\n\\n\\n \\n\\n33 \\n\\n \\n\\nA Security Analysis of Next Generation Web Standards \\n\\nUser Involvement \\n\\nThe specification involves the user in the following way: \\n\\n\\uf0b7 Authorize the caching of an application (suggestion) \\n\\n\\uf0b7 Purge cached data (suggestion) \\n\\nSecurity/Privacy Considerations \\n\\nThe specification explicitly mentions the following security/privacy considerations: \\n\\n\\uf0b7 The specification suggests that the caching process can ask the user for permission. \\n\\nThis is especially important on space-constrained devices or in highly privacy-sensitive \\n\\nenvironments. \\n\\n\\uf0b7 The specification further suggests treating the application cache the same way as \\n\\ncookie data. For instance, the user should be able to purge all data for a specific origin, \\n\\nwhich includes cookies, local storage and application caches. \\n\\nThe following considerations are assumed by the specification and are derived from its \\ncontents: \\n\\n\\uf0b7 The cached version of the application offers the same protection (e.g. against \\n\\nunauthorized access to data) as the online version. \\n\\nThreat Enumeration \\n\\nSQ2 - Isolation Properties \\n\\nHTML5CACHE-ISOLATION-1.Restricted Context The specification does not mention the \\nbehavior of offline resources in a restricted browsing context. For a sandboxed application, \\nthe behavior is indicated by the sandboxed MIME type, specified in the headers. In a \\nprivate browsing context however, nothing is specified. This may be problematic for \\ncached data, such as a JSON file, which can be stored in normal mode and then accessed \\n\\nin private browsing mode. \\n\\nSQ3 - Consistency \\n\\nHTML5CACHE-CONSISTENCY-1.Permission System The specification mentions that \\noptionally, permission to start the download process can be obtained from the user. There \\nis no mention of a concrete permission system or any constraints on obtaining such \\n\\npermissions. \\n\\n4.6. HTML5 - Browser Features \\n\\nDescription \\n\\nCustom scheme and content handlers: using registerProtocolHandler and \\n\\nregisterContentHandler, sites can register (only) themselves as possible handlers for a \\n\\nparticular content type or scheme (e.g. sms:). Every URL matching the criteria is sent to \\n\\nthe URL of the registered content handler. Notice that the URL is sent to the content \\n\\n\\n\\n \\n\\n34 \\n\\n \\n\\nA Security Analysis of Next Generation Web Standards \\n\\n \\n\\nhandler, and not the content itself. This means for instance that an external handler \\n(outside the company network) cannot access intranet files. Additionally, for content \\nhandlers this should not apply to content retrieved by a non-idempotent request (e.g. \\nanother method than GET), since the external service cannot retrieve the same content. \\nThe actual implementation is up to the browser vendor, but asking user confirmation is \\nrecommended (e.g. Firefox 4.0 does this). \\n\\nEditable Content: contentEditable allows an element to be editable, which allows the \\n\\nuser to add text or remove text, move components around, ... An entire document can be \\nmade editable with the designMode attribute. A document or element becomes non-\\n\\neditable if its state changes (external manipulation) or if it is destroyed. \\n\\nDrag and Drop: elements can use the draggable attribute to indicate they can be dragged \\n\\nand the dropzone attribute to indicate they can receive drop events. The appropriate \\n\\nactions can be implemented using handlers for the different drag/drop events. The data \\ninvolved in the drag and drop operation is stored in the drag data store. Drag and drop is \\nalso supported from external sources (e.g. dragging files from your desktop to a web \\npage). \\n\\nHistory Interface: Each browsing context, including nested browsing contexts has a \\n\\ndistinct session history. A session history consists of a sequence of documents. One of the \\ndocuments of the session history is known as the current entry. The history interface \\nprovides the following programmatic operations: \\n\\n\\uf0b7 go: Allows to jump to an entry, indicated by a delta (+ or -). If no delta is given, the \\n\\ncurrent entry is reloaded. \\n\\n\\uf0b7 back/forward: Allows to go 1 step back or forward \\n\\n\\uf0b7 pushState: Adds an entry to the history, using the given state information and \\n\\nsuggested title. Optionally, a URL can be provided, allowing to store a different address \\n\\nthan the document\\'s current address. The restrictions discussed below apply. After \\n\\nupdating the history, the document\\'s current address is also updated. This is a \\n\\nproperty change, not a reload or navigation event. \\n\\n\\uf0b7 replaceState: Replaces the last entry with a new entry, using the same procedure as \\n\\npushState. \\n\\nTo store a different URL than the document\\'s current address, the following restrictions \\napply: \\n\\n\\uf0b7 If the URL compared to the document\\'s address differs in any part, except for the path, \\n\\nquery (i.e. GET parameters) or fragment, a security exception is raised. This effectively \\n\\nprevents a document from storing a URL for a different protocol, host or port. \\n\\n\\uf0b7 If the origin of the URL differs from the origin of the script\\'s document and either the \\n\\npath or query parts from the previous step differ, a security exception is raised. This \\n\\nprevents a sandboxed document from spoofing documents in the same origin: a \\n\\nsandboxed document has a URL within the origin as address, but is assigned a globally \\n\\nunique origin. \\n\\nCapabilities \\n\\nThe specification enables the following capabilities: \\n\\n\\n\\n \\n\\n35 \\n\\n \\n\\nA Security Analysis of Next Generation Web Standards \\n\\n\\uf0b7 Install custom handlers for protocols or document types \\n\\n\\uf0b7 Let the user edit rendered HTML content \\n\\n\\uf0b7 Drag and drop html elements within the browser \\n\\n\\uf0b7 Drag and drop system files to the browser \\n\\n\\uf0b7 Navigate the document\\'s history \\n\\n\\uf0b7 Add entries to the document\\'s history \\n\\nUser Involvement \\n\\nThe specification involves the user in the following way: \\n\\n\\uf0b7 Approve the installation of a new scheme or content handler (suggestion) \\n\\n\\uf0b7 Initiate and terminate a drag and drop event \\n\\nSecurity/Privacy Considerations \\n\\nThe specification explicitly mentions the following security/privacy considerations: \\n\\n\\uf0b7 Content and Protocol Handler Security \\n\\no User agents should not allow the overriding of existing schemes such as HTTP or \\n\\nHTTPS, to avoid hijacking of all traffic \\n\\no User agents are strongly recommended to not overwrite defaults and new handlers \\n\\nshould never automatically be used \\n\\no User agents should gracefully prevent registration spamming, where a large \\n\\nnumber of requests are made \\n\\no User agents should not rely on the title property given when registering a handler, \\n\\nbut instead use the handler\\'s domain \\n\\no User agents should protect against interface attacks by malicious strings in visible \\n\\nhandler data (e.g. the URL) \\n\\no Intranet URLs can be leaked (Although the data will not be accessible from outside \\n\\nthe intranet). User agents might wish to provide some form of whitelist/blacklist \\n\\no User agents should not send secure URLs (HTTPS) to third party content handlers \\n\\no User agents must never send username or password information in the content \\n\\nURLs \\n\\n\\uf0b7 Drag and drop security risks \\n\\no User agents must not make the data from the dragstart event available until the \\n\\ndrop event occurred \\n\\no User agents must consider a drop to be successful if the user specifically ended the \\n\\ndrag operation \\n\\no User agents should take care not to start drag and drop operations in response to \\n\\nscript actions \\n\\n\\uf0b7 History Security \\n\\no Using pushState, a malicious page can fill up the session history with its own \\n\\nentries, effectively crippling the back-button. The specification advises \\n\\nimplementers (i.e. browser vendors) to take this into account, for example by \\n\\n\\n\\n \\n\\n36 \\n\\n \\n\\nA Security Analysis of Next Generation Web Standards \\n\\n \\n\\noffering to return to the previous page (instead of the previous state for the current \\n\\npage), or to disallow the use of pushState from a timer or event listener. \\n\\nThe following considerations are assumed by the specification and are derived from its \\ncontents: \\n\\n\\uf0b7 The drop zone (and the associated origin) can be unambiguously identified by the user \\n\\n\\uf0b7 Some of the security measures against the abuse of pushState assume that the \\n\\nhistory has an infinite size (thus the previous relevant entry cannot be pushed off the \\n\\nstack) \\n\\nThreat Enumeration \\n\\nSQ1 - Well defined / Secure \\n\\nHTML5BROWSER-SECURE-1.Content/Protocol Handlers The specification mentions an \\nextensive list of potential security issues with the registration of custom content or \\nprotocol handlers. The most important ones are excessive use of a content/protocol \\nhandler (e.g. HTTP traffic, ...) and leakage of confidential information through URLs. \\n\\nUnfortunately, no real solutions, except for \"the user agent should to take care of it\", are \\ngiven. \\n\\nHTML5BROWSER-SECURE-2.Sleeping Content/Protocol Handlers Once a content handler is \\nregistered, the user has to remember this himself. This can be problematic if the user \\nregisters a handler which is almost never used. After quite some time, the user forgets \\nthis, and is not reminded of the fact. Even if the content handler is used, there is no \\nexplicit notification or indication required (awareness to the user). \\n\\nHTML5BROWSER-SECURE-3.Content Handler URLs Sending URLs to content handlers can \\nsuffer from different problems. One is leaking confidential information (e.g. \\nusername/password, embedded authentication token, unique or intranet filenames, ...). \\nAdditionally, accessing an URL can require an access token (e.g. a session cookie), which \\nmeans that the content handler cannot access the document. Preventing HTTPS URLs to \\nbe loaded via a content handler also seems unnecessary and unjustifiable. If the document \\nis publicly accessible (e.g. does not require a session cookie), the handler cannot access it. \\nOtherwise, there is little reason to prevent this specific behavior, which might even \\ndiscourage the use of HTTPS. \\n\\nHTML5BROWSER-SECURE-4.Infinite History The countermeasure proposed by the \\nspecification to prevent history abuse, assumes that a history is infinite in size. It suggests \\n\\nthat instead of offering the option to return to the previous state, the user agent can offer \\nto return to the previous page. If a malicious page adds a large amount of new states, the \\nlast relevant page will probably be pushed off the history stack. \\n\\nSQ3 - Consistency \\n\\nHTML5BROWSER-CONSISTENCY-1.Handler Permissions The specification says very little \\nabout the approval of installing a new content/protocol handler. The specification suggests \\n\\nthat user approval can be asked, but does not mention anything about warning the user, \\neasy revocation lists, etc... \\n\\n\\n\\n \\n\\n37 \\n\\n \\n\\nA Security Analysis of Next Generation Web Standards \\n\\nSQ4 - User Involvement \\n\\nHTML5BROWSER-USER-1.Drag and Drop Target When a user drags an item to a certain \\narea, the user is expected to know which element of the website (and more important \\nwhich origin) will actually handle the drop event. There are numerous ways to confuse the \\nuser. One (legitimate) way is embedding an iframe that is not visually distinctive from the \\nrest of the page. A second (malicious) way is to overlay the drop zone with an invisible \\nelement, effectively stealing the drop event and its data. \\n\\n4.7. Web Messaging \\n\\nThe Web Messaging specification defines two mechanisms for communicating between \\nbrowsing contexts in HTML documents. \\n\\nDescription \\n\\nThe specification offers two communication mechanisms: cross-document messaging and \\nchannel messaging. The former sends a message in the form of a single asynchronous \\nevent. The latter opens a channel between two contexts, allowing the asynchronous \\nposting and receiving of messages through the channel. Both mechanisms allow the \\npassing of messages of any type, although the transferred message is a clone of the \\noriginal message, as defined by the structured clone algorithm in the HTML5 specification \\n[1]. In essence, the algorithm duplicates the values of each field into a new object, and \\ndoes this in a recursive way. \\n\\nCross-document messaging allows scripts to post messages to another window. The \\nposting of a message with the postMessage operation requires the specification of the \\n\\ntarget origin, which can either be a URI, a wildcard (*) or the current origin (/). The target \\n\\norigin is compared against the origin of the document of the window on which the method \\nwas invoked. If a message is sent to the wrong origin, it is silently discarded. Receiving \\nmessages is possible by handling the message event. \\n\\nChannel messaging creates two ports, of which one needs to be transferred to the remote \\nbrowsing context. The postMessage mechanism (used in cross-document messaging) \\n\\nallows the passing of ports between two browsing contexts. Message ports belonging to \\nthe same channel are entangled. The message ports also offer the postMessage operation \\n\\nand the message event. The postMessage operation accepts a message and optionally \\n\\nanother array of ports. After use, ports should be closed explicitly to avoid needless \\nresource consumption. \\n\\nCapabilities \\n\\nThe specification enables the following capabilities: \\n\\n\\uf0b7 Send messages to other browsing context (opt-in by means of an event handler) \\n\\n\\uf0b7 Establish a message channel with another browsing context \\n\\nUser Involvement \\n\\nThe specification does not involve the user. \\n\\n\\n\\n \\n\\n38 \\n\\n \\n\\nA Security Analysis of Next Generation Web Standards \\n\\n \\n\\nSecurity/Privacy Considerations \\n\\nThe specification explicitly mentions the following security/privacy considerations: \\n\\n\\uf0b7 Cross-document messaging: Security guidelines for authors \\n\\no Check the origin attribute, to ensure that messages are only accepted from \\n\\ntrusted domains \\n\\no Check the data format \\n\\no Do not use the wildcard for confidential data \\n\\n\\uf0b7 Cross-document messaging: Security guidelines for user agents \\n\\no Do not allow scripts to trigger arbitrary events (e.g. a message event) on cross-\\n\\norigin objects \\n\\nThe following considerations are assumed by the specification and are derived from its \\ncontents: \\n\\n\\uf0b7 The origin of a message is correct and unambiguous \\n\\n\\uf0b7 The origin of an established message port does not change \\n\\n\\uf0b7 An established message port cannot be passed to other origins \\n\\nThreat Enumeration \\n\\nSQ1 - Well defined / Secure \\n\\nWEBMSG-SECURE-1.Origin Determination The specification uses document origins to check \\n\\nthe destination origin. In the next step (Algorithm 4.3 step 7), the source origin is \\nspecified as \"the script\\'s origin\" (which may be different from the script’s document’s \\norigin). This probably should be the script\\'s document\\'s origin. All major browsers do \\nimplement it this way. \\n\\nSQ2 - Isolation Properties \\n\\nWEBMSG-ISOLATION-1.Document/Port Handler\\'s Origin A window or message port uses \\n\\nan event handler to receive messages. The effective script origin of this handler is never \\nchecked. This can lead to potential issues, for instance if the script relaxes its domain \\n(using document.domain), its handler can be overwritten by another document with the \\n\\nsame document.domain value. \\n\\nWEBMSG-ISOLATION-2.Port Endpoint Origin This threat is illustrated in the figure below. \\nWhen a script in a document with origin A creates a pair of ports (p1 and p2) (figure: \\nphase 1) and shares p2 with another origin B, using postMessage, the destination origin B \\n\\nis explicitly stated (figure: going from phase 1 to phase 2). Any messages sent using p1 \\nand p2 no longer include the source or destination origin (figure: phase 2). It is however \\npossible for party B to send port object p2 to another party C (figure: going from phase 2 \\nto phase 3). This will cause p2 to become untangled (no longer usable) and will link p1 to \\nthe port owned by party C (figure: phase 3). This means that no origin guarantees can be \\ngiven on any messages sent over a message channel. As in this scenario, party A can \\nperform the same action with p1. \\n\\n\\n\\n \\n\\n39 \\n\\n \\n\\nA Security Analysis of Next Generation Web Standards \\n\\n \\n\\n4.8. XMLHttpRequest Level 1 and 2 \\n\\nThe XMLHttpRequest specification defines an API that provides scripted client functionality \\nfor transferring data between a client and a server. \\n\\nDescription \\n\\nThe XMLHttpRequest specification is the HTTP API for ECMAScript. It offers script the \\npossibility to initiate HTTP requests and process the responses. The XHR specification has \\nevolved over time, which is why there is a Level 1 and Level 2 version. Level 1 offers \\nsame-origin communication, while level 2 extends the functionality towards cross-origin \\ncommunication. \\n\\nWe have constructed a UML activity diagram that shows how an XMLHttpRequest is \\nprocessed according to the specifications. The following notes are important when reading \\nthe diagram: \\n\\n\\uf0b7 Credentials includes cookies, HTTP authentication and client-side SSL certificates (as \\n\\nstated in the specification) \\n\\n\\uf0b7 A globally unique origin identifier is always considered to be cross-origin \\n\\n\\uf0b7 The diagram only contains steps important to this analysis (i.e. remote \\n\\ncommunication). Other features, including the ones listed below, are omitted for clarity \\n\\nreasons. \\n\\no Internal bookkeeping of the object (states, events, ...) \\n\\no Caching \\n\\no Redirect loop detection \\n\\n\\uf0b7 The activity add referer is not explicitly mentioned in the spec, but for an anonymous \\n\\nrequest, the referer is explicitly left out. For clarity reasons, we chose to model the \\n\\ninclusion instead of the exclusion. \\n\\nOrigin A\\np1\\n\\np2\\nOrigin B Origin C\\n\\nOrigin A\\np1\\n\\np2\\nOrigin B\\n\\np2\\nOrigin C\\n\\nOrigin A\\np1\\n\\np2\\nOrigin B\\n\\np2\\nOrigin C\\n\\np2\\n\\nPhase 1 to phase 2\\npostMessage(…, “http://originB”, p2)\\n\\nPhase 1\\n\\nPhase 2\\n\\nPhase 3\\n\\nPhase 2 to phase 3 \\npostMessage(…, “http://originC”, p2)\\n\\n\\n\\n \\n\\n40 \\n\\n \\n\\nA Security Analysis of Next Generation Web Standards \\n\\n \\n\\n \\n\\n\\n\\n \\n\\n41 \\n\\n \\n\\nA Security Analysis of Next Generation Web Standards \\n\\nThe sub-diagram below shows the resource sharing check from the main activity diagram. \\n\\nCapabilities \\n\\nThe specification enables the following capabilities: \\n\\n\\uf0b7 Same-Origin communication \\n\\no HTTP Requests to the origin of the enclosing document \\n\\no Use of any HTTP method except for CONNECT, TRACE or TRACK \\n\\no Setting of custom HTTP headers, except for specific protected headers (e.g. \\n\\nhost) \\n\\no Automatic inclusion of cached HTTP credentials unless custom \\n\\nusername/password is supplied \\n\\no Automatic inclusion of cookies for the destination domain \\n\\no Retrieving custom HTTP headers, except for specific protected headers (e.g. \\n\\nSet-Cookie) \\n\\no Retrieving the response as plain text or as a parsed XML document \\n\\n\\uf0b7 Cross-Origin communication \\n\\no HTTP requests to other origins (by including the Origin header and restricting \\n\\naccess to the response) \\n\\n\\uf0a7 Including custom username/password credentials is not allowed \\n\\no Anonymous requests (no referer, no Origin header, no credentials, no cookies) \\n\\n– allowing the browser to make requests without disclosing potentially \\n\\nidentifying or sensitive information. \\n\\no Additional data types for formatting data: ArrayBuffer, Blob, File and \\n\\nFormData \\n\\nUser Involvement \\n\\nThe specification does not involve the user. \\n\\n\\n\\n \\n\\n42 \\n\\n \\n\\nA Security Analysis of Next Generation Web Standards \\n\\n \\n\\nSecurity/Privacy Considerations \\n\\nThe following considerations are assumed by the specification and are derived from its \\ncontents: \\n\\n\\uf0b7 The origin of the enclosing document is correct and unambiguous \\n\\n\\uf0b7 The destination URI of the request is correct and unambiguous \\n\\n\\uf0b7 The callback handler and its script environment are not compromised \\n\\nRelated Specifications \\n\\nThe following specifications are closely related: \\n\\n\\uf0b7 Cross-Origin Resource Sharing \\n\\n\\uf0b7 Uniform Messaging Policy \\n\\nThreat Enumeration \\n\\nSince this specification implements Cross-Origin Resource Sharing and supports Uniform \\nMessaging Policy, the issues revealed by the analysis of those specifications also need to \\nbe taken into account. \\n\\nSQ1 - Well defined / Secure \\n\\nXHR-SECURE-1.Inconsistent Method Checks The specification performs two method \\nchecks, of which one is case-insensitive and the other is case-sensitive. The inconsistency \\ndoes not seem logical and is probably a mistake. \\n\\n4.9. Cross-Origin Resource Sharing \\n\\nThis specification defines a mechanism for cross-origin communication between client and \\nserver, which requires opt-in by the server. \\n\\nDescription \\n\\nCORS defines a mechanism to enable client-side cross-origin requests. CORS only defines \\nalgorithms which can be followed by an implementing API, such as XMLHttpRequest Level \\n2. \\n\\nThe main idea behind the specification is that a client provides the server with adequate \\ninformation to decide whether the requesting origin has access to the requested data or \\nnot. This decision is sent to the client, which effectively enforces this decision by either \\ngranting or denying access to the requested resource. CORS identifies simple requests, \\nwhich use the HEAD, GET or POST method and use only headers and content types from a \\nspecific list, and actual requests which are non-simple requests. To prevent CSRF-like \\nattacks, actual requests (which are requests that you cannot make using common HTML \\nelements) are required to have a pre-flight request, which acquires authorization from the \\n\\nserver to make the actual request. Only when the server grants this permission will the \\nactual request be executed. \\n\\nThe CORS mechanism depends on the following headers: \\n\\n\\uf0b7 Request headers \\n\\n\\n\\n \\n\\n43 \\n\\n \\n\\nA Security Analysis of Next Generation Web Standards \\n\\no Origin \\n\\no Access-Control-Request-Method (preflight) \\n\\no Access-Control-Request-Headers (preflight) \\n\\n\\uf0b7 Response headers \\n\\no Access-Control-Allow-Origin \\n\\no Access-Control-Allow-Credentials \\n\\no Access-Control-Allow-Expose-Headers \\n\\no Access-Control-Allow-Max-Age (preflight) \\n\\no Access-Control-Allow-Allow-Methods (preflight) \\n\\no Access-Control-Allow-Allow-Headers (preflight) \\n\\nCapabilities \\n\\nThe specification enables the following capabilities: \\n\\n\\uf0b7 Making simple cross-origin requests, regardless of whether they are allowed or not \\n\\n\\uf0b7 Accessing simple cross-origin responses if the server allows this \\n\\n\\uf0b7 Making actual cross-origin requests if allowed by a preflight request \\n\\nUser Involvement \\n\\nThe specification does not involve the user. \\n\\nSecurity/Privacy Considerations \\n\\nThe specification explicitly mentions the following security/privacy considerations: \\n\\n\\uf0b7 Resource authors are: \\n\\no strongly encouraged to ensure that a simple request cannot have server-side \\n\\neffects \\n\\no to check the Host header, to prevent DNS rebinding attacks \\n\\n\\uf0b7 User Agents: \\n\\no Can take additional precautions (e.g. strict cache management, refuse to \\n\\nconnect to certain URLs) \\n\\no Are encouraged to limit max-age, to prevent items from staying the preflight \\n\\ncache too long \\n\\no Can terminate the algorithm when initiating a request (e.g. blacklisting, local \\n\\npolicy, ...) \\n\\no Are encouraged to apply the cross-origin security rules to other elements as \\n\\nwell (e.g. an img tag) \\n\\nThe following considerations are assumed by the specification and are derived from its \\ncontents: \\n\\n\\uf0b7 The origin of the enclosing document is correct and unambiguous \\n\\n\\uf0b7 The destination URI of the request is correct and unambiguous \\n\\n\\n\\n \\n\\n44 \\n\\n \\n\\nA Security Analysis of Next Generation Web Standards \\n\\n \\n\\n\\uf0b7 The simple communication mechanisms offer no additional capabilities over traditional \\n\\nHTML elements combined with JavaScript \\n\\n\\uf0b7 An actual request is not possible without the server\\'s consent (by responding to a \\n\\npreflight request) \\n\\nRelated Specifications \\n\\nThe following specifications are closely related: \\n\\n\\uf0b7 XMLHttpRequest level 1 and 2 \\n\\n\\uf0b7 Uniform Messaging Policy \\n\\nThreat Enumeration \\n\\nSQ1 - Well defined / Secure \\n\\nCORS-SECURE-1.Legacy Servers One of the assumptions of CORS is that there is no \\nadditional attack surface towards legacy servers, which have no knowledge of the CORS \\nspec. This is largely true, except that the spec enables two unprecedented scenarios: (i) \\n\\nthe body of a POST request is no longer constrained to the key=value format imposed by \\nform elements, which may enable malicious cross-origin REST or JSON calls, or facilitate a \\ncross-channel attacks [26]; (ii) the use of the HEAD method was previously not possible \\nusing forms, which may be problematic since PHP processes a HEAD request similarly to a \\nGET request, but aborts execution at the first output (a HEAD response cannot have \\nbody). \\n\\nCORS-SECURE-2.Unnecessary Processing The CORS specification states that if a CORS-\\naware server receives a simple request from an origin, which cannot get access to the \\nresponse, no headers should be included. A question about this decision is why the server \\nshould process the request at all? Can it not just return an empty response, without taking \\nany server-side action? Obviously, the client-side checking mechanism still remains in \\nplace to prevent unauthorized access to responses coming from legacy servers. \\n\\nSQ2 - Isolation Properties \\n\\nCORS-ISOLATION-1.Unique Origins When run in a document with a globally unique \\nidentifier for an origin, the Origin header specification requires that null should be sent as \\nthe value of the Origin header. The algorithms listed in the CORS specification do not \\nexplicitly take the null value into account, leading to some risk scenarios. It is for instance \\nvalid that a request sends origin null and the server responds with an Allow-Origin header \\n\\nwith the value null. \\n\\n4.10. Uniform Messaging Policy \\n\\nUMP enables cross-site messaging while attempting to minimise attacks abusing cookies \\nand other credentials. \\n\\nDescription \\n\\nUMP allows the resource owner to consent to cross-origin retrieval and enforces origin \\nindependent messaging. This is realized using a uniform request and a uniform response. \\n\\n\\n\\n \\n\\n45 \\n\\n \\n\\nA Security Analysis of Next Generation Web Standards \\n\\nA non-uniform response as an answer to a uniform request must be met by an error. It \\nmust not be made available to the requesting node and if it is a redirect, it must not be \\nfollowed. \\n\\nA uniform request: \\n\\n\\uf0b7 Must not contain a username/password \\n\\n\\uf0b7 Must use the GET or POST method \\n\\n\\uf0b7 If a body is provided, it must be of the type \\n\\no application/x-www-form-urlencoded \\n\\no multipart/form-data \\n\\no text/plain \\n\\n\\uf0b7 Must not be sent over a client-authenticated connection (e.g. client-side SSL \\n\\ncertificates) \\n\\n\\uf0b7 Must not add any identifying data to the request (e.g. Referer header, Origin header, \\n\\ncookies) \\n\\n\\uf0b7 May be an Origin header with a null value \\n\\nA uniform response: \\n\\n\\uf0b7 Must have a single Access-Control-Allow-Origin: * header if the resource can be \\n\\naccessed \\n\\n\\uf0b7 All headers except for a whitelist must be filtered from the response by the user agent \\n\\nBecause a uniform request does not contain any identifying information, attacks such as \\ncross-site request forgery are not possible. Authentication and authorization should be \\nmanaged using appropriate protocols that are not susceptible to attacks. \\n\\nThe specification also offers advice for application authors: \\n\\n\\uf0b7 A resource not useful to other sites (e.g. a login page) should not return uniform \\n\\nresponses. It should also still incorporate protection against CSRF and click-jacking. \\n\\n\\uf0b7 Publicly available resources should always return a uniform response \\n\\n\\uf0b7 A resource that requires authorization should check permission tokens and return a \\n\\nuniform response if access is allowed \\n\\n\\uf0b7 A GET response with a JavaScript body (scripts or JSON) should be a uniform \\n\\nresponse, since the same content is already accessible through script inclusion (via the \\n\\nscript tag), which is exempted from the Same Origin Policy protection. \\n\\nCapabilities \\n\\nThe specification enables the following capabilities: \\n\\n\\uf0b7 Making cross-origin uniform requests \\n\\n\\uf0b7 Accessing cross-origin uniform responses \\n\\nUser Involvement \\n\\nThe specification does not involve the user. \\n\\n\\n\\n \\n\\n46 \\n\\n \\n\\nA Security Analysis of Next Generation Web Standards \\n\\n \\n\\nSecurity/Privacy Considerations \\n\\nThe specification makes no explicit or implicit security/privacy considerations \\n\\nRelated Specifications \\n\\n\\uf0b7 The following specifications are closely related: \\n\\n\\uf0b7 XMLHttpRequest Level 1 and Level 2 \\n\\n\\uf0b7 The AnonXMLHTTPRequest of the XHR Level 2 spec is very similar to UMP. The major \\n\\ndifference is that the spec allows other methods than GET and POST. \\n\\n\\uf0b7 Cross Origin Resource Sharing \\n\\nThreat Enumeration \\n\\nThe analysis did not reveal any threats. \\n\\n4.11. Web Storage \\n\\nThe Web Storage API provides persistent client-side storage of key-value pair data. \\n\\nDescription \\n\\nWeb Storage offers each origin its own separate client-side storage area for key-value \\npairs (keys as in indices, not cryptographic keys), similar to the cookie mechanism. A valid \\nkey is any string, including the empty string. A valid value is any piece of data supported \\nby the structured clone algorithm: each value is cloned when storing it and is cloned when \\nretrieving it (preventing indirect updates by reference). \\n\\nModifying the storage (setItem, removeItem, clear) also triggers a storage event to each \\n\\ndocument that has a storage object that is affected (e.g. window.localStorage). The \\n\\nevent contains the information about the change. \\n\\nWeb Storage supports two different storage areas: localStorage and sessionStorage. \\n\\nlocalStorage: Local storage is persistent storage with no limited lifetime. The user agent \\nmanages a set of local storage areas, one for each origin. The local storage is accessible \\nfrom any document, as long as the effective script origin matches the origin of the \\ndocument that accessed the storage area. The data in a local storage area is only erased \\nupon user demand or in case of space constraints. The figure below shows in which cases \\nthe local storage area for an origin is shared. \\n\\n \\n\\nOrigin A\\n\\nOrigin A 1\\n\\nOrigin A\\nsandbox\\n\\n1\\n\\nOrigin A\\ndoc.domain\\n\\nOrigin B 2\\n\\nOrigin B\\n\\nOrigin A 1\\n\\nOrigin B\\nsandbox\\n\\n2\\n\\nOrigin A\\ndoc.domain\\n\\nOrigin B 2\\n\\n\\n\\n \\n\\n47 \\n\\n \\n\\nA Security Analysis of Next Generation Web Standards \\n\\nsessionStorage: Session storage is meant to support independent (same-origin) \\nconcurrent transactions in separate windows, a case that cookies do not support. Each top \\nlevel browsing context has a set of storage areas, one per origin. The lifetime of a session \\nstorage area is equal to the lifetime of the browsing context (which can be longer than the \\nbrowser process, due to session restore mechanisms). The storage area assigned to a \\ndocument never changes, not even if an iframe is relocated to a different top-level \\n\\nbrowsing context. If a top level browsing context is cloned, the session storage areas must \\nbe copied to the new context. The figure below shows in which cases the session storage \\narea for an origin is shared. \\n\\n \\n\\nThe specification proposes a limit of 5MB per origin. It also suggests that user agents allow \\nthe user to enlarge the available space. Additionally, the specification states that a user \\nagent should prevent sites from using subdomains (a1.example.com, a2.example.com) to \\n\\ncircumvent the storage limits (it does not state how to prevent this). \\n\\nCapabilities \\n\\nThe specification enables the following capabilities: \\n\\n\\uf0b7 Persistent client-side store data within an origin \\n\\n\\uf0b7 Session-specific storage, even after a resume \\n\\n\\uf0b7 Separate storage area for each top-level browsing context, regardless if they share the \\n\\nsame origin or not \\n\\n\\uf0b7 Add (limited amounts of) data to the local disk \\n\\nUser Involvement \\n\\nThe specification involves the user in the following way: \\n\\n\\uf0b7 Enlarge storage space (suggestion) \\n\\n\\uf0b7 Pruning the locally stored data, similar to managing cookies (suggestion) \\n\\n\\uf0b7 Whitelisting or Blacklisting sites (suggestion) \\n\\nSecurity/Privacy Considerations \\n\\nThe specification explicitly mentions the following security/privacy considerations and \\nadvice: \\n\\n\\uf0b7 localStorage security \\n\\nOrigin A\\n\\nOrigin A 1\\n\\nOrigin A\\nsandbox\\n\\n2\\n\\n1\\n\\nOrigin A\\ndoc.domain\\n\\n1\\n\\nOrigin B 3\\n\\nOrigin A\\n\\nOrigin A 4\\n\\nOrigin A\\nsandbox\\n\\n5\\n\\n4\\n\\nOrigin A\\ndoc.domain\\n\\n4\\n\\nOrigin B 6\\n\\n\\n\\n \\n\\n48 \\n\\n \\n\\nA Security Analysis of Next Generation Web Standards \\n\\n \\n\\no Whenever a script accesses a storage object returned by the localStorage \\n\\nattribute and the script\\'s effective origin differs from the origin of the document \\n\\nof the window on which the localStorage object is accessed, an error is thrown \\n\\no This means that after using document.domain, a script can no longer access \\n\\npreviously obtained storage objects \\n\\n\\uf0b7 Privacy: user tracking \\n\\no Block third party storage: do not allow a document in an iframe access to the \\n\\nlocal storage of that origin \\n\\no Expiring stored data: expire data after a fixed amount of time (makes the API \\n\\nless usable/valuable) \\n\\no Treat persistent storage as cookies: from a user perspective, local storage is \\n\\ntreated the same as cookies (e.g. erasing on user demand) \\n\\no Site-specific whitelisting: allow access to session storage by default, but require \\n\\nuser authorization for accessing local storage \\n\\no Origin-tracked storage: store the origins of sites that contained third-party \\n\\ncontent that stored data. This eases pruning by the user \\n\\no Shared blacklists: use community forces to blacklist tracking origins \\n\\n\\uf0b7 Sensitive data \\n\\no User agents should process stored data as potentially sensitive \\n\\no When data is deleted, it should promptly be removed from the underlying \\n\\nstorage \\n\\n\\uf0b7 Security \\n\\no DNS spoofing attacks can occur, but this can be mitigated using TLS \\n\\no Cross-directory attacks: sites using shared hosting (e.g. geocities.com) all share \\n\\nthe same storage areas, since they are hosted on the same origin. Such sites \\n\\nshould not use this functionality. \\n\\n\\uf0b7 Implementation risks: user agents should take extra care to avoid one origin to read \\n\\ndata from another origin, when it\\'s not supposed to \\n\\nThe following considerations are assumed by the specification and are derived from its \\ncontents: \\n\\n\\uf0b7 Stored data is only available to the origin that stored it \\n\\n\\uf0b7 The effective script origin is sufficient to distinguish all origin changes (e.g. \\n\\ndocument.domain, sandbox, ...)] \\n\\n\\uf0b7 Every origin automatically has access to storage functionality, without explicit \\n\\npermissions \\n\\nThreat Enumeration \\n\\nSQ1 - Well defined / Secure \\n\\nSTORAGE-SECURE-1.Subdomain Storage The specification mentions that using subdomain \\nstorage could be used to circumvent storage limits. User agents are expected to prevent \\nthis, but no practical guidelines are given. How can legitimate use be distinguished from \\nabuse? \\n\\n\\n\\n \\n\\n49 \\n\\n \\n\\nA Security Analysis of Next Generation Web Standards \\n\\nSTORAGE-SECURE-2.Client-side Validation The specification does not mention the need for \\nclient-side validation. Since data is stored locally, but is accessible to all scripts loaded in \\nwithin the document (also third-party scripts included with a script tag), the stored \\n\\ncontent should not be trusted, and therefore should be validated on every use. \\n\\nSTORAGE-SECURE-3.Shared Frame Storage The goal of the specification is to support \\n\\nmultiple transactions in separate windows, a case that cookies fail to support. This can be \\nachieved using session storage, although this storage area is still shared across frames in \\nthe same top-level browsing context. This case however is not documented. \\n\\nSQ2 - Isolation Properties \\n\\nSTORAGE-ISOLATION-2.Restricted Context The specification does not mention the \\n\\nbehaviour of storage in restricted contexts. \\n\\nSQ3 - Consistency \\n\\nSTORAGE-CONSISTENCY-1.Permission System The specification does not mention an \\nexplicit permission system. However, one of the steps in an algorithm is that the user \\nagent may throw an error if certain storage policies apply. \\n\\n4.12. Geo-location API \\n\\nThe geo-location API provides scripted access to geographical location information \\nassociated with the hosting device. \\n\\nDescription \\n\\nThe geo-location API offers access to the current location of the device. Geo-location offers \\nboth “one-shot” location information or repeated monitoring of location changes. When \\nmonitoring location changes, the user agent determines when a location has changed \\nsignificantly and only then sends an event. When requesting the location, the option \\nenableHighAccuracy indicates the best possible result is needed, even if it is slower or \\n\\nconsumes more power. The API also explicitly offers access to cached locations, \\nconfigurable by specifying a maximumAge. \\n\\nThe API is agnostic of the underlying location mechanism (e.g. GPS, network-based) and \\nprovides no guarantees about the accuracy of the location. Since the underlying \\nmechanism is not defined, geo-location is applicable to handhelds, notebooks, netbooks, \\ndesktop machines, ... \\n\\nCapabilities \\n\\nThe specification enables the following capabilities: \\n\\n\\uf0b7 one-time permitted access to the current location, either as one-shot or as a monitor \\n\\n(one-time permission) \\n\\n\\uf0b7 continuous permitted access to the current location, either as one-shot or as a monitor \\n\\n(stored permission) \\n\\n\\uf0b7 retrieval of a previously cached location, which is potentially entirely different from the \\n\\ncurrent location \\n\\n\\n\\n \\n\\n50 \\n\\n \\n\\nA Security Analysis of Next Generation Web Standards \\n\\n \\n\\nUser Involvement \\n\\nThe specification involves the user in the following way: \\n\\n\\uf0b7 give consent for an origin to access location information \\n\\n\\uf0b7 manage long-term permissions \\n\\nSecurity/Privacy Considerations \\n\\nThe specification explicitly mentions the following security/privacy considerations: \\n\\n\\uf0b7 Accessing the location requires explicit consent, where the UI must show the URI of the \\n\\ndocument\\'s origin. The “Permissions for Device API Access” specification states that the \\n\\nuser’s permission has to be explicitly asked, but can be retained for later use in the \\n\\nsame session. \\n\\n\\uf0b7 Privacy considerations \\n\\no No location information can be disclosed without explicit user permission \\n\\no The permission UI must show the URI of the document\\'s origin \\n\\no Long-term permissions must be easily revocable \\n\\no Permission is not needed for pre-established trust relationships (e.g. emergency \\n\\n911 services) \\n\\no Recipients \\n\\n\\uf0a7 must only request location information when necessary \\n\\n\\uf0a7 must only use it for the task they requested it for \\n\\n\\uf0a7 Must dispose of the info after using it \\n\\n\\uf0a7 Should allow users to update/delete stored information \\n\\n\\uf0a7 Must not retransmit the information \\n\\n\\uf0a7 Must disclose purpose, storage terms, security measures, … \\n\\no Implementers are advised to add location-sharing-awareness and provide easy \\n\\npermission-revocation mechanisms \\n\\nThe following considerations are assumed by the specification and are derived from its \\ncontents: \\n\\n\\uf0b7 All sites within an origin have the same trust level \\n\\n\\uf0b7 Once a persistent permission is granted to an origin, it remains valid until the user \\n\\nrevokes it \\n\\n\\uf0b7 Recipients of location data are honest \\n\\n\\uf0b7 The callback handler and its script environment are not compromised \\n\\n\\uf0b7 The user can not be tricked into giving consent to access location data \\n\\n\\uf0b7 The user unambiguously knows which (document) origin and which part of the page \\n\\nwants to know the location \\n\\n\\uf0b7 An implementer is fit to determine when a location is significantly different \\n\\n\\uf0b7 There are no conflicts between the API and the underlying OS (e.g. access control to \\n\\nlocation information) \\n\\n\\n\\n \\n\\n51 \\n\\n \\n\\nA Security Analysis of Next Generation Web Standards \\n\\nThreat Enumeration \\n\\nSQ1 - Well defined / Secure \\n\\nGEOLOC-SECURE-1.Monitoring Lifetime The specification discusses a way to launch a \\nbackground monitoring process, that invokes a callback handler if the location has \\nchanged. It does not explicitly specify the lifetime of a watchPosition process, except \\n\\nwhen it is cancelled by the caller. Such a process should terminate when the associated \\ndocument no longer exists. \\n\\nGEOLOC-SECURE-2.Technology Agnostic The specification is agnostic to the underlying \\nlocation technology. In practice, location providers such as Google Location Services or \\nSkyHook Wireless are used to determine the location of the device. By doing so, these \\nservices can -- and do -- store the requested information, leading to potential privacy \\nissues [18]. \\n\\nGEOLOC-SECURE-3.Cache Polling The specification supports the use of cached positions \\nand even supports the explicit retrieval of a cached position, instead of a fresh one. By \\nquerying the cache with increasingly larger maximumAge values until a hit occurs, the \\n\\ntimestamp of the last cached location can be determined, which is a potential privacy \\n\\nissue. \\n\\nGEOLOC-SECURE-4.Changed Behaviour The specification allows that permissions are \\nstored for a certain origin, avoiding prompting the user every time the site requests \\nlocation information. The specification does not take into account that the origin\\'s \\nintent/permission usage can change over time, thus using the location information for \\ncompletely other purposes than before. Even if the site would like the user to re-confirm \\n\\nthe permission, there is no mechanism to do so [18]. \\n\\nGEOLOC-SECURE-5.OS Conflicts The specification employs a separate permission system \\nfor accessing location information. There is no mention about potential integration with the \\nunderlying OS. At least, the OS should be aware of the availability of more fine-grained \\ncontrols for accessing location information. Additionally, having a uniform access control \\nmodel and UI avoids potential confusion about location-sharing decisions. \\n\\nSQ2 - Isolation Properties \\n\\nGEOLOC-ISOLATION-1.Restricted Context The interactions of permissions and restricted \\ncontexts are underspecified. Should permissions granted in the normal context also be \\nvalid in a private browsing context and vice versa? How are permissions granted in a \\nsandboxed context with a unique origin? \\n\\nSQ3 - Consistency \\n\\nGEOLOC-CONSISTENCY-1.Permission Management Long-term permission management is \\nonly specified as a “should”, leaving too much room for implementers. For example, the \\nstatement that \"implementors are advised to enable user awareness of location sharing, \\nand to provide easy access to interfaces that enable revocation of permissions\" is not \\nsufficient. In addition, the lack of awareness to the end-user that geo-location is being \\n\\nused complicates long-term permission management. This is evidenced by current \\nimplementations: \\n\\n\\uf0b7 Firefox: this setting is in the page information dialog, which is only accessible after \\n\\nloading the page (and thus resubmitting location information) \\n\\n\\n\\n \\n\\n52 \\n\\n \\n\\nA Security Analysis of Next Generation Web Standards \\n\\n \\n\\n\\uf0b7 Chrome: this setting is located in preferences -> under the hood -> privacy content \\n\\nsettings -> location, where exceptions can also be managed \\n\\n\\uf0b7 Opera: same as Firefox \\n\\n\\uf0b7 IE9: only allows clearing of the entire list of sites. Moreover, the list cannot be \\n\\nconsulted. This is located under internet options -> privacy. \\n\\nSQ4 - User Involvement \\n\\nGEOLOC-USER-1.Permission Nature The specification imposes a requirement on the \\npermission UI, stating that the origin of the document must be shown. However, it does \\nnot impose that the nature of the permission (one-shot or monitoring) must be made \\nclear. The difference between permission for a one-shot location retrieval or launching a \\nmonitoring process is quite important. Additionally, continuous one-shot permissions are \\nvery similar to the monitoring process. \\n\\n4.13. Media Capture API \\n\\nThe Media Capture API provides programmatic access to audio, image and video \\ncapabilities of the device. \\n\\nDescription \\n\\nScripts can use the Capture interface to capture audio clips, video clips and images. \\nCapture operations are invoked asynchronously and when finished, they return their result \\nusing a success or error callback handler. The actual capturing is handled by an external \\napplication that is part of the browser or the underlying platform. Captured data is \\navailable as a FileList, as defined in the File API [33]. The lifetime of captured data is \\n\\nequal to the lifetime of the top-level browsing context, unless files are removed due to \\nspace constraints. \\n\\nThe API allows the specification of configuration data for capturing images/audio/video \\n(e.g. number of items, duration of clips). The API does not allow live capturing, as needed \\nin interactive applications (e.g.video chat). \\n\\nCapabilities \\n\\nThe specification enables the following capabilities: \\n\\n\\uf0b7 capturing audio/visual information \\n\\n\\uf0b7 providing access to files as specified by the File API [33] \\n\\nUser Involvement \\n\\nThe specification involves the user in the following way: \\n\\n\\uf0b7 give consent to start a capture \\n\\nSecurity/Privacy Considerations \\n\\nThe specification explicitly mentions the following security/privacy considerations: \\n\\n\\n\\n \\n\\n53 \\n\\n \\n\\nA Security Analysis of Next Generation Web Standards \\n\\n\\uf0b7 The specification mentions the importance of privacy and states that capturing cannot \\n\\nhappen without the user\\'s consent. There are no details on how to implement these \\n\\nconsent mechanisms.  \\n\\nThe following considerations are assumed by the specification and are derived from its \\ncontents: \\n\\n\\uf0b7 the user cannot be tricked into consenting with a capture operation \\n\\n\\uf0b7 the user is aware when a capture operation takes place \\n\\n\\uf0b7 the user unambiguously knows which (document) origin and which part of the page \\n\\nwants to capture data \\n\\n\\uf0b7 the callback handler and its script environment are not compromised \\n\\nThreat Enumeration \\n\\nSQ3 - Consistency \\n\\nMEDIACAPTURE-CONSISTENCY-1.Requesting Consent The specification does not mention \\nwhen exactly user consent is required. The related HTML Media Capture specification does \\n\\nmention that consent is required every time a capture is started. This is an \\nunderspecification in this API. \\n\\nMEDIACAPTURE-CONSISTENCY-2.Consent UI Content The specification mentions that user \\nconsent is needed before any data can be captured. It does not impose any requirements \\non the consent mechanism. One important item for the user is to know which origin \\nrequests the capture (since it can come from a hidden or embedded iframe). Additionally, \\nthe UI should indicate if the requesting document is sandboxed or not. \\n\\nMEDIACAPTURE-CONSISTENCY-3.Consent UI Security The specification does not mention \\nany details about the implementation of the consent UI. The related HTML Media Capture \\nspecification does mention that the UI should be created with an HTML element under \\ncontrol of the user agent. The UI should also be protected against UI re-dressing attacks. \\n\\n4.14. System Information API \\n\\nThe System Information API provides web applications with access to various properties of \\nthe system on which they are running. \\n\\nDescription \\n\\nThe API offers programmatic access to all kinds of system properties typically available to \\nan operating system. Examples are CPU properties, audio/video codecs or different \\nsensors (ambient light, ambient noise, temperature, ...). The API offers one-shot access \\nand continued monitoring, which can be canceled by the user. Currently, only reading \\ninformation is supported, but a future version may offer write-support. \\n\\nCapabilities \\n\\nThe specification enables the following capabilities: \\n\\n\\uf0b7 one-time permitted access to all kinds of system information, either as one-shot or as \\n\\na monitor (one-time permission) \\n\\n\\n\\n \\n\\n54 \\n\\n \\n\\nA Security Analysis of Next Generation Web Standards \\n\\n \\n\\n\\uf0b7 continuous permitted access to all kinds of system information, either as one-shot or \\n\\nas a monitor (stored permission) \\n\\nUser Involvement \\n\\nThe specification involves the user in the following way: \\n\\n\\uf0b7 give consent for an origin to access a specific group of properties \\n\\n\\uf0b7 manage long-term permissions (both for origins and for nested origins) \\n\\nSecurity/Privacy Considerations \\n\\nThe specification explicitly mentions the following security/privacy considerations: \\n\\n\\uf0b7 No information is retrievable without the user\\'s explicit permission \\n\\n\\uf0b7 Permission must be acquired through a user interface, unless a prearranged \\n\\nrelationship exists (e.g. via a widget) \\n\\n\\uf0b7 The user interface must include the origin of the document in whose context the \\n\\ncallback will be invoked \\n\\n\\uf0b7 Long-term permissions must be revocable \\n\\n\\uf0b7 Permissions can be granted for groups of properties, but they only apply to that \\n\\nspecific property group \\n\\n\\uf0b7 The proposed groups are: power, CPU, thermal, audio/video codecs, storage, output \\n\\ndevices, input devices, sensors and network. \\n\\n\\uf0b7 Separate permissions are required if the callback is executed in a nested context and \\n\\nits origin is different than the top-level context\\'s origin \\n\\n\\uf0b7 Such permission is scoped to the pair of both origins \\n\\n\\uf0b7 For the monitor method, distinct permission must be granted and the user interface \\n\\nmust explicitly indicate the continuous monitoring nature \\n\\n\\uf0b7 The monitor method must be limited in time by the user agent \\n\\nThe following considerations are assumed by the specification and are derived from its \\ncontents: \\n\\n\\uf0b7 the principle of least privilege is applied through the permission system \\n\\n\\uf0b7 the user can not be tricked into giving permissions \\n\\n\\uf0b7 the callback handler and its execution environment are not compromised \\n\\n\\uf0b7 the user understands why an application might need such permissions \\n\\n\\uf0b7 there are no conflicts between the API and the underlying OS (e.g. access control to \\n\\ndevice information) \\n\\nThreat Enumeration \\n\\nSQ1 - Well defined / Secure \\n\\nSYSINFO-SECURE-1.Monitoring Lifetime The specification discusses a way to launch a \\nbackground monitoring process, that invokes a callback handler if the location has \\nchanged. It briefly mentions that there is a maximum lifetime. The specification does not \\n\\n\\n\\n \\n\\n55 \\n\\n \\n\\nA Security Analysis of Next Generation Web Standards \\n\\nprovide a concrete value for the \"maximum lifetime\", nor does it provide any requirements \\nfor the lifetime of a monitor process. For instance, such a process should also terminate \\nwhen the associated document no longer exists. \\n\\nSYSINFO-SECURE-2.Changed Behavior The specification allows permissions to be stored \\nfor a certain origin, avoiding prompting the user every time the site requests system \\ninformation. The specification does not take into account that the origin\\'s \\nintent/permission usage can change over time, thus using the system information for \\ncompletely other purposes than before. Even if the site would like the user to re-confirm \\nthe permission, there is no mechanism to do so [18]. \\n\\nSYSINFO-SECURE-3.OS Conflicts The specification employs a separate permission system \\nfor accessing device information. There is no mention of potential integration with the \\nunderlying OS. At least, the OS should be aware of the availability of more fine-grained \\ncontrols for accessing this information. Additionally, having a uniform (or co-ordinated) \\naccess control model and UI would avoid potential confusion about information-sharing \\ndecisions. \\n\\nSQ2 - Isolation Properties \\n\\nSYSINFO-ISOLATION-1.Restricted Context The interactions of permissions and restricted \\n\\ncontexts are underspecified. Should permissions be granted in the normal context also be \\nvalid in a private browsing context and vice versa? How are permissions granted in a \\nsandboxed context with a unique origin? \\n\\nSQ3 - Consistency \\n\\nSYSINFO-CONSISTENCY-1.Permission Management Long-term permission management is \\n\\nonly implied, leaving too much room for implementers. \\n\\nSQ4 - User Involvement \\n\\nSYSINFO-USER-1.Permission Nature Even though clarifying the difference between one-\\nshot and  monitoring access would be an improvement, the practical difference between a \\nstored one-shot permission and a monitoring permission is very small. \\n\\nSYSINFO-USER-2.Awareness The specification does not specify or suggest that browsers \\nshould make users aware that a page is accessing system information. \\n\\n4.15. Widgets - Digital Signatures \\n\\nThis specification defines a profile of the general XML Signature Syntax and Processing \\nspecification, specifically aimed at widgets. \\n\\nDescription \\n\\nThe specification defines two types of signatures: author signatures and distributor \\nsignatures. Both types are identified by their associated roles: an author role or a \\ndistributor role. A signature is based on a list files in the widget package. For each file, a \\ncanonicalization method can be specified. \\n\\nAuthor Signature: This type of signature covers all non-signature files in the package and \\nis meant to be generated by the author and can be used to determine (i) which entity has \\nauthored the widget, (ii) that the integrity of the widget is as the author intended and (iii) \\n\\n\\n\\n \\n\\n56 \\n\\n \\n\\nA Security Analysis of Next Generation Web Standards \\n\\n \\n\\nwhether two widgets came from the same author. The filename for the author signature is \\nauthor-signature.xml. \\n\\nDistributor Signature: This type of signature covers all files in the package, except other \\ndistributor signatures, and is meant to be generated by a distributor of the widget. The \\nsignature can be used to determine (i) that a particular distributor has distributed a widget \\npackage and (ii) that the integrity of the widget package is as the distributor intended. The \\ndistributor signature includes all files in the package, including the author signature but \\nexcluding other distributor signatures. Multiple distributors can add their signature to the \\nsame package. The filename convention is signature[X].xml, where [X] is a positive \\ninteger without leading zeroes. \\n\\nThe specification includes a recommended signature algorithm (RSAwithSHA256), a \\nminimum key length (2048bit for RSA/DSA) and recommended key length (4096bit for \\nRSA/DSA). The recommended digest algorithm is SHA256. \\n\\nCapabilities \\n\\nThe specification enables the following capabilities: \\n\\n\\uf0b7 Sign widget packages to protect their contents \\n\\n\\uf0b7 Detect unauthorized changes to a widget package \\n\\nUser Involvement \\n\\nThe specification involves the user in the following way: \\n\\n\\uf0b7 Be able to manage public key certificates \\n\\n\\uf0b7 Handle a security warning or error (e.g. for a self-signed cert) \\n\\nSecurity/Privacy Considerations \\n\\nThe specification explicitly mentions the following security/privacy considerations: \\n\\n\\uf0b7 Because the signature is based on packaged content, the attack surface of the \\n\\ndecompression and unpacking code still remains \\n\\n\\uf0b7 Denial of Service attacks need to be taken into account when validating signatures \\n\\n(e.g. malformed packages) \\n\\n\\uf0b7 Path components need to be handled carefully, since an attacker might try to point to \\n\\nsensitive operating system files \\n\\n\\uf0b7 Signatures can be attacked by removing a distributor signature or removing all \\n\\nsignatures, including the author signature \\n\\n\\uf0b7 The management (and installation) of root certificates needs to be handled with care, \\n\\nsince it is the basis of signature validation \\n\\nThe following considerations are assumed by the specification and are derived from its \\n\\ncontents: \\n\\n\\uf0b7 Unsigned packages are hard to install \\n\\n\\uf0b7 Users will not ignore security advice/constraints \\n\\n\\n\\n \\n\\n57 \\n\\n \\n\\nA Security Analysis of Next Generation Web Standards \\n\\nThreat Enumeration \\n\\nSQ4 - User Involvement \\n\\nWGDIGSIG-USER-1.Certificate Management The specification depends on signature \\nvalidation, which involves X509 certificates. As with all security technologies depending on \\n\\nthis infrastructure, the validation mechanism heavily depends on the user\\'s behavior. \\nUnless the user knows how certificates and their validation works, it will be very difficult to \\nprovide meaningful integrity protection. \\n\\nWGDIGSIG-USER-2.Unsigned/Unchecked Packages To boost the usage of digital \\nsignatures, the specification should make the installation of unsigned or unvalidated \\npackages significantly harder than signed/checked packages. \\n\\n4.16. Widgets - Access Request Policy \\n\\nThis specification defines the security model controlling network access from within a \\nwidget. \\n\\nDescription \\n\\nThe goal of this specification is to allow widgets to include external resources. The widget \\nplatform should not become less powerful than the HTTP web platform, which is why the \\naccess policy should not be too restrictive. \\n\\nThe default policy for network resource access is deny all. This policy can be relaxed by \\nmeans of the access-request list, to which the user agent should provide access. The user \\n\\nagent is allowed to deny access to network resources, even if they are listed in the access-\\nrequest list (e.g. custom policy, user prompting, ...). Additionally, exceptions are allowed \\nfor specific schemes, if they are considered benign (e.g. mailto). \\n\\nAn element of the access-request list (the access element) lists an origin to which access \\nis allowed. By using the subdomains boolean value, access to subdomains of the host can \\nbe easily enabled. An access element can also use a wildcard (*) to enable universal \\n\\nnetwork access. \\n\\nCapabilities \\n\\nThe specification enables the following capabilities: \\n\\n\\uf0b7 Customize the default deny all policy by allowing access to specific hosts (and its \\n\\nsubdomains) \\n\\n\\uf0b7 Completely open the Deny all policy by using a wildcard in the access element \\n\\nUser Involvement \\n\\nThe specification involves the user in the following way: \\n\\n\\uf0b7 Allow/disallow certain accesses (very vague suggestion) \\n\\n\\n\\n \\n\\n58 \\n\\n \\n\\nA Security Analysis of Next Generation Web Standards \\n\\n \\n\\nSecurity/privacy Considerations \\n\\nThe specification does not explicitly mention security/privacy considerations. \\n\\nThe following considerations are assumed by the specification and are derived from its \\ncontents: \\n\\n\\uf0b7 An access policy on the level of origins offers sufficient security \\n\\n\\uf0b7 There are no conflicts between the API and the underlying OS \\n\\nThreat Enumeration \\n\\nSQ1 - Well defined / Secure \\n\\nWARP-SECURE-1.Coarse-Grained Approach Allowing the refinement of the deny-all policy \\ncan work quite well. The level of refinement however (an origin) is too coarse grained, \\nespecially if the goal is to allow the loading of external resources. \\n\\nWARP-SECURE-2.Wildcard By allowing an easy wildcard, the specification risks that this \\nwill become the default policy. A similar effect occurred with the Adobe crossdomain.xml \\n\\npolicy file. In CORS, for example, the wildcard can only be used in some cases. \\n\\nWARP-SECURE-3.OS Conflicts The specification employs a separate permission system for \\nwidget network resource access. There is no mention about potential integration with the \\nunderlying OS. At least, the OS should be aware of the availability of more fine-grained \\ncontrols for network access. Additionally, having a uniform/consistent access control model \\nand UI would avoid potential confusion about network resource access decisions. \\n\\nSQ4 - User Involvement \\n\\nWARP-USER-1.User\\'s Role It is unclear how the user is involved in granting permissions. \\nDoes the user have to agree on a set of permissions when installing the widget? Does this \\nagreement process make the user aware of the dangers of a wildcard policy? \\n\\n  \\n\\n\\n\\n \\n\\n59 \\n\\n \\n\\nA Security Analysis of Next Generation Web Standards \\n\\nReferences \\n\\n[1] W3C. HTML5, A vocabulary and associated APIs for HTML and XHTML, Editor\\'s Draft 25 \\nMarch 2011. http://dev.w3.org/html5/spec/Overview.html \\n\\n[2] W3C. XMLHttpRequest, Editor\\'s Draft 4 March 2011. \\nhttp://dev.w3.org/2006/webapi/XMLHttpRequest/ \\n\\n[3] W3C. XMLHttpRequest Level 2, Editor\\'s Draft 4 March 2011. \\nhttp://dev.w3.org/2006/webapi/XMLHttpRequest-2/ \\n\\n[4] W3C. Uniform Messaging Policy, Level One, Editor\\'s Draft 15 June 2010. \\n\\nhttp://dev.w3.org/2006/waf/UMP/ \\n\\n[5] W3C. Cross-Origin Resource Sharing, Editor\\'s Draft 17 November 2010. \\nhttp://dev.w3.org/2006/waf/access-control/ \\n\\n[6] W3C. HTML5 Web Messaging, Editor\\'s Draft 4 March 2011. \\nhttp://dev.w3.org/html5/postmsg/#channel-messaging \\n\\n[7] W3C. The Media Capture API, W3C Editor\\'s Draft 02 December 2010. \\nhttp://dev.w3.org/2009/dap/camera/Overview-API \\n\\n[8] W3C. The System Information API, W3C Editor\\'s Draft 16 March 2011. \\nhttp://dev.w3.org/2009/dap/system-info/ \\n\\n[9] W3C. Permissions for Device API Access, W3C Editor\\'s Draft 30 September 2010. \\nhttp://dev.w3.org/2009/dap/api-perms/ \\n\\n[10] W3C. Device API Privacy Requirements, W3C Editor\\'s Draft 23 June 2010. \\nhttp://dev.w3.org/2009/dap/privacy-reqs/ \\n\\n[11] W3C. Web Storage, Editor\\'s Draft 28 February 2011. \\nhttp://dev.w3.org/html5/webstorage/ \\n\\n[12] W3C. Geo-location API Specification, Editor\\'s Draft 10 February 2010. \\n\\nhttp://dev.w3.org/geo/api/spec-source.html \\n\\n[13] W3C. Widget Access Request Policy, W3C Candidate Recommendation 20 April 2010. \\nhttp://dev.w3.org/2006/waf/widgets-access/ \\n\\n[14] W3C. XML Digital Signatures for Widgets, W3C Working Draft 18 March 2011. \\nhttp://dev.w3.org/2006/waf/widgets-digsig/ \\n\\n[15] Mario Heiderich. HTML5 Security Cheatsheet Project. \\n\\nhttp://code.google.com/p/html5security/ \\n\\n[16] W3C. HTML5 differences from HTML4, W3C Working Draft 25 May 2011. \\nhttp://www.w3.org/TR/html5-diff/ \\n\\n[17] Gustav Rydstedt, Elie Bursztein, Dan Boneh, and Collin Jackson. Busting frame \\nbusting: a study of click-jacking vulnerabilities at popular sites. IEEE Oakland Web 2.0 \\n\\nSecurity and Privacy (W2SP 2010). \\n\\n[18] Nick Doty, Deirdre K. Mulligan and Erik Wilde. Privacy Issues of the W3C Geo-location \\nAPI. UC Berkeley School of Information Report 2010-038, February 2010. Available at \\nhttp://escholarship.org/uc/item/0rp834wf \\n\\n\\n\\n \\n\\n60 \\n\\n \\n\\nA Security Analysis of Next Generation Web Standards \\n\\n \\n\\n[19] Leo Meyerovich, Benjamin Livshits. ConScript: Specifying and Enforcing Fine-Grained \\nSecurity Policies for JavaScript in the Browser. Proceedings of the IEEE Symposium on \\nSecurity and Privacy, IEEE, 20 May 2010. \\n\\n[20] Phu H. Phung, David Sands, Andrey Chudnov. Lightweight Self-Protecting Javascript. \\nACM Symposium on Information, Computer and Communications Security (ASIACCS \\n2009), Sydney, Australia, March 2009. ACM Press. pp. 47-60. \\n\\n[21] Jonas Magazinius, Phu H. Phung, David Sands. Safe Wrappers and Sane Policies for \\nSelf Protecting JavaScript. The 15th Nordic Conf. in Secure IT Systems (NordSec 2010), \\nSpringer Verlag, 2011. \\n\\n[22] Steven Van Acker, Philippe De Ryck, Lieven Desmet, Frank Piessens, Wouter Joosen. \\nWebJail: Least-privilege Integration of Third-party Components in Web Mashups. \\n\\n[23] M. S. Miller, M. Samuel, B. Laurie, I. Awad, M. Stay. Caja Safe active content in \\nsanitized JavaScript. October, 2008. \\n\\n[24] Adam Barth, Collin Jackson, John C. Mitchell. Securing frame communication in \\nbrowsers. Communications of the ACM 52, 6 (June 2009), pp. 83-91 \\n\\n[25] Devdatta Akhawe, Adam Barth, Peifung Eric Lam, John Mitchell, Dawn Song. Towards \\na Formal Foundation of Web Security. Proceedings of the 23rd IEEE Computer Security \\nFoundations Symposium, Edinburgh 2010. \\n\\n[26] Hristo Bojinov, Elie Bursztein, Dan Boneh. XCS: cross channel scripting and its impact \\non Web applications. Proceedings of the 16th ACM Conference on Computer and \\nCommunications Security (New York, NY, USA, 2009), ACM, 420–431. \\n\\n[27] Mozilla Developer Network. The X-Frame-Options response header. \\nhttps://developer.mozilla.org/en/the_x-frame-options_response_header \\n\\n[28] Brandon Sterne, Mozilla. Content Security Policy. \\nhttp://people.mozilla.com/~bsterne/content-security-policy/ \\n\\n[29] W3C. Feature Permissions, W3C Editor\\'s Draft 31 May 2011. \\nhttp://dev.w3.org/2009/dap/perms/FeaturePermissions.html \\n\\n[30] Mike Perry. TorButton Design Documentation. \\nhttps://www.torproject.org/torbutton/en/design/index.html.en \\n\\n[31] J. Mayer, A. Narayanan, S. Stamm. Do Not Track: A Universal Third-Party Web \\nTracking Opt Out. Network Working Group, Internet-Draft, March 7, 2011. \\n\\n[32] W3C. Indexed Database API, W3C Working Draft 19 April 2011. \\nhttp://www.w3.org/TR/IndexedDB/ \\n\\n[33] W3C. File API, W3C Working Draft 26 October 2010. http://www.w3.org/TR/FileAPI/ \\n\\n\\n'"
      ]
     },
     "execution_count": 14,
     "metadata": {},
     "output_type": "execute_result"
    }
   ],
   "source": [
    "text0 = pdf.at[2, 'text']\n",
    "text0"
   ]
  },
  {
   "cell_type": "code",
   "execution_count": 15,
   "metadata": {},
   "outputs": [
    {
     "data": {
      "text/plain": [
       "1500"
      ]
     },
     "execution_count": 15,
     "metadata": {},
     "output_type": "execute_result"
    }
   ],
   "source": [
    "ps = to_paragraphs(text0)\n",
    "#ps = to_sentences(text0)\n",
    "len(ps)"
   ]
  },
  {
   "cell_type": "code",
   "execution_count": 16,
   "metadata": {},
   "outputs": [],
   "source": [
    "paragraph_length = [len(p) for p in ps]"
   ]
  },
  {
   "cell_type": "code",
   "execution_count": 17,
   "metadata": {},
   "outputs": [
    {
     "data": {
      "image/png": "[encoded data removed]",
      "text/plain": [
       "<matplotlib.figure.Figure at 0x1a147426a0>"
      ]
     },
     "metadata": {},
     "output_type": "display_data"
    }
   ],
   "source": [
    "import matplotlib.pyplot as plt\n",
    "\n",
    "plt.hist(paragraph_length, bins=np.arange(0, 1000, 10))\n",
    "plt.show()"
   ]
  },
  {
   "cell_type": "code",
   "execution_count": 18,
   "metadata": {},
   "outputs": [
    {
     "name": "stdout",
     "output_type": "stream",
     "text": [
      "8 'Credits '\n",
      "2 '2 '\n",
      "2 '3 '\n",
      "2 '4 '\n",
      "2 '5 '\n",
      "9 '1. Scope '\n",
      "2 '6 '\n",
      "2 '7 '\n",
      "9 'UMP      '\n",
      "5 '   2 '\n",
      "6 '3   1 '\n",
      "2 '8 '\n",
      "2 '9 '\n",
      "3 '10 '\n",
      "5 'work '\n",
      "8 'yes yes '\n",
      "3 '11 '\n",
      "3 '12 '\n",
      "3 '13 '\n",
      "3 '14 '\n",
      "3 '15 '\n",
      "3 '16 '\n",
      "3 '17 '\n",
      "3 '18 '\n",
      "3 '19 '\n",
      "3 '20 '\n",
      "6 'Model '\n",
      "9 'Media API'\n",
      "7 'Sandbox'\n",
      "3 '21 '\n",
      "3 'UI '\n",
      "3 '22 '\n",
      "3 '23 '\n",
      "3 '24 '\n",
      "3 '25 '\n",
      "3 '26 '\n",
      "3 '27 '\n",
      "3 '28 '\n",
      "3 '29 '\n",
      "5 'of B '\n",
      "3 '30 '\n",
      "8 'Origin A'\n",
      "8 'Origin B'\n",
      "8 'Origin B'\n",
      "8 'Origin A'\n",
      "8 'Origin A'\n",
      "8 'Origin A'\n",
      "8 'Origin B'\n",
      "8 'Origin C'\n",
      "8 'Origin A'\n",
      "8 'Origin B'\n",
      "8 'Origin A'\n",
      "8 'Origin A'\n",
      "3 '31 '\n",
      "8 'network '\n",
      "3 '32 '\n",
      "8 'request '\n",
      "9 'manifest '\n",
      "3 '33 '\n",
      "3 '34 '\n",
      "3 '35 '\n",
      "5 'URLs '\n",
      "3 '36 '\n",
      "7 'stack) '\n",
      "3 '37 '\n",
      "3 '38 '\n",
      "3 '39 '\n",
      "9 'reasons. '\n",
      "2 'p2'\n",
      "7 'Phase 1'\n",
      "7 'Phase 2'\n",
      "7 'Phase 3'\n",
      "3 '40 '\n",
      "3 '41 '\n",
      "6 'host) '\n",
      "9 'FormData '\n",
      "3 '42 '\n",
      "3 '43 '\n",
      "9 'o Origin '\n",
      "8 'effects '\n",
      "3 '44 '\n",
      "3 '45 '\n",
      "9 'cookies) '\n",
      "9 'accessed '\n",
      "3 '46 '\n",
      "8 'Origin A'\n",
      "1 '1'\n",
      "8 'Origin B'\n",
      "1 '2'\n",
      "3 '47 '\n",
      "8 'Origin A'\n",
      "1 '2'\n",
      "1 '1'\n",
      "1 '1'\n",
      "8 'Origin A'\n",
      "1 '5'\n",
      "1 '4'\n",
      "1 '4'\n",
      "3 '48 '\n",
      "8 'storage '\n",
      "3 '49 '\n",
      "3 '50 '\n",
      "3 '51 '\n",
      "7 'issue. '\n",
      "3 '52 '\n",
      "3 '53 '\n",
      "3 '54 '\n",
      "3 '55 '\n",
      "3 '56 '\n",
      "3 '57 '\n",
      "3 '58 '\n",
      "3 '59 '\n",
      "3 '60 '\n"
     ]
    }
   ],
   "source": [
    "for p in ps:\n",
    "    if len(p) < 10:\n",
    "        print(len(p), repr(p))"
   ]
  },
  {
   "cell_type": "code",
   "execution_count": 19,
   "metadata": {},
   "outputs": [],
   "source": [
    "lines_per_paragraph = [len(p.split('\\n')) for p in ps]"
   ]
  },
  {
   "cell_type": "code",
   "execution_count": 20,
   "metadata": {},
   "outputs": [
    {
     "data": {
      "image/png": "[encoded data removed]",
      "text/plain": [
       "<matplotlib.figure.Figure at 0x1a1df39d30>"
      ]
     },
     "metadata": {},
     "output_type": "display_data"
    }
   ],
   "source": [
    "import matplotlib.pyplot as plt\n",
    "\n",
    "plt.hist(lines_per_paragraph, bins=np.arange(0, 50, 1))\n",
    "plt.show()"
   ]
  },
  {
   "cell_type": "code",
   "execution_count": 21,
   "metadata": {},
   "outputs": [
    {
     "data": {
      "text/plain": [
       "['table of contents',\n",
       " 'executive summary',\n",
       " '2. analysis results',\n",
       " '3. recommendations',\n",
       " '4. security analysis',\n",
       " '1. scope',\n",
       " '1. inter-component communication (i.e. inter-page messaging)',\n",
       " '2. cross-application web communication \\n3. least-privilege integration of third-party web components \\n4. use of newly-proposed human computing interfaces (media capture, geo-location, …) \\n5. storing and retrieving client data in local web storage \\nthis multi-tenant focus (illustrated by the system use case scenarios) and the identified \\ncategories of security issues scope the assessment to the following specifications:',\n",
       " '1. html 5 specification [1]',\n",
       " '2. cross-origin messaging specification',\n",
       " '3. device api specifications',\n",
       " '4. widget specifications']"
      ]
     },
     "execution_count": 21,
     "metadata": {},
     "output_type": "execute_result"
    }
   ],
   "source": [
    "titles = get_titles(ps, found_table_of_contents=False, stop_on_duplicates=True)\n",
    "titles"
   ]
  },
  {
   "cell_type": "code",
   "execution_count": 22,
   "metadata": {},
   "outputs": [
    {
     "data": {
      "text/plain": [
       "['contact details:',\n",
       " 'credits',\n",
       " 'legal notice',\n",
       " 'executive summary',\n",
       " 'table of contents',\n",
       " '2. analysis results',\n",
       " '3. recommendations',\n",
       " '4. security analysis',\n",
       " '1. scope',\n",
       " '1. inter-component communication (i.e. inter-page messaging)',\n",
       " '2. cross-application web communication \\n3. least-privilege integration of third-party web components \\n4. use of newly-proposed human computing interfaces (media capture, geo-location, …) \\n5. storing and retrieving client data in local web storage \\nthis multi-tenant focus (illustrated by the system use case scenarios) and the identified \\ncategories of security issues scope the assessment to the following specifications:',\n",
       " '1. html 5 specification [1]',\n",
       " '2. cross-origin messaging specification',\n",
       " '3. device api specifications',\n",
       " '4. widget specifications',\n",
       " '3',\n",
       " 'recommendations will be sent separately to the respective working groups. this applies to \\nthe following threats:',\n",
       " '1. elements: analysis of elements with relevant changed or new functionality in html',\n",
       " '2. attributes: analysis of attributes with relevant changed or new functionality in html',\n",
       " '3. browser features: analysis of relevant behavior part of html5, not specific to an',\n",
       " '4. navigation: analysis of the navigation policy as specified in html',\n",
       " '5. application cache: analysis of the application cache, supporting offline applications',\n",
       " \"1 this identification of attacker types (web attacker and gadget attacker) is based on the threat \\nmodel used in: adam barth, collin jackson, and john c. mitchell. 2008. securing frame \\ncommunication in browsers. in proceedings of the 17th conference on security symposium (ss'08). \\nusenix association, berkeley, ca, usa, p.17-30.\",\n",
       " '1. importance of the identified threats – as defined by their likelihood and impact',\n",
       " '2. feasibility and pragmatism of the potential security improvements',\n",
       " '3. impact of the potential improvements and recommendations',\n",
       " '1. a study of the specification leads to a brief summary of relevant functionality',\n",
       " '2. based on the capabilities, level of user involvement and both explicit and implicit',\n",
       " '3. based on the detailed analysis of all specifications, we investigate potential issues with',\n",
       " '911 services)',\n",
       " 'contents:']"
      ]
     },
     "execution_count": 22,
     "metadata": {},
     "output_type": "execute_result"
    }
   ],
   "source": [
    "titles = get_titles(ps, found_table_of_contents=True, stop_on_duplicates=False)\n",
    "titles"
   ]
  },
  {
   "cell_type": "code",
   "execution_count": 23,
   "metadata": {},
   "outputs": [
    {
     "data": {
      "text/plain": [
       "dict_keys(['executive summary', '1. html 5 specification [1]', '3. based on the detailed analysis of all specifications, we investigate potential issues with', 'legal notice', \"1 this identification of attacker types (web attacker and gadget attacker) is based on the threat \\nmodel used in: adam barth, collin jackson, and john c. mitchell. 2008. securing frame \\ncommunication in browsers. in proceedings of the 17th conference on security symposium (ss'08). \\nusenix association, berkeley, ca, usa, p.17-30.\", 'contact details:', '5. application cache: analysis of the application cache, supporting offline applications', 'table of contents', '1. elements: analysis of elements with relevant changed or new functionality in html', '1. scope', '1. a study of the specification leads to a brief summary of relevant functionality', '2. analysis results', 'contents:', '4. widget specifications', '2. cross-origin messaging specification', '3. device api specifications', '3. recommendations', '3. browser features: analysis of relevant behavior part of html5, not specific to an', 'credits', '1. inter-component communication (i.e. inter-page messaging)', '2. cross-application web communication \\n3. least-privilege integration of third-party web components \\n4. use of newly-proposed human computing interfaces (media capture, geo-location, …) \\n5. storing and retrieving client data in local web storage \\nthis multi-tenant focus (illustrated by the system use case scenarios) and the identified \\ncategories of security issues scope the assessment to the following specifications:', '2. based on the capabilities, level of user involvement and both explicit and implicit', '3. impact of the potential improvements and recommendations', 'recommendations will be sent separately to the respective working groups. this applies to \\nthe following threats:', '1. importance of the identified threats – as defined by their likelihood and impact', '4. security analysis', '911 services)', '3', '2. attributes: analysis of attributes with relevant changed or new functionality in html', '2. feasibility and pragmatism of the potential security improvements', '4. navigation: analysis of the navigation policy as specified in html'])"
      ]
     },
     "execution_count": 23,
     "metadata": {},
     "output_type": "execute_result"
    }
   ],
   "source": [
    "chapters = get_chapters(ps, titles)\n",
    "chapters.keys()"
   ]
  },
  {
   "cell_type": "code",
   "execution_count": 24,
   "metadata": {},
   "outputs": [
    {
     "name": "stdout",
     "output_type": "stream",
     "text": [
      "executive summary 9094\n",
      "1. html 5 specification [1] 28\n",
      "3. based on the detailed analysis of all specifications, we investigate potential issues with 61945\n",
      "legal notice 1008\n",
      "1 this identification of attacker types (web attacker and gadget attacker) is based on the threat \n",
      "model used in: adam barth, collin jackson, and john c. mitchell. 2008. securing frame \n",
      "communication in browsers. in proceedings of the 17th conference on security symposium (ss'08). \n",
      "usenix association, berkeley, ca, usa, p.17-30. 1467\n",
      "contact details: 315\n",
      "5. application cache: analysis of the application cache, supporting offline applications 4151\n",
      "table of contents 614\n",
      "1. elements: analysis of elements with relevant changed or new functionality in html 86\n",
      "1. scope 1133\n",
      "1. a study of the specification leads to a brief summary of relevant functionality 879\n",
      "2. analysis results 2537\n",
      "contents: 8838\n",
      "4. widget specifications 1764\n",
      "2. cross-origin messaging specification 185\n",
      "3. device api specifications 263\n",
      "3. recommendations 10962\n",
      "3. browser features: analysis of relevant behavior part of html5, not specific to an 108\n",
      "credits 402\n",
      "1. inter-component communication (i.e. inter-page messaging) 61\n",
      "2. cross-application web communication \n",
      "3. least-privilege integration of third-party web components \n",
      "4. use of newly-proposed human computing interfaces (media capture, geo-location, …) \n",
      "5. storing and retrieving client data in local web storage \n",
      "this multi-tenant focus (illustrated by the system use case scenarios) and the identified \n",
      "categories of security issues scope the assessment to the following specifications: 423\n",
      "2. based on the capabilities, level of user involvement and both explicit and implicit 471\n",
      "3. impact of the potential improvements and recommendations 9163\n",
      "recommendations will be sent separately to the respective working groups. this applies to \n",
      "the following threats: 4284\n",
      "1. importance of the identified threats – as defined by their likelihood and impact 84\n",
      "4. security analysis 4247\n",
      "911 services) 16756\n",
      "3 10521\n",
      "2. attributes: analysis of attributes with relevant changed or new functionality in html 90\n",
      "2. feasibility and pragmatism of the potential security improvements 69\n",
      "4. navigation: analysis of the navigation policy as specified in html 71\n"
     ]
    }
   ],
   "source": [
    "for k, v in chapters.items():\n",
    "    print(k, len(v))"
   ]
  },
  {
   "cell_type": "code",
   "execution_count": 25,
   "metadata": {},
   "outputs": [
    {
     "name": "stdout",
     "output_type": "stream",
     "text": [
      "3. Recommendations ....................................................................................................... 12 \n",
      "3.1. Controlling Functionality ...................................................................................................... 12 \n",
      "3.2. Consistent Permission Systems ............................................................................................ 13 \n",
      "3.3. End User Policing ................................................................................................................. 14 \n",
      "3.4. Restricted Contexts .............................................................................................................. 14 \n",
      "3.5. General Recommendations .................................................................................................. 14 \n",
      "3. Recommendations \n",
      "\n",
      "In this section, we present concrete recommendations to improve the security of the \n",
      "analyzed specifications. The recommendations are based on the threats identified in the \n",
      "\n",
      "security analysis, as well as the higher-level problems identified in the conclusions of the \n",
      "analysis. \n",
      "\n",
      "3.1. Controlling Functionality \n",
      "\n",
      "One conclusion of the security analysis is that a web application potentially has a large set \n",
      "of privileges on the client-side. This can be problematic with the presence of well-known \n",
      "\n",
      "attacks, such as script injection. These attacks are already discussed by the HTML5 \n",
      "Security Cheat Sheet, but the newly added functionality in HTML5 further increases this \n",
      "attack vector, e.g. with the autofocus or formaction attribute. In this recommendation \n",
      "\n",
      "section, we investigate restrictive countermeasures. \n",
      "\n",
      "Current restrictive systems (i.e. the sandbox attribute [HTML5ATTR-SECURE-2] or the \n",
      "\n",
      "Widget Access Request Policy [WARP-SECURE-1.Coarse-Grained Approach]) are very coarse-\n",
      "grained and only offer the option of enabling or disabling a certain functionality. It is \n",
      "currently impossible to integrate third-party functionality into a web application (e.g. in a \n",
      "mashup scenario) while applying the least-privilege security principle. In such a scenario, \n",
      "either access to all security-sensitive APIs is given while relying on the same-origin policy \n",
      "and user-consent mechanisms, or scripts are completely disabled. \n",
      "\n",
      "One approach is the use of additional fine-grained policies. Such policies are typically \n",
      "enforced at the client-side, but are often provided by the server. There are several types \n",
      "of policies available, either in the form of additional response headers page (e.g. Content \n",
      "Security Policy [27] and X-Frame-Options [26]) or embedded in the page. The latter can \n",
      "be achieved by using an inline reference monitor technique (e.g. ConScript[19], Safe \n",
      "JavaScript Wrappers[20,21], WebJail[22]) or by ensuring the safety of the language, \n",
      "based on the capability security model (e.g. Caja [23]). \n",
      "\n",
      "Of these fine grained policies, the recently proposed Content Security Policy (CSP) is on its \n",
      "\n",
      "way to standardization and already offers extended control over scripts and embedded \n",
      "objects. Rigorously applying CSP certainly addresses several of the mentioned threats, \n",
      "although others remain still valid. Therefore, extending CSP to deal with script capabilities \n",
      "such as domain relaxation (i.e. by using document.domain) or restricting the power of \n",
      "\n",
      "form attributes is recommended. However, a key challenge in finalizing CSP and deploying \n",
      "it on a wide scale will be the level of granularity. \n",
      "\n",
      "Another approach to limit the available functionality to scripts or documents is to define \n",
      "subset(s) of available functionality. This can be achieved in various ways, for instance \n",
      "using some form of strict mode, as present in some languages, such as ECMAScript 5. \n",
      "Another way is to distinguish sensitive APIs (e.g. geo-location) from general functionality, \n",
      "and restrict access on this basis. \n",
      "\n",
      "In addition, a thorough or formal analysis of the available capabilities and potential \n",
      "restrictions can offer a high level of confidentiality that external content can be integrated \n",
      "with a minimal level of privileges, and that there are no undetected attack vectors present. \n",
      "\n",
      "13 \n",
      "\n",
      "A Security Analysis of Next Generation Web Standards \n",
      "\n",
      "3.2. Consistent Permission Systems \n",
      "\n",
      "The security analysis also shows that permission systems are very inconsistent or \n",
      "incomplete. The specifications suffer from a number of problems, which will be addressed \n",
      "below. \n",
      "\n",
      "Permission System Design \n",
      "\n",
      "Several specifications include a permission system, without any consistency between these \n",
      "systems. This is troublesome, since some systems are fairly weak compared to other \n",
      "systems. One good example is the Geo-location API versus the System Information API, \n",
      "where the latter is much more extended (e.g. it requires permission for a pair of origins for \n",
      "a framed document and distinguishes between one-shot vs. monitoring permissions). \n",
      "\n",
      "One recommendation is for W3C to co-ordinate these permission systems across \n",
      "specifications. This would enable a strong permissions system for all involved APIs and \n",
      "makes it less complicated for browser vendors. \n",
      "\n",
      "An alternative recommendation is to create a separate permission specification, which \n",
      "describes how permission systems should work across all the specifications. The \n",
      "specification should describe the necessary types of permissions (e.g. persistent vs one-\n",
      "\n",
      "time, one-shot permission vs a watching process, ...) and what they are based on. The \n",
      "specifications describing the APIs can then simply reference the permission specification \n",
      "with a certain type of permission, and require the implementation of that permission \n",
      "system. This brings consistency across all permission systems and decouples \n",
      "improvements to permission systems from functionality developments. Recent work on \n",
      "Feature Permissions [29] already points in this direction, but does not yet cover all aspects \n",
      "\n",
      "raised in this analysis. This would also help to manage threats which exploit features in \n",
      "multiple specifications such as “evercookies” which may use HTML 5 local storage, session \n",
      "storage, canvas data etc… to create extremely persistent 3rd party identifiers. \n",
      "\n",
      "A third recommendation is to investigate potential conflicts of the permission systems with \n",
      "underlying security controls. Integration of API permissions systems and underlying \n",
      "security controls not only avoids potential conflicts between systems, but can also be \n",
      "useful in delivering an integrated and consistent experience to the end user. \n",
      "\n",
      "User Interfaces \n",
      "\n",
      "The specifications do not include much detail about the user interfaces for giving \n",
      "permissions and managing permissions. Typically, they require that the origin of the \n",
      "document is displayed. One major missing item is the nature of the permission (one-shot \n",
      "\n",
      "vs watching process) as well as the actual document requesting it (e.g. is it sandboxed or \n",
      "framed? is it visible?). For managing permissions, the specifications typically state that it \n",
      "should be clear and easily usable. This is very vague and is not even a strong requirement \n",
      "(should instead of must). \n",
      "\n",
      "One recommendation is to extend the specifications to include more UI requirements. At \n",
      "least all the aspects of the requested permission should be present. For managing the \n",
      "\n",
      "permissions, the specifications should describe how it should happen (not what it should \n",
      "look like). For example, they could state that \"A user must be able to get an overview of \n",
      "all assigned permissions, grouped per origin\". \n",
      "\n",
      "A second recommendation is to include these UI requirements into the abovementioned \n",
      "separate permission specification, which is then referenced from all other specifications \n",
      "\n",
      "14 \n",
      "\n",
      "A Security Analysis of Next Generation Web Standards \n",
      "\n",
      "requiring a permission system. This ensures consistency and facilitates improvements or \n",
      "extensions of the permission system. \n",
      "\n",
      "3.3. End User Policing \n",
      "\n",
      "Several specifications depend on the end user to ensure security, typically by means of a \n",
      "\n",
      "permission system. With the rapid development of new APIs offering new functionality, \n",
      "this approach is reaching its limits. Typical web users are unable to assess the \n",
      "ramifications of granting certain permissions to certain origins. Additionally, involving the \n",
      "user too often might quickly lead to blindly approving permissions. The threats directly \n",
      "related to this recommendation are: \n",
      "\n",
      " HTML5EL-USER-1.Overriding Sandbox \n",
      "\n",
      " SYSINFO-USER-2.Awareness \n",
      "\n",
      " WGDIGSIG-USER-1.Certificate Management \n",
      "\n",
      " WGDIGSIG-USER-2.Unsigned/Unchecked Packages \n",
      "\n",
      " WARP-USER-1.User's Role \n",
      "\n",
      "A first recommendation is to require an awareness indicator, so the user knows when a \n",
      "\n",
      "site is using a granted permission (e.g. when a site is locating the user). Currently, this is \n",
      "only included as a suggestion in the Geo-location API and is missing from other APIs, such \n",
      "as the System Information API. \n",
      "\n",
      "A second recommendation is to offer the users a way to select predefined security profiles \n",
      "or to create a security profile (e.g. by means of a wizard, which could explain the \n",
      "ramifications of sharing your location and then provide the option to allow this or not.). \n",
      "Once a security profile is chosen, it is used to determine the appropriate actions when a \n",
      "site requests permission for an action. \n",
      "\n",
      "3.4. Restricted Contexts \n",
      "\n",
      "In the analysis, we identified two types of restricted context: a sandbox environment and \n",
      "a private browsing context. None of the specifications, except for HTML5, takes these \n",
      "\n",
      "restricted contexts explicitly into account, leading to several problems with under-\n",
      "specification, as concluded in the analysis. \n",
      "\n",
      "Our recommendation is to include the private browsing context, a feature available in all \n",
      "major browsers, explicitly into a W3C specification. This enables the possibility of defining \n",
      "context-specific behavior, such as whether permissions should be shared across contexts, \n",
      "and whether isolation works in both directions between a private browsing context and a \n",
      "\n",
      "normal operation context.  In this context, it can be interesting to study the requirements \n",
      "of other anonymity and privacy systems, such as the TOR anonymity button [30] or the \n",
      "Do-Not-Track initiative [31]. \n",
      "\n",
      "3.5. General Recommendations \n",
      "\n",
      "Apart from the selected topics above, a lot of smaller threats can be addressed with a wide \n",
      "range of recommendations. This section makes some general recommendations towards a \n",
      "specific target audience. At the end of each recommendation, the relevant threats from \n",
      "the security analysis are referenced. \n",
      "\n",
      "15 \n",
      "\n",
      "A Security Analysis of Next Generation Web Standards \n",
      "\n",
      "To the standardization bodies and browser vendors \n",
      "\n",
      "A few of the identified threats have a considerable impact on security or privacy. We \n",
      "recommend that these issues are studied and addressed, in order to obtain a secure \n",
      "specification. If these issues cannot be fixed in a reasonable timeframe, warnings should \n",
      "be added to the specification, clearly indicating the security or privacy risks. NB these \n"
     ]
    }
   ],
   "source": [
    "print(get_recommendations(chapters))"
   ]
  },
  {
   "cell_type": "code",
   "execution_count": 26,
   "metadata": {},
   "outputs": [
    {
     "name": "stdout",
     "output_type": "stream",
     "text": [
      "Executive summary \n",
      "\n",
      "The web browser is arguably the most security-critical component in our information infrastructure. \n",
      "It has become the channel through which most of our information passes. Banking, social \n",
      "networking, shopping, navigation, card payments, managing high value cloud services and even \n",
      "critical infrastructures such as power networks – almost any activity you can imagine now takes \n",
      "place within a browser window. \n",
      "\n",
      "This has made browsers an increasingly juicy target for cyber-attacks: the volume of web-based \n",
      "attacks per day increased by 93% in 2010 compared to 2009, with 40 million attacks a day recorded \n",
      "for September 2010 (Symantec Threat Report, 2010). Many more complex threats such as DDoS \n",
      "attacks using botnets rely on flaws in web browsers, which allow the installation of malware. Even if \n",
      "the root cause is elsewhere, the browser is often in a position to protect the user – e.g. in \n",
      "combatting phishing and pharming etc. \n",
      "\n",
      "The standards which govern the browser – and hence its security - are currently undergoing a major \n",
      "transformation. In order to accommodate innovations in web applications and their business models, \n",
      "a raft of new standards is currently being developed. These include an overhaul of HTML (HTML5), \n",
      "cross-origin communication standards such as CORS and XHR, standards for access to local data \n",
      "such as geo-location, local storage and packaged stand-alone applications (widgets). \n",
      "\n",
      "Many of these standards are reaching a point of no return, beyond which opportunities for security-\n",
      "by-design will be lost. ENISA is seizing a unique chance to make detailed recommendations for \n",
      "improvements to browser security before the current suite of new standards reaches \n",
      "recommendation status within W3C - at which point they will be non-negotiable for several years to \n",
      "come (HTML 4.0 has been unchanged since 1999). \n",
      "\n",
      "The report analyses 13 W3C specifications covering HTML 5, Cross-origin communication Interfaces \n",
      "(e.g. Web Messaging and Cross-Origin Resource Sharing), Device Application Programming \n",
      "Interfaces (APIs) (e.g. Geo-location, Web Storage and Media Capture), and Widgets. For each \n",
      "specification, we perform a threat analysis using a consistent methodology which is explained in \n",
      "[4.1]. A general observation of the security analysis is that the security quality of the studied \n",
      "specifications is reasonably high, especially given the number of introduced capabilities and amount \n",
      "of specifications. In total 51 security threats and issues are identified and detailed in this report. \n",
      "\n",
      "Most of the threats (25) identify security-relevant capabilities in the individual specifications which \n",
      "are not well-defined or insecure. In the analysis, we identify cases of unprotected access to sensitive \n",
      "information, new ways to trigger form submission to adversaries, adversary-controlled cross-domain \n",
      "requests, granularity problems in specifying and enforcing least-privilege policies, potential \n",
      "mismatches with Operating System permission management, and underspecified capabilities, \n",
      "potentially leading to conflicting or error-prone implementations. \n",
      " \n",
      "We also identify 8 issues and potential threats dealing with isolation properties. This includes new \n",
      "ways to escape origin separation and click-jacking protection, as well as under-specified behaviour in \n",
      "a restricted browsing context (such as a sandboxed i-frame). We also identify permission \n",
      "inconsistencies and under-specifications, as well as issues in dealing with user-involvement. The \n",
      "following is a selection of the most important threats identified: \n",
      "\n",
      " CORS: Interaction with legacy servers: The CORS specification allows a simple POST request \n",
      "to send arbitrary data in contrast to the key=value format imposed by form elements. This \n",
      "enables an attacker to trigger cross-domain APIs. \n",
      "\n",
      " Web Messaging: Origin delegation: In case a channel is set up to securely pass messages \n",
      "between two frames, one of the endpoints can easily be passed on to a less-trusted third origin \n",
      "without the original sender noticing (or being able to prevent it). \n",
      "\n",
      " HTML5: Content Handlers: Content and protocol handlers allow delegation to remote service \n",
      "providers for specific protocols or content types. The use of HTTPS URLs with content/protocol \n",
      "handlers is discouraged, but the specification does not explain why. There is also no specification \n",
      "\n",
      "3 \n",
      "\n",
      "A Security Analysis of Next Generation Web Standards \n",
      "\n",
      "of how to inform end-users that a content/protocol handler is registered. Therefore it may \n",
      "remain active indefinitely without the user realizing. \n",
      "\n",
      " HTML5: Disabling Click-jacking Protection: A common technique to mitigate click-jacking \n",
      "attacks is to check via JavaScript if a window is framed and if so, break out of the frame. \n",
      "However, if an attacker applies the i-frame sandbox option that disables top-level navigation, \n",
      "this technique is prohibited, and the framed window is vulnerable to click-jacking.  \n",
      "\n",
      " HTML5: Form Tampering: Due to the newly-provided capability to introduce buttons outside a \n",
      "form, an attacker can now , using simple HTML injection, more easily lure an end-user in \n",
      "submitting filled-in form values to an attacker-controlled destination. \n",
      "\n",
      " Geo-location: Cache Polling: The use of the geo-location cache API allows the explicit retrieval \n",
      "of the latest geo-location entry from a cache, according to freshness criteria. This allows an \n",
      "attacker to retrieve a previous location of the end-user, as well as timing information on that \n",
      "particular location. \n",
      "\n",
      "We make recommendations on: \n",
      "\n",
      " Controlling functionality: E.g. through enhanced access control policies such as the Content \n",
      "Security Policy specification currently in development. \n",
      "\n",
      " Permission system design: Permissions systems are currently either underspecified or \n",
      "inconsistent across specifications. Ideally this could be resolved by a separate specification for \n",
      "permissions systems referenced by all related specifications. Failing this, co-ordination between \n",
      "specifications is recommended. We also recommend co-ordination with permissions systems in \n",
      "\n",
      "lower layers (e.g. smartphone OS). This would also help to manage threats which exploit \n",
      "features in multiple specifications such as ever-cookies which can exploit HTML5 \n",
      "features to create extremely persistent 3rd party identifiers. \n",
      "\n",
      " More detailed user interface requirements: Permissions specifications should require certain \n",
      "features in user interfaces such as information about the document origin, if the permission is for \n",
      "one-shot or monitoring access etc. \n",
      "\n",
      " End-user policing: The ability of users to make correct decisions on security has its limits. \n",
      "Users are often unable to assess the implications of granting permissions to certain origins. \n",
      "Involving the user too often leads to blindly approving permissions. Specifications should require \n",
      "permission awareness indicators, so the user knows when a site is using a granted permission. \n",
      "Users should also have a way to select predefined security profiles. \n",
      "\n",
      " Restricted contexts: Only one of the specifications studied takes into account the possibilities \n",
      "offered by restricted contexts such as private browsing or sandboxes. Private browsing should be \n",
      "included in a W3C specification which defines behaviours such as whether permissions should be \n",
      "shared outside of private browsing mode. \n",
      "\n",
      " \n",
      "We also make recommendations targeted at specific stakeholder groups: \n",
      "\n",
      " Standards working groups and browser vendors: Here we recommend changes to each of \n",
      "the specification documents to address each threat. We have also produced targeted descriptions \n",
      "of these recommendations and sent them to the relevant working groups. \n",
      "\n",
      " Web application developers: We draw the web developer’s attentions to the implications of \n",
      "certain specification elements such as the possibility to put form buttons outside the form \n",
      "element, the implications of sandboxing for click-jacking protection and the importance of client-\n",
      "side validation of locally stored data. \n",
      "\n",
      " End-users: We recommend the use of separate browser profiles for different types of task. \n",
      "Everyday browsing should be separated from more sensitive activities such as online banking. \n",
      "Different contexts should be sandboxed, with different settings and permissions. \n",
      "\n",
      "An important conclusion of this study is that significantly less security issues were found in those \n",
      "specifications which have already received the most attention from academic study and review (e.g. \n",
      "CORS).   This demonstrates the value of in-depth security review across all up-coming specifications, \n",
      "as we have performed in this work. \n",
      "\n",
      "4 \n",
      "\n",
      "A Security Analysis of Next Generation Web Standards \n",
      "Executive summary .................................................................................................................. 2 \n",
      "1. Scope .............................................................................................................................. 5 \n",
      "\n",
      "Terminology ..................................................................................................................................... 6 \n"
     ]
    }
   ],
   "source": [
    "print(get_summary(chapters))"
   ]
  },
  {
   "cell_type": "code",
   "execution_count": 27,
   "metadata": {},
   "outputs": [
    {
     "data": {
      "text/html": [
       "<div>\n",
       "<style scoped>\n",
       "    .dataframe tbody tr th:only-of-type {\n",
       "        vertical-align: middle;\n",
       "    }\n",
       "\n",
       "    .dataframe tbody tr th {\n",
       "        vertical-align: top;\n",
       "    }\n",
       "\n",
       "    .dataframe thead th {\n",
       "        text-align: right;\n",
       "    }\n",
       "</style>\n",
       "<table border=\"1\" class=\"dataframe\">\n",
       "  <thead>\n",
       "    <tr style=\"text-align: right;\">\n",
       "      <th></th>\n",
       "      <th>filename</th>\n",
       "      <th>title</th>\n",
       "      <th>keywords</th>\n",
       "      <th>topics</th>\n",
       "      <th>text</th>\n",
       "      <th>metadata</th>\n",
       "      <th>num_keywords</th>\n",
       "      <th>num_topics</th>\n",
       "      <th>chapter_titles</th>\n",
       "      <th>num_chapters</th>\n",
       "      <th>has_table_of_contents</th>\n",
       "      <th>summary</th>\n",
       "      <th>has_summary</th>\n",
       "      <th>recommendations</th>\n",
       "      <th>has_recommendations</th>\n",
       "      <th>all_chapters</th>\n",
       "    </tr>\n",
       "  </thead>\n",
       "  <tbody>\n",
       "    <tr>\n",
       "      <th>0</th>\n",
       "      <td>8th-enisa-workshop-certs-in-europe-report</td>\n",
       "      <td>8th ENISA Workshop ‘CERTs in Europe’</td>\n",
       "      <td>[CSIRTs]</td>\n",
       "      <td>[]</td>\n",
       "      <td>\\n\\n\\n\\n\\n\\n\\n\\n\\n\\n\\n\\n\\n\\n\\n\\n\\n\\n\\n\\n\\n\\n\\n...</td>\n",
       "      <td>{'Last-Modified': '2014-01-10T16:07:35Z', 'dat...</td>\n",
       "      <td>1</td>\n",
       "      <td>0</td>\n",
       "      <td>[table of contents, executive summary, 1 intro...</td>\n",
       "      <td>8</td>\n",
       "      <td>True</td>\n",
       "      <td>Executive summary \\n\\nENISA’s traditional work...</td>\n",
       "      <td>True</td>\n",
       "      <td></td>\n",
       "      <td>False</td>\n",
       "      <td>Executive summary \\n\\nENISA’s traditional work...</td>\n",
       "    </tr>\n",
       "    <tr>\n",
       "      <th>1</th>\n",
       "      <td>a-collection-of-good-practice-for-cert-quality...</td>\n",
       "      <td></td>\n",
       "      <td>[]</td>\n",
       "      <td>[CSIRTs in Europe, CSIRT Cooperation]</td>\n",
       "      <td>\\n\\n\\n\\n\\n\\n\\n\\n\\n\\n\\n\\n\\n\\n\\n\\n\\n\\n\\n\\n\\n\\n\\n...</td>\n",
       "      <td>{'Last-Modified': '2009-06-22T13:09:55Z', 'dat...</td>\n",
       "      <td>0</td>\n",
       "      <td>2</td>\n",
       "      <td>[table of contents, 1 management summary, 2 ac...</td>\n",
       "      <td>10</td>\n",
       "      <td>True</td>\n",
       "      <td>1 Management Summary ............................</td>\n",
       "      <td>True</td>\n",
       "      <td></td>\n",
       "      <td>False</td>\n",
       "      <td>7 CSIRT internal management .....................</td>\n",
       "    </tr>\n",
       "    <tr>\n",
       "      <th>2</th>\n",
       "      <td>a-security-analysis-of-next-generation-web-sta...</td>\n",
       "      <td>a-security-analysis-of-next-generation-web-sta...</td>\n",
       "      <td>[]</td>\n",
       "      <td>[Internet Infrastructure, Understanding the im...</td>\n",
       "      <td>\\n\\n\\n\\n\\n\\n\\n\\n\\n\\n\\n\\n\\n\\n\\n\\n\\n\\n\\n\\n\\n\\n\\n...</td>\n",
       "      <td>{'Last-Modified': '2011-08-02T13:37:24Z', 'dat...</td>\n",
       "      <td>0</td>\n",
       "      <td>3</td>\n",
       "      <td>[table of contents, executive summary, 2. anal...</td>\n",
       "      <td>12</td>\n",
       "      <td>True</td>\n",
       "      <td>Executive summary \\n\\nThe web browser is argua...</td>\n",
       "      <td>True</td>\n",
       "      <td>3. Recommendations ..............................</td>\n",
       "      <td>True</td>\n",
       "      <td>Executive summary \\n\\nThe web browser is argua...</td>\n",
       "    </tr>\n",
       "    <tr>\n",
       "      <th>3</th>\n",
       "      <td>actionable-information-for-security</td>\n",
       "      <td>actionable-information-for-security</td>\n",
       "      <td>[CSIRTs]</td>\n",
       "      <td>[CSIRT Services, Reactive Services]</td>\n",
       "      <td>\\n\\n\\n\\n\\n\\n\\n\\n\\n\\n\\n\\n\\n\\n\\n\\n\\n\\n\\n\\n\\n\\n\\n...</td>\n",
       "      <td>{'Last-Modified': '2015-01-19T07:28:32Z', 'dat...</td>\n",
       "      <td>1</td>\n",
       "      <td>2</td>\n",
       "      <td>[table of contents, executive summary, 1 intro...</td>\n",
       "      <td>8</td>\n",
       "      <td>True</td>\n",
       "      <td>Executive summary \\n\\nIn the world of incident...</td>\n",
       "      <td>True</td>\n",
       "      <td></td>\n",
       "      <td>False</td>\n",
       "      <td>Executive summary \\n\\nIn the world of incident...</td>\n",
       "    </tr>\n",
       "    <tr>\n",
       "      <th>4</th>\n",
       "      <td>algorithms-key-size-and-parameters-report-2014</td>\n",
       "      <td>algorithms-key-size-and-parameters-report-2014</td>\n",
       "      <td>[Privacy]</td>\n",
       "      <td>[Cryptographic protocols and tools, Security o...</td>\n",
       "      <td>\\n\\n\\n\\n\\n\\n\\n\\n\\n\\n\\n\\n\\n\\n\\n\\n\\n\\n\\n\\n\\n\\n\\n...</td>\n",
       "      <td>{'Last-Modified': '2014-11-20T13:30:49Z', 'dat...</td>\n",
       "      <td>1</td>\n",
       "      <td>2</td>\n",
       "      <td>[contents, 1 executive summary, 2 how to read ...</td>\n",
       "      <td>26</td>\n",
       "      <td>True</td>\n",
       "      <td>Executive Summary\\n\\nDuring 2013, ENISA prepar...</td>\n",
       "      <td>True</td>\n",
       "      <td></td>\n",
       "      <td>False</td>\n",
       "      <td>Executive Summary\\n\\nDuring 2013, ENISA prepar...</td>\n",
       "    </tr>\n",
       "  </tbody>\n",
       "</table>\n",
       "</div>"
      ],
      "text/plain": [
       "                                            filename  \\\n",
       "0          8th-enisa-workshop-certs-in-europe-report   \n",
       "1  a-collection-of-good-practice-for-cert-quality...   \n",
       "2  a-security-analysis-of-next-generation-web-sta...   \n",
       "3                actionable-information-for-security   \n",
       "4     algorithms-key-size-and-parameters-report-2014   \n",
       "\n",
       "                                               title   keywords  \\\n",
       "0               8th ENISA Workshop ‘CERTs in Europe’   [CSIRTs]   \n",
       "1                                                            []   \n",
       "2  a-security-analysis-of-next-generation-web-sta...         []   \n",
       "3                actionable-information-for-security   [CSIRTs]   \n",
       "4     algorithms-key-size-and-parameters-report-2014  [Privacy]   \n",
       "\n",
       "                                              topics  \\\n",
       "0                                                 []   \n",
       "1              [CSIRTs in Europe, CSIRT Cooperation]   \n",
       "2  [Internet Infrastructure, Understanding the im...   \n",
       "3                [CSIRT Services, Reactive Services]   \n",
       "4  [Cryptographic protocols and tools, Security o...   \n",
       "\n",
       "                                                text  \\\n",
       "0  \\n\\n\\n\\n\\n\\n\\n\\n\\n\\n\\n\\n\\n\\n\\n\\n\\n\\n\\n\\n\\n\\n\\n...   \n",
       "1  \\n\\n\\n\\n\\n\\n\\n\\n\\n\\n\\n\\n\\n\\n\\n\\n\\n\\n\\n\\n\\n\\n\\n...   \n",
       "2  \\n\\n\\n\\n\\n\\n\\n\\n\\n\\n\\n\\n\\n\\n\\n\\n\\n\\n\\n\\n\\n\\n\\n...   \n",
       "3  \\n\\n\\n\\n\\n\\n\\n\\n\\n\\n\\n\\n\\n\\n\\n\\n\\n\\n\\n\\n\\n\\n\\n...   \n",
       "4  \\n\\n\\n\\n\\n\\n\\n\\n\\n\\n\\n\\n\\n\\n\\n\\n\\n\\n\\n\\n\\n\\n\\n...   \n",
       "\n",
       "                                            metadata  num_keywords  \\\n",
       "0  {'Last-Modified': '2014-01-10T16:07:35Z', 'dat...             1   \n",
       "1  {'Last-Modified': '2009-06-22T13:09:55Z', 'dat...             0   \n",
       "2  {'Last-Modified': '2011-08-02T13:37:24Z', 'dat...             0   \n",
       "3  {'Last-Modified': '2015-01-19T07:28:32Z', 'dat...             1   \n",
       "4  {'Last-Modified': '2014-11-20T13:30:49Z', 'dat...             1   \n",
       "\n",
       "   num_topics                                     chapter_titles  \\\n",
       "0           0  [table of contents, executive summary, 1 intro...   \n",
       "1           2  [table of contents, 1 management summary, 2 ac...   \n",
       "2           3  [table of contents, executive summary, 2. anal...   \n",
       "3           2  [table of contents, executive summary, 1 intro...   \n",
       "4           2  [contents, 1 executive summary, 2 how to read ...   \n",
       "\n",
       "   num_chapters  has_table_of_contents  \\\n",
       "0             8                   True   \n",
       "1            10                   True   \n",
       "2            12                   True   \n",
       "3             8                   True   \n",
       "4            26                   True   \n",
       "\n",
       "                                             summary  has_summary  \\\n",
       "0  Executive summary \\n\\nENISA’s traditional work...         True   \n",
       "1  1 Management Summary ............................         True   \n",
       "2  Executive summary \\n\\nThe web browser is argua...         True   \n",
       "3  Executive summary \\n\\nIn the world of incident...         True   \n",
       "4  Executive Summary\\n\\nDuring 2013, ENISA prepar...         True   \n",
       "\n",
       "                                     recommendations  has_recommendations  \\\n",
       "0                                                                   False   \n",
       "1                                                                   False   \n",
       "2  3. Recommendations ..............................                 True   \n",
       "3                                                                   False   \n",
       "4                                                                   False   \n",
       "\n",
       "                                        all_chapters  \n",
       "0  Executive summary \\n\\nENISA’s traditional work...  \n",
       "1  7 CSIRT internal management .....................  \n",
       "2  Executive summary \\n\\nThe web browser is argua...  \n",
       "3  Executive summary \\n\\nIn the world of incident...  \n",
       "4  Executive Summary\\n\\nDuring 2013, ENISA prepar...  "
      ]
     },
     "execution_count": 27,
     "metadata": {},
     "output_type": "execute_result"
    }
   ],
   "source": [
    "#def add_chapter_fields(df):\n",
    "    #df['chapter_titles'] = df['text'].map(lambda x: get_titles(to_paragraphs(x)))\n",
    "    #df['summary'] = df['text'].map(lambda x: get_summary(get_chapters(to_paragraphs(x))))\n",
    "    #df['recommendations'] = df['text'].map(lambda x: get_recommendations(get_chapters(to_paragraphs(x))))\n",
    "    #df['all_chapters'] = df['text'].map(lambda x: '\\n\\n'.join(list(get_chapters(to_paragraphs(x)).values())))\n",
    "    #return df\n",
    "\n",
    "pdf = add_chapter_fields(pdf, paragraphs=True, found_table_of_contents=False, stop_on_duplicates=True)\n",
    "pdf.head()"
   ]
  },
  {
   "cell_type": "code",
   "execution_count": 28,
   "metadata": {},
   "outputs": [
    {
     "data": {
      "image/png": "[encoded data removed]",
      "text/plain": [
       "<matplotlib.figure.Figure at 0x1a1e357f98>"
      ]
     },
     "metadata": {},
     "output_type": "display_data"
    }
   ],
   "source": [
    "import matplotlib.pyplot as plt\n",
    "\n",
    "plt.hist(pdf['num_chapters'], bins=np.arange(0, 200, 1))\n",
    "plt.show()"
   ]
  },
  {
   "cell_type": "code",
   "execution_count": 29,
   "metadata": {},
   "outputs": [
    {
     "name": "stdout",
     "output_type": "stream",
     "text": [
      "351\n",
      "221\n",
      "57\n",
      "263\n"
     ]
    }
   ],
   "source": [
    "print(len(pdf))\n",
    "print(len(pdf[pdf['has_summary']]))\n",
    "print(len(pdf[pdf['has_recommendations']]))\n",
    "print(len(pdf[pdf['has_table_of_contents']]))"
   ]
  },
  {
   "cell_type": "code",
   "execution_count": 30,
   "metadata": {},
   "outputs": [],
   "source": [
    "pdf = add_chapter_fields(pdf, paragraphs=True, found_table_of_contents=True, stop_on_duplicates=False)\n",
    "#pdf.head()"
   ]
  },
  {
   "cell_type": "code",
   "execution_count": 31,
   "metadata": {},
   "outputs": [
    {
     "data": {
      "image/png": "[encoded data removed]",
      "text/plain": [
       "<matplotlib.figure.Figure at 0x1a14a4d400>"
      ]
     },
     "metadata": {},
     "output_type": "display_data"
    }
   ],
   "source": [
    "import matplotlib.pyplot as plt\n",
    "\n",
    "plt.hist(pdf['num_chapters'], bins=np.arange(0, 200, 1))\n",
    "plt.show()"
   ]
  },
  {
   "cell_type": "code",
   "execution_count": 32,
   "metadata": {},
   "outputs": [
    {
     "name": "stdout",
     "output_type": "stream",
     "text": [
      "262\n",
      "83\n"
     ]
    }
   ],
   "source": [
    "print(len(pdf[pdf['has_summary']]))\n",
    "print(len(pdf[pdf['has_recommendations']]))"
   ]
  },
  {
   "cell_type": "code",
   "execution_count": 33,
   "metadata": {},
   "outputs": [],
   "source": [
    "pdf = add_chapter_fields(pdf, paragraphs=False, found_table_of_contents=True, stop_on_duplicates=False)\n",
    "#pdf.head()"
   ]
  },
  {
   "cell_type": "code",
   "execution_count": 34,
   "metadata": {},
   "outputs": [
    {
     "data": {
      "image/png": "[encoded data removed]",
      "text/plain": [
       "<matplotlib.figure.Figure at 0x1a147eb908>"
      ]
     },
     "metadata": {},
     "output_type": "display_data"
    }
   ],
   "source": [
    "import matplotlib.pyplot as plt\n",
    "\n",
    "plt.hist(pdf['num_chapters'], bins=np.arange(0, 200, 1))\n",
    "plt.show()"
   ]
  },
  {
   "cell_type": "code",
   "execution_count": 35,
   "metadata": {},
   "outputs": [
    {
     "name": "stdout",
     "output_type": "stream",
     "text": [
      "270\n",
      "97\n"
     ]
    }
   ],
   "source": [
    "print(len(pdf[pdf['has_summary']]))\n",
    "print(len(pdf[pdf['has_recommendations']]))"
   ]
  },
  {
   "cell_type": "code",
   "execution_count": null,
   "metadata": {},
   "outputs": [],
   "source": []
  }
 ],
 "metadata": {
  "kernelspec": {
   "display_name": "Python 3",
   "language": "python",
   "name": "python3"
  },
  "language_info": {
   "codemirror_mode": {
    "name": "ipython",
    "version": 3
   },
   "file_extension": ".py",
   "mimetype": "text/x-python",
   "name": "python",
   "nbconvert_exporter": "python",
   "pygments_lexer": "ipython3",
   "version": "3.5.4"
  }
 },
 "nbformat": 4,
 "nbformat_minor": 2
}
