{
 "cells": [
  {
   "cell_type": "markdown",
   "metadata": {},
   "source": [
    "# Popularity\n",
    "\n",
    "This notebook demonstrates using functions to rank news articles. The aim is to enable a use a popularity factor (0-10) to boost truthworthy articles to the top. This is achieved by using `function_score` and `script_score`.\n",
    "\n",
    "Relevant links:\n",
    "* https://www.elastic.co/guide/en/elasticsearch/guide/current/script-score.html\n",
    "* https://www.elastic.co/guide/en/elasticsearch/reference/current/query-dsl-function-score-query.html\n",
    "* https://www.elastic.co/guide/en/elasticsearch/reference/master/modules-scripting-fields.html\n",
    "\n",
    "TODO:\n",
    "* Inidividual articles can be boosted by the number of votes. We should probably implement this. It will probably require reindexing. https://www.elastic.co/guide/en/elasticsearch/guide/current/boosting-by-popularity.html\n",
    "* This might be the way to update the number of votes: https://www.elastic.co/guide/en/elasticsearch/reference/current/_updating_documents.html"
   ]
  },
  {
   "cell_type": "code",
   "execution_count": null,
   "metadata": {},
   "outputs": [],
   "source": [
    "import subprocess\n",
    "import json"
   ]
  },
  {
   "cell_type": "code",
   "execution_count": null,
   "metadata": {},
   "outputs": [],
   "source": [
    "query = \"\"\"\n",
    "curl -s -X GET \"http://a3557701c4b3211e88f8a060fa4fdbf3-427558466.eu-west-3.elb.amazonaws.com/elasticsearch/rssfeeds/_count\" -u guest:teradata\n",
    "\"\"\"\n",
    "\n",
    "res = subprocess.getoutput(query)\n",
    "res = json.loads(res)\n",
    "res"
   ]
  },
  {
   "cell_type": "code",
   "execution_count": null,
   "metadata": {},
   "outputs": [],
   "source": [
    "query = \"\"\"\n",
    "curl -s -X GET \"http://a3557701c4b3211e88f8a060fa4fdbf3-427558466.eu-west-3.elb.amazonaws.com/elasticsearch/rssfeeds/_mapping\" -u guest:teradata\n",
    "\"\"\"\n",
    "\n",
    "res = subprocess.getoutput(query)\n",
    "res = json.loads(res)\n",
    "res"
   ]
  },
  {
   "cell_type": "code",
   "execution_count": null,
   "metadata": {},
   "outputs": [],
   "source": [
    "term = \"spyware\""
   ]
  },
  {
   "cell_type": "code",
   "execution_count": null,
   "metadata": {
    "scrolled": false
   },
   "outputs": [],
   "source": [
    "query = \"\"\"\n",
    "curl -s -X GET \"http://a3557701c4b3211e88f8a060fa4fdbf3-427558466.eu-west-3.elb.amazonaws.com/elasticsearch/rssfeeds_test/article/_search\" -H 'Content-Type: application/json' -d'\n",
    "{\n",
    "    \"_source\": [\"title\", \"content\", \"resource_label\"],\n",
    "    \"query\": {\n",
    "        \"match\": {\n",
    "            \"content\": \" \"\"\" + term + \"\"\" \"\n",
    "        }\n",
    "    }\n",
    "}\n",
    "' -u guest:teradata\n",
    "\"\"\"\n",
    "\n",
    "res = subprocess.getoutput(query)\n",
    "res = json.loads(res, strict=False)\n",
    "print(res['hits']['total'])\n",
    "print()\n",
    "\n",
    "for hit in res['hits']['hits']:\n",
    "    print(hit['_score'], hit['_source']['resource_label'], hit['_source']['title'])\n",
    "    print('-'*80)"
   ]
  },
  {
   "cell_type": "code",
   "execution_count": null,
   "metadata": {},
   "outputs": [],
   "source": [
    "#script = \"\"\"weight = 5\n",
    "#if (doc['resource_label.keyword'].value == 'trendmicro') { weight = 7 }\n",
    "#if (doc['resource_label.keyword'].value == 'itsecurityguru') { weight = 4 }\n",
    "#return weight * _score\"\"\""
   ]
  },
  {
   "cell_type": "code",
   "execution_count": null,
   "metadata": {},
   "outputs": [],
   "source": [
    "script = \"\"\"if (doc['resource_label.keyword'].value == 'trendmicro') { return 7 * _score }\n",
    "if (doc['resource_label.keyword'].value == 'itsecurityguru') { return 4 * _score }\n",
    "return 5 * _score\"\"\""
   ]
  },
  {
   "cell_type": "code",
   "execution_count": null,
   "metadata": {},
   "outputs": [],
   "source": [
    "popularity = \"\"\"arstechnica 8\n",
    "bankinfosecurity 6\n",
    "bleepingcomputer 5\n",
    "csoonline 7\n",
    "darkreading 7\n",
    "euractiv 7\n",
    "itsecurityguru 4\n",
    "malwarebytes 8\n",
    "nakedsecurity 5\n",
    "politico 6\n",
    "reuters 7\n",
    "securelist 7\n",
    "securityaffairs 4\n",
    "securityintelligence 7\n",
    "securityweek 7\n",
    "techcrunch 6\n",
    "thehackernews 5\n",
    "threatpost 8\n",
    "trendmicro 7\n",
    "wired 6\"\"\"\n",
    "\n",
    "# Not in RSS feeds or websites:\n",
    "# symantec blog 7\n",
    "# fire eye 7\n",
    "# talos blog 7\n",
    "# scmagazine 6\n",
    "# bbc 6\n",
    "# independent 6\n",
    "# forbes 6\n",
    "# secureworks 6\n",
    "# tripwire 6\n",
    "\n",
    "# Not rated by Adrien:\n",
    "# cert\n",
    "# cisco\n",
    "# securityweekly\n",
    "# welivesecurity"
   ]
  },
  {
   "cell_type": "code",
   "execution_count": null,
   "metadata": {},
   "outputs": [],
   "source": [
    "script = \"\"\n",
    "\n",
    "for line in popularity.split('\\n'):\n",
    "    values = line.split(' ')\n",
    "    script += \"if (doc['resource_label.keyword'].value == '\" + values[0] + \"') { return \" + values[1] + \" * _score }\\n\"\n",
    "\n",
    "script += \"return 5 * _score\"\n",
    "print(script)"
   ]
  },
  {
   "cell_type": "code",
   "execution_count": null,
   "metadata": {
    "scrolled": false
   },
   "outputs": [],
   "source": [
    "query = \"\"\"\n",
    "curl -s -X GET \"http://a3557701c4b3211e88f8a060fa4fdbf3-427558466.eu-west-3.elb.amazonaws.com/elasticsearch/rssfeeds_test/article/_search\" -H 'Content-Type: application/json' -d'\n",
    "{\n",
    "    \"_source\": [\"title\", \"content\", \"resource_label\"],\n",
    "    \"query\": {\n",
    "        \"function_score\": {\n",
    "            \"functions\": [\n",
    "                {\n",
    "                    \"script_score\": {\n",
    "                        \"script\": \" \"\"\" + script.replace('\\n', '\\\\n').replace(\"'\", '\\\\u0027') + \"\"\" \"\n",
    "                    }\n",
    "                }\n",
    "            ],\n",
    "            \"query\": {   \n",
    "                \"match\": {\n",
    "                    \"content\": \" \"\"\" + term + \"\"\" \"\n",
    "                }\n",
    "            }\n",
    "        }\n",
    "    }\n",
    "}\n",
    "' -u guest:teradata\n",
    "\"\"\"\n",
    "print(query)"
   ]
  },
  {
   "cell_type": "code",
   "execution_count": null,
   "metadata": {},
   "outputs": [],
   "source": [
    "res = subprocess.getoutput(query)\n",
    "#res"
   ]
  },
  {
   "cell_type": "code",
   "execution_count": null,
   "metadata": {},
   "outputs": [],
   "source": [
    "res = json.loads(res, strict=False)\n",
    "print(res['hits']['total'])\n",
    "print()\n",
    "\n",
    "for hit in res['hits']['hits']:\n",
    "    print(hit['_score'], hit['_source']['resource_label'], hit['_source']['title'])\n",
    "    print('-'*80)"
   ]
  },
  {
   "cell_type": "code",
   "execution_count": null,
   "metadata": {
    "scrolled": false
   },
   "outputs": [],
   "source": [
    "functions = []\n",
    "\n",
    "for line in popularity.split('\\n'):\n",
    "    values = line.split(' ')\n",
    "    functions.append(\"\"\"        {\n",
    "          \"filter\": {\n",
    "            \"match\": {\n",
    "              \"resource_label\": \"\"\" + '\"' + values[0] + '\"' + \"\"\"   \n",
    "            }\n",
    "          },\n",
    "          \"weight\": \"\"\" + str(float(values[1])/5.) + \"\"\"\n",
    "        }\"\"\")\n",
    "\n",
    "functions = \",\\n\".join(functions)\n",
    "print(functions)"
   ]
  },
  {
   "cell_type": "code",
   "execution_count": null,
   "metadata": {
    "scrolled": false
   },
   "outputs": [],
   "source": [
    "query = \"\"\"\n",
    "curl -s -X GET \"http://a3557701c4b3211e88f8a060fa4fdbf3-427558466.eu-west-3.elb.amazonaws.com/elasticsearch/rssfeeds_test/article/_search\" -H 'Content-Type: application/json' -d'\n",
    "{\n",
    "  \"_source\": [\n",
    "    \"title\",\n",
    "    \"content\",\n",
    "    \"resource_label\"\n",
    "  ],\n",
    "  \"query\": {\n",
    "    \"function_score\": {\n",
    "      \"boost\": \"5\",\n",
    "      \"functions\": [\n",
    "\"\"\" + functions + \"\"\"\n",
    "      ],\n",
    "      \"boost_mode\": \"multiply\",\n",
    "\n",
    "      \"query\": {   \n",
    "        \"match\": {\n",
    "          \"content\": \" \"\"\" + term + \"\"\" \"\n",
    "        }\n",
    "      }\n",
    "    }\n",
    "  }\n",
    "}\n",
    "' -u guest:teradata\n",
    "\"\"\"\n",
    "print(query)"
   ]
  },
  {
   "cell_type": "code",
   "execution_count": null,
   "metadata": {},
   "outputs": [],
   "source": [
    "res = subprocess.getoutput(query)\n",
    "#res"
   ]
  },
  {
   "cell_type": "code",
   "execution_count": null,
   "metadata": {},
   "outputs": [],
   "source": [
    "res = json.loads(res, strict=False)\n",
    "print(res['hits']['total'])\n",
    "print()\n",
    "\n",
    "for hit in res['hits']['hits']:\n",
    "    print(hit['_score'], hit['_source']['resource_label'], hit['_source']['title'])\n",
    "    print('-'*80)"
   ]
  },
  {
   "cell_type": "code",
   "execution_count": null,
   "metadata": {},
   "outputs": [],
   "source": []
  }
 ],
 "metadata": {
  "kernelspec": {
   "display_name": "Python 3",
   "language": "python",
   "name": "python3"
  },
  "language_info": {
   "codemirror_mode": {
    "name": "ipython",
    "version": 3
   },
   "file_extension": ".py",
   "mimetype": "text/x-python",
   "name": "python",
   "nbconvert_exporter": "python",
   "pygments_lexer": "ipython3",
   "version": "3.5.4"
  }
 },
 "nbformat": 4,
 "nbformat_minor": 2
}
